{
 "cells": [
  {
   "cell_type": "code",
   "execution_count": 31,
   "id": "35293ae3",
   "metadata": {
    "ExecuteTime": {
     "end_time": "2021-10-16T15:03:33.272734Z",
     "start_time": "2021-10-16T15:03:33.261771Z"
    }
   },
   "outputs": [
    {
     "name": "stdout",
     "output_type": "stream",
     "text": [
      "Hce\n",
      "akr\n",
      "Hce akr\n"
     ]
    }
   ],
   "source": [
    "s = 'Hacker'\n",
    "print(s[::2])\n",
    "print(s[1::2])\n",
    "print(s[::2],s[1::2])"
   ]
  },
  {
   "cell_type": "code",
   "execution_count": 27,
   "id": "6d58aa86",
   "metadata": {
    "ExecuteTime": {
     "end_time": "2021-10-16T14:58:39.015714Z",
     "start_time": "2021-10-16T14:58:34.838290Z"
    }
   },
   "outputs": [
    {
     "name": "stdout",
     "output_type": "stream",
     "text": [
      "1\n",
      "Hacker\n",
      "Hce akr\n"
     ]
    }
   ],
   "source": [
    "for i in range(int(input())): s=input(); print(*[\"\".join(s[::2]),\"\".join(s[1::2])])"
   ]
  },
  {
   "cell_type": "code",
   "execution_count": null,
   "id": "c9291244",
   "metadata": {},
   "outputs": [],
   "source": [
    "def oddeven(word):\n",
    "    print(word[::2],word[1::2])\n",
    "    return\n",
    "\n",
    "t = int(input())\n",
    "for i in range(0, t):\n",
    "    string = input()\n",
    "    oddeven(string)"
   ]
  },
  {
   "cell_type": "code",
   "execution_count": 17,
   "id": "3a613093",
   "metadata": {
    "ExecuteTime": {
     "end_time": "2021-10-16T14:46:02.970707Z",
     "start_time": "2021-10-16T14:46:02.953719Z"
    }
   },
   "outputs": [
    {
     "name": "stdout",
     "output_type": "stream",
     "text": [
      "Rn ak\n"
     ]
    }
   ],
   "source": [
    "liststr = list()\n",
    "odd = str()\n",
    "even = str()\n",
    "\n",
    "string = 'Rank'\n",
    "liststr = list(string)\n",
    "\n",
    "for i in range(len(liststr)):\n",
    "    if i%2==0:\n",
    "        odd += liststr[i]\n",
    "    else:\n",
    "        even += liststr[i]\n",
    "\n",
    "print(odd, even)\n",
    "    "
   ]
  },
  {
   "cell_type": "code",
   "execution_count": 33,
   "id": "fa3566a2",
   "metadata": {
    "ExecuteTime": {
     "end_time": "2021-10-16T15:06:13.035600Z",
     "start_time": "2021-10-16T15:06:08.026927Z"
    }
   },
   "outputs": [
    {
     "name": "stdout",
     "output_type": "stream",
     "text": [
      "2\n",
      "Hacker\n",
      "Hce akr\n",
      "Rank\n",
      "Rn ak\n"
     ]
    }
   ],
   "source": [
    "class stringlist:\n",
    "    def __init__(self,word):\n",
    "        self.word = word\n",
    "        return\n",
    "            \n",
    "    def oddeven_conventional(self):\n",
    "        liststr = list()\n",
    "        odd = str()\n",
    "        even = str()\n",
    "        liststr = list(self.word)\n",
    "\n",
    "        for i in range(len(liststr)):\n",
    "            if i%2==0:\n",
    "                odd += liststr[i]\n",
    "            else:\n",
    "                even += liststr[i]\n",
    "\n",
    "        print(odd, even)\n",
    "        return\n",
    "\n",
    "    def oddeven(self):\n",
    "        print(self.word[::2],self.word[1::2])\n",
    "        return\n",
    "\n",
    "\n",
    "t = int(input())\n",
    "for i in range(0, t):\n",
    "    string = input()\n",
    "    s = stringlist(string)\n",
    "    s.oddeven()"
   ]
  },
  {
   "cell_type": "code",
   "execution_count": null,
   "id": "be4304bc",
   "metadata": {},
   "outputs": [],
   "source": []
  }
 ],
 "metadata": {
  "kernelspec": {
   "display_name": "Python 3 (ipykernel)",
   "language": "python",
   "name": "python3"
  },
  "language_info": {
   "codemirror_mode": {
    "name": "ipython",
    "version": 3
   },
   "file_extension": ".py",
   "mimetype": "text/x-python",
   "name": "python",
   "nbconvert_exporter": "python",
   "pygments_lexer": "ipython3",
   "version": "3.8.11"
  }
 },
 "nbformat": 4,
 "nbformat_minor": 5
}
