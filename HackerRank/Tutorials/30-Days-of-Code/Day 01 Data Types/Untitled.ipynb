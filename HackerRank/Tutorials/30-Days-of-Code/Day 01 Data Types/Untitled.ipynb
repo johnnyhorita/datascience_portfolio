{
 "cells": [
  {
   "cell_type": "code",
   "execution_count": 1,
   "id": "fd6ca222",
   "metadata": {
    "ExecuteTime": {
     "end_time": "2021-10-16T10:11:02.994067Z",
     "start_time": "2021-10-16T10:11:02.751070Z"
    }
   },
   "outputs": [
    {
     "ename": "NameError",
     "evalue": "name 'ii' is not defined",
     "output_type": "error",
     "traceback": [
      "\u001b[1;31m---------------------------------------------------------------------------\u001b[0m",
      "\u001b[1;31mNameError\u001b[0m                                 Traceback (most recent call last)",
      "\u001b[1;32mC:\\Users\\JOHNNY~1.HOR\\AppData\\Local\\Temp/ipykernel_9504/129628645.py\u001b[0m in \u001b[0;36m<module>\u001b[1;34m\u001b[0m\n\u001b[0;32m     16\u001b[0m \u001b[1;31m# Read and save an integer, double, and String to your variables.\u001b[0m\u001b[1;33m\u001b[0m\u001b[1;33m\u001b[0m\u001b[1;33m\u001b[0m\u001b[0m\n\u001b[0;32m     17\u001b[0m \u001b[1;31m# Print the sum of both integer variables on a new line.\u001b[0m\u001b[1;33m\u001b[0m\u001b[1;33m\u001b[0m\u001b[1;33m\u001b[0m\u001b[0m\n\u001b[1;32m---> 18\u001b[1;33m \u001b[0mprint\u001b[0m\u001b[1;33m(\u001b[0m\u001b[0mi\u001b[0m \u001b[1;33m+\u001b[0m \u001b[0mii\u001b[0m\u001b[1;33m)\u001b[0m\u001b[1;33m\u001b[0m\u001b[1;33m\u001b[0m\u001b[0m\n\u001b[0m\u001b[0;32m     19\u001b[0m \u001b[1;33m\u001b[0m\u001b[0m\n\u001b[0;32m     20\u001b[0m \u001b[1;31m# Print the sum of the double variables on a new line.\u001b[0m\u001b[1;33m\u001b[0m\u001b[1;33m\u001b[0m\u001b[1;33m\u001b[0m\u001b[0m\n",
      "\u001b[1;31mNameError\u001b[0m: name 'ii' is not defined"
     ]
    }
   ],
   "source": [
    "i = 4\n",
    "d = 4.0\n",
    "s = 'HackerRank '\n",
    "\n",
    "import sys\n",
    "\n",
    "# Declare second integer, double, and String variables.\n",
    "for en, val in enumerate(sys.stdin):\n",
    "    if en==0:\n",
    "        ii=int(val)\n",
    "    elif en==1:\n",
    "        dd=float(val)\n",
    "    elif en==2:\n",
    "        ss=str(val)\n",
    "\n",
    "# Read and save an integer, double, and String to your variables.\n",
    "# Print the sum of both integer variables on a new line.\n",
    "print(i + ii)\n",
    "\n",
    "# Print the sum of the double variables on a new line.\n",
    "print(d + dd)\n",
    "\n",
    "# Concatenate and print the String variables on a new line\n",
    "# The 's' variable above should be printed first.\n",
    "print(s + ss)\n"
   ]
  },
  {
   "cell_type": "code",
   "execution_count": null,
   "id": "9c3255cd",
   "metadata": {},
   "outputs": [],
   "source": []
  }
 ],
 "metadata": {
  "kernelspec": {
   "display_name": "Python 3 (ipykernel)",
   "language": "python",
   "name": "python3"
  },
  "language_info": {
   "codemirror_mode": {
    "name": "ipython",
    "version": 3
   },
   "file_extension": ".py",
   "mimetype": "text/x-python",
   "name": "python",
   "nbconvert_exporter": "python",
   "pygments_lexer": "ipython3",
   "version": "3.8.11"
  }
 },
 "nbformat": 4,
 "nbformat_minor": 5
}
