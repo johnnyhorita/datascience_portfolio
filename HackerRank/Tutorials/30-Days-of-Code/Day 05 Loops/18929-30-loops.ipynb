{
 "cells": [
  {
   "cell_type": "code",
   "execution_count": 3,
   "id": "d1d2d893",
   "metadata": {
    "ExecuteTime": {
     "end_time": "2021-10-16T14:07:19.549064Z",
     "start_time": "2021-10-16T14:07:19.531075Z"
    }
   },
   "outputs": [
    {
     "ename": "SyntaxError",
     "evalue": "invalid syntax (Temp/ipykernel_14460/3183429845.py, line 13)",
     "output_type": "error",
     "traceback": [
      "\u001b[1;36m  File \u001b[1;32m\"C:\\Users\\JOHNNY~1.HOR\\AppData\\Local\\Temp/ipykernel_14460/3183429845.py\"\u001b[1;36m, line \u001b[1;32m13\u001b[0m\n\u001b[1;33m    p = n * (i += 1)\u001b[0m\n\u001b[1;37m               ^\u001b[0m\n\u001b[1;31mSyntaxError\u001b[0m\u001b[1;31m:\u001b[0m invalid syntax\n"
     ]
    }
   ],
   "source": [
    "import math\n",
    "import os\n",
    "import random\n",
    "import re\n",
    "import sys\n",
    "\n",
    "\n",
    "if __name__ == '__main__':\n",
    "    n = int(input().strip())\n",
    "    \n",
    "    for i in range(10):\n",
    "        i += 1\n",
    "        p = n * i\n",
    "        print(f'{n} x {i} = {p}')"
   ]
  },
  {
   "cell_type": "code",
   "execution_count": null,
   "id": "4beec846",
   "metadata": {},
   "outputs": [],
   "source": []
  }
 ],
 "metadata": {
  "kernelspec": {
   "display_name": "Python 3 (ipykernel)",
   "language": "python",
   "name": "python3"
  },
  "language_info": {
   "codemirror_mode": {
    "name": "ipython",
    "version": 3
   },
   "file_extension": ".py",
   "mimetype": "text/x-python",
   "name": "python",
   "nbconvert_exporter": "python",
   "pygments_lexer": "ipython3",
   "version": "3.8.11"
  }
 },
 "nbformat": 4,
 "nbformat_minor": 5
}
