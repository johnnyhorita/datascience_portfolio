{
 "cells": [
  {
   "cell_type": "code",
   "execution_count": 17,
   "id": "c2b8b3b3-23c2-4c9e-87a3-539a5372ddac",
   "metadata": {
    "ExecuteTime": {
     "end_time": "2021-10-16T11:49:53.124314Z",
     "start_time": "2021-10-16T11:49:52.977295Z"
    }
   },
   "outputs": [],
   "source": [
    "#!/bin/python3\n",
    "\n",
    "import math\n",
    "import os\n",
    "import random\n",
    "import re\n",
    "import sys\n",
    "\n",
    "import numpy as np"
   ]
  },
  {
   "cell_type": "code",
   "execution_count": 15,
   "id": "7e6cb243-cb45-4d43-b057-5cf1bb3cc384",
   "metadata": {
    "ExecuteTime": {
     "end_time": "2021-10-16T11:47:41.823683Z",
     "start_time": "2021-10-16T11:47:41.810676Z"
    }
   },
   "outputs": [
    {
     "name": "stdout",
     "output_type": "stream",
     "text": [
      "[6.0, 13.0, 16.5]\n"
     ]
    }
   ],
   "source": [
    "#\n",
    "# Complete the 'quartiles' function below.\n",
    "#\n",
    "# The function is expected to return an INTEGER_ARRAY.\n",
    "# The function accepts INTEGER_ARRAY arr as parameter.\n",
    "#\n",
    "def find_median(arr):\n",
    "    indices = []\n",
    "    list_size = len(arr)\n",
    "    median = 0\n",
    "\n",
    "    if list_size % 2 == 0:\n",
    "        indices.append(int(list_size / 2) - 1)  # -1 because index starts from 0\n",
    "        indices.append(int(list_size / 2))\n",
    "        median = (arr[indices[0]] + arr[indices[1]]) / 2\n",
    "        pass\n",
    "    else:\n",
    "        indices.append(int(list_size / 2))\n",
    "        median = arr[indices[0]]\n",
    "        pass\n",
    "    return median, indices\n",
    "\n",
    "\n",
    "def quartiles(arr):\n",
    "    # Write your code here\n",
    "    arr.sort()\n",
    "\n",
    "    median, median_indices = find_median(arr)\n",
    "    Q1, Q1_indices = find_median(arr[:median_indices[0]])\n",
    "    Q2, Q2_indices = find_median(arr[median_indices[-1] + 1:])\n",
    "        \n",
    "    #quartiles = [int(Q1), int(median), int(Q2)]\n",
    "    quartiles = [Q1, median, Q2]\n",
    "    return quartiles\n",
    "\n",
    "\n",
    "if __name__ == '__main__':\n",
    "    #fptr = open(os.environ['OUTPUT_PATH'], 'w')\n",
    "\n",
    "    #n = int(input().strip())\n",
    "\n",
    "    #data = list(map(int, input().rstrip().split()))\n",
    "    #data = [3,7,8,5,12,14,21,13,18]\n",
    "    data = [3,7,8,5,12,14,21,15,18,14] # [7,13,15]\n",
    "    #data = [4,17,7,14,18,12,3,16,10,4,4,12] # [4,11,15]\n",
    "\n",
    "    res = quartiles(data)\n",
    "    print(res)\n",
    "    \n",
    "    #fptr.write('\\n'.join(map(str, res)))\n",
    "    #fptr.write('\\n')\n",
    "\n",
    "    #fptr.close()\n"
   ]
  },
  {
   "cell_type": "code",
   "execution_count": 53,
   "id": "62df3df9",
   "metadata": {
    "ExecuteTime": {
     "end_time": "2021-10-16T12:30:23.137182Z",
     "start_time": "2021-10-16T12:30:23.129142Z"
    }
   },
   "outputs": [
    {
     "name": "stdout",
     "output_type": "stream",
     "text": [
      "[2, 5, 7]\n"
     ]
    }
   ],
   "source": [
    "def quartiles(arr):\n",
    "    arr.sort()\n",
    "    \n",
    "    n = len(arr)\n",
    "    \n",
    "    #Lower Quartile (Q1) = (N+1) * 1 / 4\n",
    "    lq = (n+1)*(1/4)\n",
    "    \n",
    "    #Middle Quartile (Q2) = (N+1) * 2 / 4\n",
    "    mq = (n+1)*(2/4)\n",
    "\n",
    "    #Upper Quartile (Q3 )= (N+1) * 3 / 4\n",
    "    uq = (n+1)*(3/4)\n",
    "\n",
    "    qpos = [int(lq), int(mq), int(uq)]\n",
    "    \n",
    "    #Interquartile Range = Q3 – Q1\n",
    "\n",
    "    print(qpos)\n",
    "    return\n",
    "\n",
    "#data = [1,3,5,7]\n",
    "data = [3,7,8,5,12,14,21,13,18]    \n",
    "#data = [3,7,8,5,12,14,21,15,18,14] # [7,13,15]\n",
    "quartiles(data)"
   ]
  },
  {
   "cell_type": "code",
   "execution_count": 67,
   "id": "2bc59d40",
   "metadata": {
    "ExecuteTime": {
     "end_time": "2021-10-16T12:56:27.285830Z",
     "start_time": "2021-10-16T12:56:27.277844Z"
    }
   },
   "outputs": [
    {
     "name": "stdout",
     "output_type": "stream",
     "text": [
      "[6, 13, 20]\n"
     ]
    }
   ],
   "source": [
    "def quartiles(arr):\n",
    "    # Write your code here\n",
    "    #Ordenando o array de forma crescente\n",
    "    arr.sort()\n",
    "    \n",
    "    #Identificando o elemento do meio do array\n",
    "    mid = float(len(arr))/2\n",
    "    if mid % 2 == 0:\n",
    "        #arr[int(mid - .5)]\n",
    "        rg = int(mid - .5)\n",
    "        q2 = arr[rg]\n",
    "    else:\n",
    "        rg = int(mid)\n",
    "        m_arr = (arr[rg-1], arr[rg])\n",
    "        q2 = round(sum(m_arr)/len(m_arr))\n",
    "        \n",
    "    #Identificando q1 do array\n",
    "    l_arr = arr[:rg]    \n",
    "    mid = float(len(l_arr))/2\n",
    "    if mid % 2 != 0:\n",
    "        #arr[int(mid - .5)]\n",
    "        rg = int(mid - .5)\n",
    "    else:\n",
    "        rg = int(mid)        \n",
    "    m_arr = (l_arr[rg], l_arr[rg-1])\n",
    "    q1 = round(sum(m_arr)/len(m_arr))\n",
    "\n",
    "    #Identificando q3 do array\n",
    "    r_arr = arr[-rg:]\n",
    "    mid = float(len(r_arr))/2\n",
    "    if mid % 2 != 0:\n",
    "        #arr[int(mid - .5)]\n",
    "        rg = int(mid - .5)\n",
    "    else:\n",
    "        rg = int(mid)        \n",
    "    m_arr = (r_arr[rg], r_arr[rg-1])\n",
    "    q3 = round(sum(m_arr)/len(m_arr))\n",
    "        \n",
    "    \n",
    "    q_arr = [q1, q2, q3] \n",
    "\n",
    "    return q_arr\n",
    "\n",
    "if __name__ == '__main__':\n",
    "    #fptr = open(os.environ['OUTPUT_PATH'], 'w')\n",
    "\n",
    "    #n = int(input().strip())\n",
    "\n",
    "    #data = list(map(int, input().rstrip().split()))\n",
    "    #data = [3,7,8,5,12,14,21,13,18]\n",
    "    data = [3,7,8,5,12,14,21,15,18,14] # [7,13,15]\n",
    "    #data = [4,17,7,14,18,12,3,16,10,4,4,12] # [4,11,15]\n",
    "    \n",
    "    #data = [9,5,7,1,3]\n",
    "    #data = [1,3,5,7]\n",
    "    res = quartiles(data)\n",
    "    print(res)\n",
    "    \n",
    "    #fptr.write('\\n'.join(map(str, res)))\n",
    "    #fptr.write('\\n')\n",
    "\n",
    "    #fptr.close()\n"
   ]
  },
  {
   "cell_type": "code",
   "execution_count": 38,
   "id": "1dde2d5d",
   "metadata": {
    "ExecuteTime": {
     "end_time": "2021-10-16T12:01:31.094268Z",
     "start_time": "2021-10-16T12:01:31.081276Z"
    }
   },
   "outputs": [
    {
     "name": "stdout",
     "output_type": "stream",
     "text": [
      "[3.0275 3.055  3.0825]\n"
     ]
    }
   ],
   "source": [
    "def quartiles(arr):\n",
    "    # Write your code here\n",
    "    #q_arr = np.quantile(arr, [.25, .50, .75])\n",
    "    q_arr = np.percentile(arr, [25, 50, 75])\n",
    "    \n",
    "    #q1 = int(np.quantile(arr, .25))\n",
    "    #q2 = int(np.quantile(arr, .50))\n",
    "    #q3 = int(np.ceil(np.quantile(arr, .75)))\n",
    "    #q_arr = [q1, q2, q3] \n",
    "    \n",
    "    return q_arr\n",
    "\n",
    "if __name__ == '__main__':\n",
    "    #fptr = open(os.environ['OUTPUT_PATH'], 'w')\n",
    "\n",
    "    #n = int(input().strip())\n",
    "\n",
    "    #data = list(map(int, input().rstrip().split()))\n",
    "    #data = [3,7,8,5,12,14,21,13,18] # [6,12,16]\n",
    "    #data = [3,7,8,5,12,14,21,15,18,14] # [7,13,15]\n",
    "    data = [4,17,7,14,18,12,3,16,10,4,4,12] # [4,11,15]\n",
    "    \n",
    "    #data = [9,5,7,1,3]\n",
    "    #data = [1,3,5,7]\n",
    "    res = quartiles(data)\n",
    "    print(res)\n",
    "    \n",
    "    #fptr.write('\\n'.join(map(str, res)))\n",
    "    #fptr.write('\\n')\n",
    "\n",
    "    #fptr.close()\n"
   ]
  },
  {
   "cell_type": "code",
   "execution_count": 42,
   "id": "795adfd6",
   "metadata": {
    "ExecuteTime": {
     "end_time": "2021-10-16T12:11:30.814258Z",
     "start_time": "2021-10-16T12:11:30.789262Z"
    }
   },
   "outputs": [
    {
     "name": "stdout",
     "output_type": "stream",
     "text": [
      "10.5 7.5 7.0\n"
     ]
    }
   ],
   "source": []
  },
  {
   "cell_type": "code",
   "execution_count": null,
   "id": "713e1785-b9d7-48d7-83be-01bec6056ddd",
   "metadata": {},
   "outputs": [],
   "source": [
    "def find_median(sorted_list):\n",
    "    indices = []\n",
    "\n",
    "    list_size = len(sorted_list)\n",
    "    median = 0\n",
    "\n",
    "    if list_size % 2 == 0:\n",
    "        indices.append(int(list_size / 2) - 1)  # -1 because index starts from 0\n",
    "        indices.append(int(list_size / 2))\n",
    "\n",
    "        median = (sorted_list[indices[0]] + sorted_list[indices[1]]) / 2\n",
    "        pass\n",
    "    else:\n",
    "        indices.append(int(list_size / 2))\n",
    "\n",
    "        median = sorted_list[indices[0]]\n",
    "        pass\n",
    "\n",
    "    return median, indices\n",
    "    pass\n",
    "\n",
    "median, median_indices = find_median(samples)\n",
    "Q1, Q1_indices = find_median(samples[:median_indices[0]])\n",
    "Q2, Q2_indices = find_median(samples[median_indices[-1] + 1:])\n",
    "\n",
    "quartiles = [Q1, median, Q2]\n",
    "\n",
    "print(\"(Q1, median, Q3): {}\".format(quartiles))"
   ]
  }
 ],
 "metadata": {
  "kernelspec": {
   "display_name": "Python 3 (ipykernel)",
   "language": "python",
   "name": "python3"
  },
  "language_info": {
   "codemirror_mode": {
    "name": "ipython",
    "version": 3
   },
   "file_extension": ".py",
   "mimetype": "text/x-python",
   "name": "python",
   "nbconvert_exporter": "python",
   "pygments_lexer": "ipython3",
   "version": "3.8.11"
  }
 },
 "nbformat": 4,
 "nbformat_minor": 5
}
