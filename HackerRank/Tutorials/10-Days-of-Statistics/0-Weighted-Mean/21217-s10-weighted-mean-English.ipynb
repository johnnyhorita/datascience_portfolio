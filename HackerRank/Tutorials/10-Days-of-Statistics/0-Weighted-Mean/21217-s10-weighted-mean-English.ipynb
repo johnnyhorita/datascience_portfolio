{
 "cells": [
  {
   "cell_type": "code",
   "execution_count": null,
   "id": "015ce52c-710f-4c1e-a102-bbfa30cec018",
   "metadata": {},
   "outputs": [],
   "source": [
    "#!/bin/python3\n",
    "\n",
    "import math\n",
    "import os\n",
    "import random\n",
    "import re\n",
    "import sys"
   ]
  },
  {
   "cell_type": "code",
   "execution_count": null,
   "id": "931a76fb-93bb-482b-8ec3-d531bb31c34f",
   "metadata": {},
   "outputs": [],
   "source": [
    "#\n",
    "# Complete the 'weightedMean' function below.\n",
    "#\n",
    "# The function accepts following parameters:\n",
    "#  1. INTEGER_ARRAY X\n",
    "#  2. INTEGER_ARRAY W\n",
    "#\n",
    "\n",
    "def weightedMean(X, W):\n",
    "    # Write your code here\n",
    "    # step-by-step\n",
    "    #lst = list()\n",
    "    #for i in range(len(X)):\n",
    "    #    lst.append(X[i]*W[i])\n",
    "    #lst = list(map(lambda x, y: x*y, X, W))\n",
    "    #m = round(sum(lst)/sum(W),1)\n",
    "    #print(m)\n",
    "\n",
    "    print(round(sum(list(map(lambda x, y: x*y, X, W)))/sum(W),1))\n",
    "    return\n",
    "\n",
    "if __name__ == '__main__':\n",
    "    n = int(input().strip())\n",
    "\n",
    "    vals = list(map(int, input().rstrip().split()))\n",
    "\n",
    "    weights = list(map(int, input().rstrip().split()))\n",
    "\n",
    "    weightedMean(vals, weights)\n"
   ]
  }
 ],
 "metadata": {
  "kernelspec": {
   "display_name": "Python 3 (ipykernel)",
   "language": "python",
   "name": "python3"
  },
  "language_info": {
   "codemirror_mode": {
    "name": "ipython",
    "version": 3
   },
   "file_extension": ".py",
   "mimetype": "text/x-python",
   "name": "python",
   "nbconvert_exporter": "python",
   "pygments_lexer": "ipython3",
   "version": "3.8.11"
  }
 },
 "nbformat": 4,
 "nbformat_minor": 5
}
