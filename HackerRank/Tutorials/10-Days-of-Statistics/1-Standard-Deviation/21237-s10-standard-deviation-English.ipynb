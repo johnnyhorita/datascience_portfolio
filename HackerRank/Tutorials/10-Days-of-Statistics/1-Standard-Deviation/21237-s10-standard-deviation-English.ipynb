{
 "cells": [
  {
   "cell_type": "code",
   "execution_count": 1,
   "id": "0ac874c0-36e3-4cb0-ab3f-248b22c8bf54",
   "metadata": {},
   "outputs": [],
   "source": [
    "#!/bin/python3\n",
    "\n",
    "import math\n",
    "import os\n",
    "import random\n",
    "import re\n",
    "import sys\n"
   ]
  },
  {
   "cell_type": "code",
   "execution_count": 5,
   "id": "28012365-e7eb-46d7-8b01-490b143879cc",
   "metadata": {},
   "outputs": [
    {
     "name": "stdin",
     "output_type": "stream",
     "text": [
      " 12\n",
      " 7 15 11 8 7 19 11 11 4 8 3 2\n"
     ]
    },
    {
     "name": "stdout",
     "output_type": "stream",
     "text": [
      "4.722875771768251\n"
     ]
    }
   ],
   "source": [
    "\n",
    "# Complete the 'stdDev' function below.\n",
    "#\n",
    "# The function accepts INTEGER_ARRAY arr as parameter.\n",
    "#\n",
    "\n",
    "def stdDev(arr):\n",
    "    # Print your answers to 1 decimal place within this function\n",
    "    larr = len(arr)\n",
    "    m = sum(arr)/larr\n",
    "    lst = list()\n",
    "    \n",
    "    for e in arr:\n",
    "        item = (e-m)**2\n",
    "        lst.append(item)\n",
    "    \n",
    "    #print(round(math.sqrt(sum(lst)/larr),1))\n",
    "    print(math.sqrt(sum(lst)/larr))\n",
    "    return\n",
    "\n",
    "if __name__ == '__main__':\n",
    "    n = int(input().strip())\n",
    "\n",
    "    vals = list(map(int, input().rstrip().split()))\n",
    "\n",
    "    stdDev(vals)"
   ]
  },
  {
   "cell_type": "code",
   "execution_count": null,
   "id": "7900f8b4-9c92-438c-95e4-2b5bcfd556b5",
   "metadata": {},
   "outputs": [],
   "source": [
    "7 15 11 8 7 19 11 11 4 8 3 2"
   ]
  }
 ],
 "metadata": {
  "kernelspec": {
   "display_name": "Python 3 (ipykernel)",
   "language": "python",
   "name": "python3"
  },
  "language_info": {
   "codemirror_mode": {
    "name": "ipython",
    "version": 3
   },
   "file_extension": ".py",
   "mimetype": "text/x-python",
   "name": "python",
   "nbconvert_exporter": "python",
   "pygments_lexer": "ipython3",
   "version": "3.8.11"
  }
 },
 "nbformat": 4,
 "nbformat_minor": 5
}
