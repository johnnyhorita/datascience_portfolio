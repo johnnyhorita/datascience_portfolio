{
 "cells": [
  {
   "cell_type": "code",
   "execution_count": null,
   "id": "9826bf68",
   "metadata": {
    "ExecuteTime": {
     "start_time": "2021-09-08T20:21:12.004Z"
    }
   },
   "outputs": [],
   "source": [
    "# run local notebook\n",
    "!streamlit run nasdaq_fbprophet.py"
   ]
  },
  {
   "cell_type": "code",
   "execution_count": null,
   "id": "4723e6bf",
   "metadata": {},
   "outputs": [],
   "source": []
  }
 ],
 "metadata": {
  "kernelspec": {
   "display_name": "Python 3 (ipykernel)",
   "language": "python",
   "name": "python3"
  },
  "language_info": {
   "codemirror_mode": {
    "name": "ipython",
    "version": 3
   },
   "file_extension": ".py",
   "mimetype": "text/x-python",
   "name": "python",
   "nbconvert_exporter": "python",
   "pygments_lexer": "ipython3",
   "version": "3.8.11"
  }
 },
 "nbformat": 4,
 "nbformat_minor": 5
}
