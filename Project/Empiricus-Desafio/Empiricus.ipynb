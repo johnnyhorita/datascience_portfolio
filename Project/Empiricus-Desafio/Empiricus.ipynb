{
 "cells": [
  {
   "cell_type": "markdown",
   "id": "7d2a248f",
   "metadata": {},
   "source": [
    "# Projeto: DESAFIO EMPIRICUS – CURSO DATA SCIENCE\n",
    "\n",
    "## Nome: Johnny Hideki Horita\n",
    "\n",
    "\n"
   ]
  },
  {
   "cell_type": "code",
   "execution_count": null,
   "id": "9cc9f5d3",
   "metadata": {},
   "outputs": [],
   "source": []
  },
  {
   "cell_type": "markdown",
   "id": "b876851b",
   "metadata": {},
   "source": [
    "### Importando bibliotecas"
   ]
  },
  {
   "cell_type": "markdown",
   "id": "c42f9c36",
   "metadata": {},
   "source": [
    "<a href=\"https://pypi.org/project/Faker/\">Faker</a></br>\n",
    "pip install Faker</br>\n",
    "Faker é um pacote Python que gera dados falsos.</br>\n",
    "\n",
    "<a href=\"https://pypi.org/project/pandas/\">Pandas</a></br>\n",
    "pip install pandas</br>\n",
    "Poderosas estruturas de dados para análise de dados, séries cronológicas e estatísticas.</br>\n",
    "\n",
    "<a href=\"https://pypi.org/project/matplotlib/\">matplotlib</a></br>\n",
    "pip install matplotlib</br>\n",
    "Pacote de \"plotagem\".</br>\n",
    "\n",
    "<a href=\"https://pypi.org/project/numpy/\">numpy</a></br>\n",
    "pip install numpy</br>\n",
    "NumPy é o pacote fundamental para a computação de array com Python.</br>\n",
    "\n",
    "<a href=\"https://pypi.org/project/seaborn/\">seaborn</a></br>\n",
    "pip install seaborn</br>\n",
    "visualização de dados estatísticos.</br>\n",
    "\n",
    "<a href=\"https://pypi.org/project/scikit-surprise/\">scikit-surprise</a></br>\n",
    "pip install scikit-surprise</br>\n",
    "Uma biblioteca fácil de usar para sistemas de recomendação.</br>\n",
    "\n",
    "<a href=\"https://pypi.org/project/scikit-learn/\">scikit-learn</a></br>\n",
    "pip install scikit-learn</br>\n",
    "Um conjunto de módulos python para aprendizagem de máquinas e mineração de dados.</br>\n",
    "\n",
    "<a href=\"https://pypi.org/project/tensorflow-recommenders/\">tensorflow-recommenders</a></br>\n",
    "pip install tensorflow-recommenders</br>\n",
    "Uma biblioteca TensorFlow para sistemas de recomendação.</br>\n"
   ]
  },
  {
   "cell_type": "code",
   "execution_count": 1,
   "id": "c1bff8d9",
   "metadata": {},
   "outputs": [],
   "source": [
    "import os\n",
    "import json\n",
    "import random\n",
    "from collections import Counter\n",
    "from faker import Faker\n",
    "\n",
    "import pandas as pd\n",
    "import numpy as np\n",
    "import matplotlib.pyplot as plt\n",
    "import seaborn as sns\n",
    "import gc\n",
    "\n",
    "from surprise import KNNWithMeans\n",
    "from surprise import Dataset\n",
    "from surprise import accuracy\n",
    "from surprise import Reader\n",
    "from surprise import SVD\n",
    "from surprise.model_selection import train_test_split, cross_validate, KFold\n",
    "from sklearn.decomposition import TruncatedSVD\n",
    "from sklearn.metrics.pairwise import cosine_similarity\n",
    "\n",
    "%matplotlib inline"
   ]
  },
  {
   "cell_type": "markdown",
   "id": "577b99d8",
   "metadata": {},
   "source": [
    "### Parametros Gerais"
   ]
  },
  {
   "cell_type": "code",
   "execution_count": 2,
   "id": "2b1a66f8",
   "metadata": {},
   "outputs": [],
   "source": [
    "# Parametros\n",
    "#pd.set_option('display.max_rows', None)\n",
    "pd.set_option('display.max_columns', None)\n",
    "pd.set_option('display.width', 1000)\n",
    "pd.set_option('display.colheader_justify', 'center')\n",
    "pd.set_option('display.precision', 3)\n",
    "\n",
    "\n",
    "# Definição de padrões para gráficos e cores\n",
    "sns.set_style('darkgrid')  # darkgrid, white grid, dark, white and ticks\n",
    "plt.rc('axes', titlesize=18)     # fontsize of the axes title\n",
    "plt.rc('axes', labelsize=14)    # fontsize of the x and y labels\n",
    "plt.rc('xtick', labelsize=13)    # fontsize of the tick labels\n",
    "plt.rc('ytick', labelsize=13)    # fontsize of the tick labels\n",
    "plt.rc('legend', fontsize=13)    # legend fontsize\n",
    "plt.rc('font', size=13)          # controls default text sizes\n",
    "\n",
    "# deep, pastel, Set1 Set2 Set3, icefire, tab10, muted, colorlind, coolwarm\n",
    "colors = sns.color_palette(\"pastel\")\n",
    "cmap_colors = 'GnBu'\n",
    "\n",
    "font_path = \"./fonts/CabinSketch-Bold.ttf\"\n",
    "\n",
    "# Instanciando variavel Faker\n",
    "faker = Faker()"
   ]
  },
  {
   "cell_type": "markdown",
   "id": "7f05adc2",
   "metadata": {},
   "source": [
    "### Funções"
   ]
  },
  {
   "cell_type": "code",
   "execution_count": 3,
   "id": "a3c398bf",
   "metadata": {},
   "outputs": [],
   "source": [
    "# Função para gerar lista com elementos randomicos\n",
    "\n",
    "def fn_randomList(listaItem, qtdItem):\n",
    "    \"\"\"    \n",
    "    Função para gerar lista com elementos randomicos\n",
    "\n",
    "    Returns:\n",
    "    list: Lista de elementos\n",
    "    \"\"\"\n",
    "    return random.choices(listaItem, weights=None, cum_weights=None, k=qtdItem)"
   ]
  },
  {
   "cell_type": "code",
   "execution_count": 4,
   "id": "2d82fddb",
   "metadata": {},
   "outputs": [],
   "source": [
    "# Função para gerar CPF\n",
    "\n",
    "def fn_geraCPF():\n",
    "    \"\"\"\n",
    "    Função para gerar CPF\n",
    "\n",
    "    Returns:\n",
    "    string: CPF\n",
    "    \"\"\"\n",
    "    cpf = [random.randrange(10) for _ in range(9)]\n",
    "\n",
    "    for _ in range(2):\n",
    "        value = sum([(len(cpf) + 1 - i) * v for i, v in enumerate(cpf)]) % 11\n",
    "        cpf.append(11 - value if value > 1 else 0)\n",
    "\n",
    "    return \"\".join(str(x) for x in cpf)"
   ]
  },
  {
   "cell_type": "code",
   "execution_count": 5,
   "id": "c8c6d581",
   "metadata": {},
   "outputs": [],
   "source": [
    "# Função para gerar os Produtos (Assinaturas e Cursos) adquiridos\n",
    "\n",
    "def fn_geraProdutosAdquiridos(qtMaximaProdutos):\n",
    "    \"\"\"\n",
    "    Função para gerar Produtos (Assinaturas e Cursos) adquiridos\n",
    "\n",
    "    Parametros:\n",
    "    qtMaximaProdutos (int): quantidade máxima produtos que o usuário pode ter;\n",
    "\n",
    "    Returns:\n",
    "    Dataframe: Produtos\n",
    "               produto\n",
    "               ativo\n",
    "               pagamento\n",
    "    \"\"\"\n",
    "    # define randomicamente a quantidade de produtos que um usuário pode possuir\n",
    "    qtdItem = random.randint(1, qtMaximaProdutos)\n",
    "\n",
    "    # Gera a lista de produtos do usuário\n",
    "    listUsuarioProdutos = fn_randomList(listProduto, qtdItem)\n",
    "\n",
    "    # Redefindo a lista apenas com produtos únicos\n",
    "    listUsuarioProdutos = list(set(listUsuarioProdutos))\n",
    "\n",
    "    # Atualiza a quantidade real de itens da lista\n",
    "    qtdItem = len(listUsuarioProdutos)\n",
    "\n",
    "    # Gera a lista de forma de pagamentos dos produtos\n",
    "    listUsuarioFormaPgtos = fn_randomList(listFormaPgto, qtdItem)\n",
    "\n",
    "    # Gera a lista de produtos ativos e cancelados\n",
    "    #listProdutosAtivos = [random.randint(0, 1) for _ in range(qtdItem)]\n",
    "    listProdutosAtivos = random.choices([1, 0], weights=[70, 30], k=qtdItem)\n",
    "\n",
    "    # Gera a lista de Notas atribuidas ao produto de 0 à 5\n",
    "    #listProdutosNota = [random.randint(0, 5) for _ in range(qtdItem)]\n",
    "\n",
    "    # Carregando as listas em dataframe\n",
    "    produtosAdquiridos = pd.DataFrame(\n",
    "        {'produto': listUsuarioProdutos, 'ativo': listProdutosAtivos, 'pagamento': listUsuarioFormaPgtos\n",
    "         # ,'nota': listProdutosNota\n",
    "         })\n",
    "\n",
    "    return produtosAdquiridos"
   ]
  },
  {
   "cell_type": "code",
   "execution_count": 6,
   "id": "be4b7897",
   "metadata": {},
   "outputs": [],
   "source": [
    "# Função para gerar os produtos que o usuário tem\n",
    "\n",
    "def fn_geraUsuarioProdutos(listCep):\n",
    "    \"\"\"\n",
    "    Função para gerar os produtos que o usuário tem\n",
    "\n",
    "    Parametros:\n",
    "    listCep (list): Lista de CEP;\n",
    "\n",
    "    Returns:\n",
    "    Dataframe: Usuário produtos\n",
    "               cpf\n",
    "               dataNascimento\n",
    "               cep\n",
    "               produto\n",
    "               ativo\n",
    "               pagamento\n",
    "    \"\"\"\n",
    "    # Gera dataframe de produtos adquiridos pelo usuário\n",
    "    usuarioProdutos = fn_geraProdutosAdquiridos(qtMaximaProdutos)\n",
    "\n",
    "    # Gera cpf e adiciona coluna ao dataframe\n",
    "    usuarioProdutos.insert(0, 'cpf', fn_geraCPF())\n",
    "\n",
    "    # Gera data de nascimento e adiciona coluna ao dataframe\n",
    "    usuarioProdutos.insert(1, 'dataNascimento', faker.date_of_birth())\n",
    "\n",
    "    # Gera cep e adiciona coluna ao dataframe\n",
    "    usuarioProdutos.insert(2, 'cep', faker.words(\n",
    "        nb=1, ext_word_list=listCep, unique=True)[0])\n",
    "\n",
    "    return usuarioProdutos"
   ]
  },
  {
   "cell_type": "code",
   "execution_count": 7,
   "id": "9ea459e2",
   "metadata": {},
   "outputs": [],
   "source": [
    "# Função para gerar o cadastro de usuários\n",
    "\n",
    "def fn_geraCadastroUsuarios(listCep, qtUsuarios=10):\n",
    "    \"\"\"\n",
    "    Função para gerar o Cadastro de usuários\n",
    "\n",
    "    Parametros:\n",
    "    listCep (list): Lista de CEP;\n",
    "    qtUsuarios (int): Quantidade de usuários para criar;\n",
    "\n",
    "    Returns:\n",
    "    Dataframe: Cadastro de Usuário\n",
    "               cpf\n",
    "               dataNascimento\n",
    "               cep\n",
    "               produto\n",
    "               ativo\n",
    "               pagamento\n",
    "    \"\"\"\n",
    "\n",
    "    cadatroUsuarios = fn_geraUsuarioProdutos(listCep)\n",
    "    for i in range(qtUsuarios):\n",
    "        usuarioProdutos = fn_geraUsuarioProdutos(listCep)\n",
    "        cadatroUsuarios = pd.concat(\n",
    "            [cadatroUsuarios, usuarioProdutos], ignore_index=True)\n",
    "\n",
    "    return cadatroUsuarios"
   ]
  },
  {
   "cell_type": "code",
   "execution_count": 8,
   "id": "d18dcd6a",
   "metadata": {},
   "outputs": [],
   "source": [
    "# Função para calcular a média ponderada de cada produto\n",
    "\n",
    "def fn_classificacaoPonderada(v, m, R, C):\n",
    "    \"\"\"\n",
    "    Função para calcular a média ponderada de cada produto\n",
    "\n",
    "    Parametros:\n",
    "    v (float): classificação média para cada item \n",
    "    m (float): votos mínimos necessários para ser classificado como popular\n",
    "    R (pd.Series): classificação média para o item\n",
    "    C (pd.Series): classificação média para todo o conjunto de dados \n",
    "\n",
    "    Returns:\n",
    "    pd.Series: Calculo da média ponderada\n",
    "    \"\"\"\n",
    "    return ((v / (v + m)) * R) + ((m / (v + m)) * C)"
   ]
  },
  {
   "cell_type": "code",
   "execution_count": 9,
   "id": "c934e81e",
   "metadata": {},
   "outputs": [],
   "source": [
    "# Função para calcular a pontuação popular baseada na média ponderada.\n",
    "\n",
    "def fn_classificacaoPopular(dfPrincipal, dfProduto, userCol, itemCol, classificacaoCol):\n",
    "    '''\n",
    "    Função para calcular a pontuação popular baseada na média ponderada.\n",
    "\n",
    "    Parametros:\n",
    "    dfPrincipal (DataFrame): DataFrame com o identificador, item, classificação\n",
    "    dfPrincipal (DataFrame): DataFrame com os itens \n",
    "    UserCol (string, int): identificador\n",
    "    itemCol (string, int): item para classificação popular\n",
    "    classificacaoCol (int): valor da classificação do usuário\n",
    "\n",
    "    Returns\n",
    "    Dataframe -> pd.DataFrame contém item e pontuação ponderada.\n",
    "    '''\n",
    "\n",
    "    classificacao = (\n",
    "        dfPrincipal\n",
    "        .groupby(itemCol, as_index=False)\n",
    "        .agg({userCol: 'count', classificacaoCol: 'mean'})\n",
    "    )\n",
    "    classificacao.columns = [itemCol, 'qtclassificacao', 'mediaclassificacao']\n",
    "\n",
    "    # calcula os parametros de entrada \n",
    "    C = np.mean(classificacao['mediaclassificacao'])\n",
    "    m = np.percentile(classificacao['qtclassificacao'], 0)\n",
    "    classificacao = classificacao[classificacao['qtclassificacao'] >= m]\n",
    "    R = classificacao['mediaclassificacao']\n",
    "    v = classificacao['qtclassificacao']\n",
    "    classificacao['pontuacao'] = fn_classificacaoPonderada(v, m, R, C)\n",
    "\n",
    "    # post processing\n",
    "    classificacaoPopular = classificacao.merge(dfProduto, on=[itemCol], how='left')\n",
    "\n",
    "    return classificacaoPopular"
   ]
  },
  {
   "cell_type": "code",
   "execution_count": 10,
   "id": "6c3cea51",
   "metadata": {},
   "outputs": [],
   "source": [
    "# Função para correlação e ordenação do produto\n",
    "\n",
    "def fn_recomendacaoProdutos(produto, qtProduto, corrMat, mapName):\n",
    "    \"\"\"\n",
    "    Função para correlação e ordenação do produto\n",
    "\n",
    "    Parametros:\n",
    "    produto (str): \n",
    "    qtProduto (int): quantidade de produtos para recomendação;\n",
    "    corrMat (dataframe): matriz de correção;\n",
    "    mapName (dataframe): nome das colunas;\n",
    "\n",
    "    Returns:\n",
    "    DataFrame\n",
    "    \"\"\"\n",
    "    topProdutos = corrMat[produto, :].argsort()[-qtProduto:][::-1]\n",
    "    topProdutos = [mapName[e] for e in topProdutos]\n",
    "    return topProdutos"
   ]
  },
  {
   "cell_type": "code",
   "execution_count": 11,
   "id": "5878bb83",
   "metadata": {},
   "outputs": [],
   "source": [
    "# Função para plotar gráfico de barras\n",
    "\n",
    "def fn_GrafBarras(df, col):\n",
    "    \"\"\"\n",
    "    Função para plotar gráfico de barras\n",
    "\n",
    "    Parametros:\n",
    "    df (DataFrame): DataFrame\n",
    "    col (string): variável ;\n",
    "\n",
    "    Returns:\n",
    "    image: Gráfico de barras\n",
    "\n",
    "    \"\"\"\n",
    "    total = len(df)\n",
    "\n",
    "    plt.figure(figsize=(12, 6))\n",
    "    g = sns.countplot(x=col, data=df, palette=colors)\n",
    "    g.set_title(f\"Distribuição da variável {col}\")\n",
    "    g.set_xlabel(f\"{col}\")\n",
    "    g.set_ylabel(\"Quantidade\")\n",
    "    sizes = []\n",
    "    for p in g.patches:\n",
    "        height = p.get_height()\n",
    "        sizes.append(height)\n",
    "        g.text(p.get_x()+p.get_width()/2.,\n",
    "               height + 3,\n",
    "               '{:1.2f}%'.format((height/total)*100),\n",
    "               ha=\"center\", fontsize=14)\n",
    "    g.set_ylim(0, max(sizes) * 1.15)\n",
    "    plt.show()"
   ]
  },
  {
   "cell_type": "code",
   "execution_count": 12,
   "id": "b56a7a72",
   "metadata": {},
   "outputs": [],
   "source": [
    "# Função de avaliação dos valores de NaN no dataframe\n",
    "\n",
    "def missing_values_table(df):\n",
    "    \"\"\"\n",
    "    Função para verificar se existem valores nulos no dataframe\n",
    "\n",
    "    Parametros:\n",
    "    df (dataframe): Dataframe;\n",
    "\n",
    "    Returns: \n",
    "    Apresentação dos valores nulos no dataframe.\n",
    "\n",
    "    \"\"\"\n",
    "    mis_val = df.isnull().sum()\n",
    "    mis_val_percent = 100 * df.isnull().sum() / len(df)\n",
    "    mz_table = pd.concat([mis_val, mis_val_percent], axis=1)\n",
    "    mz_table = mz_table.rename(\n",
    "        columns={0: 'Valores faltantes', 1: '% de Valores Totais'})\n",
    "    mz_table['Data Type'] = df.dtypes\n",
    "    mz_table = mz_table[\n",
    "        mz_table.iloc[:, 1] != 0].sort_values(\n",
    "        '% de Valores Totais', ascending=False).round(1)\n",
    "    print(\"O dataframe tem \" + str(df.shape[1]) + \" colunas e \" + str(df.shape[0]) + \" linhas.\\n\"\n",
    "          \"Existem \" + str(mz_table.shape[0]) +\n",
    "          \" colunas que têm valores faltantes.\")\n",
    "    #mz_table.to_excel('missing_and_zero_values.xlsx', freeze_panes=(1,0), index = True)\n",
    "    return mz_table"
   ]
  },
  {
   "cell_type": "code",
   "execution_count": null,
   "id": "c5f68226",
   "metadata": {},
   "outputs": [],
   "source": []
  },
  {
   "cell_type": "markdown",
   "id": "d69929d1",
   "metadata": {},
   "source": [
    "### Preparando dataframes para elaboração de Cadastro de Usuários"
   ]
  },
  {
   "cell_type": "markdown",
   "id": "53b17989",
   "metadata": {},
   "source": [
    "#### Dataframe CEP\n",
    "\n",
    "Para a criação do dataframe de CEP utilizei o arquivo <b>ceps-utf8.txt</b> do site <a href=\"http://cep.la\">CEP lá.</a></br>\n",
    "Download: http://cep.la/CEP-dados-2018-UTF8.zip\n"
   ]
  },
  {
   "cell_type": "code",
   "execution_count": 13,
   "id": "b9371d49",
   "metadata": {},
   "outputs": [
    {
     "name": "stdout",
     "output_type": "stream",
     "text": [
      "Wall time: 12.5 s\n"
     ]
    }
   ],
   "source": [
    "%%time\n",
    "\n",
    "# Criando dataframe de ceps\n",
    "CEP = pd.read_csv('ceps-utf8.txt', delimiter=\"\\t\", lineterminator=\"\\n\",)\n",
    "\n",
    "# Encontrando a posição de '/'\n",
    "CEP['pos'] = CEP['estado'].str.find('/')\n",
    "\n",
    "CEP['sigla'] = CEP.estado.str.slice(CEP.pos+1, 2)\n",
    "\n",
    "# Adicionando coluna com a sigla do estado\n",
    "CEP['sigla'] = CEP.apply(lambda x: x['estado'][x['pos']+1:x['pos']+3], axis=1)"
   ]
  },
  {
   "cell_type": "code",
   "execution_count": 14,
   "id": "37c45239",
   "metadata": {},
   "outputs": [
    {
     "name": "stdout",
     "output_type": "stream",
     "text": [
      "Wall time: 1.55 s\n"
     ]
    }
   ],
   "source": [
    "%%time\n",
    "\n",
    "# Região Norte\n",
    "listCepNorte = CEP[\"cep\"][CEP['estado'].str.contains(\n",
    "    \"/AC|/AM|/AP|/PA|/RO|/RR|/TO\")].values.tolist()\n",
    "\n",
    "# Região Nordeste\n",
    "listCepNordeste = CEP[\"cep\"][CEP['estado'].str.contains(\n",
    "    \"/AL|/BA|/CE|/MA|/PI|/PE|/PB|/RN|/SE\")].values.tolist()\n",
    "\n",
    "# Região Centro-Oeste\n",
    "listCepCentroOeste = CEP[\"cep\"][CEP['estado'].str.contains(\n",
    "    \"/GO|/MT|/MS|/DF\")].values.tolist()\n",
    "\n",
    "# Região Sul\n",
    "listCepSul = CEP[\"cep\"][CEP['estado'].str.contains(\n",
    "    \"/PR|/RS|/SC\")].values.tolist()\n",
    "\n",
    "# Região Sudeste\n",
    "listCepSudeste = CEP[\"cep\"][CEP['estado'].str.contains(\n",
    "    \"/ES|/MG|/RJ|/SP\")].values.tolist()\n",
    "\n",
    "# Todas as Regiões\n",
    "listCep = CEP[\"cep\"].values.tolist()"
   ]
  },
  {
   "cell_type": "code",
   "execution_count": null,
   "id": "c4ccc723",
   "metadata": {},
   "outputs": [],
   "source": []
  },
  {
   "cell_type": "markdown",
   "id": "62914244",
   "metadata": {},
   "source": [
    "#### Dataframe Produtos (Assinaturas e Cursos)\n",
    "\n",
    "Para a criação das informações de Cursos e devido a sua quantidade importei a página https://publicacoes.empiricus.com.br/cursos/todos-cursos manualmente para um arquivo json utilizando a extensão html to figma.\n",
    "\n",
    "Para a criação das informações de Assinaturas, o processo foi feito de forma manual, pois não existe uma quantidade alta para um processo automatizado. \n"
   ]
  },
  {
   "cell_type": "markdown",
   "id": "0f94c9cd",
   "metadata": {},
   "source": [
    "##### Cursos"
   ]
  },
  {
   "cell_type": "code",
   "execution_count": 15,
   "id": "25e9d877",
   "metadata": {},
   "outputs": [],
   "source": [
    "# Carregando arquivo json\n",
    "\n",
    "# instanciando variavel com o nome do arquivo\n",
    "jsonFile = 'publicacoes-Cursos-Todos-cursos.json'\n",
    "\n",
    "# Abrindo arquivo JSON\n",
    "f = open(jsonFile, encoding=\"utf-8\")\n",
    "\n",
    "# Instanciando variavel data com o arquivo json\n",
    "data = json.load(f)\n",
    "\n",
    "# Fechando o arquivo\n",
    "f.close()"
   ]
  },
  {
   "cell_type": "code",
   "execution_count": 16,
   "id": "f7f3d099",
   "metadata": {},
   "outputs": [],
   "source": [
    "# Processo para \"ler\" a estrutura json, carregando os títulos do curso e autor em listas e gravar em dataframe\n",
    "\n",
    "# Criando lista vazias\n",
    "courseList = []\n",
    "authorList = []\n",
    "\n",
    "# Define o tipo de produto\n",
    "# 1 = Curso\n",
    "# 2 = Assinatura\n",
    "\n",
    "tipo = 1  # tipo = Curso\n",
    "\n",
    "# loop para carregar os cursos a partir do arquivo json\n",
    "p = 1\n",
    "for i in range(len(data['layers'])):\n",
    "    if (i >= 320 and i <= 556):\n",
    "        if (data['layers'][i]['characters'] != 'Conhecer curso'):\n",
    "            el = data['layers'][i]['characters']\n",
    "            if (p == 1):\n",
    "                courseList.append(el)\n",
    "                title = 'Curso'\n",
    "                p = 0\n",
    "            else:\n",
    "                authorList.append(el)\n",
    "                title = 'Autor(a)'\n",
    "                p = 1\n",
    "\n",
    "            #print(f\"{title}: {el}\")\n",
    "\n",
    "# Carregando as listas em dataframe\n",
    "empiricusProduto = pd.DataFrame(\n",
    "    {'produto': courseList,\n",
    "     'tipo': 'Curso',\n",
    "     'autor': authorList\n",
    "     })"
   ]
  },
  {
   "cell_type": "markdown",
   "id": "b04bc6bb",
   "metadata": {},
   "source": [
    "##### Assinaturas"
   ]
  },
  {
   "cell_type": "code",
   "execution_count": 17,
   "id": "8a0344c6",
   "metadata": {},
   "outputs": [],
   "source": [
    "# Carregando o produto Assinaturas\n",
    "\n",
    "# Criando lista de Assinaturas\n",
    "assinList = [['As melhores Ações da Bolsa', 'Assinatura', 'Fernando Ferrer'],\n",
    "             ['Double Income', 'Assinatura', 'Felipe Miranda'],\n",
    "             ['Empiricus Crypto Legacy', 'Assinatura', 'Vinicius Bazan'],\n",
    "             ['O Investidor Internacional', 'Assinatura', 'João Piccioni'],\n",
    "             ['Os Melhores Fundos de Investimento', 'Assinatura', 'Bruno Mérola'],\n",
    "             ['Palavra do Estrategista', 'Assinatura', 'Felipe Miranda'],\n",
    "             ['Renda Imobiliária', 'Assinatura', 'Caio Araujo'],\n",
    "             ['Super Renda Fixa', 'Assinatura', 'Laís Helena Camargo Costa'],\n",
    "             ['Top 5 Crypto', 'Assinatura', 'Ray Nasser'],\n",
    "             ['Vacas Leiteiras', 'Assinatura', 'Rodolfo Amstalden'],\n",
    "             ['Exponential Coins', 'Assinatura', 'Vinicius Bazan']\n",
    "             ]\n",
    "\n",
    "# Carregando a lista de assinatura para o dataframe\n",
    "empiricusProduto = empiricusProduto.append(pd.DataFrame(assinList,\n",
    "                                                        columns=['produto', 'tipo', 'autor']),\n",
    "                                           ignore_index=True)"
   ]
  },
  {
   "cell_type": "markdown",
   "id": "1eec32a0",
   "metadata": {},
   "source": [
    "##### Dataframe Produtos"
   ]
  },
  {
   "cell_type": "code",
   "execution_count": 18,
   "id": "205e72d6",
   "metadata": {},
   "outputs": [
    {
     "data": {
      "text/html": [
       "<div>\n",
       "<style scoped>\n",
       "    .dataframe tbody tr th:only-of-type {\n",
       "        vertical-align: middle;\n",
       "    }\n",
       "\n",
       "    .dataframe tbody tr th {\n",
       "        vertical-align: top;\n",
       "    }\n",
       "\n",
       "    .dataframe thead th {\n",
       "        text-align: right;\n",
       "    }\n",
       "</style>\n",
       "<table border=\"1\" class=\"dataframe\">\n",
       "  <thead>\n",
       "    <tr style=\"text-align: center;\">\n",
       "      <th></th>\n",
       "      <th>produto</th>\n",
       "      <th>tipo</th>\n",
       "      <th>autor</th>\n",
       "    </tr>\n",
       "  </thead>\n",
       "  <tbody>\n",
       "    <tr>\n",
       "      <th>0</th>\n",
       "      <td>CryptoXpress</td>\n",
       "      <td>Curso</td>\n",
       "      <td>Narriman França</td>\n",
       "    </tr>\n",
       "    <tr>\n",
       "      <th>1</th>\n",
       "      <td>Mentoria Bitcamp</td>\n",
       "      <td>Curso</td>\n",
       "      <td>Ray Nasser</td>\n",
       "    </tr>\n",
       "    <tr>\n",
       "      <th>2</th>\n",
       "      <td>Assistente de Arrematação 4.0</td>\n",
       "      <td>Curso</td>\n",
       "      <td>Lerry Granville</td>\n",
       "    </tr>\n",
       "    <tr>\n",
       "      <th>3</th>\n",
       "      <td>Lucrando com Automóveis 7.0</td>\n",
       "      <td>Curso</td>\n",
       "      <td>Lerry Granville</td>\n",
       "    </tr>\n",
       "    <tr>\n",
       "      <th>4</th>\n",
       "      <td>Seu Primeiro Trade</td>\n",
       "      <td>Curso</td>\n",
       "      <td>Filipe Fradinho</td>\n",
       "    </tr>\n",
       "    <tr>\n",
       "      <th>...</th>\n",
       "      <td>...</td>\n",
       "      <td>...</td>\n",
       "      <td>...</td>\n",
       "    </tr>\n",
       "    <tr>\n",
       "      <th>85</th>\n",
       "      <td>Renda Imobiliária</td>\n",
       "      <td>Assinatura</td>\n",
       "      <td>Caio Araujo</td>\n",
       "    </tr>\n",
       "    <tr>\n",
       "      <th>86</th>\n",
       "      <td>Super Renda Fixa</td>\n",
       "      <td>Assinatura</td>\n",
       "      <td>Laís Helena Camargo Costa</td>\n",
       "    </tr>\n",
       "    <tr>\n",
       "      <th>87</th>\n",
       "      <td>Top 5 Crypto</td>\n",
       "      <td>Assinatura</td>\n",
       "      <td>Ray Nasser</td>\n",
       "    </tr>\n",
       "    <tr>\n",
       "      <th>88</th>\n",
       "      <td>Vacas Leiteiras</td>\n",
       "      <td>Assinatura</td>\n",
       "      <td>Rodolfo Amstalden</td>\n",
       "    </tr>\n",
       "    <tr>\n",
       "      <th>89</th>\n",
       "      <td>Exponential Coins</td>\n",
       "      <td>Assinatura</td>\n",
       "      <td>Vinicius Bazan</td>\n",
       "    </tr>\n",
       "  </tbody>\n",
       "</table>\n",
       "<p>90 rows × 3 columns</p>\n",
       "</div>"
      ],
      "text/plain": [
       "              produto                 tipo              autor           \n",
       "0                    CryptoXpress       Curso            Narriman França\n",
       "1                Mentoria Bitcamp       Curso                 Ray Nasser\n",
       "2   Assistente de Arrematação 4.0       Curso            Lerry Granville\n",
       "3     Lucrando com Automóveis 7.0       Curso            Lerry Granville\n",
       "4              Seu Primeiro Trade       Curso            Filipe Fradinho\n",
       "..                            ...         ...                        ...\n",
       "85              Renda Imobiliária  Assinatura                Caio Araujo\n",
       "86               Super Renda Fixa  Assinatura  Laís Helena Camargo Costa\n",
       "87                   Top 5 Crypto  Assinatura                 Ray Nasser\n",
       "88                Vacas Leiteiras  Assinatura          Rodolfo Amstalden\n",
       "89              Exponential Coins  Assinatura             Vinicius Bazan\n",
       "\n",
       "[90 rows x 3 columns]"
      ]
     },
     "metadata": {},
     "output_type": "display_data"
    }
   ],
   "source": [
    "# Exibição do dataframe de Produtos com os Cursos e Assinaturas\n",
    "display(empiricusProduto)\n",
    "\n",
    "# Gerando uma lista de produtos\n",
    "listProduto = empiricusProduto[\"produto\"].values.tolist()"
   ]
  },
  {
   "cell_type": "code",
   "execution_count": null,
   "id": "24268d53",
   "metadata": {},
   "outputs": [],
   "source": []
  },
  {
   "cell_type": "markdown",
   "id": "2bbb48e7",
   "metadata": {},
   "source": [
    "#### Lista Formas de Pagamentos\n",
    "\n",
    "Para geração das formas de pagamentos criei uma lista definida conforme a cobrança oferecida pela Empiricus.\n",
    "\n",
    "0. Cartão de Crédito\n",
    "1. Boleto \n",
    "2. Transferência\n",
    "3. Carteiras Digitais\n"
   ]
  },
  {
   "cell_type": "code",
   "execution_count": 19,
   "id": "83126753",
   "metadata": {},
   "outputs": [],
   "source": [
    "# Gerando dataframe utilizando dicionário\n",
    "\n",
    "# Criando dicionário com as formas de pagamento\n",
    "listFormaPgto = ['Cartão de Crédito', 'Boleto',\n",
    "                 'Transferência', 'Carteiras Digitais']"
   ]
  },
  {
   "cell_type": "code",
   "execution_count": 20,
   "id": "4b7120cc",
   "metadata": {},
   "outputs": [
    {
     "data": {
      "text/plain": [
       "['Cartão de Crédito', 'Boleto', 'Transferência', 'Carteiras Digitais']"
      ]
     },
     "execution_count": 20,
     "metadata": {},
     "output_type": "execute_result"
    }
   ],
   "source": [
    "# Exibição do dataframe de Formas de pagamentos\n",
    "listFormaPgto"
   ]
  },
  {
   "cell_type": "code",
   "execution_count": null,
   "id": "68539587",
   "metadata": {},
   "outputs": [],
   "source": []
  },
  {
   "cell_type": "markdown",
   "id": "2bc771ff",
   "metadata": {},
   "source": [
    "#### Dataframe Assinturas e Cursos Ativos e Cancelados\n",
    "\n",
    "Para a criação de produtos ativos e cancelados pelo usuário criei a função <b>fn_geraProdutosAdquiridos</b> para geração de dataframe indicando as assinaturas ativas e cancelados com as suas respectivas formas de pagamento.\n",
    "\n",
    "Os comandos abaixo representam a simulação da função para apresentação didática."
   ]
  },
  {
   "cell_type": "code",
   "execution_count": 21,
   "id": "e57d5a54",
   "metadata": {},
   "outputs": [],
   "source": [
    "# define a quantidade máxima de produtos\n",
    "qtMaximaProdutos = 15\n",
    "\n",
    "# define randomicamente a quantidade de produtos que um usuário pode possuir\n",
    "qtdItem = random.randint(1, qtMaximaProdutos)\n",
    "\n",
    "# Gera a lista de produtos do usuário\n",
    "listUsuarioProdutos = fn_randomList(listProduto, qtdItem)\n",
    "\n",
    "# Redefindo a lista apenas com produtos únicos\n",
    "listUsuarioProdutos = list(set(listUsuarioProdutos))\n",
    "\n",
    "# Atualiza a quantidade real de itens da lista\n",
    "qtdItem = len(listUsuarioProdutos)\n",
    "\n",
    "# Gera a lista de forma de pagamentos dos produtos\n",
    "listUsuarioFormaPgtos = fn_randomList(listFormaPgto, qtdItem)\n",
    "\n",
    "# Gera a lista de produtos ativos e cancelados\n",
    "listProdutosAtivos = random.choices([1, 0], weights=[60, 40], k=qtdItem)\n",
    "\n",
    "# Gera a lista de Notas atribuidas ao produto\n",
    "#listProdutosNota = [random.randint(0, 5) for _ in range(qtdItem)]"
   ]
  },
  {
   "cell_type": "code",
   "execution_count": 22,
   "id": "0c41ea55",
   "metadata": {},
   "outputs": [],
   "source": [
    "# Carregando as listas em dataframe\n",
    "usuarioProdutos = pd.DataFrame(\n",
    "    {'produto': listUsuarioProdutos,\n",
    "     'pagamento': listUsuarioFormaPgtos,\n",
    "     'ativo': listProdutosAtivos\n",
    "     })"
   ]
  },
  {
   "cell_type": "code",
   "execution_count": 23,
   "id": "d5779333",
   "metadata": {},
   "outputs": [
    {
     "data": {
      "text/html": [
       "<div>\n",
       "<style scoped>\n",
       "    .dataframe tbody tr th:only-of-type {\n",
       "        vertical-align: middle;\n",
       "    }\n",
       "\n",
       "    .dataframe tbody tr th {\n",
       "        vertical-align: top;\n",
       "    }\n",
       "\n",
       "    .dataframe thead th {\n",
       "        text-align: right;\n",
       "    }\n",
       "</style>\n",
       "<table border=\"1\" class=\"dataframe\">\n",
       "  <thead>\n",
       "    <tr style=\"text-align: center;\">\n",
       "      <th></th>\n",
       "      <th>produto</th>\n",
       "      <th>pagamento</th>\n",
       "      <th>ativo</th>\n",
       "    </tr>\n",
       "  </thead>\n",
       "  <tbody>\n",
       "    <tr>\n",
       "      <th>0</th>\n",
       "      <td>Copy Camp Platinum - Turma 2</td>\n",
       "      <td>Transferência</td>\n",
       "      <td>1</td>\n",
       "    </tr>\n",
       "    <tr>\n",
       "      <th>1</th>\n",
       "      <td>Investidor Definitivo</td>\n",
       "      <td>Cartão de Crédito</td>\n",
       "      <td>0</td>\n",
       "    </tr>\n",
       "    <tr>\n",
       "      <th>2</th>\n",
       "      <td>Microcap Hunter</td>\n",
       "      <td>Boleto</td>\n",
       "      <td>1</td>\n",
       "    </tr>\n",
       "    <tr>\n",
       "      <th>3</th>\n",
       "      <td>Beat The Dealer</td>\n",
       "      <td>Carteiras Digitais</td>\n",
       "      <td>1</td>\n",
       "    </tr>\n",
       "    <tr>\n",
       "      <th>4</th>\n",
       "      <td>Portfólio Antifrágil</td>\n",
       "      <td>Carteiras Digitais</td>\n",
       "      <td>1</td>\n",
       "    </tr>\n",
       "  </tbody>\n",
       "</table>\n",
       "</div>"
      ],
      "text/plain": [
       "             produto                 pagamento       ativo\n",
       "0  Copy Camp Platinum - Turma 2       Transferência    1  \n",
       "1         Investidor Definitivo   Cartão de Crédito    0  \n",
       "2               Microcap Hunter              Boleto    1  \n",
       "3               Beat The Dealer  Carteiras Digitais    1  \n",
       "4          Portfólio Antifrágil  Carteiras Digitais    1  "
      ]
     },
     "execution_count": 23,
     "metadata": {},
     "output_type": "execute_result"
    }
   ],
   "source": [
    "usuarioProdutos"
   ]
  },
  {
   "cell_type": "code",
   "execution_count": null,
   "id": "148bd8d0",
   "metadata": {},
   "outputs": [],
   "source": []
  },
  {
   "cell_type": "markdown",
   "id": "0425b116",
   "metadata": {},
   "source": [
    "### Cadastro de usuários ficticios"
   ]
  },
  {
   "cell_type": "markdown",
   "id": "51e5549e",
   "metadata": {},
   "source": [
    "\n",
    "Para a criação de usuários ficticios criei a função <b>fn_geraCadastroUsuario</b> para geração de dataframe conforme informações do usuário.\n",
    "\n",
    "Temos as seguintes informações dos usuários (fictícias):</br>\n",
    "\n",
    "•\tCPF</br>\n",
    "•\tData de Nascimento</br>\n",
    "•\tCEP</br>\n",
    "•\tAssinaturas e Cursos ativos</br>\n",
    "•\tAssinaturas e Cursos cancelados</br>\n",
    "•\tFormas de Pagamento usadas nas compras anteriores</br>\n",
    "\n",
    "Os comandos abaixo representam a simulação da função para apresentação didática.\n"
   ]
  },
  {
   "cell_type": "markdown",
   "id": "117f15e9",
   "metadata": {},
   "source": [
    "#### Dataframe de Produtos (Assinaturas e Cursos) do usuário"
   ]
  },
  {
   "cell_type": "code",
   "execution_count": 24,
   "id": "f11915bf",
   "metadata": {},
   "outputs": [
    {
     "data": {
      "text/html": [
       "<div>\n",
       "<style scoped>\n",
       "    .dataframe tbody tr th:only-of-type {\n",
       "        vertical-align: middle;\n",
       "    }\n",
       "\n",
       "    .dataframe tbody tr th {\n",
       "        vertical-align: top;\n",
       "    }\n",
       "\n",
       "    .dataframe thead th {\n",
       "        text-align: right;\n",
       "    }\n",
       "</style>\n",
       "<table border=\"1\" class=\"dataframe\">\n",
       "  <thead>\n",
       "    <tr style=\"text-align: center;\">\n",
       "      <th></th>\n",
       "      <th>cpf</th>\n",
       "      <th>dataNascimento</th>\n",
       "      <th>cep</th>\n",
       "      <th>produto</th>\n",
       "      <th>ativo</th>\n",
       "      <th>pagamento</th>\n",
       "    </tr>\n",
       "  </thead>\n",
       "  <tbody>\n",
       "    <tr>\n",
       "      <th>0</th>\n",
       "      <td>27137380166</td>\n",
       "      <td>2012-07-30</td>\n",
       "      <td>4265060</td>\n",
       "      <td>Renda Imobiliária</td>\n",
       "      <td>1</td>\n",
       "      <td>Boleto</td>\n",
       "    </tr>\n",
       "    <tr>\n",
       "      <th>1</th>\n",
       "      <td>27137380166</td>\n",
       "      <td>2012-07-30</td>\n",
       "      <td>4265060</td>\n",
       "      <td>Seu Primeiro Trade</td>\n",
       "      <td>0</td>\n",
       "      <td>Transferência</td>\n",
       "    </tr>\n",
       "    <tr>\n",
       "      <th>2</th>\n",
       "      <td>27137380166</td>\n",
       "      <td>2012-07-30</td>\n",
       "      <td>4265060</td>\n",
       "      <td>Trader de Fim de Semana</td>\n",
       "      <td>0</td>\n",
       "      <td>Boleto</td>\n",
       "    </tr>\n",
       "    <tr>\n",
       "      <th>3</th>\n",
       "      <td>27137380166</td>\n",
       "      <td>2012-07-30</td>\n",
       "      <td>4265060</td>\n",
       "      <td>Quarentena Milionária</td>\n",
       "      <td>1</td>\n",
       "      <td>Cartão de Crédito</td>\n",
       "    </tr>\n",
       "  </tbody>\n",
       "</table>\n",
       "</div>"
      ],
      "text/plain": [
       "      cpf      dataNascimento    cep           produto           ativo     pagamento     \n",
       "0  27137380166   2012-07-30    4265060        Renda Imobiliária    1               Boleto\n",
       "1  27137380166   2012-07-30    4265060       Seu Primeiro Trade    0        Transferência\n",
       "2  27137380166   2012-07-30    4265060  Trader de Fim de Semana    0               Boleto\n",
       "3  27137380166   2012-07-30    4265060    Quarentena Milionária    1    Cartão de Crédito"
      ]
     },
     "execution_count": 24,
     "metadata": {},
     "output_type": "execute_result"
    }
   ],
   "source": [
    "# Gera dataframe de produtos adquiridos pelo usuário\n",
    "usuarioProdutos = fn_geraProdutosAdquiridos(qtMaximaProdutos)\n",
    "\n",
    "# Gera cpf e adiciona coluna ao dataframe\n",
    "usuarioProdutos.insert(0, 'cpf', fn_geraCPF())\n",
    "\n",
    "# Gera data de nascimento e adiciona coluna ao dataframe\n",
    "usuarioProdutos.insert(1, 'dataNascimento', faker.date_of_birth())\n",
    "\n",
    "# Gera cep e adiciona coluna ao dataframe\n",
    "usuarioProdutos.insert(2, 'cep', faker.words(\n",
    "    nb=1, ext_word_list=listCep, unique=True)[0])\n",
    "\n",
    "# Exibe o cadastro de usuário\n",
    "usuarioProdutos"
   ]
  },
  {
   "cell_type": "markdown",
   "id": "58d98976",
   "metadata": {},
   "source": [
    "#### Dataframe de Usuários ficticios\n",
    "\n",
    "Com base nas informações do investidor brasileiro obtidos pelo site da \n",
    "<a href=\"https://www.anbima.com.br/pt_br/especial/raio-x-do-investidor-2021.htm#\">Ambima (Raio-X Investidor)</a>, os investidores estão separados com a seguinte proporção:\n",
    "\n",
    "48% - Sudeste</br>\n",
    "17% - Nordeste</br>\n",
    "15% - Sul</br>\n",
    "14% - Centro-Oeste</br>\n",
    "06% - Norte</br>\n",
    "\n",
    "Regiões do Brasil</br>\n",
    "<b>Norte:</b> Acre, Amazonas, Amapá, Pará, Rondônia, Roraima e Tocantins.</br>\n",
    "<b>Nordeste:</b> Alagoas, Bahia, Ceará, Maranhão, Piauí, Pernambuco, Paraíba, Rio Grande do Norte e Sergipe.</br>\n",
    "<b>Centro-Oeste:</b> Goiás, Mato Grosso, Mato Grosso do Sul e o Distrito Federal.</br>\n",
    "<b>Sul:</b> Paraná, Rio Grande do Sul e Santa Catarina.</br>\n",
    "<b>Sudeste:</b> Espírito Santo, Minas Gerais, Rio de Janeiro e São Paulo</br>\n",
    "\n",
    "Tempo de geração do Cadastro de usuários:</br>\n",
    "10_000 = 20 seg</br>\n",
    "20_000 = 46 seg</br>\n",
    "30_000 = 83 seg</br>\n",
    "40_000 = 128 seg</br>\n"
   ]
  },
  {
   "cell_type": "code",
   "execution_count": 25,
   "id": "9f832f41",
   "metadata": {},
   "outputs": [
    {
     "name": "stdout",
     "output_type": "stream",
     "text": [
      "Wall time: 2min\n"
     ]
    }
   ],
   "source": [
    "%%time\n",
    "\n",
    "# Gera o cadastro de usuários ficticios\n",
    "qtUsuarios = 40_000\n",
    "\n",
    "cadUsuSudestes = fn_geraCadastroUsuarios(listCepSudeste, int(qtUsuarios * 0.48))\n",
    "cadUsuNordeste = fn_geraCadastroUsuarios(listCepNordeste, int(qtUsuarios * 0.17))\n",
    "cadUsuSul = fn_geraCadastroUsuarios(listCepSul, int(qtUsuarios * 0.15))\n",
    "cadUsuCentroOeste = fn_geraCadastroUsuarios(listCepCentroOeste, int(qtUsuarios * 0.14))\n",
    "cadUsuNorte = fn_geraCadastroUsuarios(listCepNorte, int(qtUsuarios * 0.06))\n",
    "\n",
    "cadatroUsuarios = pd.concat([cadUsuSudestes, cadUsuNordeste, cadUsuSul, cadUsuCentroOeste, cadUsuNorte], ignore_index=True)"
   ]
  },
  {
   "cell_type": "markdown",
   "id": "54224ff6",
   "metadata": {},
   "source": [
    "### Análise de consistência dos dados"
   ]
  },
  {
   "cell_type": "markdown",
   "id": "7fac33b1",
   "metadata": {},
   "source": [
    "#### Usuários"
   ]
  },
  {
   "cell_type": "code",
   "execution_count": 26,
   "id": "52f4d5e9",
   "metadata": {},
   "outputs": [
    {
     "name": "stdout",
     "output_type": "stream",
     "text": [
      "Quantidade de linhas...........: 303967\n",
      "Quantidade de linhas duplicadas: 0\n",
      "Quantidade de colunas..........: 6\n"
     ]
    }
   ],
   "source": [
    "# Quantidade de linhas e colunas\n",
    "qtl, qtc = cadatroUsuarios.shape\n",
    "\n",
    "# Quantidade de linhas duplicadas\n",
    "qtd, _ = cadatroUsuarios[cadatroUsuarios.duplicated(keep=False)].shape\n",
    "\n",
    "print(f'Quantidade de linhas...........: {qtl}')\n",
    "print(f'Quantidade de linhas duplicadas: {qtd}')\n",
    "print(f'Quantidade de colunas..........: {qtc}')"
   ]
  },
  {
   "cell_type": "code",
   "execution_count": 27,
   "id": "83794d5c",
   "metadata": {},
   "outputs": [
    {
     "name": "stdout",
     "output_type": "stream",
     "text": [
      "<class 'pandas.core.frame.DataFrame'>\n",
      "RangeIndex: 303967 entries, 0 to 303966\n",
      "Data columns (total 6 columns):\n",
      " #   Column          Non-Null Count   Dtype \n",
      "---  ------          --------------   ----- \n",
      " 0   cpf             303967 non-null  object\n",
      " 1   dataNascimento  303967 non-null  object\n",
      " 2   cep             303967 non-null  int64 \n",
      " 3   produto         303967 non-null  object\n",
      " 4   ativo           303967 non-null  int64 \n",
      " 5   pagamento       303967 non-null  object\n",
      "dtypes: int64(2), object(4)\n",
      "memory usage: 13.9+ MB\n"
     ]
    }
   ],
   "source": [
    "# Informações do dataframe\n",
    "cadatroUsuarios.info()"
   ]
  },
  {
   "cell_type": "code",
   "execution_count": 28,
   "id": "609d1a4f",
   "metadata": {},
   "outputs": [
    {
     "name": "stdout",
     "output_type": "stream",
     "text": [
      "O dataframe tem 6 colunas e 303967 linhas.\n",
      "Existem 0 colunas que têm valores faltantes.\n"
     ]
    },
    {
     "data": {
      "text/html": [
       "<div>\n",
       "<style scoped>\n",
       "    .dataframe tbody tr th:only-of-type {\n",
       "        vertical-align: middle;\n",
       "    }\n",
       "\n",
       "    .dataframe tbody tr th {\n",
       "        vertical-align: top;\n",
       "    }\n",
       "\n",
       "    .dataframe thead th {\n",
       "        text-align: right;\n",
       "    }\n",
       "</style>\n",
       "<table border=\"1\" class=\"dataframe\">\n",
       "  <thead>\n",
       "    <tr style=\"text-align: center;\">\n",
       "      <th></th>\n",
       "      <th>Valores faltantes</th>\n",
       "      <th>% de Valores Totais</th>\n",
       "      <th>Data Type</th>\n",
       "    </tr>\n",
       "  </thead>\n",
       "  <tbody>\n",
       "  </tbody>\n",
       "</table>\n",
       "</div>"
      ],
      "text/plain": [
       "Empty DataFrame\n",
       "Columns: [Valores faltantes, % de Valores Totais, Data Type]\n",
       "Index: []"
      ]
     },
     "execution_count": 28,
     "metadata": {},
     "output_type": "execute_result"
    }
   ],
   "source": [
    "# Avaliando os valores nulos do dataframe\n",
    "missing_values_table(cadatroUsuarios)"
   ]
  },
  {
   "cell_type": "code",
   "execution_count": 29,
   "id": "da4070bd",
   "metadata": {},
   "outputs": [
    {
     "data": {
      "text/html": [
       "<div>\n",
       "<style scoped>\n",
       "    .dataframe tbody tr th:only-of-type {\n",
       "        vertical-align: middle;\n",
       "    }\n",
       "\n",
       "    .dataframe tbody tr th {\n",
       "        vertical-align: top;\n",
       "    }\n",
       "\n",
       "    .dataframe thead th {\n",
       "        text-align: right;\n",
       "    }\n",
       "</style>\n",
       "<table border=\"1\" class=\"dataframe\">\n",
       "  <thead>\n",
       "    <tr style=\"text-align: center;\">\n",
       "      <th></th>\n",
       "      <th>cpf</th>\n",
       "      <th>dataNascimento</th>\n",
       "      <th>cep</th>\n",
       "      <th>produto</th>\n",
       "      <th>ativo</th>\n",
       "      <th>pagamento</th>\n",
       "    </tr>\n",
       "  </thead>\n",
       "  <tbody>\n",
       "    <tr>\n",
       "      <th>0</th>\n",
       "      <td>38005904843</td>\n",
       "      <td>2005-03-01</td>\n",
       "      <td>17505060</td>\n",
       "      <td>Crypto Staking</td>\n",
       "      <td>1</td>\n",
       "      <td>Carteiras Digitais</td>\n",
       "    </tr>\n",
       "    <tr>\n",
       "      <th>1</th>\n",
       "      <td>38005904843</td>\n",
       "      <td>2005-03-01</td>\n",
       "      <td>17505060</td>\n",
       "      <td>Lucrando com Automóveis 2.0</td>\n",
       "      <td>1</td>\n",
       "      <td>Boleto</td>\n",
       "    </tr>\n",
       "    <tr>\n",
       "      <th>2</th>\n",
       "      <td>38005904843</td>\n",
       "      <td>2005-03-01</td>\n",
       "      <td>17505060</td>\n",
       "      <td>Investidor Essencial com Felipe Miranda</td>\n",
       "      <td>1</td>\n",
       "      <td>Transferência</td>\n",
       "    </tr>\n",
       "    <tr>\n",
       "      <th>3</th>\n",
       "      <td>38005904843</td>\n",
       "      <td>2005-03-01</td>\n",
       "      <td>17505060</td>\n",
       "      <td>Vacas Leiteiras</td>\n",
       "      <td>1</td>\n",
       "      <td>Transferência</td>\n",
       "    </tr>\n",
       "    <tr>\n",
       "      <th>4</th>\n",
       "      <td>38005904843</td>\n",
       "      <td>2005-03-01</td>\n",
       "      <td>17505060</td>\n",
       "      <td>Os Melhores Fundos de Investimento</td>\n",
       "      <td>1</td>\n",
       "      <td>Boleto</td>\n",
       "    </tr>\n",
       "  </tbody>\n",
       "</table>\n",
       "</div>"
      ],
      "text/plain": [
       "      cpf      dataNascimento     cep                   produto                   ativo      pagamento     \n",
       "0  38005904843   2005-03-01    17505060                           Crypto Staking    1    Carteiras Digitais\n",
       "1  38005904843   2005-03-01    17505060              Lucrando com Automóveis 2.0    1                Boleto\n",
       "2  38005904843   2005-03-01    17505060  Investidor Essencial com Felipe Miranda    1         Transferência\n",
       "3  38005904843   2005-03-01    17505060                          Vacas Leiteiras    1         Transferência\n",
       "4  38005904843   2005-03-01    17505060       Os Melhores Fundos de Investimento    1                Boleto"
      ]
     },
     "execution_count": 29,
     "metadata": {},
     "output_type": "execute_result"
    }
   ],
   "source": [
    "# Exibição das primeiras linhas do dataframe\n",
    "cadatroUsuarios.head()"
   ]
  },
  {
   "cell_type": "markdown",
   "id": "496e346d",
   "metadata": {},
   "source": [
    "#### Cadastro de Produtos (Assinaturas e Cursos)"
   ]
  },
  {
   "cell_type": "code",
   "execution_count": 30,
   "id": "9f3f6fdc",
   "metadata": {},
   "outputs": [
    {
     "name": "stdout",
     "output_type": "stream",
     "text": [
      "Quantidade de linhas...........: 90\n",
      "Quantidade de linhas duplicadas: 0\n",
      "Quantidade de colunas..........: 3\n"
     ]
    }
   ],
   "source": [
    "# Quantidade de linhas e colunas\n",
    "qtl, qtc = empiricusProduto.shape\n",
    "\n",
    "# Quantidade de linhas duplicadas\n",
    "qtd, _ = empiricusProduto[empiricusProduto.duplicated(keep=False)].shape\n",
    "\n",
    "print(f'Quantidade de linhas...........: {qtl}')\n",
    "print(f'Quantidade de linhas duplicadas: {qtd}')\n",
    "print(f'Quantidade de colunas..........: {qtc}')"
   ]
  },
  {
   "cell_type": "code",
   "execution_count": 31,
   "id": "2a6604d3",
   "metadata": {},
   "outputs": [
    {
     "name": "stdout",
     "output_type": "stream",
     "text": [
      "<class 'pandas.core.frame.DataFrame'>\n",
      "RangeIndex: 90 entries, 0 to 89\n",
      "Data columns (total 3 columns):\n",
      " #   Column   Non-Null Count  Dtype \n",
      "---  ------   --------------  ----- \n",
      " 0   produto  90 non-null     object\n",
      " 1   tipo     90 non-null     object\n",
      " 2   autor    90 non-null     object\n",
      "dtypes: object(3)\n",
      "memory usage: 2.2+ KB\n"
     ]
    }
   ],
   "source": [
    "# Informações do dataframe\n",
    "empiricusProduto.info()"
   ]
  },
  {
   "cell_type": "code",
   "execution_count": 32,
   "id": "d4c24110",
   "metadata": {},
   "outputs": [
    {
     "name": "stdout",
     "output_type": "stream",
     "text": [
      "O dataframe tem 3 colunas e 90 linhas.\n",
      "Existem 0 colunas que têm valores faltantes.\n"
     ]
    },
    {
     "data": {
      "text/html": [
       "<div>\n",
       "<style scoped>\n",
       "    .dataframe tbody tr th:only-of-type {\n",
       "        vertical-align: middle;\n",
       "    }\n",
       "\n",
       "    .dataframe tbody tr th {\n",
       "        vertical-align: top;\n",
       "    }\n",
       "\n",
       "    .dataframe thead th {\n",
       "        text-align: right;\n",
       "    }\n",
       "</style>\n",
       "<table border=\"1\" class=\"dataframe\">\n",
       "  <thead>\n",
       "    <tr style=\"text-align: center;\">\n",
       "      <th></th>\n",
       "      <th>Valores faltantes</th>\n",
       "      <th>% de Valores Totais</th>\n",
       "      <th>Data Type</th>\n",
       "    </tr>\n",
       "  </thead>\n",
       "  <tbody>\n",
       "  </tbody>\n",
       "</table>\n",
       "</div>"
      ],
      "text/plain": [
       "Empty DataFrame\n",
       "Columns: [Valores faltantes, % de Valores Totais, Data Type]\n",
       "Index: []"
      ]
     },
     "execution_count": 32,
     "metadata": {},
     "output_type": "execute_result"
    }
   ],
   "source": [
    "# Avaliando os valores nulos do dataframe\n",
    "missing_values_table(empiricusProduto)"
   ]
  },
  {
   "cell_type": "code",
   "execution_count": 33,
   "id": "dce4c192",
   "metadata": {},
   "outputs": [
    {
     "data": {
      "text/html": [
       "<div>\n",
       "<style scoped>\n",
       "    .dataframe tbody tr th:only-of-type {\n",
       "        vertical-align: middle;\n",
       "    }\n",
       "\n",
       "    .dataframe tbody tr th {\n",
       "        vertical-align: top;\n",
       "    }\n",
       "\n",
       "    .dataframe thead th {\n",
       "        text-align: right;\n",
       "    }\n",
       "</style>\n",
       "<table border=\"1\" class=\"dataframe\">\n",
       "  <thead>\n",
       "    <tr style=\"text-align: center;\">\n",
       "      <th></th>\n",
       "      <th>produto</th>\n",
       "      <th>tipo</th>\n",
       "      <th>autor</th>\n",
       "    </tr>\n",
       "  </thead>\n",
       "  <tbody>\n",
       "    <tr>\n",
       "      <th>0</th>\n",
       "      <td>CryptoXpress</td>\n",
       "      <td>Curso</td>\n",
       "      <td>Narriman França</td>\n",
       "    </tr>\n",
       "    <tr>\n",
       "      <th>1</th>\n",
       "      <td>Mentoria Bitcamp</td>\n",
       "      <td>Curso</td>\n",
       "      <td>Ray Nasser</td>\n",
       "    </tr>\n",
       "    <tr>\n",
       "      <th>2</th>\n",
       "      <td>Assistente de Arrematação 4.0</td>\n",
       "      <td>Curso</td>\n",
       "      <td>Lerry Granville</td>\n",
       "    </tr>\n",
       "    <tr>\n",
       "      <th>3</th>\n",
       "      <td>Lucrando com Automóveis 7.0</td>\n",
       "      <td>Curso</td>\n",
       "      <td>Lerry Granville</td>\n",
       "    </tr>\n",
       "    <tr>\n",
       "      <th>4</th>\n",
       "      <td>Seu Primeiro Trade</td>\n",
       "      <td>Curso</td>\n",
       "      <td>Filipe Fradinho</td>\n",
       "    </tr>\n",
       "  </tbody>\n",
       "</table>\n",
       "</div>"
      ],
      "text/plain": [
       "             produto              tipo       autor      \n",
       "0                   CryptoXpress  Curso  Narriman França\n",
       "1               Mentoria Bitcamp  Curso       Ray Nasser\n",
       "2  Assistente de Arrematação 4.0  Curso  Lerry Granville\n",
       "3    Lucrando com Automóveis 7.0  Curso  Lerry Granville\n",
       "4             Seu Primeiro Trade  Curso  Filipe Fradinho"
      ]
     },
     "execution_count": 33,
     "metadata": {},
     "output_type": "execute_result"
    }
   ],
   "source": [
    "# Exibição das primeiras linhas do dataframe\n",
    "empiricusProduto.head()"
   ]
  },
  {
   "cell_type": "code",
   "execution_count": null,
   "id": "3cddc56f",
   "metadata": {},
   "outputs": [],
   "source": []
  },
  {
   "cell_type": "markdown",
   "id": "67a65d78",
   "metadata": {},
   "source": [
    "### Pré-processamento e transformações"
   ]
  },
  {
   "cell_type": "markdown",
   "id": "0f365a26",
   "metadata": {},
   "source": [
    "#### Popularidade do produto (Assinaturas e Cursos)\n",
    "\n",
    "Para o problema de aprendizagem da máquina, precisamos de um modelo ou método de base para utilizar como referência, seja boa ou não.</br>\n",
    "Para o sistema de recomendação, vou criar uma simples linha de pontuação base com recomendação do produto mais populares.</br>\n",
    "Para definir a popularidade do produto, utilizei uma métrica chamada sistema de classificação ponderada que é utilizada para pontuar a classificação de cada produto.</br>\n"
   ]
  },
  {
   "cell_type": "markdown",
   "id": "0d1cab45",
   "metadata": {},
   "source": [
    "##### Definição da variável Categoria \n",
    "\n",
    "A inclusão da variável Categoria  ao produto facilitará no agrupamento de assinaturas e cursos, definindo uma característica ao produto.</br>\n",
    "Por exemplo, se um usuário gostou de um produto, então este algoritmo recomendará produtos que se enquadram na mesmo Categoria.</br>\n",
    "Assim pretendo criar uma melhor forma de recomendação, introduzindo outras características do conteúdo no algoritmo.</br>\n"
   ]
  },
  {
   "cell_type": "code",
   "execution_count": 34,
   "id": "2f96d3fc",
   "metadata": {},
   "outputs": [
    {
     "data": {
      "text/html": [
       "<div>\n",
       "<style scoped>\n",
       "    .dataframe tbody tr th:only-of-type {\n",
       "        vertical-align: middle;\n",
       "    }\n",
       "\n",
       "    .dataframe tbody tr th {\n",
       "        vertical-align: top;\n",
       "    }\n",
       "\n",
       "    .dataframe thead th {\n",
       "        text-align: right;\n",
       "    }\n",
       "</style>\n",
       "<table border=\"1\" class=\"dataframe\">\n",
       "  <thead>\n",
       "    <tr style=\"text-align: center;\">\n",
       "      <th></th>\n",
       "      <th>produto</th>\n",
       "      <th>tipo</th>\n",
       "      <th>autor</th>\n",
       "      <th>categoria</th>\n",
       "    </tr>\n",
       "  </thead>\n",
       "  <tbody>\n",
       "    <tr>\n",
       "      <th>0</th>\n",
       "      <td>CryptoXpress</td>\n",
       "      <td>Curso</td>\n",
       "      <td>Narriman França</td>\n",
       "      <td>Cripto</td>\n",
       "    </tr>\n",
       "    <tr>\n",
       "      <th>1</th>\n",
       "      <td>Mentoria Bitcamp</td>\n",
       "      <td>Curso</td>\n",
       "      <td>Ray Nasser</td>\n",
       "      <td>Renda Extra</td>\n",
       "    </tr>\n",
       "    <tr>\n",
       "      <th>2</th>\n",
       "      <td>Assistente de Arrematação 4.0</td>\n",
       "      <td>Curso</td>\n",
       "      <td>Lerry Granville</td>\n",
       "      <td>Renda Extra</td>\n",
       "    </tr>\n",
       "    <tr>\n",
       "      <th>3</th>\n",
       "      <td>Lucrando com Automóveis 7.0</td>\n",
       "      <td>Curso</td>\n",
       "      <td>Lerry Granville</td>\n",
       "      <td>Renda Extra</td>\n",
       "    </tr>\n",
       "    <tr>\n",
       "      <th>4</th>\n",
       "      <td>Seu Primeiro Trade</td>\n",
       "      <td>Curso</td>\n",
       "      <td>Filipe Fradinho</td>\n",
       "      <td>Bolsa de Valores</td>\n",
       "    </tr>\n",
       "    <tr>\n",
       "      <th>5</th>\n",
       "      <td>Leilões de Alta Lucratividade 7.0</td>\n",
       "      <td>Curso</td>\n",
       "      <td>Lerry Granville</td>\n",
       "      <td>Renda Extra</td>\n",
       "    </tr>\n",
       "    <tr>\n",
       "      <th>6</th>\n",
       "      <td>Mentoria Renda Semanal em Dólar</td>\n",
       "      <td>Curso</td>\n",
       "      <td>Leo Dutra</td>\n",
       "      <td>Renda Extra</td>\n",
       "    </tr>\n",
       "    <tr>\n",
       "      <th>7</th>\n",
       "      <td>Empiricus Crypto Academy</td>\n",
       "      <td>Curso</td>\n",
       "      <td>Vinicius Bazan</td>\n",
       "      <td>Cripto</td>\n",
       "    </tr>\n",
       "    <tr>\n",
       "      <th>8</th>\n",
       "      <td>1 Milhão Rápido - Turma 4</td>\n",
       "      <td>Curso</td>\n",
       "      <td>Felipe Miranda</td>\n",
       "      <td>Bolsa de Valores</td>\n",
       "    </tr>\n",
       "    <tr>\n",
       "      <th>9</th>\n",
       "      <td>Dux Gamers</td>\n",
       "      <td>Curso</td>\n",
       "      <td>Paulo Camargo</td>\n",
       "      <td>Renda Extra</td>\n",
       "    </tr>\n",
       "  </tbody>\n",
       "</table>\n",
       "</div>"
      ],
      "text/plain": [
       "               produto                tipo       autor           categoria    \n",
       "0                       CryptoXpress  Curso  Narriman França            Cripto\n",
       "1                   Mentoria Bitcamp  Curso       Ray Nasser       Renda Extra\n",
       "2      Assistente de Arrematação 4.0  Curso  Lerry Granville       Renda Extra\n",
       "3        Lucrando com Automóveis 7.0  Curso  Lerry Granville       Renda Extra\n",
       "4                 Seu Primeiro Trade  Curso  Filipe Fradinho  Bolsa de Valores\n",
       "5  Leilões de Alta Lucratividade 7.0  Curso  Lerry Granville       Renda Extra\n",
       "6    Mentoria Renda Semanal em Dólar  Curso        Leo Dutra       Renda Extra\n",
       "7           Empiricus Crypto Academy  Curso   Vinicius Bazan            Cripto\n",
       "8          1 Milhão Rápido - Turma 4  Curso   Felipe Miranda  Bolsa de Valores\n",
       "9                         Dux Gamers  Curso    Paulo Camargo       Renda Extra"
      ]
     },
     "execution_count": 34,
     "metadata": {},
     "output_type": "execute_result"
    }
   ],
   "source": [
    "# Criação de um novo DataFrame para definir o genero do produto\n",
    "empiricusProdutoCategoria = empiricusProduto\n",
    "\n",
    "# Adicionando coluna genero por produto com o valor 'Renda Extra'\n",
    "empiricusProdutoCategoria['categoria'] = 'Renda Extra'\n",
    "\n",
    "# Definindo o genero dos produtos\n",
    "empiricusProdutoCategoria.loc[empiricusProdutoCategoria['produto'].str.contains(\n",
    "    'Leilões|Lucrando|Copy|Microcap|Mentoria Renda|Game'), ['categoria']] = 'Renda Extra'\n",
    "\n",
    "empiricusProdutoCategoria.loc[empiricusProdutoCategoria['produto'].str.contains(\n",
    "    'Investidor|Portfólio|Day Trade'), ['categoria']] = 'Ações e Futuros'\n",
    "\n",
    "empiricusProdutoCategoria.loc[empiricusProdutoCategoria['produto'].str.contains(\n",
    "    'Milionária|Jornada|Milhão'), ['categoria']] = 'Bolsa de Valores'\n",
    "\n",
    "empiricusProdutoCategoria.loc[empiricusProdutoCategoria['produto'].str.contains(\n",
    "    'Crypto'), ['categoria']] = 'Cripto'\n",
    "\n",
    "empiricusProdutoCategoria.loc[empiricusProdutoCategoria['produto'].str.contains(\n",
    "    'Trade'), ['categoria']] = 'Bolsa de Valores'\n",
    "\n",
    "# Concatenando dataframes para criar uma lista de produtos mais informativa\n",
    "#df_classificacaoGenero = pd.merge(empiricusProduto, df_classificacaoGenero, on='produto', how='outer')\n",
    "\n",
    "# setting first name as index column\n",
    "#df_classificacaoGenero.set_index(\"produto\", inplace = True)\n",
    "\n",
    "# Exibe dataframe\n",
    "empiricusProdutoCategoria.head(10)"
   ]
  },
  {
   "cell_type": "code",
   "execution_count": 35,
   "id": "acff5e57",
   "metadata": {},
   "outputs": [
    {
     "data": {
      "image/png": "[encoded data removed]",
      "text/plain": [
       "<Figure size 864x432 with 1 Axes>"
      ]
     },
     "metadata": {},
     "output_type": "display_data"
    }
   ],
   "source": [
    "# Distribuição da variavel\n",
    "fn_GrafBarras(empiricusProdutoCategoria, col='categoria')"
   ]
  },
  {
   "cell_type": "code",
   "execution_count": 36,
   "id": "384e9ebd",
   "metadata": {},
   "outputs": [
    {
     "data": {
      "image/png": "[encoded data removed]",
      "text/plain": [
       "<Figure size 864x432 with 1 Axes>"
      ]
     },
     "metadata": {},
     "output_type": "display_data"
    }
   ],
   "source": [
    "# Distribuição da variavel\n",
    "fn_GrafBarras(empiricusProdutoCategoria, col='tipo')"
   ]
  },
  {
   "cell_type": "markdown",
   "id": "17b11d7c",
   "metadata": {},
   "source": [
    "##### Inclusão variável classificacao\n",
    "\n",
    "Os produtos não possuem uma classificação de usuário, esta informação pode definir a popularidade do produto,\n",
    "sendo assim, defini randomicamente os valores de 0 a 5 para cada produto do usuário, simulando que os usuários teriam classificado as assinaturas ou cursos, este procedimento não garante a veracidade da popularidade do produto, mas demonstra como esta informação nos ajuda na recomendação.\n"
   ]
  },
  {
   "cell_type": "code",
   "execution_count": 37,
   "id": "b094b908",
   "metadata": {},
   "outputs": [],
   "source": [
    "# gerando cópia do dataframe original\n",
    "df = cadatroUsuarios.copy()"
   ]
  },
  {
   "cell_type": "code",
   "execution_count": 38,
   "id": "0db27348",
   "metadata": {},
   "outputs": [
    {
     "data": {
      "text/html": [
       "<div>\n",
       "<style scoped>\n",
       "    .dataframe tbody tr th:only-of-type {\n",
       "        vertical-align: middle;\n",
       "    }\n",
       "\n",
       "    .dataframe tbody tr th {\n",
       "        vertical-align: top;\n",
       "    }\n",
       "\n",
       "    .dataframe thead th {\n",
       "        text-align: right;\n",
       "    }\n",
       "</style>\n",
       "<table border=\"1\" class=\"dataframe\">\n",
       "  <thead>\n",
       "    <tr style=\"text-align: center;\">\n",
       "      <th></th>\n",
       "      <th>cpf</th>\n",
       "      <th>dataNascimento</th>\n",
       "      <th>cep</th>\n",
       "      <th>produto</th>\n",
       "      <th>ativo</th>\n",
       "      <th>pagamento</th>\n",
       "      <th>classificacaoUsuario</th>\n",
       "    </tr>\n",
       "  </thead>\n",
       "  <tbody>\n",
       "    <tr>\n",
       "      <th>0</th>\n",
       "      <td>38005904843</td>\n",
       "      <td>2005-03-01</td>\n",
       "      <td>17505060</td>\n",
       "      <td>Crypto Staking</td>\n",
       "      <td>1</td>\n",
       "      <td>Carteiras Digitais</td>\n",
       "      <td>5</td>\n",
       "    </tr>\n",
       "    <tr>\n",
       "      <th>1</th>\n",
       "      <td>38005904843</td>\n",
       "      <td>2005-03-01</td>\n",
       "      <td>17505060</td>\n",
       "      <td>Lucrando com Automóveis 2.0</td>\n",
       "      <td>1</td>\n",
       "      <td>Boleto</td>\n",
       "      <td>2</td>\n",
       "    </tr>\n",
       "    <tr>\n",
       "      <th>2</th>\n",
       "      <td>38005904843</td>\n",
       "      <td>2005-03-01</td>\n",
       "      <td>17505060</td>\n",
       "      <td>Investidor Essencial com Felipe Miranda</td>\n",
       "      <td>1</td>\n",
       "      <td>Transferência</td>\n",
       "      <td>0</td>\n",
       "    </tr>\n",
       "    <tr>\n",
       "      <th>3</th>\n",
       "      <td>38005904843</td>\n",
       "      <td>2005-03-01</td>\n",
       "      <td>17505060</td>\n",
       "      <td>Vacas Leiteiras</td>\n",
       "      <td>1</td>\n",
       "      <td>Transferência</td>\n",
       "      <td>5</td>\n",
       "    </tr>\n",
       "    <tr>\n",
       "      <th>4</th>\n",
       "      <td>38005904843</td>\n",
       "      <td>2005-03-01</td>\n",
       "      <td>17505060</td>\n",
       "      <td>Os Melhores Fundos de Investimento</td>\n",
       "      <td>1</td>\n",
       "      <td>Boleto</td>\n",
       "      <td>2</td>\n",
       "    </tr>\n",
       "    <tr>\n",
       "      <th>5</th>\n",
       "      <td>38005904843</td>\n",
       "      <td>2005-03-01</td>\n",
       "      <td>17505060</td>\n",
       "      <td>Copy Camp Silver - Turma 2</td>\n",
       "      <td>0</td>\n",
       "      <td>Carteiras Digitais</td>\n",
       "      <td>4</td>\n",
       "    </tr>\n",
       "    <tr>\n",
       "      <th>6</th>\n",
       "      <td>28654921927</td>\n",
       "      <td>1991-10-24</td>\n",
       "      <td>31990490</td>\n",
       "      <td>Copy Camp - Silver</td>\n",
       "      <td>0</td>\n",
       "      <td>Carteiras Digitais</td>\n",
       "      <td>2</td>\n",
       "    </tr>\n",
       "    <tr>\n",
       "      <th>7</th>\n",
       "      <td>28654921927</td>\n",
       "      <td>1991-10-24</td>\n",
       "      <td>31990490</td>\n",
       "      <td>Investidor Definitivo</td>\n",
       "      <td>1</td>\n",
       "      <td>Boleto</td>\n",
       "      <td>3</td>\n",
       "    </tr>\n",
       "    <tr>\n",
       "      <th>8</th>\n",
       "      <td>93292205417</td>\n",
       "      <td>2003-08-24</td>\n",
       "      <td>20561094</td>\n",
       "      <td>Leilões de Alta Lucratividade 2.0</td>\n",
       "      <td>1</td>\n",
       "      <td>Transferência</td>\n",
       "      <td>5</td>\n",
       "    </tr>\n",
       "    <tr>\n",
       "      <th>9</th>\n",
       "      <td>93292205417</td>\n",
       "      <td>2003-08-24</td>\n",
       "      <td>20561094</td>\n",
       "      <td>Double Income</td>\n",
       "      <td>1</td>\n",
       "      <td>Cartão de Crédito</td>\n",
       "      <td>1</td>\n",
       "    </tr>\n",
       "  </tbody>\n",
       "</table>\n",
       "</div>"
      ],
      "text/plain": [
       "      cpf      dataNascimento     cep                   produto                   ativo      pagamento       classificacaoUsuario\n",
       "0  38005904843   2005-03-01    17505060                           Crypto Staking    1    Carteiras Digitais            5         \n",
       "1  38005904843   2005-03-01    17505060              Lucrando com Automóveis 2.0    1                Boleto            2         \n",
       "2  38005904843   2005-03-01    17505060  Investidor Essencial com Felipe Miranda    1         Transferência            0         \n",
       "3  38005904843   2005-03-01    17505060                          Vacas Leiteiras    1         Transferência            5         \n",
       "4  38005904843   2005-03-01    17505060       Os Melhores Fundos de Investimento    1                Boleto            2         \n",
       "5  38005904843   2005-03-01    17505060               Copy Camp Silver - Turma 2    0    Carteiras Digitais            4         \n",
       "6  28654921927   1991-10-24    31990490                       Copy Camp - Silver    0    Carteiras Digitais            2         \n",
       "7  28654921927   1991-10-24    31990490                    Investidor Definitivo    1                Boleto            3         \n",
       "8  93292205417   2003-08-24    20561094        Leilões de Alta Lucratividade 2.0    1         Transferência            5         \n",
       "9  93292205417   2003-08-24    20561094                            Double Income    1     Cartão de Crédito            1         "
      ]
     },
     "execution_count": 38,
     "metadata": {},
     "output_type": "execute_result"
    }
   ],
   "source": [
    "# Atribui as variaveis qtl e qtc os valores de quantidade de linha e quantidade de colunas do dataframe\n",
    "qtl, qtc = df.shape\n",
    "\n",
    "# Adicionando a variavel classificacao_usuario com valores randomicos de 0 a 5 para definir a nota da assinatura ou curso\n",
    "df['classificacaoUsuario'] = [random.randint(0, 5) for _ in range(qtl)]\n",
    "\n",
    "# Exibe a nova variável no dataframe\n",
    "df.head(10)"
   ]
  },
  {
   "cell_type": "code",
   "execution_count": 39,
   "id": "b46998c9",
   "metadata": {},
   "outputs": [
    {
     "data": {
      "text/html": [
       "<div>\n",
       "<style scoped>\n",
       "    .dataframe tbody tr th:only-of-type {\n",
       "        vertical-align: middle;\n",
       "    }\n",
       "\n",
       "    .dataframe tbody tr th {\n",
       "        vertical-align: top;\n",
       "    }\n",
       "\n",
       "    .dataframe thead th {\n",
       "        text-align: right;\n",
       "    }\n",
       "</style>\n",
       "<table border=\"1\" class=\"dataframe\">\n",
       "  <thead>\n",
       "    <tr style=\"text-align: center;\">\n",
       "      <th></th>\n",
       "      <th>produto</th>\n",
       "      <th>categoria</th>\n",
       "      <th>tipo</th>\n",
       "      <th>autor</th>\n",
       "      <th>qtclassificacao</th>\n",
       "      <th>mediaclassificacao</th>\n",
       "      <th>pontuacao</th>\n",
       "    </tr>\n",
       "  </thead>\n",
       "  <tbody>\n",
       "    <tr>\n",
       "      <th>66</th>\n",
       "      <td>Mentoria Bitcamp</td>\n",
       "      <td>Renda Extra</td>\n",
       "      <td>Curso</td>\n",
       "      <td>Ray Nasser</td>\n",
       "      <td>3290</td>\n",
       "      <td>2.561</td>\n",
       "      <td>2.530</td>\n",
       "    </tr>\n",
       "    <tr>\n",
       "      <th>76</th>\n",
       "      <td>Opções de Alta Performance</td>\n",
       "      <td>Renda Extra</td>\n",
       "      <td>Curso</td>\n",
       "      <td>Ruy Hungria</td>\n",
       "      <td>3402</td>\n",
       "      <td>2.559</td>\n",
       "      <td>2.529</td>\n",
       "    </tr>\n",
       "    <tr>\n",
       "      <th>1</th>\n",
       "      <td>1 Milhão Rápido - Turma 4</td>\n",
       "      <td>Bolsa de Valores</td>\n",
       "      <td>Curso</td>\n",
       "      <td>Felipe Miranda</td>\n",
       "      <td>3388</td>\n",
       "      <td>2.554</td>\n",
       "      <td>2.526</td>\n",
       "    </tr>\n",
       "    <tr>\n",
       "      <th>75</th>\n",
       "      <td>O método dos 3%</td>\n",
       "      <td>Renda Extra</td>\n",
       "      <td>Curso</td>\n",
       "      <td>Rogério Araujo</td>\n",
       "      <td>3434</td>\n",
       "      <td>2.549</td>\n",
       "      <td>2.524</td>\n",
       "    </tr>\n",
       "    <tr>\n",
       "      <th>49</th>\n",
       "      <td>Leilões de Alta Lucratividade</td>\n",
       "      <td>Renda Extra</td>\n",
       "      <td>Curso</td>\n",
       "      <td>Lerry Granville</td>\n",
       "      <td>3450</td>\n",
       "      <td>2.548</td>\n",
       "      <td>2.524</td>\n",
       "    </tr>\n",
       "    <tr>\n",
       "      <th>64</th>\n",
       "      <td>Lucrando com Automóveis 7.0</td>\n",
       "      <td>Renda Extra</td>\n",
       "      <td>Curso</td>\n",
       "      <td>Lerry Granville</td>\n",
       "      <td>3391</td>\n",
       "      <td>2.549</td>\n",
       "      <td>2.524</td>\n",
       "    </tr>\n",
       "    <tr>\n",
       "      <th>83</th>\n",
       "      <td>Renda Imobiliária</td>\n",
       "      <td>Renda Extra</td>\n",
       "      <td>Assinatura</td>\n",
       "      <td>Caio Araujo</td>\n",
       "      <td>3410</td>\n",
       "      <td>2.543</td>\n",
       "      <td>2.521</td>\n",
       "    </tr>\n",
       "    <tr>\n",
       "      <th>59</th>\n",
       "      <td>Lucrando com Automóveis 2.0</td>\n",
       "      <td>Renda Extra</td>\n",
       "      <td>Curso</td>\n",
       "      <td>Lerry Granville</td>\n",
       "      <td>3326</td>\n",
       "      <td>2.544</td>\n",
       "      <td>2.521</td>\n",
       "    </tr>\n",
       "    <tr>\n",
       "      <th>50</th>\n",
       "      <td>Leilões de Alta Lucratividade 2.0</td>\n",
       "      <td>Renda Extra</td>\n",
       "      <td>Curso</td>\n",
       "      <td>Lerry Granville</td>\n",
       "      <td>3355</td>\n",
       "      <td>2.543</td>\n",
       "      <td>2.521</td>\n",
       "    </tr>\n",
       "    <tr>\n",
       "      <th>26</th>\n",
       "      <td>Copy Camp Upgrade</td>\n",
       "      <td>Renda Extra</td>\n",
       "      <td>Curso</td>\n",
       "      <td>Roberto Altenhofen</td>\n",
       "      <td>3425</td>\n",
       "      <td>2.542</td>\n",
       "      <td>2.521</td>\n",
       "    </tr>\n",
       "  </tbody>\n",
       "</table>\n",
       "</div>"
      ],
      "text/plain": [
       "                produto                   categoria         tipo           autor         qtclassificacao  mediaclassificacao  pontuacao\n",
       "66                   Mentoria Bitcamp       Renda Extra       Curso          Ray Nasser       3290               2.561          2.530  \n",
       "76         Opções de Alta Performance       Renda Extra       Curso         Ruy Hungria       3402               2.559          2.529  \n",
       "1           1 Milhão Rápido - Turma 4  Bolsa de Valores       Curso      Felipe Miranda       3388               2.554          2.526  \n",
       "75                    O método dos 3%       Renda Extra       Curso      Rogério Araujo       3434               2.549          2.524  \n",
       "49      Leilões de Alta Lucratividade       Renda Extra       Curso     Lerry Granville       3450               2.548          2.524  \n",
       "64        Lucrando com Automóveis 7.0       Renda Extra       Curso     Lerry Granville       3391               2.549          2.524  \n",
       "83                  Renda Imobiliária       Renda Extra  Assinatura         Caio Araujo       3410               2.543          2.521  \n",
       "59        Lucrando com Automóveis 2.0       Renda Extra       Curso     Lerry Granville       3326               2.544          2.521  \n",
       "50  Leilões de Alta Lucratividade 2.0       Renda Extra       Curso     Lerry Granville       3355               2.543          2.521  \n",
       "26                  Copy Camp Upgrade       Renda Extra       Curso  Roberto Altenhofen       3425               2.542          2.521  "
      ]
     },
     "execution_count": 39,
     "metadata": {},
     "output_type": "execute_result"
    }
   ],
   "source": [
    "# Criando o dataframe com a popularidade do produto\n",
    "classificacaoPopular = fn_classificacaoPopular(df, empiricusProdutoCategoria, userCol='cpf', itemCol='produto', classificacaoCol='classificacaoUsuario')\n",
    "classificacaoPopular = classificacaoPopular.loc[:, ['produto', 'categoria', 'tipo', 'autor', 'qtclassificacao', 'mediaclassificacao', 'pontuacao']]\n",
    "    \n",
    "# Ordena o dataframe\n",
    "classificacaoPopular = classificacaoPopular.sort_values('pontuacao', ascending = False)\n",
    "\n",
    "# Exibe o dataframe\n",
    "classificacaoPopular.head(10)"
   ]
  },
  {
   "cell_type": "code",
   "execution_count": 40,
   "id": "fab81fc8",
   "metadata": {},
   "outputs": [
    {
     "data": {
      "image/png": "[encoded data removed]",
      "text/plain": [
       "<Figure size 1584x720 with 1 Axes>"
      ]
     },
     "metadata": {},
     "output_type": "display_data"
    }
   ],
   "source": [
    "# Os 10 produtos mais classificados\n",
    "plt.figure(figsize=(22, 10))\n",
    "data = classificacaoPopular.sort_values(by='qtclassificacao', ascending=False).head(10)\n",
    "\n",
    "g = sns.barplot(x='qtclassificacao', y='produto', data=data, palette=colors)\n",
    "g.set_title(f\"Os 10 produtos mais classificados pelos usuários\")\n",
    "g.set_xlabel(f\"Classificação\")\n",
    "g.set_ylabel(\"Produto\")\n",
    "plt.show()"
   ]
  },
  {
   "cell_type": "code",
   "execution_count": 41,
   "id": "2afde3a4",
   "metadata": {},
   "outputs": [
    {
     "data": {
      "text/html": [
       "<div>\n",
       "<style scoped>\n",
       "    .dataframe tbody tr th:only-of-type {\n",
       "        vertical-align: middle;\n",
       "    }\n",
       "\n",
       "    .dataframe tbody tr th {\n",
       "        vertical-align: top;\n",
       "    }\n",
       "\n",
       "    .dataframe thead th {\n",
       "        text-align: right;\n",
       "    }\n",
       "</style>\n",
       "<table border=\"1\" class=\"dataframe\">\n",
       "  <thead>\n",
       "    <tr style=\"text-align: center;\">\n",
       "      <th></th>\n",
       "      <th>produto</th>\n",
       "      <th>categoria</th>\n",
       "      <th>tipo</th>\n",
       "      <th>autor</th>\n",
       "      <th>qtclassificacao</th>\n",
       "      <th>mediaclassificacao</th>\n",
       "      <th>pontuacao</th>\n",
       "    </tr>\n",
       "  </thead>\n",
       "  <tbody>\n",
       "    <tr>\n",
       "      <th>66</th>\n",
       "      <td>Mentoria Bitcamp</td>\n",
       "      <td>Renda Extra</td>\n",
       "      <td>Curso</td>\n",
       "      <td>Ray Nasser</td>\n",
       "      <td>3290</td>\n",
       "      <td>2.561</td>\n",
       "      <td>2.530</td>\n",
       "    </tr>\n",
       "    <tr>\n",
       "      <th>76</th>\n",
       "      <td>Opções de Alta Performance</td>\n",
       "      <td>Renda Extra</td>\n",
       "      <td>Curso</td>\n",
       "      <td>Ruy Hungria</td>\n",
       "      <td>3402</td>\n",
       "      <td>2.559</td>\n",
       "      <td>2.529</td>\n",
       "    </tr>\n",
       "    <tr>\n",
       "      <th>1</th>\n",
       "      <td>1 Milhão Rápido - Turma 4</td>\n",
       "      <td>Bolsa de Valores</td>\n",
       "      <td>Curso</td>\n",
       "      <td>Felipe Miranda</td>\n",
       "      <td>3388</td>\n",
       "      <td>2.554</td>\n",
       "      <td>2.526</td>\n",
       "    </tr>\n",
       "    <tr>\n",
       "      <th>75</th>\n",
       "      <td>O método dos 3%</td>\n",
       "      <td>Renda Extra</td>\n",
       "      <td>Curso</td>\n",
       "      <td>Rogério Araujo</td>\n",
       "      <td>3434</td>\n",
       "      <td>2.549</td>\n",
       "      <td>2.524</td>\n",
       "    </tr>\n",
       "    <tr>\n",
       "      <th>49</th>\n",
       "      <td>Leilões de Alta Lucratividade</td>\n",
       "      <td>Renda Extra</td>\n",
       "      <td>Curso</td>\n",
       "      <td>Lerry Granville</td>\n",
       "      <td>3450</td>\n",
       "      <td>2.548</td>\n",
       "      <td>2.524</td>\n",
       "    </tr>\n",
       "    <tr>\n",
       "      <th>64</th>\n",
       "      <td>Lucrando com Automóveis 7.0</td>\n",
       "      <td>Renda Extra</td>\n",
       "      <td>Curso</td>\n",
       "      <td>Lerry Granville</td>\n",
       "      <td>3391</td>\n",
       "      <td>2.549</td>\n",
       "      <td>2.524</td>\n",
       "    </tr>\n",
       "    <tr>\n",
       "      <th>83</th>\n",
       "      <td>Renda Imobiliária</td>\n",
       "      <td>Renda Extra</td>\n",
       "      <td>Assinatura</td>\n",
       "      <td>Caio Araujo</td>\n",
       "      <td>3410</td>\n",
       "      <td>2.543</td>\n",
       "      <td>2.521</td>\n",
       "    </tr>\n",
       "    <tr>\n",
       "      <th>59</th>\n",
       "      <td>Lucrando com Automóveis 2.0</td>\n",
       "      <td>Renda Extra</td>\n",
       "      <td>Curso</td>\n",
       "      <td>Lerry Granville</td>\n",
       "      <td>3326</td>\n",
       "      <td>2.544</td>\n",
       "      <td>2.521</td>\n",
       "    </tr>\n",
       "    <tr>\n",
       "      <th>50</th>\n",
       "      <td>Leilões de Alta Lucratividade 2.0</td>\n",
       "      <td>Renda Extra</td>\n",
       "      <td>Curso</td>\n",
       "      <td>Lerry Granville</td>\n",
       "      <td>3355</td>\n",
       "      <td>2.543</td>\n",
       "      <td>2.521</td>\n",
       "    </tr>\n",
       "    <tr>\n",
       "      <th>26</th>\n",
       "      <td>Copy Camp Upgrade</td>\n",
       "      <td>Renda Extra</td>\n",
       "      <td>Curso</td>\n",
       "      <td>Roberto Altenhofen</td>\n",
       "      <td>3425</td>\n",
       "      <td>2.542</td>\n",
       "      <td>2.521</td>\n",
       "    </tr>\n",
       "  </tbody>\n",
       "</table>\n",
       "</div>"
      ],
      "text/plain": [
       "                produto                   categoria         tipo           autor         qtclassificacao  mediaclassificacao  pontuacao\n",
       "66                   Mentoria Bitcamp       Renda Extra       Curso          Ray Nasser       3290               2.561          2.530  \n",
       "76         Opções de Alta Performance       Renda Extra       Curso         Ruy Hungria       3402               2.559          2.529  \n",
       "1           1 Milhão Rápido - Turma 4  Bolsa de Valores       Curso      Felipe Miranda       3388               2.554          2.526  \n",
       "75                    O método dos 3%       Renda Extra       Curso      Rogério Araujo       3434               2.549          2.524  \n",
       "49      Leilões de Alta Lucratividade       Renda Extra       Curso     Lerry Granville       3450               2.548          2.524  \n",
       "64        Lucrando com Automóveis 7.0       Renda Extra       Curso     Lerry Granville       3391               2.549          2.524  \n",
       "83                  Renda Imobiliária       Renda Extra  Assinatura         Caio Araujo       3410               2.543          2.521  \n",
       "59        Lucrando com Automóveis 2.0       Renda Extra       Curso     Lerry Granville       3326               2.544          2.521  \n",
       "50  Leilões de Alta Lucratividade 2.0       Renda Extra       Curso     Lerry Granville       3355               2.543          2.521  \n",
       "26                  Copy Camp Upgrade       Renda Extra       Curso  Roberto Altenhofen       3425               2.542          2.521  "
      ]
     },
     "execution_count": 41,
     "metadata": {},
     "output_type": "execute_result"
    }
   ],
   "source": [
    "# Visualização dos 10 produtos mais populares, com maior pontuacao\n",
    "classificacaoPopular.sort_values(by='pontuacao', ascending=False).head(10)\n"
   ]
  },
  {
   "cell_type": "code",
   "execution_count": 42,
   "id": "92f3766e",
   "metadata": {},
   "outputs": [
    {
     "data": {
      "image/png": "[encoded data removed]",
      "text/plain": [
       "<Figure size 1584x720 with 1 Axes>"
      ]
     },
     "metadata": {},
     "output_type": "display_data"
    }
   ],
   "source": [
    "# Os 10 produtos mais pontuados\n",
    "plt.figure(figsize=(22, 10))\n",
    "data = classificacaoPopular.sort_values(by='pontuacao', ascending=False).head(10)\n",
    "\n",
    "g = sns.barplot(x='pontuacao', y='produto', data=data, palette=colors)\n",
    "g.set_title(f\"Os 10 melhores produtos elegidos pelos usuários\")\n",
    "g.set_xlabel(f\"Pontuação\")\n",
    "g.set_ylabel(\"Produto\")\n",
    "plt.show()"
   ]
  },
  {
   "cell_type": "markdown",
   "id": "cfc495e3",
   "metadata": {},
   "source": [
    "#### Concatenando Dataframe de Usuários e Produtos Classificados"
   ]
  },
  {
   "cell_type": "code",
   "execution_count": 43,
   "id": "29095b4d",
   "metadata": {},
   "outputs": [
    {
     "name": "stdout",
     "output_type": "stream",
     "text": [
      "O dataframe tem 7 colunas e 303967 linhas.\n",
      "Existem 0 colunas que têm valores faltantes.\n"
     ]
    },
    {
     "data": {
      "text/html": [
       "<div>\n",
       "<style scoped>\n",
       "    .dataframe tbody tr th:only-of-type {\n",
       "        vertical-align: middle;\n",
       "    }\n",
       "\n",
       "    .dataframe tbody tr th {\n",
       "        vertical-align: top;\n",
       "    }\n",
       "\n",
       "    .dataframe thead th {\n",
       "        text-align: right;\n",
       "    }\n",
       "</style>\n",
       "<table border=\"1\" class=\"dataframe\">\n",
       "  <thead>\n",
       "    <tr style=\"text-align: center;\">\n",
       "      <th></th>\n",
       "      <th>Valores faltantes</th>\n",
       "      <th>% de Valores Totais</th>\n",
       "      <th>Data Type</th>\n",
       "    </tr>\n",
       "  </thead>\n",
       "  <tbody>\n",
       "  </tbody>\n",
       "</table>\n",
       "</div>"
      ],
      "text/plain": [
       "Empty DataFrame\n",
       "Columns: [Valores faltantes, % de Valores Totais, Data Type]\n",
       "Index: []"
      ]
     },
     "execution_count": 43,
     "metadata": {},
     "output_type": "execute_result"
    }
   ],
   "source": [
    "# Avaliando os valores nulos do dataframe\n",
    "missing_values_table(df)"
   ]
  },
  {
   "cell_type": "code",
   "execution_count": 44,
   "id": "5379e978",
   "metadata": {},
   "outputs": [
    {
     "name": "stdout",
     "output_type": "stream",
     "text": [
      "Dataframe Usuários\n"
     ]
    },
    {
     "data": {
      "text/html": [
       "<div>\n",
       "<style scoped>\n",
       "    .dataframe tbody tr th:only-of-type {\n",
       "        vertical-align: middle;\n",
       "    }\n",
       "\n",
       "    .dataframe tbody tr th {\n",
       "        vertical-align: top;\n",
       "    }\n",
       "\n",
       "    .dataframe thead th {\n",
       "        text-align: right;\n",
       "    }\n",
       "</style>\n",
       "<table border=\"1\" class=\"dataframe\">\n",
       "  <thead>\n",
       "    <tr style=\"text-align: center;\">\n",
       "      <th></th>\n",
       "      <th>Colunas</th>\n",
       "    </tr>\n",
       "  </thead>\n",
       "  <tbody>\n",
       "    <tr>\n",
       "      <th>0</th>\n",
       "      <td>cpf</td>\n",
       "    </tr>\n",
       "    <tr>\n",
       "      <th>1</th>\n",
       "      <td>dataNascimento</td>\n",
       "    </tr>\n",
       "    <tr>\n",
       "      <th>2</th>\n",
       "      <td>cep</td>\n",
       "    </tr>\n",
       "    <tr>\n",
       "      <th>3</th>\n",
       "      <td>produto</td>\n",
       "    </tr>\n",
       "    <tr>\n",
       "      <th>4</th>\n",
       "      <td>ativo</td>\n",
       "    </tr>\n",
       "    <tr>\n",
       "      <th>5</th>\n",
       "      <td>pagamento</td>\n",
       "    </tr>\n",
       "    <tr>\n",
       "      <th>6</th>\n",
       "      <td>classificacaoUsuario</td>\n",
       "    </tr>\n",
       "  </tbody>\n",
       "</table>\n",
       "</div>"
      ],
      "text/plain": [
       "         Colunas       \n",
       "0                   cpf\n",
       "1        dataNascimento\n",
       "2                   cep\n",
       "3               produto\n",
       "4                 ativo\n",
       "5             pagamento\n",
       "6  classificacaoUsuario"
      ]
     },
     "execution_count": 44,
     "metadata": {},
     "output_type": "execute_result"
    }
   ],
   "source": [
    "print(f\"Dataframe Usuários\")\n",
    "pd.DataFrame(df.columns.to_list(), columns=['Colunas'])"
   ]
  },
  {
   "cell_type": "code",
   "execution_count": 45,
   "id": "8b2e66be",
   "metadata": {},
   "outputs": [
    {
     "name": "stdout",
     "output_type": "stream",
     "text": [
      "O dataframe tem 7 colunas e 90 linhas.\n",
      "Existem 0 colunas que têm valores faltantes.\n"
     ]
    },
    {
     "data": {
      "text/html": [
       "<div>\n",
       "<style scoped>\n",
       "    .dataframe tbody tr th:only-of-type {\n",
       "        vertical-align: middle;\n",
       "    }\n",
       "\n",
       "    .dataframe tbody tr th {\n",
       "        vertical-align: top;\n",
       "    }\n",
       "\n",
       "    .dataframe thead th {\n",
       "        text-align: right;\n",
       "    }\n",
       "</style>\n",
       "<table border=\"1\" class=\"dataframe\">\n",
       "  <thead>\n",
       "    <tr style=\"text-align: center;\">\n",
       "      <th></th>\n",
       "      <th>Valores faltantes</th>\n",
       "      <th>% de Valores Totais</th>\n",
       "      <th>Data Type</th>\n",
       "    </tr>\n",
       "  </thead>\n",
       "  <tbody>\n",
       "  </tbody>\n",
       "</table>\n",
       "</div>"
      ],
      "text/plain": [
       "Empty DataFrame\n",
       "Columns: [Valores faltantes, % de Valores Totais, Data Type]\n",
       "Index: []"
      ]
     },
     "execution_count": 45,
     "metadata": {},
     "output_type": "execute_result"
    }
   ],
   "source": [
    "# Avaliando os valores nulos do dataframe\n",
    "missing_values_table(classificacaoPopular)"
   ]
  },
  {
   "cell_type": "code",
   "execution_count": 46,
   "id": "bed64363",
   "metadata": {},
   "outputs": [
    {
     "name": "stdout",
     "output_type": "stream",
     "text": [
      "Dataframe Produtos\n"
     ]
    },
    {
     "data": {
      "text/html": [
       "<div>\n",
       "<style scoped>\n",
       "    .dataframe tbody tr th:only-of-type {\n",
       "        vertical-align: middle;\n",
       "    }\n",
       "\n",
       "    .dataframe tbody tr th {\n",
       "        vertical-align: top;\n",
       "    }\n",
       "\n",
       "    .dataframe thead th {\n",
       "        text-align: right;\n",
       "    }\n",
       "</style>\n",
       "<table border=\"1\" class=\"dataframe\">\n",
       "  <thead>\n",
       "    <tr style=\"text-align: center;\">\n",
       "      <th></th>\n",
       "      <th>Colunas</th>\n",
       "    </tr>\n",
       "  </thead>\n",
       "  <tbody>\n",
       "    <tr>\n",
       "      <th>0</th>\n",
       "      <td>produto</td>\n",
       "    </tr>\n",
       "    <tr>\n",
       "      <th>1</th>\n",
       "      <td>categoria</td>\n",
       "    </tr>\n",
       "    <tr>\n",
       "      <th>2</th>\n",
       "      <td>tipo</td>\n",
       "    </tr>\n",
       "    <tr>\n",
       "      <th>3</th>\n",
       "      <td>autor</td>\n",
       "    </tr>\n",
       "    <tr>\n",
       "      <th>4</th>\n",
       "      <td>qtclassificacao</td>\n",
       "    </tr>\n",
       "    <tr>\n",
       "      <th>5</th>\n",
       "      <td>mediaclassificacao</td>\n",
       "    </tr>\n",
       "    <tr>\n",
       "      <th>6</th>\n",
       "      <td>pontuacao</td>\n",
       "    </tr>\n",
       "  </tbody>\n",
       "</table>\n",
       "</div>"
      ],
      "text/plain": [
       "        Colunas      \n",
       "0             produto\n",
       "1           categoria\n",
       "2                tipo\n",
       "3               autor\n",
       "4     qtclassificacao\n",
       "5  mediaclassificacao\n",
       "6           pontuacao"
      ]
     },
     "execution_count": 46,
     "metadata": {},
     "output_type": "execute_result"
    }
   ],
   "source": [
    "print(f\"Dataframe Produtos\")\n",
    "pd.DataFrame(classificacaoPopular.columns.to_list(), columns=['Colunas'])"
   ]
  },
  {
   "cell_type": "code",
   "execution_count": 47,
   "id": "58be8d2d",
   "metadata": {},
   "outputs": [],
   "source": [
    "# Concatenando o dataFrame de cadastro de usuário com o dataframe de produtos\n",
    "df = pd.merge(df, classificacaoPopular, on='produto', how='outer')"
   ]
  },
  {
   "cell_type": "code",
   "execution_count": null,
   "id": "24ab4afb",
   "metadata": {},
   "outputs": [],
   "source": []
  },
  {
   "cell_type": "markdown",
   "id": "656f3b5d",
   "metadata": {},
   "source": [
    "### Análise exploratória"
   ]
  },
  {
   "cell_type": "code",
   "execution_count": 48,
   "id": "bdac3d6d",
   "metadata": {},
   "outputs": [
    {
     "name": "stdout",
     "output_type": "stream",
     "text": [
      "<class 'pandas.core.frame.DataFrame'>\n",
      "Int64Index: 303967 entries, 0 to 303966\n",
      "Data columns (total 13 columns):\n",
      " #   Column                Non-Null Count   Dtype  \n",
      "---  ------                --------------   -----  \n",
      " 0   cpf                   303967 non-null  object \n",
      " 1   dataNascimento        303967 non-null  object \n",
      " 2   cep                   303967 non-null  int64  \n",
      " 3   produto               303967 non-null  object \n",
      " 4   ativo                 303967 non-null  int64  \n",
      " 5   pagamento             303967 non-null  object \n",
      " 6   classificacaoUsuario  303967 non-null  int64  \n",
      " 7   categoria             303967 non-null  object \n",
      " 8   tipo                  303967 non-null  object \n",
      " 9   autor                 303967 non-null  object \n",
      " 10  qtclassificacao       303967 non-null  int64  \n",
      " 11  mediaclassificacao    303967 non-null  float64\n",
      " 12  pontuacao             303967 non-null  float64\n",
      "dtypes: float64(2), int64(4), object(7)\n",
      "memory usage: 32.5+ MB\n"
     ]
    }
   ],
   "source": [
    "# Informações do dataframe\n",
    "df.info()"
   ]
  },
  {
   "cell_type": "code",
   "execution_count": 49,
   "id": "b199bdc9",
   "metadata": {},
   "outputs": [
    {
     "data": {
      "text/html": [
       "<div>\n",
       "<style scoped>\n",
       "    .dataframe tbody tr th:only-of-type {\n",
       "        vertical-align: middle;\n",
       "    }\n",
       "\n",
       "    .dataframe tbody tr th {\n",
       "        vertical-align: top;\n",
       "    }\n",
       "\n",
       "    .dataframe thead th {\n",
       "        text-align: right;\n",
       "    }\n",
       "</style>\n",
       "<table border=\"1\" class=\"dataframe\">\n",
       "  <thead>\n",
       "    <tr style=\"text-align: center;\">\n",
       "      <th></th>\n",
       "      <th>cep</th>\n",
       "      <th>ativo</th>\n",
       "      <th>classificacaoUsuario</th>\n",
       "      <th>qtclassificacao</th>\n",
       "      <th>mediaclassificacao</th>\n",
       "      <th>pontuacao</th>\n",
       "    </tr>\n",
       "  </thead>\n",
       "  <tbody>\n",
       "    <tr>\n",
       "      <th>count</th>\n",
       "      <td>3.040e+05</td>\n",
       "      <td>303967.000</td>\n",
       "      <td>303967.000</td>\n",
       "      <td>303967.000</td>\n",
       "      <td>303967.000</td>\n",
       "      <td>303967.000</td>\n",
       "    </tr>\n",
       "    <tr>\n",
       "      <th>mean</th>\n",
       "      <td>4.595e+07</td>\n",
       "      <td>0.700</td>\n",
       "      <td>2.498</td>\n",
       "      <td>3378.204</td>\n",
       "      <td>2.498</td>\n",
       "      <td>2.498</td>\n",
       "    </tr>\n",
       "    <tr>\n",
       "      <th>std</th>\n",
       "      <td>2.987e+07</td>\n",
       "      <td>0.458</td>\n",
       "      <td>1.707</td>\n",
       "      <td>51.698</td>\n",
       "      <td>0.033</td>\n",
       "      <td>0.017</td>\n",
       "    </tr>\n",
       "    <tr>\n",
       "      <th>min</th>\n",
       "      <td>1.002e+06</td>\n",
       "      <td>0.000</td>\n",
       "      <td>0.000</td>\n",
       "      <td>3250.000</td>\n",
       "      <td>2.422</td>\n",
       "      <td>2.459</td>\n",
       "    </tr>\n",
       "    <tr>\n",
       "      <th>25%</th>\n",
       "      <td>1.830e+07</td>\n",
       "      <td>0.000</td>\n",
       "      <td>1.000</td>\n",
       "      <td>3344.000</td>\n",
       "      <td>2.470</td>\n",
       "      <td>2.484</td>\n",
       "    </tr>\n",
       "    <tr>\n",
       "      <th>50%</th>\n",
       "      <td>4.150e+07</td>\n",
       "      <td>1.000</td>\n",
       "      <td>2.000</td>\n",
       "      <td>3374.000</td>\n",
       "      <td>2.501</td>\n",
       "      <td>2.500</td>\n",
       "    </tr>\n",
       "    <tr>\n",
       "      <th>75%</th>\n",
       "      <td>7.426e+07</td>\n",
       "      <td>1.000</td>\n",
       "      <td>4.000</td>\n",
       "      <td>3419.000</td>\n",
       "      <td>2.522</td>\n",
       "      <td>2.510</td>\n",
       "    </tr>\n",
       "    <tr>\n",
       "      <th>max</th>\n",
       "      <td>9.996e+07</td>\n",
       "      <td>1.000</td>\n",
       "      <td>5.000</td>\n",
       "      <td>3490.000</td>\n",
       "      <td>2.561</td>\n",
       "      <td>2.530</td>\n",
       "    </tr>\n",
       "  </tbody>\n",
       "</table>\n",
       "</div>"
      ],
      "text/plain": [
       "          cep        ativo    classificacaoUsuario  qtclassificacao  mediaclassificacao   pontuacao\n",
       "count  3.040e+05  303967.000       303967.000         303967.000         303967.000      303967.000\n",
       "mean   4.595e+07       0.700            2.498           3378.204              2.498           2.498\n",
       "std    2.987e+07       0.458            1.707             51.698              0.033           0.017\n",
       "min    1.002e+06       0.000            0.000           3250.000              2.422           2.459\n",
       "25%    1.830e+07       0.000            1.000           3344.000              2.470           2.484\n",
       "50%    4.150e+07       1.000            2.000           3374.000              2.501           2.500\n",
       "75%    7.426e+07       1.000            4.000           3419.000              2.522           2.510\n",
       "max    9.996e+07       1.000            5.000           3490.000              2.561           2.530"
      ]
     },
     "execution_count": 49,
     "metadata": {},
     "output_type": "execute_result"
    }
   ],
   "source": [
    "#df.describe(include='all')  \n",
    "df.describe()"
   ]
  },
  {
   "cell_type": "code",
   "execution_count": 50,
   "id": "16029665",
   "metadata": {},
   "outputs": [
    {
     "name": "stdout",
     "output_type": "stream",
     "text": [
      "Quantidade de linhas...........: 303967\n",
      "Quantidade de linhas duplicadas: 0\n",
      "Quantidade de colunas..........: 13\n"
     ]
    }
   ],
   "source": [
    "# Quantidade de linhas e colunas\n",
    "qtl, qtc = df.shape\n",
    "\n",
    "# Quantidade de linhas duplicadas\n",
    "qtd, _ = df[df.duplicated(keep=False)].shape\n",
    "\n",
    "print(f'Quantidade de linhas...........: {qtl}')\n",
    "print(f'Quantidade de linhas duplicadas: {qtd}')\n",
    "print(f'Quantidade de colunas..........: {qtc}')"
   ]
  },
  {
   "cell_type": "markdown",
   "id": "e4964f94",
   "metadata": {},
   "source": [
    "#### Usuários (cpf)"
   ]
  },
  {
   "cell_type": "code",
   "execution_count": 51,
   "id": "ebfb3758",
   "metadata": {},
   "outputs": [
    {
     "name": "stdout",
     "output_type": "stream",
     "text": [
      "Quantidade de usuários: 40005\n"
     ]
    }
   ],
   "source": [
    "ctUsuarios = df['cpf'].nunique()\n",
    "print(f'Quantidade de usuários: {ctUsuarios}')"
   ]
  },
  {
   "cell_type": "markdown",
   "id": "79782c88",
   "metadata": {},
   "source": [
    "#### Produtos ativos"
   ]
  },
  {
   "cell_type": "code",
   "execution_count": 52,
   "id": "1c67f81a",
   "metadata": {},
   "outputs": [
    {
     "data": {
      "text/plain": [
       "Counter({1: 212887, 0: 91080})"
      ]
     },
     "execution_count": 52,
     "metadata": {},
     "output_type": "execute_result"
    }
   ],
   "source": [
    "Counter(df['ativo'])"
   ]
  },
  {
   "cell_type": "code",
   "execution_count": 53,
   "id": "a4e31d67",
   "metadata": {},
   "outputs": [
    {
     "data": {
      "image/png": "[encoded data removed]",
      "text/plain": [
       "<Figure size 864x432 with 1 Axes>"
      ]
     },
     "metadata": {},
     "output_type": "display_data"
    }
   ],
   "source": [
    "# Distribuição da variavel tipo de Curso\n",
    "fn_GrafBarras(df, col='ativo')"
   ]
  },
  {
   "cell_type": "markdown",
   "id": "d0c16f00",
   "metadata": {},
   "source": [
    "#### Tipo de Produto (Assinaturas e Cursos)"
   ]
  },
  {
   "cell_type": "code",
   "execution_count": 54,
   "id": "ca0a622c",
   "metadata": {},
   "outputs": [
    {
     "data": {
      "text/plain": [
       "Counter({'Curso': 267032, 'Assinatura': 36935})"
      ]
     },
     "execution_count": 54,
     "metadata": {},
     "output_type": "execute_result"
    }
   ],
   "source": [
    "Counter(df['tipo'])"
   ]
  },
  {
   "cell_type": "code",
   "execution_count": 55,
   "id": "37685cd0",
   "metadata": {},
   "outputs": [
    {
     "data": {
      "image/png": "[encoded data removed]",
      "text/plain": [
       "<Figure size 864x432 with 1 Axes>"
      ]
     },
     "metadata": {},
     "output_type": "display_data"
    }
   ],
   "source": [
    "# Distribuição da variavel tipo de Curso\n",
    "fn_GrafBarras(df, col='tipo')"
   ]
  },
  {
   "cell_type": "markdown",
   "id": "687db775",
   "metadata": {},
   "source": [
    "#### Categoria do Produto"
   ]
  },
  {
   "cell_type": "code",
   "execution_count": 56,
   "id": "ea51f5aa",
   "metadata": {},
   "outputs": [
    {
     "data": {
      "text/plain": [
       "Counter({'Cripto': 20503,\n",
       "         'Renda Extra': 196042,\n",
       "         'Ações e Futuros': 33437,\n",
       "         'Bolsa de Valores': 53985})"
      ]
     },
     "execution_count": 56,
     "metadata": {},
     "output_type": "execute_result"
    }
   ],
   "source": [
    "Counter(df['categoria'])"
   ]
  },
  {
   "cell_type": "code",
   "execution_count": 57,
   "id": "ee43d8f7",
   "metadata": {},
   "outputs": [
    {
     "data": {
      "image/png": "[encoded data removed]",
      "text/plain": [
       "<Figure size 864x432 with 1 Axes>"
      ]
     },
     "metadata": {},
     "output_type": "display_data"
    }
   ],
   "source": [
    "# Distribuição da variavel\n",
    "fn_GrafBarras(df, col='categoria')"
   ]
  },
  {
   "cell_type": "markdown",
   "id": "3030562d",
   "metadata": {},
   "source": [
    "#### Pagamentos efetuados"
   ]
  },
  {
   "cell_type": "code",
   "execution_count": 58,
   "id": "57b69804",
   "metadata": {},
   "outputs": [
    {
     "data": {
      "text/plain": [
       "Counter({'Carteiras Digitais': 76176,\n",
       "         'Boleto': 76451,\n",
       "         'Cartão de Crédito': 75554,\n",
       "         'Transferência': 75786})"
      ]
     },
     "execution_count": 58,
     "metadata": {},
     "output_type": "execute_result"
    }
   ],
   "source": [
    "Counter(df['pagamento'])"
   ]
  },
  {
   "cell_type": "code",
   "execution_count": 59,
   "id": "e6f3c6fa",
   "metadata": {},
   "outputs": [
    {
     "data": {
      "image/png": "[encoded data removed]",
      "text/plain": [
       "<Figure size 864x432 with 1 Axes>"
      ]
     },
     "metadata": {},
     "output_type": "display_data"
    }
   ],
   "source": [
    "# Distribuição da variavel classificacao\n",
    "fn_GrafBarras(df, col='pagamento')"
   ]
  },
  {
   "cell_type": "code",
   "execution_count": null,
   "id": "acacabb1",
   "metadata": {},
   "outputs": [],
   "source": []
  },
  {
   "cell_type": "markdown",
   "id": "be117d70",
   "metadata": {},
   "source": [
    "### Treinamento do modelo"
   ]
  },
  {
   "cell_type": "markdown",
   "id": "3f60ba4d",
   "metadata": {},
   "source": [
    "#### Filtragem colaborativa (produto recomedação)\n",
    "\n",
    "Os modelos de filtragem colaborativa partem da ideia de que as pessoas que pensam da mesma forma tendem a dar ou receber pensamentos semelhantes. \n",
    "Sabemos também que normalmente usuários não avaliam todos os produtos. Um usuário classificará alguns produtos, mas quando um usuário classifica um par de produtos com classificações semelhantes a outro, podemos assumir que têm gostos semelhantes e depois, com base nessa suposição, podemos prever as classificações que faltam para outro usuário semelhante, completando assim os valores que faltam na matriz.\n",
    "\n",
    "Em outras palavras, vamos transformar os gostos e aversões de cada usuário em vetores e comparar o ângulo entre esses vetores. \n",
    "Quanto mais baixo o ângulo, mais semelhantes são os usuários e o contrário também é verdadeiro, quanto mais alto o ângulo, mais diferentes tendem a ser."
   ]
  },
  {
   "cell_type": "code",
   "execution_count": 60,
   "id": "d7537c3e",
   "metadata": {},
   "outputs": [
    {
     "name": "stdout",
     "output_type": "stream",
     "text": [
      "Computing the msd similarity matrix...\n",
      "Done computing similarity matrix.\n"
     ]
    }
   ],
   "source": [
    "# Criando dataframe \n",
    "dfModel = classificacaoPopular[['produto','mediaclassificacao', 'qtclassificacao','pontuacao']].set_index(\"produto\")\n",
    "\n",
    "# Leitura do dataframe utilizando a função surprise\n",
    "reader = Reader(rating_scale=(1, 5))\n",
    "data = Dataset.load_from_df(dfModel, reader)\n",
    "\n",
    "# Dividindo o conjunto de dados\n",
    "trainset, testset = train_test_split(data, test_size=0.3, random_state=42)\n",
    "\n",
    "# Criação de um modelo baseado em item (user_based true / false para alternar entre filtragem colaborativa baseada\n",
    "# em usuário ou baseada em item)\n",
    "algo = KNNWithMeans(k=5, sim_options={'user_based': False})\n",
    "algo.fit(trainset)\n",
    "\n",
    "# Teste do modelo\n",
    "test_pred = algo.test(testset)"
   ]
  },
  {
   "cell_type": "code",
   "execution_count": 61,
   "id": "d4cf3f90",
   "metadata": {},
   "outputs": [
    {
     "name": "stdout",
     "output_type": "stream",
     "text": [
      "Item-based Model : Test Set\n",
      "RMSE: 0.0165\n"
     ]
    },
    {
     "data": {
      "text/plain": [
       "0.016518192756976902"
      ]
     },
     "execution_count": 61,
     "metadata": {},
     "output_type": "execute_result"
    }
   ],
   "source": [
    "print(\"Item-based Model : Test Set\")\n",
    "accuracy.rmse(test_pred, verbose=True)"
   ]
  },
  {
   "cell_type": "code",
   "execution_count": 62,
   "id": "77b77940",
   "metadata": {},
   "outputs": [
    {
     "data": {
      "text/html": [
       "<style type=\"text/css\">\n",
       "</style>\n",
       "<table id=\"T_23dde_\">\n",
       "  <thead>\n",
       "    <tr>\n",
       "      <th class=\"col_heading level0 col0\" >produto</th>\n",
       "    </tr>\n",
       "  </thead>\n",
       "  <tbody>\n",
       "    <tr>\n",
       "      <td id=\"T_23dde_row0_col0\" class=\"data row0 col0\" >Opções de Alta Performance</td>\n",
       "    </tr>\n",
       "    <tr>\n",
       "      <td id=\"T_23dde_row1_col0\" class=\"data row1 col0\" >1 Milhão Rápido - Turma 4</td>\n",
       "    </tr>\n",
       "    <tr>\n",
       "      <td id=\"T_23dde_row2_col0\" class=\"data row2 col0\" >O método dos 3%</td>\n",
       "    </tr>\n",
       "    <tr>\n",
       "      <td id=\"T_23dde_row3_col0\" class=\"data row3 col0\" >Leilões de Alta Lucratividade</td>\n",
       "    </tr>\n",
       "    <tr>\n",
       "      <td id=\"T_23dde_row4_col0\" class=\"data row4 col0\" >Lucrando com Automóveis 7.0</td>\n",
       "    </tr>\n",
       "    <tr>\n",
       "      <td id=\"T_23dde_row5_col0\" class=\"data row5 col0\" >Renda Imobiliária</td>\n",
       "    </tr>\n",
       "    <tr>\n",
       "      <td id=\"T_23dde_row6_col0\" class=\"data row6 col0\" >Lucrando com Automóveis 2.0</td>\n",
       "    </tr>\n",
       "    <tr>\n",
       "      <td id=\"T_23dde_row7_col0\" class=\"data row7 col0\" >Leilões de Alta Lucratividade 2.0</td>\n",
       "    </tr>\n",
       "    <tr>\n",
       "      <td id=\"T_23dde_row8_col0\" class=\"data row8 col0\" >Copy Camp Upgrade</td>\n",
       "    </tr>\n",
       "    <tr>\n",
       "      <td id=\"T_23dde_row9_col0\" class=\"data row9 col0\" >1 Milhão Rápido 2022</td>\n",
       "    </tr>\n",
       "  </tbody>\n",
       "</table>\n"
      ],
      "text/plain": [
       "<pandas.io.formats.style.Styler at 0x19ba2bceee0>"
      ]
     },
     "metadata": {},
     "output_type": "display_data"
    }
   ],
   "source": [
    "# Usando a função get_neighbors para obter as 10 recomendações de produto\n",
    "recomendacao = algo.get_neighbors(0, 10)\n",
    "\n",
    "# Visualização dos 10 produtos recomendados\n",
    "# df_classificacao.iloc[recomendacao]#.index.values.tolist()\n",
    "display(pd.DataFrame(dfModel.iloc[recomendacao].index.values.tolist(), columns=['produto']).style.hide_index())"
   ]
  },
  {
   "cell_type": "code",
   "execution_count": null,
   "id": "0743a88b",
   "metadata": {},
   "outputs": [],
   "source": []
  },
  {
   "cell_type": "markdown",
   "id": "c3d5c33a",
   "metadata": {},
   "source": [
    "#### Sistema de filtragem colaborativa baseado em modelos\n",
    "\n",
    "Este é um modelo Fatorização Matricial, tendo em consideração o nome do usuário e a identificação do produto para fazer as previsões.\n",
    "\n",
    "Vou criar uma matriz de correlação a partir da matriz de decomposição utilizando a função TruncatedSVD.</br> \n",
    "Isso indicará que para cada usuário, vou calcular o quão semelhante ele é aos outros usuários.</br>\n",
    "Na matrix o quanto mais se aproximar de 1, mais semelhante e quanto mais se aproximar de -1, mais diferente.\n",
    "\n",
    "Este modelo consiste em receber o nome do produto que vai criar a correlação para todas as assinaturas e cursos (produtos) a partir do produto adquirido por este usuário com base nos produtos classificados por outros usuários que adquiriram o mesmo produto."
   ]
  },
  {
   "cell_type": "code",
   "execution_count": 63,
   "id": "29f591ba",
   "metadata": {},
   "outputs": [],
   "source": [
    "# Definição do Dataframe com a matrix de variáveis\n",
    "df_classificacaoMatrix = df.pivot_table(values='classificacaoUsuario', index='cpf', columns='produto', fill_value=0)\n",
    "\n",
    "# Transposição da matrix\n",
    "X = df_classificacaoMatrix.T\n",
    "\n",
    "# Decomposição da Matriz, a função SVD truncada irá reduzir a dimensão da matriz esparsa no número de componentes solicitados\n",
    "SVD_model = TruncatedSVD(n_components=10)\n",
    "decompostaMatrix = SVD_model.fit_transform(X)\n",
    "\n",
    "# Matrix de correlação\n",
    "correlacaoMatrix = np.corrcoef(decompostaMatrix)"
   ]
  },
  {
   "cell_type": "code",
   "execution_count": 64,
   "id": "f3fb55f2",
   "metadata": {},
   "outputs": [
    {
     "data": {
      "text/html": [
       "<style type=\"text/css\">\n",
       "</style>\n",
       "<table id=\"T_d4d9b_\">\n",
       "  <thead>\n",
       "    <tr>\n",
       "      <th class=\"col_heading level0 col0\" >produto</th>\n",
       "    </tr>\n",
       "  </thead>\n",
       "  <tbody>\n",
       "    <tr>\n",
       "      <td id=\"T_d4d9b_row0_col0\" class=\"data row0 col0\" >A Sua Jornada Milionária - Turma 4</td>\n",
       "    </tr>\n",
       "    <tr>\n",
       "      <td id=\"T_d4d9b_row1_col0\" class=\"data row1 col0\" >Assessor de Investimentos</td>\n",
       "    </tr>\n",
       "    <tr>\n",
       "      <td id=\"T_d4d9b_row2_col0\" class=\"data row2 col0\" >Assistente de Arrematação</td>\n",
       "    </tr>\n",
       "    <tr>\n",
       "      <td id=\"T_d4d9b_row3_col0\" class=\"data row3 col0\" >Assistente de Arrematação 3.0</td>\n",
       "    </tr>\n",
       "    <tr>\n",
       "      <td id=\"T_d4d9b_row4_col0\" class=\"data row4 col0\" >Copy Camp - Platinum</td>\n",
       "    </tr>\n",
       "    <tr>\n",
       "      <td id=\"T_d4d9b_row5_col0\" class=\"data row5 col0\" >Copy Camp Silver - Turma 2</td>\n",
       "    </tr>\n",
       "    <tr>\n",
       "      <td id=\"T_d4d9b_row6_col0\" class=\"data row6 col0\" >Copywriter Freelancer em 21 Dias</td>\n",
       "    </tr>\n",
       "    <tr>\n",
       "      <td id=\"T_d4d9b_row7_col0\" class=\"data row7 col0\" >CryptoXpress</td>\n",
       "    </tr>\n",
       "    <tr>\n",
       "      <td id=\"T_d4d9b_row8_col0\" class=\"data row8 col0\" >Double Income</td>\n",
       "    </tr>\n",
       "    <tr>\n",
       "      <td id=\"T_d4d9b_row9_col0\" class=\"data row9 col0\" >Empiricus Crypto Academy</td>\n",
       "    </tr>\n",
       "  </tbody>\n",
       "</table>\n"
      ],
      "text/plain": [
       "<pandas.io.formats.style.Styler at 0x19baa172520>"
      ]
     },
     "metadata": {},
     "output_type": "display_data"
    }
   ],
   "source": [
    "# Escolher um produto da lista para obter as recomendações.\n",
    "p = \"Day Trade Academy\"\n",
    "\n",
    "produtos = list(X.index)\n",
    "indiceProduto = produtos.index(p)\n",
    "\n",
    "# Correlação para todas as assinaturas e cursos (produtos) a partir do produto adquirido por este usuário\n",
    "# com base nos produtos classificados por outros usuários que adquiriram o mesmo produto.\n",
    "correlacaoProduto = correlacaoMatrix[indiceProduto]\n",
    "\n",
    "# Os 10 produtos similares ao produto escolhido.\n",
    "recomendacao = list(X.index[correlacaoProduto > 0.65])\n",
    "\n",
    "# Removendo o produto já comprado pelo cliente\n",
    "recomendacao.remove(p)\n",
    "\n",
    "# Visualização dos 10 produtos recomendados\n",
    "# recomendacao[0:10]\n",
    "display(pd.DataFrame(recomendacao[0:10],columns=['produto']).style.hide_index())"
   ]
  },
  {
   "cell_type": "markdown",
   "id": "49269812",
   "metadata": {},
   "source": [
    "#### Recomendação por produto x categoria x autor"
   ]
  },
  {
   "cell_type": "code",
   "execution_count": 69,
   "id": "f79fcddb",
   "metadata": {},
   "outputs": [
    {
     "name": "stdout",
     "output_type": "stream",
     "text": [
      "10 recomendações de produtos baseado em produto x categoria x autor por utilizar o produto  Day Trade Academy\n"
     ]
    },
    {
     "data": {
      "text/html": [
       "<style type=\"text/css\">\n",
       "</style>\n",
       "<table id=\"T_4430a_\">\n",
       "  <thead>\n",
       "    <tr>\n",
       "      <th class=\"col_heading level0 col0\" >produto</th>\n",
       "      <th class=\"col_heading level0 col1\" >categoria</th>\n",
       "      <th class=\"col_heading level0 col2\" >autor</th>\n",
       "    </tr>\n",
       "  </thead>\n",
       "  <tbody>\n",
       "    <tr>\n",
       "      <td id=\"T_4430a_row0_col0\" class=\"data row0 col0\" >1 Milhão Rápido 2022</td>\n",
       "      <td id=\"T_4430a_row0_col1\" class=\"data row0 col1\" >Bolsa de Valores</td>\n",
       "      <td id=\"T_4430a_row0_col2\" class=\"data row0 col2\" >Felipe Miranda</td>\n",
       "    </tr>\n",
       "    <tr>\n",
       "      <td id=\"T_4430a_row1_col0\" class=\"data row1 col0\" >A Sua Jornada Milionária - Turma 3</td>\n",
       "      <td id=\"T_4430a_row1_col1\" class=\"data row1 col1\" >Bolsa de Valores</td>\n",
       "      <td id=\"T_4430a_row1_col2\" class=\"data row1 col2\" >Bettina Rudolph</td>\n",
       "    </tr>\n",
       "    <tr>\n",
       "      <td id=\"T_4430a_row2_col0\" class=\"data row2 col0\" >1 Milhão Rápido</td>\n",
       "      <td id=\"T_4430a_row2_col1\" class=\"data row2 col1\" >Bolsa de Valores</td>\n",
       "      <td id=\"T_4430a_row2_col2\" class=\"data row2 col2\" >Felipe Miranda</td>\n",
       "    </tr>\n",
       "    <tr>\n",
       "      <td id=\"T_4430a_row3_col0\" class=\"data row3 col0\" >1 Milhão Rápido 2021</td>\n",
       "      <td id=\"T_4430a_row3_col1\" class=\"data row3 col1\" >Bolsa de Valores</td>\n",
       "      <td id=\"T_4430a_row3_col2\" class=\"data row3 col2\" >Felipe Miranda</td>\n",
       "    </tr>\n",
       "    <tr>\n",
       "      <td id=\"T_4430a_row4_col0\" class=\"data row4 col0\" >Seu Primeiro Trade</td>\n",
       "      <td id=\"T_4430a_row4_col1\" class=\"data row4 col1\" >Bolsa de Valores</td>\n",
       "      <td id=\"T_4430a_row4_col2\" class=\"data row4 col2\" >Filipe Fradinho</td>\n",
       "    </tr>\n",
       "    <tr>\n",
       "      <td id=\"T_4430a_row5_col0\" class=\"data row5 col0\" >Day Trade Academy</td>\n",
       "      <td id=\"T_4430a_row5_col1\" class=\"data row5 col1\" >Bolsa de Valores</td>\n",
       "      <td id=\"T_4430a_row5_col2\" class=\"data row5 col2\" >Leandro Petrokas</td>\n",
       "    </tr>\n",
       "    <tr>\n",
       "      <td id=\"T_4430a_row6_col0\" class=\"data row6 col0\" >Jornada com Milhas</td>\n",
       "      <td id=\"T_4430a_row6_col1\" class=\"data row6 col1\" >Bolsa de Valores</td>\n",
       "      <td id=\"T_4430a_row6_col2\" class=\"data row6 col2\" >Bettina Rudolph</td>\n",
       "    </tr>\n",
       "    <tr>\n",
       "      <td id=\"T_4430a_row7_col0\" class=\"data row7 col0\" >Jornada da Liberdade Financeira</td>\n",
       "      <td id=\"T_4430a_row7_col1\" class=\"data row7 col1\" >Bolsa de Valores</td>\n",
       "      <td id=\"T_4430a_row7_col2\" class=\"data row7 col2\" >Rodolfo Amstalden</td>\n",
       "    </tr>\n",
       "    <tr>\n",
       "      <td id=\"T_4430a_row8_col0\" class=\"data row8 col0\" >A Sua Jornada Milionária - Turma 2</td>\n",
       "      <td id=\"T_4430a_row8_col1\" class=\"data row8 col1\" >Bolsa de Valores</td>\n",
       "      <td id=\"T_4430a_row8_col2\" class=\"data row8 col2\" >Bettina Rudolph</td>\n",
       "    </tr>\n",
       "    <tr>\n",
       "      <td id=\"T_4430a_row9_col0\" class=\"data row9 col0\" >A Pizza Milionária</td>\n",
       "      <td id=\"T_4430a_row9_col1\" class=\"data row9 col1\" >Bolsa de Valores</td>\n",
       "      <td id=\"T_4430a_row9_col2\" class=\"data row9 col2\" >Equipe Empiricus</td>\n",
       "    </tr>\n",
       "  </tbody>\n",
       "</table>\n"
      ],
      "text/plain": [
       "<pandas.io.formats.style.Styler at 0x19ba2194340>"
      ]
     },
     "metadata": {},
     "output_type": "display_data"
    }
   ],
   "source": [
    "# Escolher um produto da lista para obter as recomendações. \n",
    "p = \"Day Trade Academy\"\n",
    "\n",
    "# Criando dataframe de produtos classificados\n",
    "produtosClassCategoria = classificacaoPopular.reset_index(drop=False)\n",
    "produtosClassificados = produtosClassCategoria.loc[produtosClassCategoria['produto'].isin(df['produto'])].copy()\n",
    "\n",
    "# Criando novo dataframe de atributos dos produtos\n",
    "atributo = produtosClassificados['categoria'].str.split(\",\", expand=True)\n",
    "\n",
    "# Todos os atributos \n",
    "allatributo = set()\n",
    "for e in atributo.columns:\n",
    "    atributoUnico = atributo[e].str.lower().str.strip().unique()\n",
    "    allatributo.update(atributoUnico)\n",
    "#allatributo.remove(None)\n",
    "\n",
    "# Criando dataframe\n",
    "produtoMatrix = produtosClassificados[['produto', 'categoria','autor']].copy()\n",
    "produtoMatrix['categoria'] = produtoMatrix['categoria'].str.lower().str.strip()\n",
    "produtoMatrix['autor'] = produtoMatrix['autor'].str.lower().str.strip()\n",
    "\n",
    "for e in allatributo:\n",
    "    produtoMatrix[e] = np.where(produtoMatrix['categoria'].str.contains(e), 1, 0)\n",
    "produtoMatrix = produtoMatrix.drop(['categoria'], axis=1)\n",
    "produtoMatrix = produtoMatrix.drop(['autor'], axis=1)\n",
    "produtoMatrix = produtoMatrix.set_index('produto')\n",
    "\n",
    "# Criando matrix de relacionamento produto-genero\n",
    "correlacao = cosine_similarity(produtoMatrix)\n",
    "\n",
    "# obter os 10 produtos similares\n",
    "ind2name = {ind:name for ind,name in enumerate(produtoMatrix.index)}\n",
    "name2ind = {v:k for k,v in ind2name.items()}\n",
    "recomendacao = fn_recomendacaoProdutos( name2ind[p],\n",
    "                                        qtProduto = 10,\n",
    "                                        corrMat = correlacao,\n",
    "                                        mapName = ind2name)\n",
    "\n",
    "print(f\"10 recomendações de produtos baseado em produto x categoria x autor por utilizar o produto  {p}\")\n",
    "display(produtosClassCategoria.loc[produtosClassCategoria['produto'].isin(recomendacao)][['produto','categoria', 'autor']].style.hide_index())\n",
    "\n",
    "del correlacao\n",
    "gc.collect();"
   ]
  },
  {
   "cell_type": "markdown",
   "id": "b74636ce",
   "metadata": {},
   "source": [
    "#### Recomendação por produto x autor x categoria"
   ]
  },
  {
   "cell_type": "code",
   "execution_count": 70,
   "id": "2dca2d48",
   "metadata": {},
   "outputs": [
    {
     "name": "stdout",
     "output_type": "stream",
     "text": [
      "10 recomendações de produtos baseado em produto x autor x categoria por utilizar o produto Day Trade Academy\n"
     ]
    },
    {
     "data": {
      "text/html": [
       "<style type=\"text/css\">\n",
       "</style>\n",
       "<table id=\"T_7b49b_\">\n",
       "  <thead>\n",
       "    <tr>\n",
       "      <th class=\"col_heading level0 col0\" >produto</th>\n",
       "      <th class=\"col_heading level0 col1\" >autor</th>\n",
       "      <th class=\"col_heading level0 col2\" >categoria</th>\n",
       "    </tr>\n",
       "  </thead>\n",
       "  <tbody>\n",
       "    <tr>\n",
       "      <td id=\"T_7b49b_row0_col0\" class=\"data row0 col0\" >Trader de Fim de Semana</td>\n",
       "      <td id=\"T_7b49b_row0_col1\" class=\"data row0 col1\" >Leandro Petrokas</td>\n",
       "      <td id=\"T_7b49b_row0_col2\" class=\"data row0 col2\" >Bolsa de Valores</td>\n",
       "    </tr>\n",
       "    <tr>\n",
       "      <td id=\"T_7b49b_row1_col0\" class=\"data row1 col0\" >Portfólio Antifrágil 2.0</td>\n",
       "      <td id=\"T_7b49b_row1_col1\" class=\"data row1 col1\" >Ruy Hungria</td>\n",
       "      <td id=\"T_7b49b_row1_col2\" class=\"data row1 col2\" >Ações e Futuros</td>\n",
       "    </tr>\n",
       "    <tr>\n",
       "      <td id=\"T_7b49b_row2_col0\" class=\"data row2 col0\" >Leilões de Alta Lucratividade 7.0</td>\n",
       "      <td id=\"T_7b49b_row2_col1\" class=\"data row2 col1\" >Lerry Granville</td>\n",
       "      <td id=\"T_7b49b_row2_col2\" class=\"data row2 col2\" >Renda Extra</td>\n",
       "    </tr>\n",
       "    <tr>\n",
       "      <td id=\"T_7b49b_row3_col0\" class=\"data row3 col0\" >Empiricus Crypto Legacy</td>\n",
       "      <td id=\"T_7b49b_row3_col1\" class=\"data row3 col1\" >Vinicius Bazan</td>\n",
       "      <td id=\"T_7b49b_row3_col2\" class=\"data row3 col2\" >Cripto</td>\n",
       "    </tr>\n",
       "    <tr>\n",
       "      <td id=\"T_7b49b_row4_col0\" class=\"data row4 col0\" >Protocolo T2.E</td>\n",
       "      <td id=\"T_7b49b_row4_col1\" class=\"data row4 col1\" >Andre Franco</td>\n",
       "      <td id=\"T_7b49b_row4_col2\" class=\"data row4 col2\" >Renda Extra</td>\n",
       "    </tr>\n",
       "    <tr>\n",
       "      <td id=\"T_7b49b_row5_col0\" class=\"data row5 col0\" >Leilões de Alta Lucratividade 3.0 - Silver</td>\n",
       "      <td id=\"T_7b49b_row5_col1\" class=\"data row5 col1\" >Lerry Granville</td>\n",
       "      <td id=\"T_7b49b_row5_col2\" class=\"data row5 col2\" >Renda Extra</td>\n",
       "    </tr>\n",
       "    <tr>\n",
       "      <td id=\"T_7b49b_row6_col0\" class=\"data row6 col0\" >Leilões de Alta Lucratividade 4.0 - Platinum</td>\n",
       "      <td id=\"T_7b49b_row6_col1\" class=\"data row6 col1\" >Lerry Granville</td>\n",
       "      <td id=\"T_7b49b_row6_col2\" class=\"data row6 col2\" >Renda Extra</td>\n",
       "    </tr>\n",
       "    <tr>\n",
       "      <td id=\"T_7b49b_row7_col0\" class=\"data row7 col0\" >Assistente de Arrematação 2.0</td>\n",
       "      <td id=\"T_7b49b_row7_col1\" class=\"data row7 col1\" >Lerry Granville</td>\n",
       "      <td id=\"T_7b49b_row7_col2\" class=\"data row7 col2\" >Renda Extra</td>\n",
       "    </tr>\n",
       "    <tr>\n",
       "      <td id=\"T_7b49b_row8_col0\" class=\"data row8 col0\" >Day Trade Academy</td>\n",
       "      <td id=\"T_7b49b_row8_col1\" class=\"data row8 col1\" >Leandro Petrokas</td>\n",
       "      <td id=\"T_7b49b_row8_col2\" class=\"data row8 col2\" >Bolsa de Valores</td>\n",
       "    </tr>\n",
       "    <tr>\n",
       "      <td id=\"T_7b49b_row9_col0\" class=\"data row9 col0\" >O Método Caixa Preta</td>\n",
       "      <td id=\"T_7b49b_row9_col1\" class=\"data row9 col1\" >Amanda Holzer</td>\n",
       "      <td id=\"T_7b49b_row9_col2\" class=\"data row9 col2\" >Renda Extra</td>\n",
       "    </tr>\n",
       "  </tbody>\n",
       "</table>\n"
      ],
      "text/plain": [
       "<pandas.io.formats.style.Styler at 0x19baa18c5e0>"
      ]
     },
     "metadata": {},
     "output_type": "display_data"
    }
   ],
   "source": [
    "# Escolher um produto da lista para obter as recomendações. \n",
    "p = \"Day Trade Academy\"\n",
    "\n",
    "# Criando dataframe de produtos classificados\n",
    "produtosClassCategoria = classificacaoPopular.reset_index(drop=False)\n",
    "produtosClassificados = produtosClassCategoria.loc[produtosClassCategoria['produto'].isin(df['produto'])].copy()\n",
    "\n",
    "# Criando novo dataframe de atributos dos produtos\n",
    "atributo = produtosClassificados['autor'].str.split(\",\", expand=True)\n",
    "\n",
    "# Todos os atributos \n",
    "allatributo = set()\n",
    "for e in atributo.columns:\n",
    "    atributoUnico = atributo[e].str.lower().str.strip().unique()\n",
    "    allatributo.update(atributoUnico)\n",
    "#allatributo.remove(None)\n",
    "\n",
    "# Criando dataframe\n",
    "produtoMatrix = produtosClassificados[['produto', 'autor', 'categoria']].copy()\n",
    "produtoMatrix['autor'] = produtoMatrix['autor'].str.lower().str.strip()\n",
    "produtoMatrix['categoria'] = produtoMatrix['categoria'].str.lower().str.strip()\n",
    "\n",
    "for e in allatributo:\n",
    "    produtoMatrix[e] = np.where(produtoMatrix['autor'].str.contains(e), 1, 0)\n",
    "produtoMatrix = produtoMatrix.drop(['autor'], axis=1)\n",
    "produtoMatrix = produtoMatrix.drop(['categoria'], axis=1)\n",
    "produtoMatrix = produtoMatrix.set_index('produto')\n",
    "\n",
    "# Criando matrix de relacionamento produto-genero\n",
    "correlacao = cosine_similarity(produtoMatrix)\n",
    "\n",
    "# obter os 10 produtos similares\n",
    "ind2name = {ind:name for ind,name in enumerate(produtoMatrix.index)}\n",
    "name2ind = {v:k for k,v in ind2name.items()}\n",
    "recomendacao = fn_recomendacaoProdutos( name2ind[p],\n",
    "                                        qtProduto = 10,\n",
    "                                        corrMat = correlacao,\n",
    "                                        mapName = ind2name)\n",
    "\n",
    "print(f\"10 recomendações de produtos baseado em produto x autor x categoria por utilizar o produto {p}\")\n",
    "display(produtosClassCategoria.loc[produtosClassCategoria['produto'].isin(recomendacao)][['produto','autor', 'categoria']].style.hide_index())\n",
    "\n",
    "del correlacao\n",
    "gc.collect();"
   ]
  },
  {
   "cell_type": "code",
   "execution_count": null,
   "id": "6d55c274",
   "metadata": {},
   "outputs": [],
   "source": []
  },
  {
   "cell_type": "code",
   "execution_count": null,
   "id": "6b42916a",
   "metadata": {},
   "outputs": [],
   "source": []
  }
 ],
 "metadata": {
  "kernelspec": {
   "display_name": "Python 3 (ipykernel)",
   "language": "python",
   "name": "python3"
  },
  "language_info": {
   "codemirror_mode": {
    "name": "ipython",
    "version": 3
   },
   "file_extension": ".py",
   "mimetype": "text/x-python",
   "name": "python",
   "nbconvert_exporter": "python",
   "pygments_lexer": "ipython3",
   "version": "3.8.12"
  }
 },
 "nbformat": 4,
 "nbformat_minor": 5
}
