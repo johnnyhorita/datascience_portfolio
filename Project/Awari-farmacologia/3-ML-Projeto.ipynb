{
 "cells": [
  {
   "cell_type": "markdown",
   "id": "762eb8f8",
   "metadata": {},
   "source": [
    "# Importando os dados\n",
    "\n",
    "Explorando uma base de dados da área de biologia e da biotecnologia para identificar novas drogas mais funcionais com baixa contraposto.\n",
    "\n",
    "O objetivo é identificar um alvo proteico associado a uma doença e desenvolver uma molécula que possa modular essa proteína auxiliando a desenvolver um algoritmo para prever o MoA de um composto (atividade biológica de uma determinada molécula), dada sua assinatura celular, ajudando os cientistas a avançar no processo de descoberta de medicamentos.\n",
    "\n",
    "Em farmacologia, o termo MOA - Mechanism of Action (Mecanismo de Ação) - refere-se à interação bioquímica específica através da qual uma substância medicamentosa produz seu efeito farmacológico\n"
   ]
  },
  {
   "cell_type": "markdown",
   "id": "f3969e35",
   "metadata": {},
   "source": [
    "### Desenvolvimento do Projeto"
   ]
  },
  {
   "cell_type": "code",
   "execution_count": 1,
   "id": "db7eba91",
   "metadata": {},
   "outputs": [],
   "source": [
    "# importing pandas as pd \n",
    "import pandas as pd\n",
    "\n",
    "# importing numpy as np \n",
    "import numpy as np\n",
    "\n",
    "# importing seaborn as sns\n",
    "import seaborn as sns\n",
    "\n",
    "# importing pyplot\n",
    "from matplotlib import pyplot as plt\n",
    "\n",
    "# importing train_test_split\n",
    "from sklearn.model_selection import train_test_split\n",
    "\n",
    "# importing LogisticRegression model\n",
    "from sklearn.linear_model import LogisticRegression\n"
   ]
  },
  {
   "cell_type": "markdown",
   "id": "211a03b4",
   "metadata": {},
   "source": [
    "### Análise exploratória"
   ]
  },
  {
   "cell_type": "code",
   "execution_count": 2,
   "id": "8d516fe8",
   "metadata": {},
   "outputs": [],
   "source": [
    "# Banco de dados\n",
    "# Do github\n",
    "# data_file = 'https://github.com/johnnyhorita/awari-datascience/blob/main/12-Projeto-Final/dados/dados_combinados.zip?raw=true'\n",
    "data_file = 'dados\\dados_combinados.zip'\n",
    "\n",
    "# Importando o banco de dados para o Dataframe\n",
    "dfc = pd.read_csv(data_file, compression = 'zip')"
   ]
  },
  {
   "cell_type": "code",
   "execution_count": 3,
   "id": "3d44fb3d",
   "metadata": {},
   "outputs": [
    {
     "name": "stdout",
     "output_type": "stream",
     "text": [
      "<class 'pandas.core.frame.DataFrame'>\n",
      "RangeIndex: 23814 entries, 0 to 23813\n",
      "Columns: 883 entries, id to tratamento_com_controle\n",
      "dtypes: bool(5), float64(872), int64(2), object(4)\n",
      "memory usage: 159.6+ MB\n"
     ]
    }
   ],
   "source": [
    "# Informações do dataframe\n",
    "dfc.info()"
   ]
  },
  {
   "cell_type": "code",
   "execution_count": 4,
   "id": "61c666fd",
   "metadata": {},
   "outputs": [
    {
     "data": {
      "text/html": [
       "<div>\n",
       "<style scoped>\n",
       "    .dataframe tbody tr th:only-of-type {\n",
       "        vertical-align: middle;\n",
       "    }\n",
       "\n",
       "    .dataframe tbody tr th {\n",
       "        vertical-align: top;\n",
       "    }\n",
       "\n",
       "    .dataframe thead th {\n",
       "        text-align: right;\n",
       "    }\n",
       "</style>\n",
       "<table border=\"1\" class=\"dataframe\">\n",
       "  <thead>\n",
       "    <tr style=\"text-align: right;\">\n",
       "      <th></th>\n",
       "      <th>id</th>\n",
       "      <th>tratamento</th>\n",
       "      <th>tempo</th>\n",
       "      <th>dose</th>\n",
       "      <th>composto</th>\n",
       "      <th>g_0</th>\n",
       "      <th>g_1</th>\n",
       "      <th>g_2</th>\n",
       "      <th>g_3</th>\n",
       "      <th>g_4</th>\n",
       "      <th>...</th>\n",
       "      <th>c_96</th>\n",
       "      <th>c_97</th>\n",
       "      <th>c_98</th>\n",
       "      <th>c_99</th>\n",
       "      <th>n_moa</th>\n",
       "      <th>is_Activated</th>\n",
       "      <th>24</th>\n",
       "      <th>48</th>\n",
       "      <th>72</th>\n",
       "      <th>tratamento_com_controle</th>\n",
       "    </tr>\n",
       "  </thead>\n",
       "  <tbody>\n",
       "    <tr>\n",
       "      <th>0</th>\n",
       "      <td>id_000644bb2</td>\n",
       "      <td>com_droga</td>\n",
       "      <td>24</td>\n",
       "      <td>D1</td>\n",
       "      <td>b68db1d53</td>\n",
       "      <td>1.0620</td>\n",
       "      <td>0.5577</td>\n",
       "      <td>-0.2479</td>\n",
       "      <td>-0.6208</td>\n",
       "      <td>-0.1944</td>\n",
       "      <td>...</td>\n",
       "      <td>-0.3981</td>\n",
       "      <td>0.2139</td>\n",
       "      <td>0.3801</td>\n",
       "      <td>0.4176</td>\n",
       "      <td>1</td>\n",
       "      <td>True</td>\n",
       "      <td>True</td>\n",
       "      <td>False</td>\n",
       "      <td>False</td>\n",
       "      <td>False</td>\n",
       "    </tr>\n",
       "    <tr>\n",
       "      <th>1</th>\n",
       "      <td>id_000779bfc</td>\n",
       "      <td>com_droga</td>\n",
       "      <td>72</td>\n",
       "      <td>D1</td>\n",
       "      <td>df89a8e5a</td>\n",
       "      <td>0.0743</td>\n",
       "      <td>0.4087</td>\n",
       "      <td>0.2991</td>\n",
       "      <td>0.0604</td>\n",
       "      <td>1.0190</td>\n",
       "      <td>...</td>\n",
       "      <td>0.1522</td>\n",
       "      <td>0.1241</td>\n",
       "      <td>0.6077</td>\n",
       "      <td>0.7371</td>\n",
       "      <td>0</td>\n",
       "      <td>False</td>\n",
       "      <td>False</td>\n",
       "      <td>False</td>\n",
       "      <td>True</td>\n",
       "      <td>False</td>\n",
       "    </tr>\n",
       "    <tr>\n",
       "      <th>2</th>\n",
       "      <td>id_000a6266a</td>\n",
       "      <td>com_droga</td>\n",
       "      <td>48</td>\n",
       "      <td>D1</td>\n",
       "      <td>18bb41b2c</td>\n",
       "      <td>0.6280</td>\n",
       "      <td>0.5817</td>\n",
       "      <td>1.5540</td>\n",
       "      <td>-0.0764</td>\n",
       "      <td>-0.0323</td>\n",
       "      <td>...</td>\n",
       "      <td>-0.6417</td>\n",
       "      <td>-0.2187</td>\n",
       "      <td>-1.4080</td>\n",
       "      <td>0.6931</td>\n",
       "      <td>3</td>\n",
       "      <td>True</td>\n",
       "      <td>False</td>\n",
       "      <td>True</td>\n",
       "      <td>False</td>\n",
       "      <td>False</td>\n",
       "    </tr>\n",
       "    <tr>\n",
       "      <th>3</th>\n",
       "      <td>id_0015fd391</td>\n",
       "      <td>com_droga</td>\n",
       "      <td>48</td>\n",
       "      <td>D1</td>\n",
       "      <td>8c7f86626</td>\n",
       "      <td>-0.5138</td>\n",
       "      <td>-0.2491</td>\n",
       "      <td>-0.2656</td>\n",
       "      <td>0.5288</td>\n",
       "      <td>4.0620</td>\n",
       "      <td>...</td>\n",
       "      <td>-1.6210</td>\n",
       "      <td>-0.8784</td>\n",
       "      <td>-0.3876</td>\n",
       "      <td>-0.8154</td>\n",
       "      <td>0</td>\n",
       "      <td>False</td>\n",
       "      <td>False</td>\n",
       "      <td>True</td>\n",
       "      <td>False</td>\n",
       "      <td>False</td>\n",
       "    </tr>\n",
       "    <tr>\n",
       "      <th>4</th>\n",
       "      <td>id_001626bd3</td>\n",
       "      <td>com_droga</td>\n",
       "      <td>72</td>\n",
       "      <td>D2</td>\n",
       "      <td>7cbed3131</td>\n",
       "      <td>-0.3254</td>\n",
       "      <td>-0.4009</td>\n",
       "      <td>0.9700</td>\n",
       "      <td>0.6919</td>\n",
       "      <td>1.4180</td>\n",
       "      <td>...</td>\n",
       "      <td>0.1094</td>\n",
       "      <td>0.2885</td>\n",
       "      <td>-0.3786</td>\n",
       "      <td>0.7125</td>\n",
       "      <td>1</td>\n",
       "      <td>True</td>\n",
       "      <td>False</td>\n",
       "      <td>False</td>\n",
       "      <td>True</td>\n",
       "      <td>False</td>\n",
       "    </tr>\n",
       "    <tr>\n",
       "      <th>5</th>\n",
       "      <td>id_001762a82</td>\n",
       "      <td>com_droga</td>\n",
       "      <td>24</td>\n",
       "      <td>D1</td>\n",
       "      <td>e06749542</td>\n",
       "      <td>-0.6111</td>\n",
       "      <td>0.2941</td>\n",
       "      <td>-0.9901</td>\n",
       "      <td>0.2277</td>\n",
       "      <td>1.2810</td>\n",
       "      <td>...</td>\n",
       "      <td>1.2120</td>\n",
       "      <td>0.3765</td>\n",
       "      <td>0.7848</td>\n",
       "      <td>1.3990</td>\n",
       "      <td>1</td>\n",
       "      <td>True</td>\n",
       "      <td>True</td>\n",
       "      <td>False</td>\n",
       "      <td>False</td>\n",
       "      <td>False</td>\n",
       "    </tr>\n",
       "    <tr>\n",
       "      <th>6</th>\n",
       "      <td>id_001bd861f</td>\n",
       "      <td>com_droga</td>\n",
       "      <td>24</td>\n",
       "      <td>D2</td>\n",
       "      <td>746ca1f5a</td>\n",
       "      <td>2.0440</td>\n",
       "      <td>1.7000</td>\n",
       "      <td>-1.5390</td>\n",
       "      <td>5.9440</td>\n",
       "      <td>-2.1670</td>\n",
       "      <td>...</td>\n",
       "      <td>2.4670</td>\n",
       "      <td>0.0357</td>\n",
       "      <td>0.1351</td>\n",
       "      <td>-0.3179</td>\n",
       "      <td>0</td>\n",
       "      <td>False</td>\n",
       "      <td>True</td>\n",
       "      <td>False</td>\n",
       "      <td>False</td>\n",
       "      <td>False</td>\n",
       "    </tr>\n",
       "    <tr>\n",
       "      <th>7</th>\n",
       "      <td>id_0020d0484</td>\n",
       "      <td>com_droga</td>\n",
       "      <td>48</td>\n",
       "      <td>D1</td>\n",
       "      <td>8b87a7a83</td>\n",
       "      <td>0.2711</td>\n",
       "      <td>0.5133</td>\n",
       "      <td>-0.1327</td>\n",
       "      <td>2.5950</td>\n",
       "      <td>0.6980</td>\n",
       "      <td>...</td>\n",
       "      <td>0.6633</td>\n",
       "      <td>0.4562</td>\n",
       "      <td>-0.9622</td>\n",
       "      <td>0.0260</td>\n",
       "      <td>1</td>\n",
       "      <td>True</td>\n",
       "      <td>False</td>\n",
       "      <td>True</td>\n",
       "      <td>False</td>\n",
       "      <td>False</td>\n",
       "    </tr>\n",
       "    <tr>\n",
       "      <th>8</th>\n",
       "      <td>id_00224bf20</td>\n",
       "      <td>com_droga</td>\n",
       "      <td>48</td>\n",
       "      <td>D1</td>\n",
       "      <td>952b76dfc</td>\n",
       "      <td>-0.3014</td>\n",
       "      <td>0.5545</td>\n",
       "      <td>-0.2576</td>\n",
       "      <td>-0.1390</td>\n",
       "      <td>-0.6487</td>\n",
       "      <td>...</td>\n",
       "      <td>-0.1167</td>\n",
       "      <td>-0.1241</td>\n",
       "      <td>-0.6420</td>\n",
       "      <td>0.5543</td>\n",
       "      <td>0</td>\n",
       "      <td>False</td>\n",
       "      <td>False</td>\n",
       "      <td>True</td>\n",
       "      <td>False</td>\n",
       "      <td>False</td>\n",
       "    </tr>\n",
       "    <tr>\n",
       "      <th>9</th>\n",
       "      <td>id_0023f063e</td>\n",
       "      <td>com_droga</td>\n",
       "      <td>48</td>\n",
       "      <td>D2</td>\n",
       "      <td>de7583071</td>\n",
       "      <td>-0.0630</td>\n",
       "      <td>0.2564</td>\n",
       "      <td>-0.5279</td>\n",
       "      <td>-0.2541</td>\n",
       "      <td>-0.0182</td>\n",
       "      <td>...</td>\n",
       "      <td>-0.8745</td>\n",
       "      <td>-0.2716</td>\n",
       "      <td>0.0189</td>\n",
       "      <td>-2.0000</td>\n",
       "      <td>1</td>\n",
       "      <td>True</td>\n",
       "      <td>False</td>\n",
       "      <td>True</td>\n",
       "      <td>False</td>\n",
       "      <td>False</td>\n",
       "    </tr>\n",
       "  </tbody>\n",
       "</table>\n",
       "<p>10 rows × 883 columns</p>\n",
       "</div>"
      ],
      "text/plain": [
       "             id tratamento  tempo dose   composto     g_0     g_1     g_2  \\\n",
       "0  id_000644bb2  com_droga     24   D1  b68db1d53  1.0620  0.5577 -0.2479   \n",
       "1  id_000779bfc  com_droga     72   D1  df89a8e5a  0.0743  0.4087  0.2991   \n",
       "2  id_000a6266a  com_droga     48   D1  18bb41b2c  0.6280  0.5817  1.5540   \n",
       "3  id_0015fd391  com_droga     48   D1  8c7f86626 -0.5138 -0.2491 -0.2656   \n",
       "4  id_001626bd3  com_droga     72   D2  7cbed3131 -0.3254 -0.4009  0.9700   \n",
       "5  id_001762a82  com_droga     24   D1  e06749542 -0.6111  0.2941 -0.9901   \n",
       "6  id_001bd861f  com_droga     24   D2  746ca1f5a  2.0440  1.7000 -1.5390   \n",
       "7  id_0020d0484  com_droga     48   D1  8b87a7a83  0.2711  0.5133 -0.1327   \n",
       "8  id_00224bf20  com_droga     48   D1  952b76dfc -0.3014  0.5545 -0.2576   \n",
       "9  id_0023f063e  com_droga     48   D2  de7583071 -0.0630  0.2564 -0.5279   \n",
       "\n",
       "      g_3     g_4  ...    c_96    c_97    c_98    c_99  n_moa  is_Activated  \\\n",
       "0 -0.6208 -0.1944  ... -0.3981  0.2139  0.3801  0.4176      1          True   \n",
       "1  0.0604  1.0190  ...  0.1522  0.1241  0.6077  0.7371      0         False   \n",
       "2 -0.0764 -0.0323  ... -0.6417 -0.2187 -1.4080  0.6931      3          True   \n",
       "3  0.5288  4.0620  ... -1.6210 -0.8784 -0.3876 -0.8154      0         False   \n",
       "4  0.6919  1.4180  ...  0.1094  0.2885 -0.3786  0.7125      1          True   \n",
       "5  0.2277  1.2810  ...  1.2120  0.3765  0.7848  1.3990      1          True   \n",
       "6  5.9440 -2.1670  ...  2.4670  0.0357  0.1351 -0.3179      0         False   \n",
       "7  2.5950  0.6980  ...  0.6633  0.4562 -0.9622  0.0260      1          True   \n",
       "8 -0.1390 -0.6487  ... -0.1167 -0.1241 -0.6420  0.5543      0         False   \n",
       "9 -0.2541 -0.0182  ... -0.8745 -0.2716  0.0189 -2.0000      1          True   \n",
       "\n",
       "      24     48     72  tratamento_com_controle  \n",
       "0   True  False  False                    False  \n",
       "1  False  False   True                    False  \n",
       "2  False   True  False                    False  \n",
       "3  False   True  False                    False  \n",
       "4  False  False   True                    False  \n",
       "5   True  False  False                    False  \n",
       "6   True  False  False                    False  \n",
       "7  False   True  False                    False  \n",
       "8  False   True  False                    False  \n",
       "9  False   True  False                    False  \n",
       "\n",
       "[10 rows x 883 columns]"
      ]
     },
     "execution_count": 4,
     "metadata": {},
     "output_type": "execute_result"
    }
   ],
   "source": [
    "# Amostra de variaveis\n",
    "dfc.head(10)"
   ]
  },
  {
   "cell_type": "code",
   "execution_count": 5,
   "id": "1d2d0096",
   "metadata": {},
   "outputs": [
    {
     "data": {
      "text/plain": [
       "(23814, 883)"
      ]
     },
     "execution_count": 5,
     "metadata": {},
     "output_type": "execute_result"
    }
   ],
   "source": [
    "# Quantidade de atributos e variáveis\n",
    "dfc.shape"
   ]
  },
  {
   "cell_type": "markdown",
   "id": "b2a71ab7",
   "metadata": {},
   "source": [
    "### Preparação e limpeza dos dados"
   ]
  },
  {
   "cell_type": "code",
   "execution_count": 6,
   "id": "69f211e4",
   "metadata": {},
   "outputs": [
    {
     "data": {
      "text/plain": [
       "id                         0\n",
       "tratamento                 0\n",
       "tempo                      0\n",
       "dose                       0\n",
       "composto                   0\n",
       "                          ..\n",
       "is_Activated               0\n",
       "24                         0\n",
       "48                         0\n",
       "72                         0\n",
       "tratamento_com_controle    0\n",
       "Length: 883, dtype: int64"
      ]
     },
     "execution_count": 6,
     "metadata": {},
     "output_type": "execute_result"
    }
   ],
   "source": [
    "# Analisa valores nulos\n",
    "dfc.isnull().sum()"
   ]
  },
  {
   "cell_type": "markdown",
   "id": "67cbfd54",
   "metadata": {},
   "source": [
    "### Seleção de atributos"
   ]
  },
  {
   "cell_type": "code",
   "execution_count": 7,
   "id": "ec8e86ee",
   "metadata": {},
   "outputs": [
    {
     "data": {
      "text/html": [
       "<div>\n",
       "<style scoped>\n",
       "    .dataframe tbody tr th:only-of-type {\n",
       "        vertical-align: middle;\n",
       "    }\n",
       "\n",
       "    .dataframe tbody tr th {\n",
       "        vertical-align: top;\n",
       "    }\n",
       "\n",
       "    .dataframe thead th {\n",
       "        text-align: right;\n",
       "    }\n",
       "</style>\n",
       "<table border=\"1\" class=\"dataframe\">\n",
       "  <thead>\n",
       "    <tr style=\"text-align: right;\">\n",
       "      <th></th>\n",
       "      <th>tempo</th>\n",
       "      <th>g_0</th>\n",
       "      <th>g_1</th>\n",
       "      <th>g_2</th>\n",
       "      <th>g_3</th>\n",
       "      <th>g_4</th>\n",
       "      <th>g_5</th>\n",
       "      <th>g_6</th>\n",
       "      <th>g_7</th>\n",
       "      <th>g_8</th>\n",
       "      <th>...</th>\n",
       "      <th>c_96</th>\n",
       "      <th>c_97</th>\n",
       "      <th>c_98</th>\n",
       "      <th>c_99</th>\n",
       "      <th>n_moa</th>\n",
       "      <th>is_Activated</th>\n",
       "      <th>24</th>\n",
       "      <th>48</th>\n",
       "      <th>72</th>\n",
       "      <th>tratamento_com_controle</th>\n",
       "    </tr>\n",
       "  </thead>\n",
       "  <tbody>\n",
       "    <tr>\n",
       "      <th>tempo</th>\n",
       "      <td>1.000000</td>\n",
       "      <td>0.007610</td>\n",
       "      <td>0.043335</td>\n",
       "      <td>-0.162238</td>\n",
       "      <td>-0.031226</td>\n",
       "      <td>0.027241</td>\n",
       "      <td>-0.081324</td>\n",
       "      <td>-0.030058</td>\n",
       "      <td>0.003499</td>\n",
       "      <td>-0.024291</td>\n",
       "      <td>...</td>\n",
       "      <td>-0.067116</td>\n",
       "      <td>-0.067969</td>\n",
       "      <td>-0.088916</td>\n",
       "      <td>-0.075736</td>\n",
       "      <td>0.000830</td>\n",
       "      <td>0.000199</td>\n",
       "      <td>-0.861703</td>\n",
       "      <td>-0.000756</td>\n",
       "      <td>0.861900</td>\n",
       "      <td>0.000857</td>\n",
       "    </tr>\n",
       "    <tr>\n",
       "      <th>g_0</th>\n",
       "      <td>0.007610</td>\n",
       "      <td>1.000000</td>\n",
       "      <td>0.086032</td>\n",
       "      <td>0.176188</td>\n",
       "      <td>0.011266</td>\n",
       "      <td>0.403153</td>\n",
       "      <td>-0.165478</td>\n",
       "      <td>0.238348</td>\n",
       "      <td>-0.374451</td>\n",
       "      <td>-0.604212</td>\n",
       "      <td>...</td>\n",
       "      <td>-0.646784</td>\n",
       "      <td>-0.622840</td>\n",
       "      <td>-0.640484</td>\n",
       "      <td>-0.609238</td>\n",
       "      <td>0.259544</td>\n",
       "      <td>0.133242</td>\n",
       "      <td>-0.017407</td>\n",
       "      <td>0.021376</td>\n",
       "      <td>-0.004283</td>\n",
       "      <td>-0.072139</td>\n",
       "    </tr>\n",
       "    <tr>\n",
       "      <th>g_1</th>\n",
       "      <td>0.043335</td>\n",
       "      <td>0.086032</td>\n",
       "      <td>1.000000</td>\n",
       "      <td>-0.054518</td>\n",
       "      <td>-0.027855</td>\n",
       "      <td>0.193647</td>\n",
       "      <td>-0.151590</td>\n",
       "      <td>-0.122541</td>\n",
       "      <td>0.144537</td>\n",
       "      <td>-0.009973</td>\n",
       "      <td>...</td>\n",
       "      <td>-0.022127</td>\n",
       "      <td>-0.008487</td>\n",
       "      <td>-0.002824</td>\n",
       "      <td>-0.002308</td>\n",
       "      <td>0.032298</td>\n",
       "      <td>0.030972</td>\n",
       "      <td>-0.040574</td>\n",
       "      <td>0.006337</td>\n",
       "      <td>0.034121</td>\n",
       "      <td>-0.066868</td>\n",
       "    </tr>\n",
       "    <tr>\n",
       "      <th>g_2</th>\n",
       "      <td>-0.162238</td>\n",
       "      <td>0.176188</td>\n",
       "      <td>-0.054518</td>\n",
       "      <td>1.000000</td>\n",
       "      <td>0.042633</td>\n",
       "      <td>0.013968</td>\n",
       "      <td>0.018516</td>\n",
       "      <td>0.015190</td>\n",
       "      <td>-0.144205</td>\n",
       "      <td>-0.128029</td>\n",
       "      <td>...</td>\n",
       "      <td>-0.182540</td>\n",
       "      <td>-0.178812</td>\n",
       "      <td>-0.170152</td>\n",
       "      <td>-0.172124</td>\n",
       "      <td>0.070537</td>\n",
       "      <td>0.030371</td>\n",
       "      <td>0.147742</td>\n",
       "      <td>-0.015527</td>\n",
       "      <td>-0.131898</td>\n",
       "      <td>-0.053437</td>\n",
       "    </tr>\n",
       "    <tr>\n",
       "      <th>g_3</th>\n",
       "      <td>-0.031226</td>\n",
       "      <td>0.011266</td>\n",
       "      <td>-0.027855</td>\n",
       "      <td>0.042633</td>\n",
       "      <td>1.000000</td>\n",
       "      <td>-0.033039</td>\n",
       "      <td>0.042231</td>\n",
       "      <td>-0.043177</td>\n",
       "      <td>-0.175692</td>\n",
       "      <td>-0.086167</td>\n",
       "      <td>...</td>\n",
       "      <td>-0.083846</td>\n",
       "      <td>-0.049951</td>\n",
       "      <td>-0.079855</td>\n",
       "      <td>-0.037579</td>\n",
       "      <td>0.094053</td>\n",
       "      <td>0.075377</td>\n",
       "      <td>0.034461</td>\n",
       "      <td>-0.014863</td>\n",
       "      <td>-0.019365</td>\n",
       "      <td>0.002551</td>\n",
       "    </tr>\n",
       "    <tr>\n",
       "      <th>...</th>\n",
       "      <td>...</td>\n",
       "      <td>...</td>\n",
       "      <td>...</td>\n",
       "      <td>...</td>\n",
       "      <td>...</td>\n",
       "      <td>...</td>\n",
       "      <td>...</td>\n",
       "      <td>...</td>\n",
       "      <td>...</td>\n",
       "      <td>...</td>\n",
       "      <td>...</td>\n",
       "      <td>...</td>\n",
       "      <td>...</td>\n",
       "      <td>...</td>\n",
       "      <td>...</td>\n",
       "      <td>...</td>\n",
       "      <td>...</td>\n",
       "      <td>...</td>\n",
       "      <td>...</td>\n",
       "      <td>...</td>\n",
       "      <td>...</td>\n",
       "    </tr>\n",
       "    <tr>\n",
       "      <th>is_Activated</th>\n",
       "      <td>0.000199</td>\n",
       "      <td>0.133242</td>\n",
       "      <td>0.030972</td>\n",
       "      <td>0.030371</td>\n",
       "      <td>0.075377</td>\n",
       "      <td>0.084482</td>\n",
       "      <td>-0.037105</td>\n",
       "      <td>0.018192</td>\n",
       "      <td>-0.093888</td>\n",
       "      <td>-0.142016</td>\n",
       "      <td>...</td>\n",
       "      <td>-0.136478</td>\n",
       "      <td>-0.119264</td>\n",
       "      <td>-0.151677</td>\n",
       "      <td>-0.120524</td>\n",
       "      <td>0.838153</td>\n",
       "      <td>1.000000</td>\n",
       "      <td>0.000557</td>\n",
       "      <td>-0.001435</td>\n",
       "      <td>0.000899</td>\n",
       "      <td>-0.362115</td>\n",
       "    </tr>\n",
       "    <tr>\n",
       "      <th>24</th>\n",
       "      <td>-0.861703</td>\n",
       "      <td>-0.017407</td>\n",
       "      <td>-0.040574</td>\n",
       "      <td>0.147742</td>\n",
       "      <td>0.034461</td>\n",
       "      <td>-0.031495</td>\n",
       "      <td>0.064817</td>\n",
       "      <td>0.024855</td>\n",
       "      <td>-0.010530</td>\n",
       "      <td>0.030745</td>\n",
       "      <td>...</td>\n",
       "      <td>0.055791</td>\n",
       "      <td>0.061087</td>\n",
       "      <td>0.081420</td>\n",
       "      <td>0.065655</td>\n",
       "      <td>-0.000297</td>\n",
       "      <td>0.000557</td>\n",
       "      <td>1.000000</td>\n",
       "      <td>-0.506761</td>\n",
       "      <td>-0.485404</td>\n",
       "      <td>-0.000997</td>\n",
       "    </tr>\n",
       "    <tr>\n",
       "      <th>48</th>\n",
       "      <td>-0.000756</td>\n",
       "      <td>0.021376</td>\n",
       "      <td>0.006337</td>\n",
       "      <td>-0.015527</td>\n",
       "      <td>-0.014863</td>\n",
       "      <td>0.015788</td>\n",
       "      <td>0.010427</td>\n",
       "      <td>0.002084</td>\n",
       "      <td>0.014808</td>\n",
       "      <td>-0.019321</td>\n",
       "      <td>...</td>\n",
       "      <td>0.004077</td>\n",
       "      <td>-0.004911</td>\n",
       "      <td>-0.009394</td>\n",
       "      <td>-0.000718</td>\n",
       "      <td>-0.000825</td>\n",
       "      <td>-0.001435</td>\n",
       "      <td>-0.506761</td>\n",
       "      <td>1.000000</td>\n",
       "      <td>-0.507730</td>\n",
       "      <td>0.000510</td>\n",
       "    </tr>\n",
       "    <tr>\n",
       "      <th>72</th>\n",
       "      <td>0.861900</td>\n",
       "      <td>-0.004283</td>\n",
       "      <td>0.034121</td>\n",
       "      <td>-0.131898</td>\n",
       "      <td>-0.019365</td>\n",
       "      <td>0.015463</td>\n",
       "      <td>-0.075349</td>\n",
       "      <td>-0.026952</td>\n",
       "      <td>-0.004494</td>\n",
       "      <td>-0.011130</td>\n",
       "      <td>...</td>\n",
       "      <td>-0.059889</td>\n",
       "      <td>-0.056066</td>\n",
       "      <td>-0.071839</td>\n",
       "      <td>-0.064884</td>\n",
       "      <td>0.001133</td>\n",
       "      <td>0.000899</td>\n",
       "      <td>-0.485404</td>\n",
       "      <td>-0.507730</td>\n",
       "      <td>1.000000</td>\n",
       "      <td>0.000480</td>\n",
       "    </tr>\n",
       "    <tr>\n",
       "      <th>tratamento_com_controle</th>\n",
       "      <td>0.000857</td>\n",
       "      <td>-0.072139</td>\n",
       "      <td>-0.066868</td>\n",
       "      <td>-0.053437</td>\n",
       "      <td>0.002551</td>\n",
       "      <td>-0.091805</td>\n",
       "      <td>0.013221</td>\n",
       "      <td>0.092641</td>\n",
       "      <td>0.005120</td>\n",
       "      <td>0.097569</td>\n",
       "      <td>...</td>\n",
       "      <td>0.087668</td>\n",
       "      <td>0.092418</td>\n",
       "      <td>0.120323</td>\n",
       "      <td>0.117060</td>\n",
       "      <td>-0.303508</td>\n",
       "      <td>-0.362115</td>\n",
       "      <td>-0.000997</td>\n",
       "      <td>0.000510</td>\n",
       "      <td>0.000480</td>\n",
       "      <td>1.000000</td>\n",
       "    </tr>\n",
       "  </tbody>\n",
       "</table>\n",
       "<p>879 rows × 879 columns</p>\n",
       "</div>"
      ],
      "text/plain": [
       "                            tempo       g_0       g_1       g_2       g_3  \\\n",
       "tempo                    1.000000  0.007610  0.043335 -0.162238 -0.031226   \n",
       "g_0                      0.007610  1.000000  0.086032  0.176188  0.011266   \n",
       "g_1                      0.043335  0.086032  1.000000 -0.054518 -0.027855   \n",
       "g_2                     -0.162238  0.176188 -0.054518  1.000000  0.042633   \n",
       "g_3                     -0.031226  0.011266 -0.027855  0.042633  1.000000   \n",
       "...                           ...       ...       ...       ...       ...   \n",
       "is_Activated             0.000199  0.133242  0.030972  0.030371  0.075377   \n",
       "24                      -0.861703 -0.017407 -0.040574  0.147742  0.034461   \n",
       "48                      -0.000756  0.021376  0.006337 -0.015527 -0.014863   \n",
       "72                       0.861900 -0.004283  0.034121 -0.131898 -0.019365   \n",
       "tratamento_com_controle  0.000857 -0.072139 -0.066868 -0.053437  0.002551   \n",
       "\n",
       "                              g_4       g_5       g_6       g_7       g_8  \\\n",
       "tempo                    0.027241 -0.081324 -0.030058  0.003499 -0.024291   \n",
       "g_0                      0.403153 -0.165478  0.238348 -0.374451 -0.604212   \n",
       "g_1                      0.193647 -0.151590 -0.122541  0.144537 -0.009973   \n",
       "g_2                      0.013968  0.018516  0.015190 -0.144205 -0.128029   \n",
       "g_3                     -0.033039  0.042231 -0.043177 -0.175692 -0.086167   \n",
       "...                           ...       ...       ...       ...       ...   \n",
       "is_Activated             0.084482 -0.037105  0.018192 -0.093888 -0.142016   \n",
       "24                      -0.031495  0.064817  0.024855 -0.010530  0.030745   \n",
       "48                       0.015788  0.010427  0.002084  0.014808 -0.019321   \n",
       "72                       0.015463 -0.075349 -0.026952 -0.004494 -0.011130   \n",
       "tratamento_com_controle -0.091805  0.013221  0.092641  0.005120  0.097569   \n",
       "\n",
       "                         ...      c_96      c_97      c_98      c_99  \\\n",
       "tempo                    ... -0.067116 -0.067969 -0.088916 -0.075736   \n",
       "g_0                      ... -0.646784 -0.622840 -0.640484 -0.609238   \n",
       "g_1                      ... -0.022127 -0.008487 -0.002824 -0.002308   \n",
       "g_2                      ... -0.182540 -0.178812 -0.170152 -0.172124   \n",
       "g_3                      ... -0.083846 -0.049951 -0.079855 -0.037579   \n",
       "...                      ...       ...       ...       ...       ...   \n",
       "is_Activated             ... -0.136478 -0.119264 -0.151677 -0.120524   \n",
       "24                       ...  0.055791  0.061087  0.081420  0.065655   \n",
       "48                       ...  0.004077 -0.004911 -0.009394 -0.000718   \n",
       "72                       ... -0.059889 -0.056066 -0.071839 -0.064884   \n",
       "tratamento_com_controle  ...  0.087668  0.092418  0.120323  0.117060   \n",
       "\n",
       "                            n_moa  is_Activated        24        48        72  \\\n",
       "tempo                    0.000830      0.000199 -0.861703 -0.000756  0.861900   \n",
       "g_0                      0.259544      0.133242 -0.017407  0.021376 -0.004283   \n",
       "g_1                      0.032298      0.030972 -0.040574  0.006337  0.034121   \n",
       "g_2                      0.070537      0.030371  0.147742 -0.015527 -0.131898   \n",
       "g_3                      0.094053      0.075377  0.034461 -0.014863 -0.019365   \n",
       "...                           ...           ...       ...       ...       ...   \n",
       "is_Activated             0.838153      1.000000  0.000557 -0.001435  0.000899   \n",
       "24                      -0.000297      0.000557  1.000000 -0.506761 -0.485404   \n",
       "48                      -0.000825     -0.001435 -0.506761  1.000000 -0.507730   \n",
       "72                       0.001133      0.000899 -0.485404 -0.507730  1.000000   \n",
       "tratamento_com_controle -0.303508     -0.362115 -0.000997  0.000510  0.000480   \n",
       "\n",
       "                         tratamento_com_controle  \n",
       "tempo                                   0.000857  \n",
       "g_0                                    -0.072139  \n",
       "g_1                                    -0.066868  \n",
       "g_2                                    -0.053437  \n",
       "g_3                                     0.002551  \n",
       "...                                          ...  \n",
       "is_Activated                           -0.362115  \n",
       "24                                     -0.000997  \n",
       "48                                      0.000510  \n",
       "72                                      0.000480  \n",
       "tratamento_com_controle                 1.000000  \n",
       "\n",
       "[879 rows x 879 columns]"
      ]
     },
     "execution_count": 7,
     "metadata": {},
     "output_type": "execute_result"
    }
   ],
   "source": [
    "# Correlação entre as variáveis\n",
    "dfc.corr()"
   ]
  },
  {
   "cell_type": "code",
   "execution_count": 8,
   "id": "046b2190",
   "metadata": {},
   "outputs": [
    {
     "data": {
      "text/html": [
       "<div>\n",
       "<style scoped>\n",
       "    .dataframe tbody tr th:only-of-type {\n",
       "        vertical-align: middle;\n",
       "    }\n",
       "\n",
       "    .dataframe tbody tr th {\n",
       "        vertical-align: top;\n",
       "    }\n",
       "\n",
       "    .dataframe thead th {\n",
       "        text-align: right;\n",
       "    }\n",
       "</style>\n",
       "<table border=\"1\" class=\"dataframe\">\n",
       "  <thead>\n",
       "    <tr style=\"text-align: right;\">\n",
       "      <th></th>\n",
       "      <th>count</th>\n",
       "      <th>mean</th>\n",
       "      <th>std</th>\n",
       "      <th>min</th>\n",
       "      <th>25%</th>\n",
       "      <th>50%</th>\n",
       "      <th>75%</th>\n",
       "      <th>max</th>\n",
       "    </tr>\n",
       "  </thead>\n",
       "  <tbody>\n",
       "    <tr>\n",
       "      <th>tempo</th>\n",
       "      <td>23814.0</td>\n",
       "      <td>48.020156</td>\n",
       "      <td>19.402807</td>\n",
       "      <td>24.000</td>\n",
       "      <td>24.000000</td>\n",
       "      <td>48.00000</td>\n",
       "      <td>72.000000</td>\n",
       "      <td>72.000</td>\n",
       "    </tr>\n",
       "    <tr>\n",
       "      <th>g_0</th>\n",
       "      <td>23814.0</td>\n",
       "      <td>0.248366</td>\n",
       "      <td>1.393399</td>\n",
       "      <td>-5.513</td>\n",
       "      <td>-0.473075</td>\n",
       "      <td>-0.00885</td>\n",
       "      <td>0.525700</td>\n",
       "      <td>10.000</td>\n",
       "    </tr>\n",
       "    <tr>\n",
       "      <th>g_1</th>\n",
       "      <td>23814.0</td>\n",
       "      <td>-0.095684</td>\n",
       "      <td>0.812363</td>\n",
       "      <td>-5.737</td>\n",
       "      <td>-0.562200</td>\n",
       "      <td>-0.04660</td>\n",
       "      <td>0.403075</td>\n",
       "      <td>5.039</td>\n",
       "    </tr>\n",
       "    <tr>\n",
       "      <th>g_2</th>\n",
       "      <td>23814.0</td>\n",
       "      <td>0.152253</td>\n",
       "      <td>1.035731</td>\n",
       "      <td>-9.104</td>\n",
       "      <td>-0.437750</td>\n",
       "      <td>0.07520</td>\n",
       "      <td>0.663925</td>\n",
       "      <td>8.257</td>\n",
       "    </tr>\n",
       "    <tr>\n",
       "      <th>g_3</th>\n",
       "      <td>23814.0</td>\n",
       "      <td>0.081971</td>\n",
       "      <td>0.950012</td>\n",
       "      <td>-5.998</td>\n",
       "      <td>-0.429575</td>\n",
       "      <td>0.00805</td>\n",
       "      <td>0.463400</td>\n",
       "      <td>10.000</td>\n",
       "    </tr>\n",
       "    <tr>\n",
       "      <th>...</th>\n",
       "      <td>...</td>\n",
       "      <td>...</td>\n",
       "      <td>...</td>\n",
       "      <td>...</td>\n",
       "      <td>...</td>\n",
       "      <td>...</td>\n",
       "      <td>...</td>\n",
       "      <td>...</td>\n",
       "    </tr>\n",
       "    <tr>\n",
       "      <th>c_96</th>\n",
       "      <td>23814.0</td>\n",
       "      <td>-0.463485</td>\n",
       "      <td>2.059725</td>\n",
       "      <td>-10.000</td>\n",
       "      <td>-0.552575</td>\n",
       "      <td>-0.00125</td>\n",
       "      <td>0.465225</td>\n",
       "      <td>3.505</td>\n",
       "    </tr>\n",
       "    <tr>\n",
       "      <th>c_97</th>\n",
       "      <td>23814.0</td>\n",
       "      <td>-0.378241</td>\n",
       "      <td>1.703615</td>\n",
       "      <td>-10.000</td>\n",
       "      <td>-0.561000</td>\n",
       "      <td>-0.00680</td>\n",
       "      <td>0.446400</td>\n",
       "      <td>2.924</td>\n",
       "    </tr>\n",
       "    <tr>\n",
       "      <th>c_98</th>\n",
       "      <td>23814.0</td>\n",
       "      <td>-0.470252</td>\n",
       "      <td>1.834828</td>\n",
       "      <td>-10.000</td>\n",
       "      <td>-0.592600</td>\n",
       "      <td>0.01400</td>\n",
       "      <td>0.461275</td>\n",
       "      <td>3.111</td>\n",
       "    </tr>\n",
       "    <tr>\n",
       "      <th>c_99</th>\n",
       "      <td>23814.0</td>\n",
       "      <td>-0.301505</td>\n",
       "      <td>1.407918</td>\n",
       "      <td>-10.000</td>\n",
       "      <td>-0.562900</td>\n",
       "      <td>-0.01950</td>\n",
       "      <td>0.438650</td>\n",
       "      <td>3.805</td>\n",
       "    </tr>\n",
       "    <tr>\n",
       "      <th>n_moa</th>\n",
       "      <td>23814.0</td>\n",
       "      <td>0.707315</td>\n",
       "      <td>0.679532</td>\n",
       "      <td>0.000</td>\n",
       "      <td>0.000000</td>\n",
       "      <td>1.00000</td>\n",
       "      <td>1.000000</td>\n",
       "      <td>7.000</td>\n",
       "    </tr>\n",
       "  </tbody>\n",
       "</table>\n",
       "<p>874 rows × 8 columns</p>\n",
       "</div>"
      ],
      "text/plain": [
       "         count       mean        std     min        25%       50%        75%  \\\n",
       "tempo  23814.0  48.020156  19.402807  24.000  24.000000  48.00000  72.000000   \n",
       "g_0    23814.0   0.248366   1.393399  -5.513  -0.473075  -0.00885   0.525700   \n",
       "g_1    23814.0  -0.095684   0.812363  -5.737  -0.562200  -0.04660   0.403075   \n",
       "g_2    23814.0   0.152253   1.035731  -9.104  -0.437750   0.07520   0.663925   \n",
       "g_3    23814.0   0.081971   0.950012  -5.998  -0.429575   0.00805   0.463400   \n",
       "...        ...        ...        ...     ...        ...       ...        ...   \n",
       "c_96   23814.0  -0.463485   2.059725 -10.000  -0.552575  -0.00125   0.465225   \n",
       "c_97   23814.0  -0.378241   1.703615 -10.000  -0.561000  -0.00680   0.446400   \n",
       "c_98   23814.0  -0.470252   1.834828 -10.000  -0.592600   0.01400   0.461275   \n",
       "c_99   23814.0  -0.301505   1.407918 -10.000  -0.562900  -0.01950   0.438650   \n",
       "n_moa  23814.0   0.707315   0.679532   0.000   0.000000   1.00000   1.000000   \n",
       "\n",
       "          max  \n",
       "tempo  72.000  \n",
       "g_0    10.000  \n",
       "g_1     5.039  \n",
       "g_2     8.257  \n",
       "g_3    10.000  \n",
       "...       ...  \n",
       "c_96    3.505  \n",
       "c_97    2.924  \n",
       "c_98    3.111  \n",
       "c_99    3.805  \n",
       "n_moa   7.000  \n",
       "\n",
       "[874 rows x 8 columns]"
      ]
     },
     "execution_count": 8,
     "metadata": {},
     "output_type": "execute_result"
    }
   ],
   "source": [
    "dfc.describe().T"
   ]
  },
  {
   "cell_type": "code",
   "execution_count": 9,
   "id": "8c363c4e",
   "metadata": {},
   "outputs": [
    {
     "data": {
      "text/plain": [
       "True     14447\n",
       "False     9367\n",
       "Name: is_Activated, dtype: int64"
      ]
     },
     "execution_count": 9,
     "metadata": {},
     "output_type": "execute_result"
    }
   ],
   "source": [
    "#df['Exited'].plot.bar()\n",
    "dfc['is_Activated'].value_counts()"
   ]
  },
  {
   "cell_type": "code",
   "execution_count": 10,
   "id": "20f75a46",
   "metadata": {},
   "outputs": [
    {
     "data": {
      "text/plain": [
       "True     0.60666\n",
       "False    0.39334\n",
       "Name: is_Activated, dtype: float64"
      ]
     },
     "execution_count": 10,
     "metadata": {},
     "output_type": "execute_result"
    }
   ],
   "source": [
    "dfc['is_Activated'].value_counts(normalize=True)"
   ]
  },
  {
   "cell_type": "markdown",
   "id": "4da48d2e",
   "metadata": {},
   "source": [
    "### Construção do modelo"
   ]
  },
  {
   "cell_type": "code",
   "execution_count": 11,
   "id": "d54bc295",
   "metadata": {},
   "outputs": [],
   "source": [
    "X = dfc.select_dtypes('float64')\n",
    "y = dfc['is_Activated']"
   ]
  },
  {
   "cell_type": "code",
   "execution_count": 12,
   "id": "c5bc45b0",
   "metadata": {},
   "outputs": [
    {
     "data": {
      "text/plain": [
       "True     14447\n",
       "False     9367\n",
       "Name: is_Activated, dtype: int64"
      ]
     },
     "execution_count": 12,
     "metadata": {},
     "output_type": "execute_result"
    }
   ],
   "source": [
    "y.value_counts()"
   ]
  },
  {
   "cell_type": "code",
   "execution_count": 13,
   "id": "8cb26558",
   "metadata": {},
   "outputs": [
    {
     "data": {
      "text/plain": [
       "<bound method NDFrame.head of           g_0     g_1     g_2     g_3     g_4     g_5     g_6     g_7     g_8  \\\n",
       "0      1.0620  0.5577 -0.2479 -0.6208 -0.1944 -1.0120 -1.0220 -0.0326  0.5548   \n",
       "1      0.0743  0.4087  0.2991  0.0604  1.0190  0.5207  0.2341  0.3372 -0.4047   \n",
       "2      0.6280  0.5817  1.5540 -0.0764 -0.0323  1.2390  0.1715  0.2155  0.0065   \n",
       "3     -0.5138 -0.2491 -0.2656  0.5288  4.0620 -0.8095 -1.9590  0.1792 -0.1321   \n",
       "4     -0.3254 -0.4009  0.9700  0.6919  1.4180 -0.8244 -0.2800 -0.1498 -0.8789   \n",
       "...       ...     ...     ...     ...     ...     ...     ...     ...     ...   \n",
       "23809  0.1394 -0.0636 -0.1112 -0.5080 -0.4713  0.7201  0.5773  0.3055 -0.4726   \n",
       "23810 -1.3260  0.3478 -0.3743  0.9905 -0.7178  0.6621 -0.2252 -0.5565  0.5112   \n",
       "23811  0.3942  0.3756  0.3109 -0.7389  0.5505 -0.0159 -0.2541  0.1745 -0.0340   \n",
       "23812  0.6660  0.2324  0.4392  0.2044  0.8531 -0.0343  0.0323  0.0463  0.4299   \n",
       "23813 -0.8598  1.0240 -0.1361  0.7952 -0.3611 -3.6750 -1.2420  0.9146  3.0790   \n",
       "\n",
       "          g_9  ...    c_90    c_91    c_92    c_93    c_94    c_95    c_96  \\\n",
       "0     -0.0921  ...  0.2862  0.2584  0.8076  0.5523 -0.1912  0.6584 -0.3981   \n",
       "1      0.8507  ... -0.4265  0.7543  0.4708  0.0230  0.2957  0.4899  0.1522   \n",
       "2      1.2300  ... -0.7250 -0.6297  0.6103  0.0223 -1.3240 -0.3174 -0.6417   \n",
       "3     -1.0600  ... -2.0990 -0.6441 -5.6300 -1.3780 -0.8632 -1.2880 -1.6210   \n",
       "4      0.8630  ...  0.0042  0.0048  0.6670  1.0690  0.5523 -0.3031  0.1094   \n",
       "...       ...  ...     ...     ...     ...     ...     ...     ...     ...   \n",
       "23809  0.1269  ...  0.1969  0.0262 -0.8121  0.3434  0.5372 -0.3246  0.0631   \n",
       "23810  0.6727  ...  0.4286  0.4426  0.0423 -0.3195 -0.8086 -0.9798 -0.2084   \n",
       "23811  0.4865  ...  0.5409  0.3755  0.7343  0.2807  0.4116  0.6422  0.2256   \n",
       "23812 -0.7985  ... -0.1105  0.4258 -0.2012  0.1506  1.5230  0.7101  0.1732   \n",
       "23813  1.2460  ... -3.3890 -1.7450 -6.6300 -4.0950 -7.3860 -1.4160 -3.5770   \n",
       "\n",
       "         c_97    c_98    c_99  \n",
       "0      0.2139  0.3801  0.4176  \n",
       "1      0.1241  0.6077  0.7371  \n",
       "2     -0.2187 -1.4080  0.6931  \n",
       "3     -0.8784 -0.3876 -0.8154  \n",
       "4      0.2885 -0.3786  0.7125  \n",
       "...       ...     ...     ...  \n",
       "23809  0.9171  0.5258  0.4680  \n",
       "23810 -0.1224 -0.2715  0.3689  \n",
       "23811  0.7592  0.6656  0.3808  \n",
       "23812  0.7015 -0.6290  0.0740  \n",
       "23813 -0.4775 -2.1500 -4.2520  \n",
       "\n",
       "[23814 rows x 872 columns]>"
      ]
     },
     "execution_count": 13,
     "metadata": {},
     "output_type": "execute_result"
    }
   ],
   "source": [
    "X.head"
   ]
  },
  {
   "cell_type": "code",
   "execution_count": 14,
   "id": "5213dbd7",
   "metadata": {},
   "outputs": [
    {
     "data": {
      "text/plain": [
       "0     True\n",
       "1    False\n",
       "2     True\n",
       "3    False\n",
       "4     True\n",
       "Name: is_Activated, dtype: bool"
      ]
     },
     "execution_count": 14,
     "metadata": {},
     "output_type": "execute_result"
    }
   ],
   "source": [
    "y.head()"
   ]
  },
  {
   "cell_type": "code",
   "execution_count": 15,
   "id": "b74fe1ef",
   "metadata": {},
   "outputs": [],
   "source": [
    "# Número aleatório\n",
    "rnds = 42"
   ]
  },
  {
   "cell_type": "code",
   "execution_count": 16,
   "id": "b54848ce",
   "metadata": {},
   "outputs": [],
   "source": [
    "#Separação da parte de treino e teste\n",
    "X_train, X_test, y_train, y_test = train_test_split(X, y, test_size=0.2, random_state = rnds, stratify=dfc['is_Activated'])"
   ]
  },
  {
   "cell_type": "code",
   "execution_count": 17,
   "id": "8918e324",
   "metadata": {},
   "outputs": [
    {
     "data": {
      "text/plain": [
       "19051"
      ]
     },
     "execution_count": 17,
     "metadata": {},
     "output_type": "execute_result"
    }
   ],
   "source": [
    "# Quantidade da massa de treino\n",
    "len(X_train)"
   ]
  },
  {
   "cell_type": "code",
   "execution_count": 18,
   "id": "7993ce09",
   "metadata": {},
   "outputs": [
    {
     "data": {
      "text/plain": [
       "4763"
      ]
     },
     "execution_count": 18,
     "metadata": {},
     "output_type": "execute_result"
    }
   ],
   "source": [
    "# Quantidade da massa de teste\n",
    "len(X_test)"
   ]
  },
  {
   "cell_type": "markdown",
   "id": "0eee2d72",
   "metadata": {},
   "source": [
    "### Avaliação do modelo"
   ]
  },
  {
   "cell_type": "code",
   "execution_count": 19,
   "id": "47791a0b",
   "metadata": {},
   "outputs": [
    {
     "data": {
      "text/plain": [
       "0.6353138778081041"
      ]
     },
     "execution_count": 19,
     "metadata": {},
     "output_type": "execute_result"
    }
   ],
   "source": [
    "# importing LinearRegression model\n",
    "from sklearn.linear_model import LinearRegression \n",
    "\n",
    "lr = LogisticRegression(max_iter=1000)\n",
    "lr.fit(X_train, y_train)\n",
    "lr.score(X_test, y_test)"
   ]
  },
  {
   "cell_type": "code",
   "execution_count": 20,
   "id": "f82b81dd",
   "metadata": {},
   "outputs": [
    {
     "name": "stderr",
     "output_type": "stream",
     "text": [
      "C:\\ProgramData\\Anaconda3\\lib\\site-packages\\sklearn\\utils\\validation.py:70: FutureWarning: Pass strategy=most_frequent as keyword args. From version 1.0 (renaming of 0.25) passing these as positional arguments will result in an error\n",
      "  warnings.warn(f\"Pass {args_msg} as keyword args. From version \"\n"
     ]
    },
    {
     "data": {
      "text/plain": [
       "0.6067604450976275"
      ]
     },
     "execution_count": 20,
     "metadata": {},
     "output_type": "execute_result"
    }
   ],
   "source": [
    "# importing DummyClassifier model\n",
    "from sklearn.dummy import DummyClassifier\n",
    "from sklearn.metrics import accuracy_score\n",
    "\n",
    "dc = DummyClassifier('most_frequent')\n",
    "dc.fit(X_train, y_train)\n",
    "dc_preds = dc.predict(X_test)\n",
    "accuracy_score(y_test, dc_preds)"
   ]
  },
  {
   "cell_type": "code",
   "execution_count": 21,
   "id": "68856bbe",
   "metadata": {},
   "outputs": [
    {
     "data": {
      "text/plain": [
       "0.6535796766743649"
      ]
     },
     "execution_count": 21,
     "metadata": {},
     "output_type": "execute_result"
    }
   ],
   "source": [
    "# importing RandomForestClassifier model\n",
    "from sklearn.ensemble import RandomForestClassifier\n",
    "\n",
    "rfc = RandomForestClassifier()\n",
    "rfc.fit(X_train, y_train)\n",
    "rfc_preds = rfc.predict(X_test)\n",
    "rfc.score(X_test, y_test)"
   ]
  },
  {
   "cell_type": "code",
   "execution_count": 22,
   "id": "8030724f",
   "metadata": {},
   "outputs": [
    {
     "data": {
      "text/plain": [
       "1.0"
      ]
     },
     "execution_count": 22,
     "metadata": {},
     "output_type": "execute_result"
    }
   ],
   "source": [
    " # o classificador \"overfitou\" - sobreajustou\n",
    "rfc.score(X_train, y_train)"
   ]
  },
  {
   "cell_type": "code",
   "execution_count": 23,
   "id": "e60608d3",
   "metadata": {},
   "outputs": [
    {
     "data": {
      "text/plain": [
       "0.6235565819861432"
      ]
     },
     "execution_count": 23,
     "metadata": {},
     "output_type": "execute_result"
    }
   ],
   "source": [
    "# importing DecisionTreeClassifier model\n",
    "from sklearn.tree import DecisionTreeClassifier\n",
    "\n",
    "dtc = DecisionTreeClassifier(max_depth = 3)\n",
    "dtc.fit(X_train, y_train)\n",
    "dtc.score(X_test, y_test)"
   ]
  },
  {
   "cell_type": "code",
   "execution_count": 24,
   "id": "cb719346",
   "metadata": {},
   "outputs": [
    {
     "data": {
      "image/png": "[encoded data removed]",
      "text/plain": [
       "<Figure size 1080x720 with 1 Axes>"
      ]
     },
     "metadata": {},
     "output_type": "display_data"
    }
   ],
   "source": [
    "from sklearn import tree\n",
    "\n",
    "fig, ax = plt.subplots(figsize=(15, 10), facecolor='c')\n",
    "tree.plot_tree(dtc,\n",
    "               ax=ax,\n",
    "               fontsize=10,\n",
    "               rounded=True,\n",
    "               filled=True,\n",
    "               feature_names=X_train.columns,\n",
    "               class_names=['Não Ativado', 'Ativado'])\n",
    "\n",
    "plt.show()"
   ]
  },
  {
   "cell_type": "code",
   "execution_count": 25,
   "id": "4de2e99b",
   "metadata": {},
   "outputs": [],
   "source": [
    "test=[]\n",
    "train=[]\n",
    "for i in range(1,15):\n",
    "    dtc = DecisionTreeClassifier(max_depth = i)\n",
    "    dtc.fit(X_train, y_train)\n",
    "    test.append(dtc.score(X_test, y_test))\n",
    "    train.append(dtc.score(X_train, y_train))"
   ]
  },
  {
   "cell_type": "code",
   "execution_count": 26,
   "id": "08d2a5a4",
   "metadata": {},
   "outputs": [
    {
     "data": {
      "text/plain": [
       "[0.6067604450976275,\n",
       " 0.6061305899643082,\n",
       " 0.6235565819861432,\n",
       " 0.6254461473861012,\n",
       " 0.6141087549863531,\n",
       " 0.623976485408356,\n",
       " 0.6176779340751627,\n",
       " 0.6113793827419693,\n",
       " 0.612639093008608,\n",
       " 0.612639093008608,\n",
       " 0.6159983203863112,\n",
       " 0.6138988032752467,\n",
       " 0.6111694310308629,\n",
       " 0.6094898173420114]"
      ]
     },
     "execution_count": 26,
     "metadata": {},
     "output_type": "execute_result"
    }
   ],
   "source": [
    "test"
   ]
  },
  {
   "cell_type": "code",
   "execution_count": 27,
   "id": "99a029fb",
   "metadata": {},
   "outputs": [
    {
     "data": {
      "text/plain": [
       "[0.6066348223190384,\n",
       " 0.6071597291480763,\n",
       " 0.615243294315259,\n",
       " 0.6214371948979056,\n",
       " 0.6327226917222193,\n",
       " 0.6424859587423233,\n",
       " 0.6551887040050391,\n",
       " 0.6723006666316729,\n",
       " 0.6913547845257467,\n",
       " 0.7141357409059892,\n",
       " 0.7384914177733453,\n",
       " 0.7673612933704268,\n",
       " 0.7967035851136424,\n",
       " 0.8265707836858958]"
      ]
     },
     "execution_count": 27,
     "metadata": {},
     "output_type": "execute_result"
    }
   ],
   "source": [
    "train"
   ]
  },
  {
   "cell_type": "code",
   "execution_count": 28,
   "id": "9d91fc6d",
   "metadata": {},
   "outputs": [
    {
     "data": {
      "text/plain": [
       "<AxesSubplot:>"
      ]
     },
     "execution_count": 28,
     "metadata": {},
     "output_type": "execute_result"
    },
    {
     "data": {
      "image/png": "[encoded data removed]",
      "text/plain": [
       "<Figure size 432x288 with 1 Axes>"
      ]
     },
     "metadata": {
      "needs_background": "light"
     },
     "output_type": "display_data"
    }
   ],
   "source": [
    "sns.lineplot(x=range(1,15), y = test, label='Test')\n",
    "sns.lineplot(x=range(1,15), y = train, label='Train')"
   ]
  },
  {
   "cell_type": "code",
   "execution_count": 29,
   "id": "eefcaf9e",
   "metadata": {},
   "outputs": [
    {
     "data": {
      "text/plain": [
       "0.6689061515851354"
      ]
     },
     "execution_count": 29,
     "metadata": {},
     "output_type": "execute_result"
    }
   ],
   "source": [
    "# importing SVC model\n",
    "from sklearn.svm import SVC\n",
    "\n",
    "svc = SVC()\n",
    "svc.fit(X_train, y_train)\n",
    "svc_preds = svc.predict(X_test)\n",
    "svc.score(X_test, y_test)"
   ]
  },
  {
   "cell_type": "code",
   "execution_count": 30,
   "id": "2c1c3994",
   "metadata": {},
   "outputs": [
    {
     "data": {
      "text/plain": [
       "0.7359718649939636"
      ]
     },
     "execution_count": 30,
     "metadata": {},
     "output_type": "execute_result"
    }
   ],
   "source": [
    "svc.score(X_train, y_train)"
   ]
  },
  {
   "cell_type": "code",
   "execution_count": 31,
   "id": "7727f7c2",
   "metadata": {},
   "outputs": [],
   "source": [
    "\n",
    "from sklearn.metrics import roc_auc_score, classification_report, confusion_matrix\n",
    "\n",
    "classificadores = [dc, rfc, svc]\n",
    "y_preds = [dc_preds, rfc_preds, svc_preds]"
   ]
  },
  {
   "cell_type": "code",
   "execution_count": 32,
   "id": "07b97873",
   "metadata": {},
   "outputs": [
    {
     "name": "stdout",
     "output_type": "stream",
     "text": [
      "DummyClassifier\n",
      "              precision    recall  f1-score   support\n",
      "\n",
      "       False       0.00      0.00      0.00      1873\n",
      "        True       0.61      1.00      0.76      2890\n",
      "\n",
      "    accuracy                           0.61      4763\n",
      "   macro avg       0.30      0.50      0.38      4763\n",
      "weighted avg       0.37      0.61      0.46      4763\n",
      "\n",
      "Score de área embaixo da curva: 0.500 \n",
      "\n",
      "Matrix de confusão:\n",
      " [[   0 1873]\n",
      " [   0 2890]]\n",
      "--------------------------------------------------------------------------------\n",
      "RandomForestClassifier\n",
      "              precision    recall  f1-score   support\n",
      "\n",
      "       False       0.64      0.27      0.38      1873\n",
      "        True       0.66      0.90      0.76      2890\n",
      "\n",
      "    accuracy                           0.65      4763\n",
      "   macro avg       0.65      0.59      0.57      4763\n",
      "weighted avg       0.65      0.65      0.61      4763\n",
      "\n",
      "Score de área embaixo da curva: 0.586 \n",
      "\n",
      "Matrix de confusão:\n",
      " [[ 509 1364]\n",
      " [ 286 2604]]\n",
      "--------------------------------------------------------------------------------\n",
      "SVC\n",
      "              precision    recall  f1-score   support\n",
      "\n",
      "       False       0.71      0.27      0.39      1873\n",
      "        True       0.66      0.93      0.77      2890\n",
      "\n",
      "    accuracy                           0.67      4763\n",
      "   macro avg       0.69      0.60      0.58      4763\n",
      "weighted avg       0.68      0.67      0.62      4763\n",
      "\n",
      "Score de área embaixo da curva: 0.598 \n",
      "\n",
      "Matrix de confusão:\n",
      " [[ 497 1376]\n",
      " [ 201 2689]]\n",
      "--------------------------------------------------------------------------------\n"
     ]
    },
    {
     "name": "stderr",
     "output_type": "stream",
     "text": [
      "C:\\ProgramData\\Anaconda3\\lib\\site-packages\\sklearn\\metrics\\_classification.py:1245: UndefinedMetricWarning: Precision and F-score are ill-defined and being set to 0.0 in labels with no predicted samples. Use `zero_division` parameter to control this behavior.\n",
      "  _warn_prf(average, modifier, msg_start, len(result))\n",
      "C:\\ProgramData\\Anaconda3\\lib\\site-packages\\sklearn\\metrics\\_classification.py:1245: UndefinedMetricWarning: Precision and F-score are ill-defined and being set to 0.0 in labels with no predicted samples. Use `zero_division` parameter to control this behavior.\n",
      "  _warn_prf(average, modifier, msg_start, len(result))\n",
      "C:\\ProgramData\\Anaconda3\\lib\\site-packages\\sklearn\\metrics\\_classification.py:1245: UndefinedMetricWarning: Precision and F-score are ill-defined and being set to 0.0 in labels with no predicted samples. Use `zero_division` parameter to control this behavior.\n",
      "  _warn_prf(average, modifier, msg_start, len(result))\n"
     ]
    }
   ],
   "source": [
    "for classificador, y_pred in zip(classificadores, y_preds):\n",
    "  print(classificador.__class__.__name__)\n",
    "  print(classification_report(y_test, y_pred))\n",
    "  print(f'Score de área embaixo da curva: {roc_auc_score(y_test, y_pred):.3f} \\n')\n",
    "  print('Matrix de confusão:\\n', confusion_matrix(y_test, y_pred, labels=[0, 1]))\n",
    "  print('-'*80)"
   ]
  },
  {
   "cell_type": "code",
   "execution_count": 33,
   "id": "6ff03a6b",
   "metadata": {},
   "outputs": [
    {
     "data": {
      "image/png": "[encoded data removed]",
      "text/plain": [
       "<Figure size 432x288 with 2 Axes>"
      ]
     },
     "metadata": {
      "needs_background": "light"
     },
     "output_type": "display_data"
    }
   ],
   "source": [
    "# plotando a matriz com seaborn\n",
    "sns.heatmap(confusion_matrix(y_test, rfc_preds), annot=True, fmt='g');"
   ]
  },
  {
   "cell_type": "markdown",
   "id": "e7ee516d",
   "metadata": {},
   "source": [
    "### Otimização do modelo"
   ]
  },
  {
   "cell_type": "code",
   "execution_count": 34,
   "id": "feabdae2",
   "metadata": {},
   "outputs": [],
   "source": [
    "\n",
    "from sklearn.model_selection import GridSearchCV\n",
    "\n",
    "classificadores = [dc, rfc, svc]\n",
    "metricas = ['roc_auc', 'f1', 'accuracy']\n",
    "\n",
    "dc_params = {'strategy': ['stratified', 'most_frequent'],\n",
    "             'random_state': [rnds]}\n",
    "\n",
    "rfc_params = {'max_depth': [5, 10, 20, 30],\n",
    "              'n_estimators': [50, 100, 200, 300],\n",
    "              'random_state' : [rnds]}\n",
    "\n",
    "svc_params = {'kernel': ['rbf'], #, 'linear'],\n",
    "              'C': [1.0], #, 0.5, 0.001],\n",
    "              'random_state' : [rnds]}\n",
    "\n",
    "lista_parametros = [dc_params, rfc_params, svc_params]"
   ]
  },
  {
   "cell_type": "code",
   "execution_count": 35,
   "id": "4910bee6",
   "metadata": {},
   "outputs": [
    {
     "name": "stdout",
     "output_type": "stream",
     "text": [
      "DummyClassifier\n",
      "Fitting 5 folds for each of 2 candidates, totalling 10 fits\n",
      "[CV 1/5] END random_state=42, strategy=stratified; accuracy: (test=0.528) f1: (test=0.609) roc_auc: (test=0.507) total time=   0.0s\n",
      "[CV 2/5] END random_state=42, strategy=stratified; accuracy: (test=0.512) f1: (test=0.596) roc_auc: (test=0.490) total time=   0.0s\n",
      "[CV 3/5] END random_state=42, strategy=stratified; accuracy: (test=0.521) f1: (test=0.603) roc_auc: (test=0.499) total time=   0.0s\n",
      "[CV 4/5] END random_state=42, strategy=stratified; accuracy: (test=0.519) f1: (test=0.601) roc_auc: (test=0.497) total time=   0.0s\n",
      "[CV 5/5] END random_state=42, strategy=stratified; accuracy: (test=0.533) f1: (test=0.613) roc_auc: (test=0.512) total time=   0.0s\n",
      "[CV 1/5] END random_state=42, strategy=most_frequent; accuracy: (test=0.607) f1: (test=0.755) roc_auc: (test=0.500) total time=   0.0s\n",
      "[CV 2/5] END random_state=42, strategy=most_frequent; accuracy: (test=0.607) f1: (test=0.755) roc_auc: (test=0.500) total time=   0.0s\n",
      "[CV 3/5] END random_state=42, strategy=most_frequent; accuracy: (test=0.607) f1: (test=0.755) roc_auc: (test=0.500) total time=   0.0s\n",
      "[CV 4/5] END random_state=42, strategy=most_frequent; accuracy: (test=0.607) f1: (test=0.755) roc_auc: (test=0.500) total time=   0.0s\n",
      "[CV 5/5] END random_state=42, strategy=most_frequent; accuracy: (test=0.607) f1: (test=0.755) roc_auc: (test=0.500) total time=   0.0s\n",
      "RandomForestClassifier\n",
      "Fitting 5 folds for each of 16 candidates, totalling 80 fits\n",
      "[CV 1/5] END max_depth=5, n_estimators=50, random_state=42; accuracy: (test=0.615) f1: (test=0.758) roc_auc: (test=0.653) total time=   5.8s\n",
      "[CV 2/5] END max_depth=5, n_estimators=50, random_state=42; accuracy: (test=0.622) f1: (test=0.762) roc_auc: (test=0.649) total time=   5.7s\n",
      "[CV 3/5] END max_depth=5, n_estimators=50, random_state=42; accuracy: (test=0.619) f1: (test=0.761) roc_auc: (test=0.664) total time=   5.8s\n",
      "[CV 4/5] END max_depth=5, n_estimators=50, random_state=42; accuracy: (test=0.618) f1: (test=0.760) roc_auc: (test=0.667) total time=   5.8s\n",
      "[CV 5/5] END max_depth=5, n_estimators=50, random_state=42; accuracy: (test=0.620) f1: (test=0.761) roc_auc: (test=0.640) total time=   5.7s\n",
      "[CV 1/5] END max_depth=5, n_estimators=100, random_state=42; accuracy: (test=0.613) f1: (test=0.758) roc_auc: (test=0.660) total time=  11.5s\n",
      "[CV 2/5] END max_depth=5, n_estimators=100, random_state=42; accuracy: (test=0.621) f1: (test=0.761) roc_auc: (test=0.649) total time=  11.5s\n",
      "[CV 3/5] END max_depth=5, n_estimators=100, random_state=42; accuracy: (test=0.618) f1: (test=0.760) roc_auc: (test=0.663) total time=  12.1s\n",
      "[CV 4/5] END max_depth=5, n_estimators=100, random_state=42; accuracy: (test=0.620) f1: (test=0.761) roc_auc: (test=0.668) total time=  11.6s\n",
      "[CV 5/5] END max_depth=5, n_estimators=100, random_state=42; accuracy: (test=0.618) f1: (test=0.760) roc_auc: (test=0.648) total time=  11.4s\n",
      "[CV 1/5] END max_depth=5, n_estimators=200, random_state=42; accuracy: (test=0.614) f1: (test=0.758) roc_auc: (test=0.658) total time=  22.9s\n",
      "[CV 2/5] END max_depth=5, n_estimators=200, random_state=42; accuracy: (test=0.620) f1: (test=0.761) roc_auc: (test=0.648) total time=  23.5s\n",
      "[CV 3/5] END max_depth=5, n_estimators=200, random_state=42; accuracy: (test=0.616) f1: (test=0.759) roc_auc: (test=0.660) total time=  23.2s\n",
      "[CV 4/5] END max_depth=5, n_estimators=200, random_state=42; accuracy: (test=0.621) f1: (test=0.762) roc_auc: (test=0.665) total time=  22.9s\n",
      "[CV 5/5] END max_depth=5, n_estimators=200, random_state=42; accuracy: (test=0.617) f1: (test=0.760) roc_auc: (test=0.649) total time=  23.4s\n",
      "[CV 1/5] END max_depth=5, n_estimators=300, random_state=42; accuracy: (test=0.613) f1: (test=0.758) roc_auc: (test=0.658) total time=  34.4s\n",
      "[CV 2/5] END max_depth=5, n_estimators=300, random_state=42; accuracy: (test=0.619) f1: (test=0.761) roc_auc: (test=0.648) total time=  35.0s\n",
      "[CV 3/5] END max_depth=5, n_estimators=300, random_state=42; accuracy: (test=0.617) f1: (test=0.759) roc_auc: (test=0.660) total time=  34.3s\n",
      "[CV 4/5] END max_depth=5, n_estimators=300, random_state=42; accuracy: (test=0.618) f1: (test=0.760) roc_auc: (test=0.665) total time=  35.0s\n",
      "[CV 5/5] END max_depth=5, n_estimators=300, random_state=42; accuracy: (test=0.617) f1: (test=0.760) roc_auc: (test=0.651) total time=  34.3s\n",
      "[CV 1/5] END max_depth=10, n_estimators=50, random_state=42; accuracy: (test=0.640) f1: (test=0.764) roc_auc: (test=0.656) total time=  11.1s\n",
      "[CV 2/5] END max_depth=10, n_estimators=50, random_state=42; accuracy: (test=0.644) f1: (test=0.765) roc_auc: (test=0.649) total time=  11.0s\n",
      "[CV 3/5] END max_depth=10, n_estimators=50, random_state=42; accuracy: (test=0.649) f1: (test=0.769) roc_auc: (test=0.662) total time=  10.7s\n",
      "[CV 4/5] END max_depth=10, n_estimators=50, random_state=42; accuracy: (test=0.646) f1: (test=0.767) roc_auc: (test=0.669) total time=  10.7s\n",
      "[CV 5/5] END max_depth=10, n_estimators=50, random_state=42; accuracy: (test=0.643) f1: (test=0.765) roc_auc: (test=0.657) total time=  10.7s\n",
      "[CV 1/5] END max_depth=10, n_estimators=100, random_state=42; accuracy: (test=0.643) f1: (test=0.767) roc_auc: (test=0.661) total time=  22.0s\n",
      "[CV 2/5] END max_depth=10, n_estimators=100, random_state=42; accuracy: (test=0.647) f1: (test=0.769) roc_auc: (test=0.653) total time=  21.8s\n",
      "[CV 3/5] END max_depth=10, n_estimators=100, random_state=42; accuracy: (test=0.652) f1: (test=0.772) roc_auc: (test=0.668) total time=  21.5s\n",
      "[CV 4/5] END max_depth=10, n_estimators=100, random_state=42; accuracy: (test=0.648) f1: (test=0.770) roc_auc: (test=0.672) total time=  21.9s\n",
      "[CV 5/5] END max_depth=10, n_estimators=100, random_state=42; accuracy: (test=0.646) f1: (test=0.769) roc_auc: (test=0.667) total time=  21.7s\n",
      "[CV 1/5] END max_depth=10, n_estimators=200, random_state=42; accuracy: (test=0.645) f1: (test=0.769) roc_auc: (test=0.664) total time=  43.5s\n",
      "[CV 2/5] END max_depth=10, n_estimators=200, random_state=42; accuracy: (test=0.650) f1: (test=0.772) roc_auc: (test=0.653) total time=  43.4s\n",
      "[CV 3/5] END max_depth=10, n_estimators=200, random_state=42; accuracy: (test=0.653) f1: (test=0.773) roc_auc: (test=0.666) total time=  43.6s\n",
      "[CV 4/5] END max_depth=10, n_estimators=200, random_state=42; accuracy: (test=0.651) f1: (test=0.773) roc_auc: (test=0.677) total time=  43.3s\n",
      "[CV 5/5] END max_depth=10, n_estimators=200, random_state=42; accuracy: (test=0.647) f1: (test=0.769) roc_auc: (test=0.666) total time=  43.2s\n",
      "[CV 1/5] END max_depth=10, n_estimators=300, random_state=42; accuracy: (test=0.645) f1: (test=0.769) roc_auc: (test=0.665) total time= 1.1min\n",
      "[CV 2/5] END max_depth=10, n_estimators=300, random_state=42; accuracy: (test=0.646) f1: (test=0.769) roc_auc: (test=0.657) total time= 1.1min\n",
      "[CV 3/5] END max_depth=10, n_estimators=300, random_state=42; accuracy: (test=0.653) f1: (test=0.773) roc_auc: (test=0.667) total time= 1.1min\n",
      "[CV 4/5] END max_depth=10, n_estimators=300, random_state=42; accuracy: (test=0.647) f1: (test=0.771) roc_auc: (test=0.679) total time= 1.1min\n",
      "[CV 5/5] END max_depth=10, n_estimators=300, random_state=42; accuracy: (test=0.645) f1: (test=0.768) roc_auc: (test=0.665) total time= 1.1min\n",
      "[CV 1/5] END max_depth=20, n_estimators=50, random_state=42; accuracy: (test=0.631) f1: (test=0.747) roc_auc: (test=0.636) total time=  17.3s\n",
      "[CV 2/5] END max_depth=20, n_estimators=50, random_state=42; accuracy: (test=0.639) f1: (test=0.749) roc_auc: (test=0.639) total time=  17.6s\n",
      "[CV 3/5] END max_depth=20, n_estimators=50, random_state=42; accuracy: (test=0.638) f1: (test=0.750) roc_auc: (test=0.659) total time=  17.0s\n",
      "[CV 4/5] END max_depth=20, n_estimators=50, random_state=42; accuracy: (test=0.654) f1: (test=0.763) roc_auc: (test=0.661) total time=  17.1s\n",
      "[CV 5/5] END max_depth=20, n_estimators=50, random_state=42; accuracy: (test=0.640) f1: (test=0.752) roc_auc: (test=0.656) total time=  17.0s\n",
      "[CV 1/5] END max_depth=20, n_estimators=100, random_state=42; accuracy: (test=0.641) f1: (test=0.755) roc_auc: (test=0.643) total time=  34.9s\n",
      "[CV 2/5] END max_depth=20, n_estimators=100, random_state=42; accuracy: (test=0.650) f1: (test=0.762) roc_auc: (test=0.645) total time=  34.2s\n",
      "[CV 3/5] END max_depth=20, n_estimators=100, random_state=42; accuracy: (test=0.646) f1: (test=0.761) roc_auc: (test=0.661) total time=  34.5s\n"
     ]
    },
    {
     "name": "stdout",
     "output_type": "stream",
     "text": [
      "[CV 4/5] END max_depth=20, n_estimators=100, random_state=42; accuracy: (test=0.656) f1: (test=0.769) roc_auc: (test=0.672) total time=  34.5s\n",
      "[CV 5/5] END max_depth=20, n_estimators=100, random_state=42; accuracy: (test=0.640) f1: (test=0.756) roc_auc: (test=0.659) total time=  34.4s\n",
      "[CV 1/5] END max_depth=20, n_estimators=200, random_state=42; accuracy: (test=0.652) f1: (test=0.766) roc_auc: (test=0.655) total time= 1.2min\n",
      "[CV 2/5] END max_depth=20, n_estimators=200, random_state=42; accuracy: (test=0.651) f1: (test=0.765) roc_auc: (test=0.646) total time= 1.1min\n",
      "[CV 3/5] END max_depth=20, n_estimators=200, random_state=42; accuracy: (test=0.653) f1: (test=0.767) roc_auc: (test=0.665) total time= 1.2min\n",
      "[CV 4/5] END max_depth=20, n_estimators=200, random_state=42; accuracy: (test=0.655) f1: (test=0.770) roc_auc: (test=0.680) total time= 1.2min\n",
      "[CV 5/5] END max_depth=20, n_estimators=200, random_state=42; accuracy: (test=0.651) f1: (test=0.766) roc_auc: (test=0.663) total time= 1.1min\n",
      "[CV 1/5] END max_depth=20, n_estimators=300, random_state=42; accuracy: (test=0.651) f1: (test=0.766) roc_auc: (test=0.658) total time= 1.7min\n",
      "[CV 2/5] END max_depth=20, n_estimators=300, random_state=42; accuracy: (test=0.655) f1: (test=0.769) roc_auc: (test=0.649) total time= 1.8min\n",
      "[CV 3/5] END max_depth=20, n_estimators=300, random_state=42; accuracy: (test=0.649) f1: (test=0.766) roc_auc: (test=0.669) total time= 1.7min\n",
      "[CV 4/5] END max_depth=20, n_estimators=300, random_state=42; accuracy: (test=0.654) f1: (test=0.770) roc_auc: (test=0.686) total time= 1.7min\n",
      "[CV 5/5] END max_depth=20, n_estimators=300, random_state=42; accuracy: (test=0.652) f1: (test=0.767) roc_auc: (test=0.667) total time= 1.7min\n",
      "[CV 1/5] END max_depth=30, n_estimators=50, random_state=42; accuracy: (test=0.632) f1: (test=0.739) roc_auc: (test=0.644) total time=  19.4s\n",
      "[CV 2/5] END max_depth=30, n_estimators=50, random_state=42; accuracy: (test=0.639) f1: (test=0.743) roc_auc: (test=0.648) total time=  18.6s\n",
      "[CV 3/5] END max_depth=30, n_estimators=50, random_state=42; accuracy: (test=0.628) f1: (test=0.736) roc_auc: (test=0.643) total time=  18.6s\n",
      "[CV 4/5] END max_depth=30, n_estimators=50, random_state=42; accuracy: (test=0.648) f1: (test=0.750) roc_auc: (test=0.653) total time=  18.5s\n",
      "[CV 5/5] END max_depth=30, n_estimators=50, random_state=42; accuracy: (test=0.633) f1: (test=0.737) roc_auc: (test=0.644) total time=  19.2s\n",
      "[CV 1/5] END max_depth=30, n_estimators=100, random_state=42; accuracy: (test=0.649) f1: (test=0.759) roc_auc: (test=0.658) total time=  37.7s\n",
      "[CV 2/5] END max_depth=30, n_estimators=100, random_state=42; accuracy: (test=0.657) f1: (test=0.764) roc_auc: (test=0.655) total time=  37.5s\n",
      "[CV 3/5] END max_depth=30, n_estimators=100, random_state=42; accuracy: (test=0.644) f1: (test=0.756) roc_auc: (test=0.650) total time=  37.7s\n",
      "[CV 4/5] END max_depth=30, n_estimators=100, random_state=42; accuracy: (test=0.648) f1: (test=0.758) roc_auc: (test=0.665) total time=  37.6s\n",
      "[CV 5/5] END max_depth=30, n_estimators=100, random_state=42; accuracy: (test=0.644) f1: (test=0.754) roc_auc: (test=0.658) total time=  37.5s\n",
      "[CV 1/5] END max_depth=30, n_estimators=200, random_state=42; accuracy: (test=0.653) f1: (test=0.766) roc_auc: (test=0.663) total time= 1.3min\n",
      "[CV 2/5] END max_depth=30, n_estimators=200, random_state=42; accuracy: (test=0.654) f1: (test=0.765) roc_auc: (test=0.654) total time= 1.2min\n",
      "[CV 3/5] END max_depth=30, n_estimators=200, random_state=42; accuracy: (test=0.654) f1: (test=0.765) roc_auc: (test=0.657) total time= 1.3min\n",
      "[CV 4/5] END max_depth=30, n_estimators=200, random_state=42; accuracy: (test=0.658) f1: (test=0.770) roc_auc: (test=0.679) total time= 1.3min\n",
      "[CV 5/5] END max_depth=30, n_estimators=200, random_state=42; accuracy: (test=0.655) f1: (test=0.766) roc_auc: (test=0.656) total time= 1.3min\n",
      "[CV 1/5] END max_depth=30, n_estimators=300, random_state=42; accuracy: (test=0.651) f1: (test=0.765) roc_auc: (test=0.663) total time= 1.9min\n",
      "[CV 2/5] END max_depth=30, n_estimators=300, random_state=42; accuracy: (test=0.652) f1: (test=0.765) roc_auc: (test=0.654) total time= 1.9min\n",
      "[CV 3/5] END max_depth=30, n_estimators=300, random_state=42; accuracy: (test=0.656) f1: (test=0.768) roc_auc: (test=0.659) total time= 1.9min\n",
      "[CV 4/5] END max_depth=30, n_estimators=300, random_state=42; accuracy: (test=0.656) f1: (test=0.769) roc_auc: (test=0.684) total time= 1.9min\n",
      "[CV 5/5] END max_depth=30, n_estimators=300, random_state=42; accuracy: (test=0.659) f1: (test=0.769) roc_auc: (test=0.659) total time= 1.9min\n",
      "SVC\n",
      "Fitting 5 folds for each of 1 candidates, totalling 5 fits\n",
      "[CV 1/5] END C=1.0, kernel=rbf, random_state=42; accuracy: (test=0.655) f1: (test=0.763) roc_auc: (test=0.655) total time= 2.8min\n",
      "[CV 2/5] END C=1.0, kernel=rbf, random_state=42; accuracy: (test=0.661) f1: (test=0.766) roc_auc: (test=0.645) total time= 2.8min\n",
      "[CV 3/5] END C=1.0, kernel=rbf, random_state=42; accuracy: (test=0.655) f1: (test=0.763) roc_auc: (test=0.664) total time= 2.8min\n",
      "[CV 4/5] END C=1.0, kernel=rbf, random_state=42; accuracy: (test=0.669) f1: (test=0.774) roc_auc: (test=0.670) total time= 2.8min\n",
      "[CV 5/5] END C=1.0, kernel=rbf, random_state=42; accuracy: (test=0.652) f1: (test=0.759) roc_auc: (test=0.648) total time= 2.8min\n"
     ]
    }
   ],
   "source": [
    "for classificador, parametros in zip(classificadores, lista_parametros):\n",
    "  print(classificador.__class__.__name__)\n",
    "  gs = GridSearchCV(classificador, parametros, scoring=metricas, \n",
    "                    refit='roc_auc', \n",
    "                    verbose=3)\n",
    "  gs.fit(X_train, y_train)"
   ]
  },
  {
   "cell_type": "code",
   "execution_count": 36,
   "id": "6ba3836f",
   "metadata": {},
   "outputs": [
    {
     "name": "stdout",
     "output_type": "stream",
     "text": [
      "Melhor modelo: SVC(random_state=42)\n"
     ]
    }
   ],
   "source": [
    "melhor_modelo = gs.best_estimator_\n",
    "print('Melhor modelo:', melhor_modelo)"
   ]
  },
  {
   "cell_type": "code",
   "execution_count": 37,
   "id": "642720e9",
   "metadata": {},
   "outputs": [
    {
     "data": {
      "text/plain": [
       "0.6755880782638736"
      ]
     },
     "execution_count": 37,
     "metadata": {},
     "output_type": "execute_result"
    }
   ],
   "source": [
    "gs.score(X_test, y_test)"
   ]
  },
  {
   "cell_type": "code",
   "execution_count": 38,
   "id": "0d757194",
   "metadata": {},
   "outputs": [
    {
     "data": {
      "text/plain": [
       "0.8422059847987992"
      ]
     },
     "execution_count": 38,
     "metadata": {},
     "output_type": "execute_result"
    }
   ],
   "source": [
    "gs.score(X_train, y_train)"
   ]
  },
  {
   "cell_type": "code",
   "execution_count": 39,
   "id": "ab9ada4d",
   "metadata": {},
   "outputs": [],
   "source": [
    "gs_preds = gs.predict(X_test)"
   ]
  },
  {
   "cell_type": "code",
   "execution_count": 40,
   "id": "0e13217d",
   "metadata": {},
   "outputs": [
    {
     "data": {
      "image/png": "[encoded data removed]",
      "text/plain": [
       "<Figure size 432x288 with 2 Axes>"
      ]
     },
     "metadata": {
      "needs_background": "light"
     },
     "output_type": "display_data"
    }
   ],
   "source": [
    "sns.heatmap(confusion_matrix(y_test, gs_preds), annot=True, fmt='g');"
   ]
  },
  {
   "cell_type": "code",
   "execution_count": 41,
   "id": "34368ac3",
   "metadata": {},
   "outputs": [
    {
     "name": "stdout",
     "output_type": "stream",
     "text": [
      "              precision    recall  f1-score   support\n",
      "\n",
      "       False       0.71      0.27      0.39      1873\n",
      "        True       0.66      0.93      0.77      2890\n",
      "\n",
      "    accuracy                           0.67      4763\n",
      "   macro avg       0.69      0.60      0.58      4763\n",
      "weighted avg       0.68      0.67      0.62      4763\n",
      "\n"
     ]
    }
   ],
   "source": [
    "print(classification_report(y_test, gs_preds))"
   ]
  },
  {
   "cell_type": "code",
   "execution_count": 42,
   "id": "d1f7a4e4",
   "metadata": {},
   "outputs": [
    {
     "name": "stdout",
     "output_type": "stream",
     "text": [
      "Fitting 5 folds for each of 16 candidates, totalling 80 fits\n",
      "[CV 1/5] END max_depth=5, n_estimators=50, random_state=42; accuracy: (test=0.615) f1: (test=0.758) roc_auc: (test=0.653) total time=   5.8s\n",
      "[CV 2/5] END max_depth=5, n_estimators=50, random_state=42; accuracy: (test=0.622) f1: (test=0.762) roc_auc: (test=0.649) total time=   5.8s\n",
      "[CV 3/5] END max_depth=5, n_estimators=50, random_state=42; accuracy: (test=0.619) f1: (test=0.761) roc_auc: (test=0.664) total time=   5.7s\n",
      "[CV 4/5] END max_depth=5, n_estimators=50, random_state=42; accuracy: (test=0.618) f1: (test=0.760) roc_auc: (test=0.667) total time=   5.7s\n",
      "[CV 5/5] END max_depth=5, n_estimators=50, random_state=42; accuracy: (test=0.620) f1: (test=0.761) roc_auc: (test=0.640) total time=   5.7s\n",
      "[CV 1/5] END max_depth=5, n_estimators=100, random_state=42; accuracy: (test=0.613) f1: (test=0.758) roc_auc: (test=0.660) total time=  11.7s\n",
      "[CV 2/5] END max_depth=5, n_estimators=100, random_state=42; accuracy: (test=0.621) f1: (test=0.761) roc_auc: (test=0.649) total time=  11.4s\n",
      "[CV 3/5] END max_depth=5, n_estimators=100, random_state=42; accuracy: (test=0.618) f1: (test=0.760) roc_auc: (test=0.663) total time=  11.7s\n",
      "[CV 4/5] END max_depth=5, n_estimators=100, random_state=42; accuracy: (test=0.620) f1: (test=0.761) roc_auc: (test=0.668) total time=  11.4s\n",
      "[CV 5/5] END max_depth=5, n_estimators=100, random_state=42; accuracy: (test=0.618) f1: (test=0.760) roc_auc: (test=0.648) total time=  11.4s\n",
      "[CV 1/5] END max_depth=5, n_estimators=200, random_state=42; accuracy: (test=0.614) f1: (test=0.758) roc_auc: (test=0.658) total time=  23.1s\n",
      "[CV 2/5] END max_depth=5, n_estimators=200, random_state=42; accuracy: (test=0.620) f1: (test=0.761) roc_auc: (test=0.648) total time=  23.2s\n",
      "[CV 3/5] END max_depth=5, n_estimators=200, random_state=42; accuracy: (test=0.616) f1: (test=0.759) roc_auc: (test=0.660) total time=  22.8s\n",
      "[CV 4/5] END max_depth=5, n_estimators=200, random_state=42; accuracy: (test=0.621) f1: (test=0.762) roc_auc: (test=0.665) total time=  23.1s\n",
      "[CV 5/5] END max_depth=5, n_estimators=200, random_state=42; accuracy: (test=0.617) f1: (test=0.760) roc_auc: (test=0.649) total time=  23.2s\n",
      "[CV 1/5] END max_depth=5, n_estimators=300, random_state=42; accuracy: (test=0.613) f1: (test=0.758) roc_auc: (test=0.658) total time=  34.6s\n",
      "[CV 2/5] END max_depth=5, n_estimators=300, random_state=42; accuracy: (test=0.619) f1: (test=0.761) roc_auc: (test=0.648) total time=  34.7s\n",
      "[CV 3/5] END max_depth=5, n_estimators=300, random_state=42; accuracy: (test=0.617) f1: (test=0.759) roc_auc: (test=0.660) total time=  34.6s\n",
      "[CV 4/5] END max_depth=5, n_estimators=300, random_state=42; accuracy: (test=0.618) f1: (test=0.760) roc_auc: (test=0.665) total time=  34.6s\n",
      "[CV 5/5] END max_depth=5, n_estimators=300, random_state=42; accuracy: (test=0.617) f1: (test=0.760) roc_auc: (test=0.651) total time=  34.6s\n",
      "[CV 1/5] END max_depth=10, n_estimators=50, random_state=42; accuracy: (test=0.640) f1: (test=0.764) roc_auc: (test=0.656) total time=  11.0s\n",
      "[CV 2/5] END max_depth=10, n_estimators=50, random_state=42; accuracy: (test=0.644) f1: (test=0.765) roc_auc: (test=0.649) total time=  10.7s\n",
      "[CV 3/5] END max_depth=10, n_estimators=50, random_state=42; accuracy: (test=0.649) f1: (test=0.769) roc_auc: (test=0.662) total time=  10.7s\n",
      "[CV 4/5] END max_depth=10, n_estimators=50, random_state=42; accuracy: (test=0.646) f1: (test=0.767) roc_auc: (test=0.669) total time=  10.7s\n",
      "[CV 5/5] END max_depth=10, n_estimators=50, random_state=42; accuracy: (test=0.643) f1: (test=0.765) roc_auc: (test=0.657) total time=  10.9s\n",
      "[CV 1/5] END max_depth=10, n_estimators=100, random_state=42; accuracy: (test=0.643) f1: (test=0.767) roc_auc: (test=0.661) total time=  22.1s\n",
      "[CV 2/5] END max_depth=10, n_estimators=100, random_state=42; accuracy: (test=0.647) f1: (test=0.769) roc_auc: (test=0.653) total time=  21.5s\n",
      "[CV 3/5] END max_depth=10, n_estimators=100, random_state=42; accuracy: (test=0.652) f1: (test=0.772) roc_auc: (test=0.668) total time=  21.8s\n",
      "[CV 4/5] END max_depth=10, n_estimators=100, random_state=42; accuracy: (test=0.648) f1: (test=0.770) roc_auc: (test=0.672) total time=  22.0s\n",
      "[CV 5/5] END max_depth=10, n_estimators=100, random_state=42; accuracy: (test=0.646) f1: (test=0.769) roc_auc: (test=0.667) total time=  21.5s\n",
      "[CV 1/5] END max_depth=10, n_estimators=200, random_state=42; accuracy: (test=0.645) f1: (test=0.769) roc_auc: (test=0.664) total time=  43.8s\n",
      "[CV 2/5] END max_depth=10, n_estimators=200, random_state=42; accuracy: (test=0.650) f1: (test=0.772) roc_auc: (test=0.653) total time=  43.2s\n",
      "[CV 3/5] END max_depth=10, n_estimators=200, random_state=42; accuracy: (test=0.653) f1: (test=0.773) roc_auc: (test=0.666) total time=  43.5s\n",
      "[CV 4/5] END max_depth=10, n_estimators=200, random_state=42; accuracy: (test=0.651) f1: (test=0.773) roc_auc: (test=0.677) total time=  43.6s\n",
      "[CV 5/5] END max_depth=10, n_estimators=200, random_state=42; accuracy: (test=0.647) f1: (test=0.769) roc_auc: (test=0.666) total time=  43.3s\n",
      "[CV 1/5] END max_depth=10, n_estimators=300, random_state=42; accuracy: (test=0.645) f1: (test=0.769) roc_auc: (test=0.665) total time= 1.1min\n",
      "[CV 2/5] END max_depth=10, n_estimators=300, random_state=42; accuracy: (test=0.646) f1: (test=0.769) roc_auc: (test=0.657) total time= 1.1min\n",
      "[CV 3/5] END max_depth=10, n_estimators=300, random_state=42; accuracy: (test=0.653) f1: (test=0.773) roc_auc: (test=0.667) total time= 1.1min\n",
      "[CV 4/5] END max_depth=10, n_estimators=300, random_state=42; accuracy: (test=0.647) f1: (test=0.771) roc_auc: (test=0.679) total time= 1.1min\n",
      "[CV 5/5] END max_depth=10, n_estimators=300, random_state=42; accuracy: (test=0.645) f1: (test=0.768) roc_auc: (test=0.665) total time= 1.1min\n",
      "[CV 1/5] END max_depth=20, n_estimators=50, random_state=42; accuracy: (test=0.631) f1: (test=0.747) roc_auc: (test=0.636) total time=  17.6s\n",
      "[CV 2/5] END max_depth=20, n_estimators=50, random_state=42; accuracy: (test=0.639) f1: (test=0.749) roc_auc: (test=0.639) total time=  17.3s\n",
      "[CV 3/5] END max_depth=20, n_estimators=50, random_state=42; accuracy: (test=0.638) f1: (test=0.750) roc_auc: (test=0.659) total time=  17.1s\n",
      "[CV 4/5] END max_depth=20, n_estimators=50, random_state=42; accuracy: (test=0.654) f1: (test=0.763) roc_auc: (test=0.661) total time=  17.6s\n",
      "[CV 5/5] END max_depth=20, n_estimators=50, random_state=42; accuracy: (test=0.640) f1: (test=0.752) roc_auc: (test=0.656) total time=  17.2s\n",
      "[CV 1/5] END max_depth=20, n_estimators=100, random_state=42; accuracy: (test=0.641) f1: (test=0.755) roc_auc: (test=0.643) total time=  34.6s\n",
      "[CV 2/5] END max_depth=20, n_estimators=100, random_state=42; accuracy: (test=0.650) f1: (test=0.762) roc_auc: (test=0.645) total time=  34.8s\n",
      "[CV 3/5] END max_depth=20, n_estimators=100, random_state=42; accuracy: (test=0.646) f1: (test=0.761) roc_auc: (test=0.661) total time=  34.2s\n",
      "[CV 4/5] END max_depth=20, n_estimators=100, random_state=42; accuracy: (test=0.656) f1: (test=0.769) roc_auc: (test=0.672) total time=  34.9s\n",
      "[CV 5/5] END max_depth=20, n_estimators=100, random_state=42; accuracy: (test=0.640) f1: (test=0.756) roc_auc: (test=0.659) total time=  34.1s\n",
      "[CV 1/5] END max_depth=20, n_estimators=200, random_state=42; accuracy: (test=0.652) f1: (test=0.766) roc_auc: (test=0.655) total time= 1.2min\n",
      "[CV 2/5] END max_depth=20, n_estimators=200, random_state=42; accuracy: (test=0.651) f1: (test=0.765) roc_auc: (test=0.646) total time= 1.1min\n",
      "[CV 3/5] END max_depth=20, n_estimators=200, random_state=42; accuracy: (test=0.653) f1: (test=0.767) roc_auc: (test=0.665) total time= 1.1min\n",
      "[CV 4/5] END max_depth=20, n_estimators=200, random_state=42; accuracy: (test=0.655) f1: (test=0.770) roc_auc: (test=0.680) total time= 1.2min\n",
      "[CV 5/5] END max_depth=20, n_estimators=200, random_state=42; accuracy: (test=0.651) f1: (test=0.766) roc_auc: (test=0.663) total time= 1.2min\n",
      "[CV 1/5] END max_depth=20, n_estimators=300, random_state=42; accuracy: (test=0.651) f1: (test=0.766) roc_auc: (test=0.658) total time= 1.7min\n",
      "[CV 2/5] END max_depth=20, n_estimators=300, random_state=42; accuracy: (test=0.655) f1: (test=0.769) roc_auc: (test=0.649) total time= 1.7min\n",
      "[CV 3/5] END max_depth=20, n_estimators=300, random_state=42; accuracy: (test=0.649) f1: (test=0.766) roc_auc: (test=0.669) total time= 1.7min\n"
     ]
    },
    {
     "name": "stdout",
     "output_type": "stream",
     "text": [
      "[CV 4/5] END max_depth=20, n_estimators=300, random_state=42; accuracy: (test=0.654) f1: (test=0.770) roc_auc: (test=0.686) total time= 1.7min\n",
      "[CV 5/5] END max_depth=20, n_estimators=300, random_state=42; accuracy: (test=0.652) f1: (test=0.767) roc_auc: (test=0.667) total time= 1.7min\n",
      "[CV 1/5] END max_depth=30, n_estimators=50, random_state=42; accuracy: (test=0.632) f1: (test=0.739) roc_auc: (test=0.644) total time=  19.3s\n",
      "[CV 2/5] END max_depth=30, n_estimators=50, random_state=42; accuracy: (test=0.639) f1: (test=0.743) roc_auc: (test=0.648) total time=  18.3s\n",
      "[CV 3/5] END max_depth=30, n_estimators=50, random_state=42; accuracy: (test=0.628) f1: (test=0.736) roc_auc: (test=0.643) total time=  18.6s\n",
      "[CV 4/5] END max_depth=30, n_estimators=50, random_state=42; accuracy: (test=0.648) f1: (test=0.750) roc_auc: (test=0.653) total time=  18.8s\n",
      "[CV 5/5] END max_depth=30, n_estimators=50, random_state=42; accuracy: (test=0.633) f1: (test=0.737) roc_auc: (test=0.644) total time=  18.8s\n",
      "[CV 1/5] END max_depth=30, n_estimators=100, random_state=42; accuracy: (test=0.649) f1: (test=0.759) roc_auc: (test=0.658) total time=  38.0s\n",
      "[CV 2/5] END max_depth=30, n_estimators=100, random_state=42; accuracy: (test=0.657) f1: (test=0.764) roc_auc: (test=0.655) total time=  37.1s\n",
      "[CV 3/5] END max_depth=30, n_estimators=100, random_state=42; accuracy: (test=0.644) f1: (test=0.756) roc_auc: (test=0.650) total time=  38.0s\n",
      "[CV 4/5] END max_depth=30, n_estimators=100, random_state=42; accuracy: (test=0.648) f1: (test=0.758) roc_auc: (test=0.665) total time=  37.4s\n",
      "[CV 5/5] END max_depth=30, n_estimators=100, random_state=42; accuracy: (test=0.644) f1: (test=0.754) roc_auc: (test=0.658) total time=  37.8s\n",
      "[CV 1/5] END max_depth=30, n_estimators=200, random_state=42; accuracy: (test=0.653) f1: (test=0.766) roc_auc: (test=0.663) total time= 1.3min\n",
      "[CV 2/5] END max_depth=30, n_estimators=200, random_state=42; accuracy: (test=0.654) f1: (test=0.765) roc_auc: (test=0.654) total time= 1.2min\n",
      "[CV 3/5] END max_depth=30, n_estimators=200, random_state=42; accuracy: (test=0.654) f1: (test=0.765) roc_auc: (test=0.657) total time= 1.3min\n",
      "[CV 4/5] END max_depth=30, n_estimators=200, random_state=42; accuracy: (test=0.658) f1: (test=0.770) roc_auc: (test=0.679) total time= 1.3min\n",
      "[CV 5/5] END max_depth=30, n_estimators=200, random_state=42; accuracy: (test=0.655) f1: (test=0.766) roc_auc: (test=0.656) total time= 1.3min\n",
      "[CV 1/5] END max_depth=30, n_estimators=300, random_state=42; accuracy: (test=0.651) f1: (test=0.765) roc_auc: (test=0.663) total time= 1.9min\n",
      "[CV 2/5] END max_depth=30, n_estimators=300, random_state=42; accuracy: (test=0.652) f1: (test=0.765) roc_auc: (test=0.654) total time= 1.9min\n",
      "[CV 3/5] END max_depth=30, n_estimators=300, random_state=42; accuracy: (test=0.656) f1: (test=0.768) roc_auc: (test=0.659) total time= 1.9min\n",
      "[CV 4/5] END max_depth=30, n_estimators=300, random_state=42; accuracy: (test=0.656) f1: (test=0.769) roc_auc: (test=0.684) total time= 1.9min\n",
      "[CV 5/5] END max_depth=30, n_estimators=300, random_state=42; accuracy: (test=0.659) f1: (test=0.769) roc_auc: (test=0.659) total time= 1.9min\n"
     ]
    },
    {
     "data": {
      "text/plain": [
       "GridSearchCV(estimator=RandomForestClassifier(),\n",
       "             param_grid={'max_depth': [5, 10, 20, 30],\n",
       "                         'n_estimators': [50, 100, 200, 300],\n",
       "                         'random_state': [42]},\n",
       "             refit='roc_auc', scoring=['roc_auc', 'f1', 'accuracy'], verbose=3)"
      ]
     },
     "execution_count": 42,
     "metadata": {},
     "output_type": "execute_result"
    }
   ],
   "source": [
    "gs = GridSearchCV(rfc, rfc_params, scoring=metricas, \n",
    "                    refit='roc_auc', \n",
    "                    verbose=3)\n",
    "gs.fit(X_train, y_train)"
   ]
  },
  {
   "cell_type": "code",
   "execution_count": 43,
   "id": "3a6c9a24",
   "metadata": {},
   "outputs": [],
   "source": [
    "melhor_modelo_arvore = gs.best_estimator_"
   ]
  },
  {
   "cell_type": "code",
   "execution_count": 44,
   "id": "5c0ec4fc",
   "metadata": {},
   "outputs": [
    {
     "data": {
      "text/plain": [
       "RandomForestClassifier(max_depth=10, n_estimators=300, random_state=42)"
      ]
     },
     "execution_count": 44,
     "metadata": {},
     "output_type": "execute_result"
    }
   ],
   "source": [
    "melhor_modelo_arvore"
   ]
  },
  {
   "cell_type": "code",
   "execution_count": 45,
   "id": "f999072c",
   "metadata": {},
   "outputs": [
    {
     "data": {
      "text/plain": [
       "0.656938904052068"
      ]
     },
     "execution_count": 45,
     "metadata": {},
     "output_type": "execute_result"
    }
   ],
   "source": [
    "melhor_modelo_arvore.score(X_test, y_test)"
   ]
  },
  {
   "cell_type": "code",
   "execution_count": 46,
   "id": "77927e0f",
   "metadata": {},
   "outputs": [
    {
     "data": {
      "text/plain": [
       "True"
      ]
     },
     "execution_count": 46,
     "metadata": {},
     "output_type": "execute_result"
    }
   ],
   "source": [
    "melhor_modelo_arvore.predict(X_test)[0]"
   ]
  },
  {
   "cell_type": "code",
   "execution_count": 47,
   "id": "6b1ea50d",
   "metadata": {},
   "outputs": [
    {
     "data": {
      "text/plain": [
       "array([0.42528993, 0.57471007])"
      ]
     },
     "execution_count": 47,
     "metadata": {},
     "output_type": "execute_result"
    }
   ],
   "source": [
    "# predict proba são o quanto o dado pertence a uma das classes - então para o primeiro dado\n",
    "# há 0.99 de chance de pertecer a classe 0, e 0.005 de pertencer a classe 1\n",
    "melhor_modelo_arvore.predict_proba(X_test)[0]"
   ]
  },
  {
   "cell_type": "code",
   "execution_count": 48,
   "id": "221ac077",
   "metadata": {},
   "outputs": [],
   "source": [
    "y_pred_mma = melhor_modelo_arvore.predict(X_test)"
   ]
  },
  {
   "cell_type": "code",
   "execution_count": 49,
   "id": "dcb2f6eb",
   "metadata": {},
   "outputs": [
    {
     "data": {
      "text/plain": [
       "0.5693439091663172"
      ]
     },
     "execution_count": 49,
     "metadata": {},
     "output_type": "execute_result"
    }
   ],
   "source": [
    "roc_auc_score(y_test, y_pred_mma)"
   ]
  },
  {
   "cell_type": "code",
   "execution_count": 50,
   "id": "393d08f8",
   "metadata": {},
   "outputs": [
    {
     "name": "stdout",
     "output_type": "stream",
     "text": [
      "              precision    recall  f1-score   support\n",
      "\n",
      "       False       0.83      0.16      0.27      1873\n",
      "        True       0.64      0.98      0.78      2890\n",
      "\n",
      "    accuracy                           0.66      4763\n",
      "   macro avg       0.74      0.57      0.52      4763\n",
      "weighted avg       0.72      0.66      0.58      4763\n",
      "\n"
     ]
    }
   ],
   "source": [
    "print(classification_report(y_test, y_pred_mma))"
   ]
  },
  {
   "cell_type": "code",
   "execution_count": 51,
   "id": "ccf855cd",
   "metadata": {},
   "outputs": [
    {
     "data": {
      "image/png": "[encoded data removed]",
      "text/plain": [
       "<Figure size 432x288 with 2 Axes>"
      ]
     },
     "metadata": {
      "needs_background": "light"
     },
     "output_type": "display_data"
    }
   ],
   "source": [
    "sns.heatmap(confusion_matrix(y_test, y_pred_mma), annot=True, fmt='g');"
   ]
  },
  {
   "cell_type": "code",
   "execution_count": null,
   "id": "2656bd2f",
   "metadata": {},
   "outputs": [],
   "source": []
  }
 ],
 "metadata": {
  "kernelspec": {
   "display_name": "Python 3 (ipykernel)",
   "language": "python",
   "name": "python3"
  },
  "language_info": {
   "codemirror_mode": {
    "name": "ipython",
    "version": 3
   },
   "file_extension": ".py",
   "mimetype": "text/x-python",
   "name": "python",
   "nbconvert_exporter": "python",
   "pygments_lexer": "ipython3",
   "version": "3.8.11"
  }
 },
 "nbformat": 4,
 "nbformat_minor": 5
}
