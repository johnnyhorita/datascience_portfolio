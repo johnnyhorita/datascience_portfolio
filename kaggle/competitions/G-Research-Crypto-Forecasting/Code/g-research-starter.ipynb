{
 "cells": [
  {
   "cell_type": "markdown",
   "id": "5bb3e351",
   "metadata": {
    "papermill": {
     "duration": 0.011782,
     "end_time": "2021-11-03T15:19:26.279797",
     "exception": false,
     "start_time": "2021-11-03T15:19:26.268015",
     "status": "completed"
    },
    "tags": []
   },
   "source": [
    "# 🪙 G-Research Crypto - Starter LGBM Pipeline\n",
    "![](https://storage.googleapis.com/kaggle-competitions/kaggle/30894/logos/header.png)\n",
    "\n",
    "Based on:  https://www.kaggle.com/julian3833/g-research-starter-lgbm-pipeline-lb-0-164\n",
    " \n",
    "\n",
    "### Just a simple pipeline going from zero to a valid submission\n",
    "\n",
    "We train one `LGBMRegressor` for each asset over a very simple set of features, we get the predictions correctly using the iterator and submit. \n",
    "\n",
    "\n",
    "## Please upvote if you find this useful!\n",
    "\n",
    "## References:\n",
    "* [Detailed API Introduction](https://www.kaggle.com/sohier/detailed-api-introduction)\n",
    "* [Basic Submission Template](https://www.kaggle.com/sohier/basic-submission-template)\n",
    "* [Tutorial to the G-Research Crypto Competition](https://www.kaggle.com/cstein06/tutorial-to-the-g-research-crypto-competition)\n",
    "\n"
   ]
  },
  {
   "cell_type": "markdown",
   "id": "411f747d",
   "metadata": {
    "papermill": {
     "duration": 0.010351,
     "end_time": "2021-11-03T15:19:26.303482",
     "exception": false,
     "start_time": "2021-11-03T15:19:26.293131",
     "status": "completed"
    },
    "tags": []
   },
   "source": [
    "# Import and load dfs\n",
    "\n",
    "References: [Tutorial to the G-Research Crypto Competition](https://www.kaggle.com/cstein06/tutorial-to-the-g-research-crypto-competition)"
   ]
  },
  {
   "cell_type": "code",
   "execution_count": 1,
   "id": "f13d0420",
   "metadata": {
    "execution": {
     "iopub.execute_input": "2021-11-03T15:19:26.330944Z",
     "iopub.status.busy": "2021-11-03T15:19:26.329132Z",
     "iopub.status.idle": "2021-11-03T15:19:28.320145Z",
     "shell.execute_reply": "2021-11-03T15:19:28.320927Z",
     "shell.execute_reply.started": "2021-11-03T14:58:29.120899Z"
    },
    "papermill": {
     "duration": 2.007106,
     "end_time": "2021-11-03T15:19:28.321235",
     "exception": false,
     "start_time": "2021-11-03T15:19:26.314129",
     "status": "completed"
    },
    "tags": []
   },
   "outputs": [
    {
     "data": {
      "text/html": [
       "<style type='text/css'>\n",
       ".datatable table.frame { margin-bottom: 0; }\n",
       ".datatable table.frame thead { border-bottom: none; }\n",
       ".datatable table.frame tr.coltypes td {  color: #FFFFFF;  line-height: 6px;  padding: 0 0.5em;}\n",
       ".datatable .bool    { background: #DDDD99; }\n",
       ".datatable .object  { background: #565656; }\n",
       ".datatable .int     { background: #5D9E5D; }\n",
       ".datatable .float   { background: #4040CC; }\n",
       ".datatable .str     { background: #CC4040; }\n",
       ".datatable .time    { background: #40CC40; }\n",
       ".datatable .row_index {  background: var(--jp-border-color3);  border-right: 1px solid var(--jp-border-color0);  color: var(--jp-ui-font-color3);  font-size: 9px;}\n",
       ".datatable .frame tbody td { text-align: left; }\n",
       ".datatable .frame tr.coltypes .row_index {  background: var(--jp-border-color0);}\n",
       ".datatable th:nth-child(2) { padding-left: 12px; }\n",
       ".datatable .hellipsis {  color: var(--jp-cell-editor-border-color);}\n",
       ".datatable .vellipsis {  background: var(--jp-layout-color0);  color: var(--jp-cell-editor-border-color);}\n",
       ".datatable .na {  color: var(--jp-cell-editor-border-color);  font-size: 80%;}\n",
       ".datatable .sp {  opacity: 0.25;}\n",
       ".datatable .footer { font-size: 9px; }\n",
       ".datatable .frame_dimensions {  background: var(--jp-border-color3);  border-top: 1px solid var(--jp-border-color0);  color: var(--jp-ui-font-color3);  display: inline-block;  opacity: 0.6;  padding: 1px 10px 1px 5px;}\n",
       "</style>\n"
      ],
      "text/plain": [
       "<IPython.core.display.HTML object>"
      ]
     },
     "metadata": {},
     "output_type": "display_data"
    }
   ],
   "source": [
    "import pandas as pd\n",
    "import numpy as np\n",
    "from lightgbm import LGBMRegressor\n",
    "import gresearch_crypto\n",
    "\n",
    "\n",
    "TRAIN_CSV = '/kaggle/input/g-research-crypto-forecasting/train.csv'\n",
    "ASSET_DETAILS_CSV = '/kaggle/input/g-research-crypto-forecasting/asset_details.csv'"
   ]
  },
  {
   "cell_type": "code",
   "execution_count": 2,
   "id": "7fa2c1ea",
   "metadata": {
    "execution": {
     "iopub.execute_input": "2021-11-03T15:19:28.349474Z",
     "iopub.status.busy": "2021-11-03T15:19:28.348763Z",
     "iopub.status.idle": "2021-11-03T15:20:32.985825Z",
     "shell.execute_reply": "2021-11-03T15:20:32.986463Z",
     "shell.execute_reply.started": "2021-11-03T14:58:30.118403Z"
    },
    "papermill": {
     "duration": 64.653328,
     "end_time": "2021-11-03T15:20:32.986839",
     "exception": false,
     "start_time": "2021-11-03T15:19:28.333511",
     "status": "completed"
    },
    "tags": []
   },
   "outputs": [
    {
     "data": {
      "text/html": [
       "<div>\n",
       "<style scoped>\n",
       "    .dataframe tbody tr th:only-of-type {\n",
       "        vertical-align: middle;\n",
       "    }\n",
       "\n",
       "    .dataframe tbody tr th {\n",
       "        vertical-align: top;\n",
       "    }\n",
       "\n",
       "    .dataframe thead th {\n",
       "        text-align: right;\n",
       "    }\n",
       "</style>\n",
       "<table border=\"1\" class=\"dataframe\">\n",
       "  <thead>\n",
       "    <tr style=\"text-align: right;\">\n",
       "      <th></th>\n",
       "      <th>timestamp</th>\n",
       "      <th>Asset_ID</th>\n",
       "      <th>Count</th>\n",
       "      <th>Open</th>\n",
       "      <th>High</th>\n",
       "      <th>Low</th>\n",
       "      <th>Close</th>\n",
       "      <th>Volume</th>\n",
       "      <th>VWAP</th>\n",
       "      <th>Target</th>\n",
       "    </tr>\n",
       "  </thead>\n",
       "  <tbody>\n",
       "    <tr>\n",
       "      <th>0</th>\n",
       "      <td>1514764860</td>\n",
       "      <td>2</td>\n",
       "      <td>40.0</td>\n",
       "      <td>2376.5800</td>\n",
       "      <td>2399.5000</td>\n",
       "      <td>2357.1400</td>\n",
       "      <td>2374.5900</td>\n",
       "      <td>19.233005</td>\n",
       "      <td>2373.116392</td>\n",
       "      <td>-0.004218</td>\n",
       "    </tr>\n",
       "    <tr>\n",
       "      <th>1</th>\n",
       "      <td>1514764860</td>\n",
       "      <td>0</td>\n",
       "      <td>5.0</td>\n",
       "      <td>8.5300</td>\n",
       "      <td>8.5300</td>\n",
       "      <td>8.5300</td>\n",
       "      <td>8.5300</td>\n",
       "      <td>78.380000</td>\n",
       "      <td>8.530000</td>\n",
       "      <td>-0.014399</td>\n",
       "    </tr>\n",
       "    <tr>\n",
       "      <th>2</th>\n",
       "      <td>1514764860</td>\n",
       "      <td>1</td>\n",
       "      <td>229.0</td>\n",
       "      <td>13835.1940</td>\n",
       "      <td>14013.8000</td>\n",
       "      <td>13666.1100</td>\n",
       "      <td>13850.1760</td>\n",
       "      <td>31.550062</td>\n",
       "      <td>13827.062093</td>\n",
       "      <td>-0.014643</td>\n",
       "    </tr>\n",
       "    <tr>\n",
       "      <th>3</th>\n",
       "      <td>1514764860</td>\n",
       "      <td>5</td>\n",
       "      <td>32.0</td>\n",
       "      <td>7.6596</td>\n",
       "      <td>7.6596</td>\n",
       "      <td>7.6567</td>\n",
       "      <td>7.6576</td>\n",
       "      <td>6626.713370</td>\n",
       "      <td>7.657713</td>\n",
       "      <td>-0.013922</td>\n",
       "    </tr>\n",
       "    <tr>\n",
       "      <th>4</th>\n",
       "      <td>1514764860</td>\n",
       "      <td>7</td>\n",
       "      <td>5.0</td>\n",
       "      <td>25.9200</td>\n",
       "      <td>25.9200</td>\n",
       "      <td>25.8740</td>\n",
       "      <td>25.8770</td>\n",
       "      <td>121.087310</td>\n",
       "      <td>25.891363</td>\n",
       "      <td>-0.008264</td>\n",
       "    </tr>\n",
       "  </tbody>\n",
       "</table>\n",
       "</div>"
      ],
      "text/plain": [
       "    timestamp  Asset_ID  Count        Open        High         Low  \\\n",
       "0  1514764860         2   40.0   2376.5800   2399.5000   2357.1400   \n",
       "1  1514764860         0    5.0      8.5300      8.5300      8.5300   \n",
       "2  1514764860         1  229.0  13835.1940  14013.8000  13666.1100   \n",
       "3  1514764860         5   32.0      7.6596      7.6596      7.6567   \n",
       "4  1514764860         7    5.0     25.9200     25.9200     25.8740   \n",
       "\n",
       "        Close       Volume          VWAP    Target  \n",
       "0   2374.5900    19.233005   2373.116392 -0.004218  \n",
       "1      8.5300    78.380000      8.530000 -0.014399  \n",
       "2  13850.1760    31.550062  13827.062093 -0.014643  \n",
       "3      7.6576  6626.713370      7.657713 -0.013922  \n",
       "4     25.8770   121.087310     25.891363 -0.008264  "
      ]
     },
     "execution_count": 2,
     "metadata": {},
     "output_type": "execute_result"
    }
   ],
   "source": [
    "df_train = pd.read_csv(TRAIN_CSV)#,nrows=9234567)\n",
    "# df_train = df_train.sort_values([\"timestamp\",\"Asset_ID\"]) # needed if adding lag features (problematic for target)\n",
    "df_train.head()"
   ]
  },
  {
   "cell_type": "code",
   "execution_count": 3,
   "id": "b019681d",
   "metadata": {
    "execution": {
     "iopub.execute_input": "2021-11-03T15:20:33.023316Z",
     "iopub.status.busy": "2021-11-03T15:20:33.022610Z",
     "iopub.status.idle": "2021-11-03T15:20:33.048494Z",
     "shell.execute_reply": "2021-11-03T15:20:33.049132Z",
     "shell.execute_reply.started": "2021-11-03T14:58:44.169259Z"
    },
    "papermill": {
     "duration": 0.045059,
     "end_time": "2021-11-03T15:20:33.049337",
     "exception": false,
     "start_time": "2021-11-03T15:20:33.004278",
     "status": "completed"
    },
    "tags": []
   },
   "outputs": [
    {
     "data": {
      "text/html": [
       "<div>\n",
       "<style scoped>\n",
       "    .dataframe tbody tr th:only-of-type {\n",
       "        vertical-align: middle;\n",
       "    }\n",
       "\n",
       "    .dataframe tbody tr th {\n",
       "        vertical-align: top;\n",
       "    }\n",
       "\n",
       "    .dataframe thead th {\n",
       "        text-align: right;\n",
       "    }\n",
       "</style>\n",
       "<table border=\"1\" class=\"dataframe\">\n",
       "  <thead>\n",
       "    <tr style=\"text-align: right;\">\n",
       "      <th></th>\n",
       "      <th>Asset_ID</th>\n",
       "      <th>Weight</th>\n",
       "      <th>Asset_Name</th>\n",
       "    </tr>\n",
       "  </thead>\n",
       "  <tbody>\n",
       "    <tr>\n",
       "      <th>1</th>\n",
       "      <td>0</td>\n",
       "      <td>4.304065</td>\n",
       "      <td>Binance Coin</td>\n",
       "    </tr>\n",
       "    <tr>\n",
       "      <th>2</th>\n",
       "      <td>1</td>\n",
       "      <td>6.779922</td>\n",
       "      <td>Bitcoin</td>\n",
       "    </tr>\n",
       "    <tr>\n",
       "      <th>0</th>\n",
       "      <td>2</td>\n",
       "      <td>2.397895</td>\n",
       "      <td>Bitcoin Cash</td>\n",
       "    </tr>\n",
       "    <tr>\n",
       "      <th>10</th>\n",
       "      <td>3</td>\n",
       "      <td>4.406719</td>\n",
       "      <td>Cardano</td>\n",
       "    </tr>\n",
       "    <tr>\n",
       "      <th>13</th>\n",
       "      <td>4</td>\n",
       "      <td>3.555348</td>\n",
       "      <td>Dogecoin</td>\n",
       "    </tr>\n",
       "    <tr>\n",
       "      <th>3</th>\n",
       "      <td>5</td>\n",
       "      <td>1.386294</td>\n",
       "      <td>EOS.IO</td>\n",
       "    </tr>\n",
       "    <tr>\n",
       "      <th>5</th>\n",
       "      <td>6</td>\n",
       "      <td>5.894403</td>\n",
       "      <td>Ethereum</td>\n",
       "    </tr>\n",
       "    <tr>\n",
       "      <th>4</th>\n",
       "      <td>7</td>\n",
       "      <td>2.079442</td>\n",
       "      <td>Ethereum Classic</td>\n",
       "    </tr>\n",
       "    <tr>\n",
       "      <th>11</th>\n",
       "      <td>8</td>\n",
       "      <td>1.098612</td>\n",
       "      <td>IOTA</td>\n",
       "    </tr>\n",
       "    <tr>\n",
       "      <th>6</th>\n",
       "      <td>9</td>\n",
       "      <td>2.397895</td>\n",
       "      <td>Litecoin</td>\n",
       "    </tr>\n",
       "    <tr>\n",
       "      <th>12</th>\n",
       "      <td>10</td>\n",
       "      <td>1.098612</td>\n",
       "      <td>Maker</td>\n",
       "    </tr>\n",
       "    <tr>\n",
       "      <th>7</th>\n",
       "      <td>11</td>\n",
       "      <td>1.609438</td>\n",
       "      <td>Monero</td>\n",
       "    </tr>\n",
       "    <tr>\n",
       "      <th>9</th>\n",
       "      <td>12</td>\n",
       "      <td>2.079442</td>\n",
       "      <td>Stellar</td>\n",
       "    </tr>\n",
       "    <tr>\n",
       "      <th>8</th>\n",
       "      <td>13</td>\n",
       "      <td>1.791759</td>\n",
       "      <td>TRON</td>\n",
       "    </tr>\n",
       "  </tbody>\n",
       "</table>\n",
       "</div>"
      ],
      "text/plain": [
       "    Asset_ID    Weight        Asset_Name\n",
       "1          0  4.304065      Binance Coin\n",
       "2          1  6.779922           Bitcoin\n",
       "0          2  2.397895      Bitcoin Cash\n",
       "10         3  4.406719           Cardano\n",
       "13         4  3.555348          Dogecoin\n",
       "3          5  1.386294            EOS.IO\n",
       "5          6  5.894403          Ethereum\n",
       "4          7  2.079442  Ethereum Classic\n",
       "11         8  1.098612              IOTA\n",
       "6          9  2.397895          Litecoin\n",
       "12        10  1.098612             Maker\n",
       "7         11  1.609438            Monero\n",
       "9         12  2.079442           Stellar\n",
       "8         13  1.791759              TRON"
      ]
     },
     "execution_count": 3,
     "metadata": {},
     "output_type": "execute_result"
    }
   ],
   "source": [
    "df_asset_details = pd.read_csv(ASSET_DETAILS_CSV).sort_values(\"Asset_ID\")\n",
    "df_asset_details"
   ]
  },
  {
   "cell_type": "markdown",
   "id": "54d80e3c",
   "metadata": {
    "papermill": {
     "duration": 0.012414,
     "end_time": "2021-11-03T15:20:33.074351",
     "exception": false,
     "start_time": "2021-11-03T15:20:33.061937",
     "status": "completed"
    },
    "tags": []
   },
   "source": [
    "# Training"
   ]
  },
  {
   "cell_type": "markdown",
   "id": "e268e245",
   "metadata": {
    "papermill": {
     "duration": 0.012025,
     "end_time": "2021-11-03T15:20:33.098918",
     "exception": false,
     "start_time": "2021-11-03T15:20:33.086893",
     "status": "completed"
    },
    "tags": []
   },
   "source": [
    "## Utility functions to train a model for one asset"
   ]
  },
  {
   "cell_type": "code",
   "execution_count": 4,
   "id": "f9ad6699",
   "metadata": {
    "execution": {
     "iopub.execute_input": "2021-11-03T15:20:33.127230Z",
     "iopub.status.busy": "2021-11-03T15:20:33.126522Z",
     "iopub.status.idle": "2021-11-03T15:20:33.139309Z",
     "shell.execute_reply": "2021-11-03T15:20:33.139866Z",
     "shell.execute_reply.started": "2021-11-03T14:58:44.188321Z"
    },
    "papermill": {
     "duration": 0.028667,
     "end_time": "2021-11-03T15:20:33.140058",
     "exception": false,
     "start_time": "2021-11-03T15:20:33.111391",
     "status": "completed"
    },
    "tags": []
   },
   "outputs": [],
   "source": [
    "# Two new features from the competition tutorial\n",
    "def upper_shadow(df):\n",
    "    return df['High'] - np.maximum(df['Close'], df['Open'])\n",
    "\n",
    "def lower_shadow(df):\n",
    "    return np.minimum(df['Close'], df['Open']) - df['Low']\n",
    "\n",
    "# A utility function to build features from the original df\n",
    "# It works for rows to, so we can reutilize it.\n",
    "def get_features(df,row=False):\n",
    "    df_feat = df[[\"Asset_ID\",'Count', 'Open', 'High', 'Low', 'Close', 'Volume', 'VWAP',\"timestamp\"]].copy()\n",
    "    df_feat['Upper_Shadow'] = upper_shadow(df_feat)\n",
    "    df_feat['Lower_Shadow'] = lower_shadow(df_feat)\n",
    "    \n",
    "    ## Ad dsome more feats\n",
    "    df_feat[\"high_div_low\"] = df_feat[\"High\"]/df_feat[\"Low\"]\n",
    "    df_feat[\"open_sub_close\"] = df_feat[\"Open\"]-df_feat[\"Close\"]\n",
    "\n",
    "    ## possible seasonality, datetime  features (unlikely to me meaningful, given very short time-frames)\n",
    "    ### to do: add cyclical features for seasonality\n",
    "    times = pd.to_datetime(df_feat[\"timestamp\"],unit=\"s\",infer_datetime_format=True)\n",
    "    if row:\n",
    "        df_feat[\"hour\"] = times.hour  # .dt\n",
    "        df_feat[\"dayofweek\"] = times.dayofweek \n",
    "        df_feat[\"day\"] = times.day \n",
    "    else:\n",
    "        df_feat[\"hour\"] = times.dt.hour  # .dt\n",
    "        df_feat[\"dayofweek\"] = times.dt.dayofweek \n",
    "        df_feat[\"day\"] = times.dt.day \n",
    "    df_feat.drop(columns=[\"time\"],errors=\"ignore\",inplace=True)  # keep original epoch time, drop string\n",
    "\n",
    "    \n",
    "    ## todo: features of othet crypto assets in same time period (pivot table + avoid target col)\n",
    "    ## Lag of target (be careful to avoid leak? Is this valid for test data (in terms of input format?))\n",
    "    ## more features\n",
    "    ### time window/time series features\n",
    "    return df_feat\n",
    "\n",
    "def get_Xy_and_model_for_asset(df_train, asset_id):\n",
    "    df = df_train[df_train[\"Asset_ID\"] == asset_id]\n",
    "    \n",
    "    # TODO: Try different features here!\n",
    "    df_proc = get_features(df)\n",
    "    df_proc['y'] = df['Target']\n",
    "    df_proc = df_proc.dropna(how=\"any\")\n",
    "    \n",
    "    X = df_proc.drop(\"y\", axis=1)\n",
    "    y = df_proc[\"y\"]\n",
    "    \n",
    "    # TODO: Try different models here!\n",
    "    model = LGBMRegressor(n_estimators=700)\n",
    "    model.fit(X, y)\n",
    "    return X, y, model"
   ]
  },
  {
   "cell_type": "markdown",
   "id": "b27f5b70",
   "metadata": {
    "papermill": {
     "duration": 0.0126,
     "end_time": "2021-11-03T15:20:33.165018",
     "exception": false,
     "start_time": "2021-11-03T15:20:33.152418",
     "status": "completed"
    },
    "tags": []
   },
   "source": [
    "## Loop over all assets"
   ]
  },
  {
   "cell_type": "code",
   "execution_count": 5,
   "id": "3470cba9",
   "metadata": {
    "execution": {
     "iopub.execute_input": "2021-11-03T15:20:33.193647Z",
     "iopub.status.busy": "2021-11-03T15:20:33.192958Z",
     "iopub.status.idle": "2021-11-03T15:26:41.794548Z",
     "shell.execute_reply": "2021-11-03T15:26:41.795084Z",
     "shell.execute_reply.started": "2021-11-03T14:58:44.204357Z"
    },
    "papermill": {
     "duration": 368.61795,
     "end_time": "2021-11-03T15:26:41.795403",
     "exception": false,
     "start_time": "2021-11-03T15:20:33.177453",
     "status": "completed"
    },
    "tags": []
   },
   "outputs": [
    {
     "name": "stdout",
     "output_type": "stream",
     "text": [
      "Training model for Binance Coin     (ID=0 )\n",
      "Training model for Bitcoin          (ID=1 )\n",
      "Training model for Bitcoin Cash     (ID=2 )\n",
      "Training model for Cardano          (ID=3 )\n",
      "Training model for Dogecoin         (ID=4 )\n",
      "Training model for EOS.IO           (ID=5 )\n",
      "Training model for Ethereum         (ID=6 )\n",
      "Training model for Ethereum Classic (ID=7 )\n",
      "Training model for IOTA             (ID=8 )\n",
      "Training model for Litecoin         (ID=9 )\n",
      "Training model for Maker            (ID=10)\n",
      "Training model for Monero           (ID=11)\n",
      "Training model for Stellar          (ID=12)\n",
      "Training model for TRON             (ID=13)\n",
      "CPU times: user 22min 40s, sys: 11 s, total: 22min 51s\n",
      "Wall time: 6min 8s\n"
     ]
    }
   ],
   "source": [
    "%%time\n",
    "Xs = {}\n",
    "ys = {}\n",
    "models = {}\n",
    "\n",
    "for asset_id, asset_name in zip(df_asset_details['Asset_ID'], df_asset_details['Asset_Name']):\n",
    "    print(f\"Training model for {asset_name:<16} (ID={asset_id:<2})\")\n",
    "    X, y, model = get_Xy_and_model_for_asset(df_train, asset_id)    \n",
    "    Xs[asset_id], ys[asset_id], models[asset_id] = X, y, model"
   ]
  },
  {
   "cell_type": "code",
   "execution_count": 6,
   "id": "a5d11179",
   "metadata": {
    "execution": {
     "iopub.execute_input": "2021-11-03T15:26:41.843455Z",
     "iopub.status.busy": "2021-11-03T15:26:41.842702Z",
     "iopub.status.idle": "2021-11-03T15:26:41.853355Z",
     "shell.execute_reply": "2021-11-03T15:26:41.853915Z",
     "shell.execute_reply.started": "2021-11-03T14:59:00.686041Z"
    },
    "papermill": {
     "duration": 0.041823,
     "end_time": "2021-11-03T15:26:41.854124",
     "exception": false,
     "start_time": "2021-11-03T15:26:41.812301",
     "status": "completed"
    },
    "tags": []
   },
   "outputs": [
    {
     "name": "stdout",
     "output_type": "stream",
     "text": [
      "CPU times: user 14 ms, sys: 1.01 ms, total: 15 ms\n",
      "Wall time: 10.7 ms\n"
     ]
    },
    {
     "data": {
      "text/plain": [
       "-0.025412796955613767"
      ]
     },
     "execution_count": 6,
     "metadata": {},
     "output_type": "execute_result"
    }
   ],
   "source": [
    "%%time\n",
    "# Check the model interface\n",
    "x = get_features(df_train.iloc[0],row=True)\n",
    "y_pred = models[0].predict([x])\n",
    "y_pred[0]"
   ]
  },
  {
   "cell_type": "markdown",
   "id": "3ea3dda5",
   "metadata": {
    "execution": {
     "iopub.status.busy": "2021-11-02T20:57:49.349459Z",
     "iopub.status.idle": "2021-11-02T20:57:49.349757Z",
     "shell.execute_reply": "2021-11-02T20:57:49.349613Z",
     "shell.execute_reply.started": "2021-11-02T20:57:49.349596Z"
    },
    "papermill": {
     "duration": 0.01766,
     "end_time": "2021-11-03T15:26:41.890550",
     "exception": false,
     "start_time": "2021-11-03T15:26:41.872890",
     "status": "completed"
    },
    "tags": []
   },
   "source": [
    "# Predict & submit\n",
    "\n",
    "References: [Detailed API Introduction](https://www.kaggle.com/sohier/detailed-api-introduction)\n",
    "\n",
    "Something that helped me understand this iterator was adding a pdb checkpoint inside of the for loop:\n",
    "\n",
    "```python\n",
    "import pdb; pdb.set_trace()\n",
    "```\n",
    "\n",
    "See [Python Debugging With Pdb](https://realpython.com/python-debugging-pdb/) if you want to use it and you don't know how to.\n"
   ]
  },
  {
   "cell_type": "code",
   "execution_count": 7,
   "id": "439903ae",
   "metadata": {
    "execution": {
     "iopub.execute_input": "2021-11-03T15:26:41.935102Z",
     "iopub.status.busy": "2021-11-03T15:26:41.934430Z",
     "iopub.status.idle": "2021-11-03T15:26:42.341454Z",
     "shell.execute_reply": "2021-11-03T15:26:42.342075Z",
     "shell.execute_reply.started": "2021-11-03T14:59:00.722030Z"
    },
    "papermill": {
     "duration": 0.434024,
     "end_time": "2021-11-03T15:26:42.342298",
     "exception": false,
     "start_time": "2021-11-03T15:26:41.908274",
     "status": "completed"
    },
    "tags": []
   },
   "outputs": [
    {
     "name": "stdout",
     "output_type": "stream",
     "text": [
      "This version of the API is not optimized and should not be used to estimate the runtime of your code on the hidden test set.\n"
     ]
    },
    {
     "data": {
      "text/plain": [
       "Asset_ID          3.000000e+00\n",
       "Count             1.201000e+03\n",
       "Open              1.478556e+00\n",
       "High              1.486030e+00\n",
       "Low               1.478000e+00\n",
       "Close             1.483681e+00\n",
       "Volume            6.547996e+05\n",
       "VWAP              1.481439e+00\n",
       "timestamp         1.623542e+09\n",
       "Upper_Shadow      2.348667e-03\n",
       "Lower_Shadow      5.558333e-04\n",
       "high_div_low      1.005433e+00\n",
       "open_sub_close   -5.125500e-03\n",
       "hour              0.000000e+00\n",
       "dayofweek         6.000000e+00\n",
       "day               1.300000e+01\n",
       "Name: 0, dtype: float64"
      ]
     },
     "metadata": {},
     "output_type": "display_data"
    },
    {
     "data": {
      "text/html": [
       "<div>\n",
       "<style scoped>\n",
       "    .dataframe tbody tr th:only-of-type {\n",
       "        vertical-align: middle;\n",
       "    }\n",
       "\n",
       "    .dataframe tbody tr th {\n",
       "        vertical-align: top;\n",
       "    }\n",
       "\n",
       "    .dataframe thead th {\n",
       "        text-align: right;\n",
       "    }\n",
       "</style>\n",
       "<table border=\"1\" class=\"dataframe\">\n",
       "  <thead>\n",
       "    <tr style=\"text-align: right;\">\n",
       "      <th></th>\n",
       "      <th>row_id</th>\n",
       "      <th>Target</th>\n",
       "    </tr>\n",
       "  </thead>\n",
       "  <tbody>\n",
       "    <tr>\n",
       "      <th>0</th>\n",
       "      <td>0</td>\n",
       "      <td>-3.084373e-04</td>\n",
       "    </tr>\n",
       "    <tr>\n",
       "      <th>1</th>\n",
       "      <td>1</td>\n",
       "      <td>-5.186861e-04</td>\n",
       "    </tr>\n",
       "    <tr>\n",
       "      <th>2</th>\n",
       "      <td>2</td>\n",
       "      <td>1.169469e-04</td>\n",
       "    </tr>\n",
       "    <tr>\n",
       "      <th>3</th>\n",
       "      <td>3</td>\n",
       "      <td>-7.995537e-06</td>\n",
       "    </tr>\n",
       "    <tr>\n",
       "      <th>4</th>\n",
       "      <td>4</td>\n",
       "      <td>9.085875e-07</td>\n",
       "    </tr>\n",
       "    <tr>\n",
       "      <th>5</th>\n",
       "      <td>5</td>\n",
       "      <td>3.267314e-05</td>\n",
       "    </tr>\n",
       "    <tr>\n",
       "      <th>6</th>\n",
       "      <td>6</td>\n",
       "      <td>-9.723699e-05</td>\n",
       "    </tr>\n",
       "    <tr>\n",
       "      <th>7</th>\n",
       "      <td>7</td>\n",
       "      <td>1.876633e-05</td>\n",
       "    </tr>\n",
       "    <tr>\n",
       "      <th>8</th>\n",
       "      <td>8</td>\n",
       "      <td>1.097334e-03</td>\n",
       "    </tr>\n",
       "    <tr>\n",
       "      <th>9</th>\n",
       "      <td>9</td>\n",
       "      <td>-2.848795e-05</td>\n",
       "    </tr>\n",
       "    <tr>\n",
       "      <th>10</th>\n",
       "      <td>10</td>\n",
       "      <td>3.403008e-03</td>\n",
       "    </tr>\n",
       "    <tr>\n",
       "      <th>11</th>\n",
       "      <td>11</td>\n",
       "      <td>-8.134171e-05</td>\n",
       "    </tr>\n",
       "    <tr>\n",
       "      <th>12</th>\n",
       "      <td>12</td>\n",
       "      <td>-1.383845e-04</td>\n",
       "    </tr>\n",
       "    <tr>\n",
       "      <th>13</th>\n",
       "      <td>13</td>\n",
       "      <td>-1.371442e-04</td>\n",
       "    </tr>\n",
       "  </tbody>\n",
       "</table>\n",
       "</div>"
      ],
      "text/plain": [
       "    row_id        Target\n",
       "0        0 -3.084373e-04\n",
       "1        1 -5.186861e-04\n",
       "2        2  1.169469e-04\n",
       "3        3 -7.995537e-06\n",
       "4        4  9.085875e-07\n",
       "5        5  3.267314e-05\n",
       "6        6 -9.723699e-05\n",
       "7        7  1.876633e-05\n",
       "8        8  1.097334e-03\n",
       "9        9 -2.848795e-05\n",
       "10      10  3.403008e-03\n",
       "11      11 -8.134171e-05\n",
       "12      12 -1.383845e-04\n",
       "13      13 -1.371442e-04"
      ]
     },
     "metadata": {},
     "output_type": "display_data"
    }
   ],
   "source": [
    "env = gresearch_crypto.make_env()\n",
    "iter_test = env.iter_test()\n",
    "\n",
    "for i, (df_test, df_pred) in enumerate(iter_test):\n",
    "    for j , row in df_test.iterrows():\n",
    "        \n",
    "        model = models[row['Asset_ID']]\n",
    "        x_test = get_features(row,row=True)\n",
    "        y_pred = model.predict([x_test])[0]\n",
    "        \n",
    "        df_pred.loc[df_pred['row_id'] == row['row_id'], 'Target'] = y_pred\n",
    "        \n",
    "        # Print just one sample row to get a feeling of what it looks like\n",
    "        if i == 0 and j == 0:\n",
    "            display(x_test)\n",
    "\n",
    "    # Display the first prediction dataframe\n",
    "    if i == 0:\n",
    "        display(df_pred)\n",
    "\n",
    "    # Send submissions\n",
    "    env.predict(df_pred)"
   ]
  },
  {
   "cell_type": "code",
   "execution_count": null,
   "id": "538ea8c8",
   "metadata": {
    "papermill": {
     "duration": 0.018829,
     "end_time": "2021-11-03T15:26:42.381380",
     "exception": false,
     "start_time": "2021-11-03T15:26:42.362551",
     "status": "completed"
    },
    "tags": []
   },
   "outputs": [],
   "source": []
  }
 ],
 "metadata": {
  "kernelspec": {
   "display_name": "Python 3",
   "language": "python",
   "name": "python3"
  },
  "language_info": {
   "codemirror_mode": {
    "name": "ipython",
    "version": 3
   },
   "file_extension": ".py",
   "mimetype": "text/x-python",
   "name": "python",
   "nbconvert_exporter": "python",
   "pygments_lexer": "ipython3",
   "version": "3.7.10"
  },
  "papermill": {
   "default_parameters": {},
   "duration": 446.610513,
   "end_time": "2021-11-03T15:26:43.414858",
   "environment_variables": {},
   "exception": null,
   "input_path": "__notebook__.ipynb",
   "output_path": "__notebook__.ipynb",
   "parameters": {},
   "start_time": "2021-11-03T15:19:16.804345",
   "version": "2.3.3"
  }
 },
 "nbformat": 4,
 "nbformat_minor": 5
}
