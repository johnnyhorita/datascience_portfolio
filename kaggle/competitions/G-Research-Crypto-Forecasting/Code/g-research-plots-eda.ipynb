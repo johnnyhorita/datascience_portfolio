{
 "cells": [
  {
   "cell_type": "markdown",
   "id": "774c4cb2",
   "metadata": {
    "papermill": {
     "duration": 0.025588,
     "end_time": "2021-11-02T21:40:25.057327",
     "exception": false,
     "start_time": "2021-11-02T21:40:25.031739",
     "status": "completed"
    },
    "tags": []
   },
   "source": [
    "**Created by Sanskar Hasija**\n",
    "\n",
    "**🔥📊💲 G-Research Plots + EDA 💲📊🔥**\n",
    "\n",
    "**3 NOVEMBER 2021**\n"
   ]
  },
  {
   "cell_type": "markdown",
   "id": "e49b0679",
   "metadata": {
    "execution": {
     "iopub.execute_input": "2021-11-02T21:18:08.784369Z",
     "iopub.status.busy": "2021-11-02T21:18:08.783444Z",
     "iopub.status.idle": "2021-11-02T21:18:08.789148Z",
     "shell.execute_reply": "2021-11-02T21:18:08.788509Z",
     "shell.execute_reply.started": "2021-11-02T21:18:08.784318Z"
    },
    "papermill": {
     "duration": 0.023187,
     "end_time": "2021-11-02T21:40:25.106160",
     "exception": false,
     "start_time": "2021-11-02T21:40:25.082973",
     "status": "completed"
    },
    "tags": []
   },
   "source": [
    "# <center> 🔥📊💲 G-RESEARCH PLOTS + EDA 💲📊🔥 </center>"
   ]
  },
  {
   "cell_type": "markdown",
   "id": "bdd96700",
   "metadata": {
    "papermill": {
     "duration": 0.023007,
     "end_time": "2021-11-02T21:40:25.151850",
     "exception": false,
     "start_time": "2021-11-02T21:40:25.128843",
     "status": "completed"
    },
    "tags": []
   },
   "source": [
    "# <center>IMPORTS</center> "
   ]
  },
  {
   "cell_type": "code",
   "execution_count": 1,
   "id": "03da8940",
   "metadata": {
    "_cell_guid": "b1076dfc-b9ad-4769-8c92-a6c4dae69d19",
    "_uuid": "8f2839f25d086af736a60e9eeb907d3b93b6e0e5",
    "execution": {
     "iopub.execute_input": "2021-11-02T21:40:25.210469Z",
     "iopub.status.busy": "2021-11-02T21:40:25.209665Z",
     "iopub.status.idle": "2021-11-02T21:40:26.712256Z",
     "shell.execute_reply": "2021-11-02T21:40:26.712845Z",
     "shell.execute_reply.started": "2021-11-02T21:33:36.144494Z"
    },
    "papermill": {
     "duration": 1.538875,
     "end_time": "2021-11-02T21:40:26.713153",
     "exception": false,
     "start_time": "2021-11-02T21:40:25.174278",
     "status": "completed"
    },
    "tags": []
   },
   "outputs": [],
   "source": [
    "import pandas as pd\n",
    "import numpy as np\n",
    "import matplotlib.pyplot as plt\n",
    "import plotly.express as px\n",
    "import plotly.graph_objects as go"
   ]
  },
  {
   "cell_type": "code",
   "execution_count": 2,
   "id": "5cb0b67f",
   "metadata": {
    "execution": {
     "iopub.execute_input": "2021-11-02T21:40:26.763961Z",
     "iopub.status.busy": "2021-11-02T21:40:26.763268Z",
     "iopub.status.idle": "2021-11-02T21:41:29.417506Z",
     "shell.execute_reply": "2021-11-02T21:41:29.416348Z",
     "shell.execute_reply.started": "2021-11-02T21:33:37.641808Z"
    },
    "papermill": {
     "duration": 62.682093,
     "end_time": "2021-11-02T21:41:29.417935",
     "exception": false,
     "start_time": "2021-11-02T21:40:26.735842",
     "status": "completed"
    },
    "tags": []
   },
   "outputs": [],
   "source": [
    "data = pd.read_csv('../input/g-research-crypto-forecasting/train.csv') \n",
    "asset_details = pd.read_csv('../input/g-research-crypto-forecasting/asset_details.csv') "
   ]
  },
  {
   "cell_type": "markdown",
   "id": "0d48f3c3",
   "metadata": {
    "papermill": {
     "duration": 0.022156,
     "end_time": "2021-11-02T21:41:29.466121",
     "exception": false,
     "start_time": "2021-11-02T21:41:29.443965",
     "status": "completed"
    },
    "tags": []
   },
   "source": [
    "# <center>EDA</center> "
   ]
  },
  {
   "cell_type": "markdown",
   "id": "711486f6",
   "metadata": {
    "papermill": {
     "duration": 0.021786,
     "end_time": "2021-11-02T21:41:29.510170",
     "exception": false,
     "start_time": "2021-11-02T21:41:29.488384",
     "status": "completed"
    },
    "tags": []
   },
   "source": [
    "## Column Description\n",
    "*   **timestamp**: All timestamps are returned as second Unix timestamps (the number of seconds elapsed since 1970-01-01 00:00:00.000 UTC). Timestamps in this dataset are multiple of 60, indicating minute-by-minute data.\n",
    "*   **Asset_ID**: The asset ID corresponding to one of the crytocurrencies (e.g. `Asset_ID = 1` for Bitcoin). The mapping from `Asset_ID` to crypto asset is contained in `asset_details.csv`.\n",
    "*   **Count**: Total number of trades in the time interval (last minute).\n",
    "*   **Open**:\tOpening price of the time interval (in USD).\n",
    "*   **High**:\tHighest price reached during time interval (in USD).\n",
    "*   **Low**: Lowest price reached during time interval (in USD).\n",
    "*   **Close**:\tClosing price of the time interval (in USD).\n",
    "*   **Volume**:\tQuantity of asset bought or sold, displayed in base currency USD.\n",
    "*   **VWAP**: The average price of the asset over the time interval, weighted by volume. VWAP is an aggregated form of trade data.\n",
    "*   **Target**: Residual log-returns for the asset over a 15 minute horizon. \n"
   ]
  },
  {
   "cell_type": "code",
   "execution_count": 3,
   "id": "025a362c",
   "metadata": {
    "execution": {
     "iopub.execute_input": "2021-11-02T21:41:29.570381Z",
     "iopub.status.busy": "2021-11-02T21:41:29.569533Z",
     "iopub.status.idle": "2021-11-02T21:41:29.593323Z",
     "shell.execute_reply": "2021-11-02T21:41:29.593889Z",
     "shell.execute_reply.started": "2021-11-02T21:34:40.644570Z"
    },
    "papermill": {
     "duration": 0.061588,
     "end_time": "2021-11-02T21:41:29.594071",
     "exception": false,
     "start_time": "2021-11-02T21:41:29.532483",
     "status": "completed"
    },
    "tags": []
   },
   "outputs": [
    {
     "data": {
      "text/html": [
       "<div>\n",
       "<style scoped>\n",
       "    .dataframe tbody tr th:only-of-type {\n",
       "        vertical-align: middle;\n",
       "    }\n",
       "\n",
       "    .dataframe tbody tr th {\n",
       "        vertical-align: top;\n",
       "    }\n",
       "\n",
       "    .dataframe thead th {\n",
       "        text-align: right;\n",
       "    }\n",
       "</style>\n",
       "<table border=\"1\" class=\"dataframe\">\n",
       "  <thead>\n",
       "    <tr style=\"text-align: right;\">\n",
       "      <th></th>\n",
       "      <th>timestamp</th>\n",
       "      <th>Asset_ID</th>\n",
       "      <th>Count</th>\n",
       "      <th>Open</th>\n",
       "      <th>High</th>\n",
       "      <th>Low</th>\n",
       "      <th>Close</th>\n",
       "      <th>Volume</th>\n",
       "      <th>VWAP</th>\n",
       "      <th>Target</th>\n",
       "    </tr>\n",
       "  </thead>\n",
       "  <tbody>\n",
       "    <tr>\n",
       "      <th>0</th>\n",
       "      <td>1514764860</td>\n",
       "      <td>2</td>\n",
       "      <td>40.0</td>\n",
       "      <td>2376.5800</td>\n",
       "      <td>2399.5000</td>\n",
       "      <td>2357.1400</td>\n",
       "      <td>2374.5900</td>\n",
       "      <td>19.233005</td>\n",
       "      <td>2373.116392</td>\n",
       "      <td>-0.004218</td>\n",
       "    </tr>\n",
       "    <tr>\n",
       "      <th>1</th>\n",
       "      <td>1514764860</td>\n",
       "      <td>0</td>\n",
       "      <td>5.0</td>\n",
       "      <td>8.5300</td>\n",
       "      <td>8.5300</td>\n",
       "      <td>8.5300</td>\n",
       "      <td>8.5300</td>\n",
       "      <td>78.380000</td>\n",
       "      <td>8.530000</td>\n",
       "      <td>-0.014399</td>\n",
       "    </tr>\n",
       "    <tr>\n",
       "      <th>2</th>\n",
       "      <td>1514764860</td>\n",
       "      <td>1</td>\n",
       "      <td>229.0</td>\n",
       "      <td>13835.1940</td>\n",
       "      <td>14013.8000</td>\n",
       "      <td>13666.1100</td>\n",
       "      <td>13850.1760</td>\n",
       "      <td>31.550062</td>\n",
       "      <td>13827.062093</td>\n",
       "      <td>-0.014643</td>\n",
       "    </tr>\n",
       "    <tr>\n",
       "      <th>3</th>\n",
       "      <td>1514764860</td>\n",
       "      <td>5</td>\n",
       "      <td>32.0</td>\n",
       "      <td>7.6596</td>\n",
       "      <td>7.6596</td>\n",
       "      <td>7.6567</td>\n",
       "      <td>7.6576</td>\n",
       "      <td>6626.713370</td>\n",
       "      <td>7.657713</td>\n",
       "      <td>-0.013922</td>\n",
       "    </tr>\n",
       "    <tr>\n",
       "      <th>4</th>\n",
       "      <td>1514764860</td>\n",
       "      <td>7</td>\n",
       "      <td>5.0</td>\n",
       "      <td>25.9200</td>\n",
       "      <td>25.9200</td>\n",
       "      <td>25.8740</td>\n",
       "      <td>25.8770</td>\n",
       "      <td>121.087310</td>\n",
       "      <td>25.891363</td>\n",
       "      <td>-0.008264</td>\n",
       "    </tr>\n",
       "  </tbody>\n",
       "</table>\n",
       "</div>"
      ],
      "text/plain": [
       "    timestamp  Asset_ID  Count        Open        High         Low  \\\n",
       "0  1514764860         2   40.0   2376.5800   2399.5000   2357.1400   \n",
       "1  1514764860         0    5.0      8.5300      8.5300      8.5300   \n",
       "2  1514764860         1  229.0  13835.1940  14013.8000  13666.1100   \n",
       "3  1514764860         5   32.0      7.6596      7.6596      7.6567   \n",
       "4  1514764860         7    5.0     25.9200     25.9200     25.8740   \n",
       "\n",
       "        Close       Volume          VWAP    Target  \n",
       "0   2374.5900    19.233005   2373.116392 -0.004218  \n",
       "1      8.5300    78.380000      8.530000 -0.014399  \n",
       "2  13850.1760    31.550062  13827.062093 -0.014643  \n",
       "3      7.6576  6626.713370      7.657713 -0.013922  \n",
       "4     25.8770   121.087310     25.891363 -0.008264  "
      ]
     },
     "execution_count": 3,
     "metadata": {},
     "output_type": "execute_result"
    }
   ],
   "source": [
    "data.head() "
   ]
  },
  {
   "cell_type": "markdown",
   "id": "b79552b1",
   "metadata": {
    "papermill": {
     "duration": 0.022391,
     "end_time": "2021-11-02T21:41:29.639849",
     "exception": false,
     "start_time": "2021-11-02T21:41:29.617458",
     "status": "completed"
    },
    "tags": []
   },
   "source": [
    "### Checking Null Rows"
   ]
  },
  {
   "cell_type": "code",
   "execution_count": 4,
   "id": "38c066f8",
   "metadata": {
    "execution": {
     "iopub.execute_input": "2021-11-02T21:41:29.688911Z",
     "iopub.status.busy": "2021-11-02T21:41:29.688157Z",
     "iopub.status.idle": "2021-11-02T21:41:30.162673Z",
     "shell.execute_reply": "2021-11-02T21:41:30.161995Z",
     "shell.execute_reply.started": "2021-11-02T21:34:40.683765Z"
    },
    "papermill": {
     "duration": 0.50013,
     "end_time": "2021-11-02T21:41:30.162826",
     "exception": false,
     "start_time": "2021-11-02T21:41:29.662696",
     "status": "completed"
    },
    "tags": []
   },
   "outputs": [
    {
     "data": {
      "text/plain": [
       "timestamp         0\n",
       "Asset_ID          0\n",
       "Count             0\n",
       "Open              0\n",
       "High              0\n",
       "Low               0\n",
       "Close             0\n",
       "Volume            0\n",
       "VWAP              9\n",
       "Target       750338\n",
       "dtype: int64"
      ]
     },
     "execution_count": 4,
     "metadata": {},
     "output_type": "execute_result"
    }
   ],
   "source": [
    "data.isnull().sum()"
   ]
  },
  {
   "cell_type": "code",
   "execution_count": 5,
   "id": "17e6853b",
   "metadata": {
    "_kg_hide-input": true,
    "execution": {
     "iopub.execute_input": "2021-11-02T21:41:30.219930Z",
     "iopub.status.busy": "2021-11-02T21:41:30.219140Z",
     "iopub.status.idle": "2021-11-02T21:41:30.320640Z",
     "shell.execute_reply": "2021-11-02T21:41:30.320038Z",
     "shell.execute_reply.started": "2021-11-02T21:34:41.163655Z"
    },
    "papermill": {
     "duration": 0.133827,
     "end_time": "2021-11-02T21:41:30.320791",
     "exception": false,
     "start_time": "2021-11-02T21:41:30.186964",
     "status": "completed"
    },
    "tags": []
   },
   "outputs": [
    {
     "name": "stdout",
     "output_type": "stream",
     "text": [
      "Total Null Target Rows =  750338\n",
      "Percentage of NUll rows in Training Data = 3.10%\n"
     ]
    }
   ],
   "source": [
    "print(\"Total Null Target Rows = \" ,data[\"Target\"].isnull().sum())\n",
    "print(\"Percentage of NUll rows in Training Data = {:.2f}%\".format(data[\"Target\"].isnull().sum()*100 / data.shape[0] ))"
   ]
  },
  {
   "cell_type": "markdown",
   "id": "f60f2a43",
   "metadata": {
    "papermill": {
     "duration": 0.023325,
     "end_time": "2021-11-02T21:41:30.367957",
     "exception": false,
     "start_time": "2021-11-02T21:41:30.344632",
     "status": "completed"
    },
    "tags": []
   },
   "source": [
    "# <center>DATA DISTRIBUTION</center> "
   ]
  },
  {
   "cell_type": "markdown",
   "id": "dd7514c4",
   "metadata": {
    "papermill": {
     "duration": 0.023058,
     "end_time": "2021-11-02T21:41:30.414372",
     "exception": false,
     "start_time": "2021-11-02T21:41:30.391314",
     "status": "completed"
    },
    "tags": []
   },
   "source": [
    "### Training Data Distribution among differnet Assets (Crypto Currencies)"
   ]
  },
  {
   "cell_type": "code",
   "execution_count": 6,
   "id": "ac094852",
   "metadata": {
    "_kg_hide-input": true,
    "execution": {
     "iopub.execute_input": "2021-11-02T21:41:30.471347Z",
     "iopub.status.busy": "2021-11-02T21:41:30.465423Z",
     "iopub.status.idle": "2021-11-02T21:41:32.159977Z",
     "shell.execute_reply": "2021-11-02T21:41:32.159295Z",
     "shell.execute_reply.started": "2021-11-02T21:34:41.270459Z"
    },
    "papermill": {
     "duration": 1.721517,
     "end_time": "2021-11-02T21:41:32.160126",
     "exception": false,
     "start_time": "2021-11-02T21:41:30.438609",
     "status": "completed"
    },
    "tags": []
   },
   "outputs": [
    {
     "data": {
      "text/html": [
       "        <script type=\"text/javascript\">\n",
       "        window.PlotlyConfig = {MathJaxConfig: 'local'};\n",
       "        if (window.MathJax) {MathJax.Hub.Config({SVG: {font: \"STIX-Web\"}});}\n",
       "        if (typeof require !== 'undefined') {\n",
       "        require.undef(\"plotly\");\n",
       "        requirejs.config({\n",
       "            paths: {\n",
       "                'plotly': ['https://cdn.plot.ly/plotly-2.4.2.min']\n",
       "            }\n",
       "        });\n",
       "        require(['plotly'], function(Plotly) {\n",
       "            window._Plotly = Plotly;\n",
       "        });\n",
       "        }\n",
       "        </script>\n",
       "        "
      ]
     },
     "metadata": {},
     "output_type": "display_data"
    },
    {
     "data": {
      "text/html": [
       "<div>                            <div id=\"88e41585-bede-40fb-93e0-a6ba0d0dde83\" class=\"plotly-graph-div\" style=\"height:525px; width:100%;\"></div>            <script type=\"text/javascript\">                require([\"plotly\"], function(Plotly) {                    window.PLOTLYENV=window.PLOTLYENV || {};                                    if (document.getElementById(\"88e41585-bede-40fb-93e0-a6ba0d0dde83\")) {                    Plotly.newPlot(                        \"88e41585-bede-40fb-93e0-a6ba0d0dde83\",                        [{\"alignmentgroup\":\"True\",\"hovertemplate\":\"x=%{x}<br>y=%{y}<br>color=%{marker.color}<extra></extra>\",\"legendgroup\":\"\",\"marker\":{\"color\":[1942619,1956282,1953537,1791867,1156866,1955140,1956200,1951127,1592071,1956030,670497,1701261,1778749,1874560],\"coloraxis\":\"coloraxis\",\"pattern\":{\"shape\":\"\"}},\"name\":\"\",\"offsetgroup\":\"\",\"orientation\":\"v\",\"showlegend\":false,\"textposition\":\"auto\",\"type\":\"bar\",\"x\":[\"Binance Coin\",\"Bitcoin\",\"Bitcoin Cash\",\"Cardano\",\"Dogecoin\",\"EOS.IO\",\"Ethereum\",\"Ethereum Classic\",\"IOTA\",\"Litecoin\",\"Maker\",\"Monero\",\"Stellar\",\"TRON\"],\"xaxis\":\"x\",\"y\":[1942619,1956282,1953537,1791867,1156866,1955140,1956200,1951127,1592071,1956030,670497,1701261,1778749,1874560],\"yaxis\":\"y\"}],                        {\"barmode\":\"relative\",\"coloraxis\":{\"colorbar\":{\"title\":{\"text\":\"color\"}},\"colorscale\":[[0.0,\"rgb(211, 242, 163)\"],[0.16666666666666666,\"rgb(151, 225, 150)\"],[0.3333333333333333,\"rgb(108, 192, 139)\"],[0.5,\"rgb(76, 155, 130)\"],[0.6666666666666666,\"rgb(33, 122, 121)\"],[0.8333333333333334,\"rgb(16, 89, 101)\"],[1.0,\"rgb(7, 64, 80)\"]]},\"legend\":{\"tracegroupgap\":0},\"margin\":{\"t\":60},\"showlegend\":true,\"template\":{\"data\":{\"bar\":[{\"error_x\":{\"color\":\"#2a3f5f\"},\"error_y\":{\"color\":\"#2a3f5f\"},\"marker\":{\"line\":{\"color\":\"#E5ECF6\",\"width\":0.5},\"pattern\":{\"fillmode\":\"overlay\",\"size\":10,\"solidity\":0.2}},\"type\":\"bar\"}],\"barpolar\":[{\"marker\":{\"line\":{\"color\":\"#E5ECF6\",\"width\":0.5},\"pattern\":{\"fillmode\":\"overlay\",\"size\":10,\"solidity\":0.2}},\"type\":\"barpolar\"}],\"carpet\":[{\"aaxis\":{\"endlinecolor\":\"#2a3f5f\",\"gridcolor\":\"white\",\"linecolor\":\"white\",\"minorgridcolor\":\"white\",\"startlinecolor\":\"#2a3f5f\"},\"baxis\":{\"endlinecolor\":\"#2a3f5f\",\"gridcolor\":\"white\",\"linecolor\":\"white\",\"minorgridcolor\":\"white\",\"startlinecolor\":\"#2a3f5f\"},\"type\":\"carpet\"}],\"choropleth\":[{\"colorbar\":{\"outlinewidth\":0,\"ticks\":\"\"},\"type\":\"choropleth\"}],\"contour\":[{\"colorbar\":{\"outlinewidth\":0,\"ticks\":\"\"},\"colorscale\":[[0.0,\"#0d0887\"],[0.1111111111111111,\"#46039f\"],[0.2222222222222222,\"#7201a8\"],[0.3333333333333333,\"#9c179e\"],[0.4444444444444444,\"#bd3786\"],[0.5555555555555556,\"#d8576b\"],[0.6666666666666666,\"#ed7953\"],[0.7777777777777778,\"#fb9f3a\"],[0.8888888888888888,\"#fdca26\"],[1.0,\"#f0f921\"]],\"type\":\"contour\"}],\"contourcarpet\":[{\"colorbar\":{\"outlinewidth\":0,\"ticks\":\"\"},\"type\":\"contourcarpet\"}],\"heatmap\":[{\"colorbar\":{\"outlinewidth\":0,\"ticks\":\"\"},\"colorscale\":[[0.0,\"#0d0887\"],[0.1111111111111111,\"#46039f\"],[0.2222222222222222,\"#7201a8\"],[0.3333333333333333,\"#9c179e\"],[0.4444444444444444,\"#bd3786\"],[0.5555555555555556,\"#d8576b\"],[0.6666666666666666,\"#ed7953\"],[0.7777777777777778,\"#fb9f3a\"],[0.8888888888888888,\"#fdca26\"],[1.0,\"#f0f921\"]],\"type\":\"heatmap\"}],\"heatmapgl\":[{\"colorbar\":{\"outlinewidth\":0,\"ticks\":\"\"},\"colorscale\":[[0.0,\"#0d0887\"],[0.1111111111111111,\"#46039f\"],[0.2222222222222222,\"#7201a8\"],[0.3333333333333333,\"#9c179e\"],[0.4444444444444444,\"#bd3786\"],[0.5555555555555556,\"#d8576b\"],[0.6666666666666666,\"#ed7953\"],[0.7777777777777778,\"#fb9f3a\"],[0.8888888888888888,\"#fdca26\"],[1.0,\"#f0f921\"]],\"type\":\"heatmapgl\"}],\"histogram\":[{\"marker\":{\"pattern\":{\"fillmode\":\"overlay\",\"size\":10,\"solidity\":0.2}},\"type\":\"histogram\"}],\"histogram2d\":[{\"colorbar\":{\"outlinewidth\":0,\"ticks\":\"\"},\"colorscale\":[[0.0,\"#0d0887\"],[0.1111111111111111,\"#46039f\"],[0.2222222222222222,\"#7201a8\"],[0.3333333333333333,\"#9c179e\"],[0.4444444444444444,\"#bd3786\"],[0.5555555555555556,\"#d8576b\"],[0.6666666666666666,\"#ed7953\"],[0.7777777777777778,\"#fb9f3a\"],[0.8888888888888888,\"#fdca26\"],[1.0,\"#f0f921\"]],\"type\":\"histogram2d\"}],\"histogram2dcontour\":[{\"colorbar\":{\"outlinewidth\":0,\"ticks\":\"\"},\"colorscale\":[[0.0,\"#0d0887\"],[0.1111111111111111,\"#46039f\"],[0.2222222222222222,\"#7201a8\"],[0.3333333333333333,\"#9c179e\"],[0.4444444444444444,\"#bd3786\"],[0.5555555555555556,\"#d8576b\"],[0.6666666666666666,\"#ed7953\"],[0.7777777777777778,\"#fb9f3a\"],[0.8888888888888888,\"#fdca26\"],[1.0,\"#f0f921\"]],\"type\":\"histogram2dcontour\"}],\"mesh3d\":[{\"colorbar\":{\"outlinewidth\":0,\"ticks\":\"\"},\"type\":\"mesh3d\"}],\"parcoords\":[{\"line\":{\"colorbar\":{\"outlinewidth\":0,\"ticks\":\"\"}},\"type\":\"parcoords\"}],\"pie\":[{\"automargin\":true,\"type\":\"pie\"}],\"scatter\":[{\"marker\":{\"colorbar\":{\"outlinewidth\":0,\"ticks\":\"\"}},\"type\":\"scatter\"}],\"scatter3d\":[{\"line\":{\"colorbar\":{\"outlinewidth\":0,\"ticks\":\"\"}},\"marker\":{\"colorbar\":{\"outlinewidth\":0,\"ticks\":\"\"}},\"type\":\"scatter3d\"}],\"scattercarpet\":[{\"marker\":{\"colorbar\":{\"outlinewidth\":0,\"ticks\":\"\"}},\"type\":\"scattercarpet\"}],\"scattergeo\":[{\"marker\":{\"colorbar\":{\"outlinewidth\":0,\"ticks\":\"\"}},\"type\":\"scattergeo\"}],\"scattergl\":[{\"marker\":{\"colorbar\":{\"outlinewidth\":0,\"ticks\":\"\"}},\"type\":\"scattergl\"}],\"scattermapbox\":[{\"marker\":{\"colorbar\":{\"outlinewidth\":0,\"ticks\":\"\"}},\"type\":\"scattermapbox\"}],\"scatterpolar\":[{\"marker\":{\"colorbar\":{\"outlinewidth\":0,\"ticks\":\"\"}},\"type\":\"scatterpolar\"}],\"scatterpolargl\":[{\"marker\":{\"colorbar\":{\"outlinewidth\":0,\"ticks\":\"\"}},\"type\":\"scatterpolargl\"}],\"scatterternary\":[{\"marker\":{\"colorbar\":{\"outlinewidth\":0,\"ticks\":\"\"}},\"type\":\"scatterternary\"}],\"surface\":[{\"colorbar\":{\"outlinewidth\":0,\"ticks\":\"\"},\"colorscale\":[[0.0,\"#0d0887\"],[0.1111111111111111,\"#46039f\"],[0.2222222222222222,\"#7201a8\"],[0.3333333333333333,\"#9c179e\"],[0.4444444444444444,\"#bd3786\"],[0.5555555555555556,\"#d8576b\"],[0.6666666666666666,\"#ed7953\"],[0.7777777777777778,\"#fb9f3a\"],[0.8888888888888888,\"#fdca26\"],[1.0,\"#f0f921\"]],\"type\":\"surface\"}],\"table\":[{\"cells\":{\"fill\":{\"color\":\"#EBF0F8\"},\"line\":{\"color\":\"white\"}},\"header\":{\"fill\":{\"color\":\"#C8D4E3\"},\"line\":{\"color\":\"white\"}},\"type\":\"table\"}]},\"layout\":{\"annotationdefaults\":{\"arrowcolor\":\"#2a3f5f\",\"arrowhead\":0,\"arrowwidth\":1},\"autotypenumbers\":\"strict\",\"coloraxis\":{\"colorbar\":{\"outlinewidth\":0,\"ticks\":\"\"}},\"colorscale\":{\"diverging\":[[0,\"#8e0152\"],[0.1,\"#c51b7d\"],[0.2,\"#de77ae\"],[0.3,\"#f1b6da\"],[0.4,\"#fde0ef\"],[0.5,\"#f7f7f7\"],[0.6,\"#e6f5d0\"],[0.7,\"#b8e186\"],[0.8,\"#7fbc41\"],[0.9,\"#4d9221\"],[1,\"#276419\"]],\"sequential\":[[0.0,\"#0d0887\"],[0.1111111111111111,\"#46039f\"],[0.2222222222222222,\"#7201a8\"],[0.3333333333333333,\"#9c179e\"],[0.4444444444444444,\"#bd3786\"],[0.5555555555555556,\"#d8576b\"],[0.6666666666666666,\"#ed7953\"],[0.7777777777777778,\"#fb9f3a\"],[0.8888888888888888,\"#fdca26\"],[1.0,\"#f0f921\"]],\"sequentialminus\":[[0.0,\"#0d0887\"],[0.1111111111111111,\"#46039f\"],[0.2222222222222222,\"#7201a8\"],[0.3333333333333333,\"#9c179e\"],[0.4444444444444444,\"#bd3786\"],[0.5555555555555556,\"#d8576b\"],[0.6666666666666666,\"#ed7953\"],[0.7777777777777778,\"#fb9f3a\"],[0.8888888888888888,\"#fdca26\"],[1.0,\"#f0f921\"]]},\"colorway\":[\"#636efa\",\"#EF553B\",\"#00cc96\",\"#ab63fa\",\"#FFA15A\",\"#19d3f3\",\"#FF6692\",\"#B6E880\",\"#FF97FF\",\"#FECB52\"],\"font\":{\"color\":\"#2a3f5f\"},\"geo\":{\"bgcolor\":\"white\",\"lakecolor\":\"white\",\"landcolor\":\"#E5ECF6\",\"showlakes\":true,\"showland\":true,\"subunitcolor\":\"white\"},\"hoverlabel\":{\"align\":\"left\"},\"hovermode\":\"closest\",\"mapbox\":{\"style\":\"light\"},\"paper_bgcolor\":\"white\",\"plot_bgcolor\":\"#E5ECF6\",\"polar\":{\"angularaxis\":{\"gridcolor\":\"white\",\"linecolor\":\"white\",\"ticks\":\"\"},\"bgcolor\":\"#E5ECF6\",\"radialaxis\":{\"gridcolor\":\"white\",\"linecolor\":\"white\",\"ticks\":\"\"}},\"scene\":{\"xaxis\":{\"backgroundcolor\":\"#E5ECF6\",\"gridcolor\":\"white\",\"gridwidth\":2,\"linecolor\":\"white\",\"showbackground\":true,\"ticks\":\"\",\"zerolinecolor\":\"white\"},\"yaxis\":{\"backgroundcolor\":\"#E5ECF6\",\"gridcolor\":\"white\",\"gridwidth\":2,\"linecolor\":\"white\",\"showbackground\":true,\"ticks\":\"\",\"zerolinecolor\":\"white\"},\"zaxis\":{\"backgroundcolor\":\"#E5ECF6\",\"gridcolor\":\"white\",\"gridwidth\":2,\"linecolor\":\"white\",\"showbackground\":true,\"ticks\":\"\",\"zerolinecolor\":\"white\"}},\"shapedefaults\":{\"line\":{\"color\":\"#2a3f5f\"}},\"ternary\":{\"aaxis\":{\"gridcolor\":\"white\",\"linecolor\":\"white\",\"ticks\":\"\"},\"baxis\":{\"gridcolor\":\"white\",\"linecolor\":\"white\",\"ticks\":\"\"},\"bgcolor\":\"#E5ECF6\",\"caxis\":{\"gridcolor\":\"white\",\"linecolor\":\"white\",\"ticks\":\"\"}},\"title\":{\"x\":0.05},\"xaxis\":{\"automargin\":true,\"gridcolor\":\"white\",\"linecolor\":\"white\",\"ticks\":\"\",\"title\":{\"standoff\":15},\"zerolinecolor\":\"white\",\"zerolinewidth\":2},\"yaxis\":{\"automargin\":true,\"gridcolor\":\"white\",\"linecolor\":\"white\",\"ticks\":\"\",\"title\":{\"standoff\":15},\"zerolinecolor\":\"white\",\"zerolinewidth\":2}}},\"title\":{\"text\":\"Data Distribution \",\"x\":0.5,\"xanchor\":\"center\",\"y\":0.95,\"yanchor\":\"top\"},\"xaxis\":{\"anchor\":\"y\",\"domain\":[0.0,1.0],\"title\":{\"text\":\"Assets\"}},\"yaxis\":{\"anchor\":\"x\",\"domain\":[0.0,1.0],\"title\":{\"text\":\"Number of Rows\"}}},                        {\"responsive\": true}                    ).then(function(){\n",
       "                            \n",
       "var gd = document.getElementById('88e41585-bede-40fb-93e0-a6ba0d0dde83');\n",
       "var x = new MutationObserver(function (mutations, observer) {{\n",
       "        var display = window.getComputedStyle(gd).display;\n",
       "        if (!display || display === 'none') {{\n",
       "            console.log([gd, 'removed!']);\n",
       "            Plotly.purge(gd);\n",
       "            observer.disconnect();\n",
       "        }}\n",
       "}});\n",
       "\n",
       "// Listen for the removal of the full notebook cells\n",
       "var notebookContainer = gd.closest('#notebook-container');\n",
       "if (notebookContainer) {{\n",
       "    x.observe(notebookContainer, {childList: true});\n",
       "}}\n",
       "\n",
       "// Listen for the clearing of the current output cell\n",
       "var outputEl = gd.closest('.output');\n",
       "if (outputEl) {{\n",
       "    x.observe(outputEl, {childList: true});\n",
       "}}\n",
       "\n",
       "                        })                };                });            </script>        </div>"
      ]
     },
     "metadata": {},
     "output_type": "display_data"
    }
   ],
   "source": [
    "asset_count= []\n",
    "for i in range(14):\n",
    "    count = (data[\"Asset_ID\"]==i).sum()\n",
    "    asset_count.append(count)\n",
    "fig = px.bar(x = asset_details.sort_values(\"Asset_ID\")[\"Asset_Name\"],\n",
    "             y = asset_count , \n",
    "             color = asset_count ,\n",
    "             color_continuous_scale=\"Emrld\") \n",
    "fig.update_xaxes(title=\"Assets\")\n",
    "fig.update_yaxes(title = \"Number of Rows\")\n",
    "fig.update_layout(showlegend = True,\n",
    "    title = {\n",
    "        'text': 'Data Distribution ',\n",
    "        'y':0.95,\n",
    "        'x':0.5,\n",
    "        'xanchor': 'center',\n",
    "        'yanchor': 'top'})\n",
    "fig.show()"
   ]
  },
  {
   "cell_type": "markdown",
   "id": "9992ffbb",
   "metadata": {
    "papermill": {
     "duration": 0.024469,
     "end_time": "2021-11-02T21:41:32.209983",
     "exception": false,
     "start_time": "2021-11-02T21:41:32.185514",
     "status": "completed"
    },
    "tags": []
   },
   "source": [
    "# <center>CANDELSTICK CHARTS</center> "
   ]
  },
  {
   "cell_type": "code",
   "execution_count": 7,
   "id": "ad62bf11",
   "metadata": {
    "_kg_hide-input": true,
    "execution": {
     "iopub.execute_input": "2021-11-02T21:41:32.263803Z",
     "iopub.status.busy": "2021-11-02T21:41:32.263121Z",
     "iopub.status.idle": "2021-11-02T21:41:33.284506Z",
     "shell.execute_reply": "2021-11-02T21:41:33.283509Z",
     "shell.execute_reply.started": "2021-11-02T21:34:42.857585Z"
    },
    "papermill": {
     "duration": 1.050031,
     "end_time": "2021-11-02T21:41:33.284733",
     "exception": false,
     "start_time": "2021-11-02T21:41:32.234702",
     "status": "completed"
    },
    "tags": []
   },
   "outputs": [],
   "source": [
    "def crypto_df(asset_id ,data= data ):\n",
    "    df = data[data[\"Asset_ID\"]==asset_id].set_index(\"timestamp\")\n",
    "    return df\n",
    "btc = crypto_df(asset_id = 1)\n",
    "eth = crypto_df (asset_id = 6 )\n",
    "ltc = crypto_df(asset_id = 9 )"
   ]
  },
  {
   "cell_type": "code",
   "execution_count": 8,
   "id": "83eaec17",
   "metadata": {
    "_kg_hide-input": true,
    "execution": {
     "iopub.execute_input": "2021-11-02T21:41:33.338669Z",
     "iopub.status.busy": "2021-11-02T21:41:33.337672Z",
     "iopub.status.idle": "2021-11-02T21:41:33.345317Z",
     "shell.execute_reply": "2021-11-02T21:41:33.345895Z",
     "shell.execute_reply.started": "2021-11-02T21:34:58.829557Z"
    },
    "papermill": {
     "duration": 0.035895,
     "end_time": "2021-11-02T21:41:33.346075",
     "exception": false,
     "start_time": "2021-11-02T21:41:33.310180",
     "status": "completed"
    },
    "tags": []
   },
   "outputs": [],
   "source": [
    "def candelstick_chart(data,title):\n",
    "    candlestick = go.Figure(data = [go.Candlestick(x =data.index, \n",
    "                                               open = data[('Open')], \n",
    "                                               high = data[('High')], \n",
    "                                               low = data[('Low')], \n",
    "                                               close = data[('Close')])])\n",
    "    candlestick.update_xaxes(title_text = 'Minutes',\n",
    "                             rangeslider_visible = True)\n",
    "\n",
    "    candlestick.update_layout(\n",
    "    title = {\n",
    "        'text': '{:} Candelstick Chart'.format(title),\n",
    "        'y':0.90,\n",
    "        'x':0.5,\n",
    "        'xanchor': 'center',\n",
    "        'yanchor': 'top'})\n",
    "\n",
    "    candlestick.update_yaxes(title_text = 'Price in USD', ticksuffix = '$')\n",
    "    return candlestick"
   ]
  },
  {
   "cell_type": "markdown",
   "id": "2e1a87cf",
   "metadata": {
    "papermill": {
     "duration": 0.024587,
     "end_time": "2021-11-02T21:41:33.395098",
     "exception": false,
     "start_time": "2021-11-02T21:41:33.370511",
     "status": "completed"
    },
    "tags": []
   },
   "source": [
    "### Bitcoin(BTC) Candelstick Chart for last 100 rows"
   ]
  },
  {
   "cell_type": "code",
   "execution_count": 9,
   "id": "0c490143",
   "metadata": {
    "_kg_hide-input": true,
    "execution": {
     "iopub.execute_input": "2021-11-02T21:41:33.448482Z",
     "iopub.status.busy": "2021-11-02T21:41:33.447492Z",
     "iopub.status.idle": "2021-11-02T21:41:33.482141Z",
     "shell.execute_reply": "2021-11-02T21:41:33.481384Z",
     "shell.execute_reply.started": "2021-11-02T21:34:59.021638Z"
    },
    "papermill": {
     "duration": 0.062282,
     "end_time": "2021-11-02T21:41:33.482310",
     "exception": false,
     "start_time": "2021-11-02T21:41:33.420028",
     "status": "completed"
    },
    "tags": []
   },
   "outputs": [
    {
     "data": {
      "text/html": [
       "<div>                            <div id=\"8a405d45-2dc4-4972-b3f9-e82a4aafe251\" class=\"plotly-graph-div\" style=\"height:525px; width:100%;\"></div>            <script type=\"text/javascript\">                require([\"plotly\"], function(Plotly) {                    window.PLOTLYENV=window.PLOTLYENV || {};                                    if (document.getElementById(\"8a405d45-2dc4-4972-b3f9-e82a4aafe251\")) {                    Plotly.newPlot(                        \"8a405d45-2dc4-4972-b3f9-e82a4aafe251\",                        [{\"close\":[43770.66857142857,43799.1,43833.474285714285,43811.704285714295,43843.44,43832.01571428571,43786.38571428572,43769.188571428575,43774.467142857146,43796.19,43797.20571428572,43798.15714285714,43804.61142857144,43831.59142857143,43871.69625,43897.16857142858,43901.38285714285,43883.25895342144,43862.52,43894.77857142857,43866.73499999999,43845.84857142857,43823.298571428575,43752.76714285714,43703.374285714286,43669.07857142857,43642.77285714285,43615.38,43504.42428571429,43367.88571428572,43316.7225,43295.04428571429,43250.16571428572,43075.9025,43232.90125,43259.1575,43293.7075,43305.09857142857,43327.79,43356.28068103,43344.55857142858,43484.61375,43580.82375,43470.794999999984,43198.788571428566,43213.69,43269.54714285715,43239.26125,43114.23614144125,43067.63,43060.81,42991.2775,42989.62375,43219.33125,43140.19135458125,43198.24000000001,43110.797500000015,43157.72298172143,43099.1575,43051.08285714287,42966.91285714286,43009.43142857143,42880.67875,42822.040000000015,42699.178750000014,42778.885,42779.71,42700.44625,42659.58241635572,42600.39625,42624.279999999984,42577.0,42679.60625,42678.21816655625,42762.514285714286,42825.295,42736.6525,42769.39571428571,42637.115,42703.63625,42781.97057111125,42755.5925,42717.23428571428,42657.20249999999,42678.72142857143,42778.29125,42790.17571428571,42731.73142857143,42898.565,42939.64571428572,42927.167142857135,42979.83375,42960.60142857144,42985.48285714286,42985.21482412572,42899.01285714287,42860.00571428572,42827.02,43017.277142857136,43002.505],\"high\":[43867.04,43805.3,43861.08,43848.1,43860.78,43866.41,43840.14,43808.31,43800.0,43812.4,43818.6,43818.4,43821.1,43840.7,43910.99,43912.1,43940.0,43912.0,43908.5,43906.71,43906.73,43874.98,43851.4,43843.87,43782.1,43721.3,43699.8,43679.99,43633.3,43560.02,43417.91,43354.59,43359.44,43259.3,43281.0,43301.61947119,43320.02,43348.22,43366.0,43391.85,43376.0,43546.61,43640.0,43627.0,43455.0,43276.57,43366.0,43288.47,43287.5,43133.15,43099.98,43072.2,43069.67,43289.9,43350.5,43229.1,43247.5,43193.54,43172.9,43122.0,43082.02,43029.49,43015.0,42897.0,42884.85,42836.33,42811.0,42852.0,42719.98,42779.1,42703.01,42650.0,42705.0,42802.54,42862.0,42877.82,42846.0,42833.9,42841.99,42736.9,42819.38,42827.1,42811.3,42752.0,42715.99,42810.26,42828.0,42827.7,42937.31,42966.98,42971.95,43014.98,43005.65,43008.85,43006.54,43001.85084871,42932.0,42887.5,43042.16,43048.51],\"low\":[43741.3,43760.3,43788.96,43788.53,43780.41,43816.96,43762.7,43742.7,43750.0,43759.23,43766.7,43757.17,43782.18,43795.58,43823.74,43842.5,43875.72,43866.3,43847.0,43835.66,43850.16,43832.56,43813.11,43746.0,43687.0,43650.01,43627.29,43600.0,43499.99,43350.4,43295.74,43278.42,43221.04,43003.84,43067.0,43172.38,43172.0,43220.67,43261.3,43333.51,43283.1,43335.64,43441.56,43428.8,43172.9,43133.08,43209.9,43218.81,43062.9,43050.9,43019.49,42930.14,42967.33,42969.79,43106.01,43026.47,43092.88,43064.36,43058.56,43007.67,42898.8,42900.0,42801.0,42795.45,42659.29112887,42660.05,42651.4,42672.8,42640.0,42575.0,42579.4,42515.09,42548.09,42626.61,42660.7,42743.68,42688.55,42731.17,42600.0,42607.5,42690.84,42690.75,42694.37,42636.76,42630.17,42662.27,42742.36,42713.48,42713.48,42852.07,42899.1,42907.18,42929.74,42953.1,42958.06,42878.26,42840.16,42797.2,42818.1,42961.64],\"open\":[43813.72,43780.97162221715,43805.69142857142,43832.400000000016,43801.23428571429,43846.09142857143,43828.874285714286,43786.38571428572,43771.014285714286,43774.80714285715,43798.41857142857,43794.84032981571,43807.66285714285,43807.34428571429,43836.9875,43872.08714285714,43900.88857142856,43901.008571428574,43890.30857142857,43858.474285714285,43893.88166666668,43866.00571428572,43843.235714285714,43821.555714285714,43752.37,43704.62857142857,43671.72,43644.06142857143,43610.07408044428,43504.71428571428,43365.91375,43313.70812588,43296.055714285714,43239.0175,43092.85375,43251.94250000001,43264.50125,43307.44571428571,43296.88375,43341.862857142856,43353.12,43365.74875000001,43477.0875,43588.102500000015,43447.60285714286,43205.55625,43234.95285714286,43267.83,43229.50125,43106.66925542,43064.47714285714,43054.81000000001,43002.9225,42998.535,43227.1275,43122.16,43192.76624999999,43106.25997366144,43159.91625,43085.22049047715,43049.56714285714,42972.15714285714,42979.09125000001,42873.23000000002,42815.11375,42707.930000000015,42766.4325,42775.73125,42694.57285714285,42675.71750000001,42599.647142857146,42620.29375,42577.715,42683.24375,42673.72571428572,42768.39625000001,42819.91125,42750.58285714287,42760.10875,42632.465,42718.815,42772.92125,42762.29,42703.80250000001,42655.528483642855,42688.935,42790.287142857145,42792.855714285724,42745.15375,42896.17428571428,42937.78428571428,42933.25490686,42974.10869267286,42971.347142857136,42982.91571428572,42983.779999999984,42904.19714285714,42859.38571428572,42839.01280218857,43009.96125],\"type\":\"candlestick\",\"x\":[1632176460,1632176520,1632176580,1632176640,1632176700,1632176760,1632176820,1632176880,1632176940,1632177000,1632177060,1632177120,1632177180,1632177240,1632177300,1632177360,1632177420,1632177480,1632177540,1632177600,1632177660,1632177720,1632177780,1632177840,1632177900,1632177960,1632178020,1632178080,1632178140,1632178200,1632178260,1632178320,1632178380,1632178440,1632178500,1632178560,1632178620,1632178680,1632178740,1632178800,1632178860,1632178920,1632178980,1632179040,1632179100,1632179160,1632179220,1632179280,1632179340,1632179400,1632179460,1632179520,1632179580,1632179640,1632179700,1632179760,1632179820,1632179880,1632179940,1632180000,1632180060,1632180120,1632180180,1632180240,1632180300,1632180360,1632180420,1632180480,1632180540,1632180600,1632180660,1632180720,1632180780,1632180840,1632180900,1632180960,1632181020,1632181080,1632181140,1632181200,1632181260,1632181320,1632181380,1632181440,1632181500,1632181560,1632181620,1632181680,1632181740,1632181800,1632181860,1632181920,1632181980,1632182040,1632182100,1632182160,1632182220,1632182280,1632182340,1632182400]}],                        {\"template\":{\"data\":{\"bar\":[{\"error_x\":{\"color\":\"#2a3f5f\"},\"error_y\":{\"color\":\"#2a3f5f\"},\"marker\":{\"line\":{\"color\":\"#E5ECF6\",\"width\":0.5},\"pattern\":{\"fillmode\":\"overlay\",\"size\":10,\"solidity\":0.2}},\"type\":\"bar\"}],\"barpolar\":[{\"marker\":{\"line\":{\"color\":\"#E5ECF6\",\"width\":0.5},\"pattern\":{\"fillmode\":\"overlay\",\"size\":10,\"solidity\":0.2}},\"type\":\"barpolar\"}],\"carpet\":[{\"aaxis\":{\"endlinecolor\":\"#2a3f5f\",\"gridcolor\":\"white\",\"linecolor\":\"white\",\"minorgridcolor\":\"white\",\"startlinecolor\":\"#2a3f5f\"},\"baxis\":{\"endlinecolor\":\"#2a3f5f\",\"gridcolor\":\"white\",\"linecolor\":\"white\",\"minorgridcolor\":\"white\",\"startlinecolor\":\"#2a3f5f\"},\"type\":\"carpet\"}],\"choropleth\":[{\"colorbar\":{\"outlinewidth\":0,\"ticks\":\"\"},\"type\":\"choropleth\"}],\"contour\":[{\"colorbar\":{\"outlinewidth\":0,\"ticks\":\"\"},\"colorscale\":[[0.0,\"#0d0887\"],[0.1111111111111111,\"#46039f\"],[0.2222222222222222,\"#7201a8\"],[0.3333333333333333,\"#9c179e\"],[0.4444444444444444,\"#bd3786\"],[0.5555555555555556,\"#d8576b\"],[0.6666666666666666,\"#ed7953\"],[0.7777777777777778,\"#fb9f3a\"],[0.8888888888888888,\"#fdca26\"],[1.0,\"#f0f921\"]],\"type\":\"contour\"}],\"contourcarpet\":[{\"colorbar\":{\"outlinewidth\":0,\"ticks\":\"\"},\"type\":\"contourcarpet\"}],\"heatmap\":[{\"colorbar\":{\"outlinewidth\":0,\"ticks\":\"\"},\"colorscale\":[[0.0,\"#0d0887\"],[0.1111111111111111,\"#46039f\"],[0.2222222222222222,\"#7201a8\"],[0.3333333333333333,\"#9c179e\"],[0.4444444444444444,\"#bd3786\"],[0.5555555555555556,\"#d8576b\"],[0.6666666666666666,\"#ed7953\"],[0.7777777777777778,\"#fb9f3a\"],[0.8888888888888888,\"#fdca26\"],[1.0,\"#f0f921\"]],\"type\":\"heatmap\"}],\"heatmapgl\":[{\"colorbar\":{\"outlinewidth\":0,\"ticks\":\"\"},\"colorscale\":[[0.0,\"#0d0887\"],[0.1111111111111111,\"#46039f\"],[0.2222222222222222,\"#7201a8\"],[0.3333333333333333,\"#9c179e\"],[0.4444444444444444,\"#bd3786\"],[0.5555555555555556,\"#d8576b\"],[0.6666666666666666,\"#ed7953\"],[0.7777777777777778,\"#fb9f3a\"],[0.8888888888888888,\"#fdca26\"],[1.0,\"#f0f921\"]],\"type\":\"heatmapgl\"}],\"histogram\":[{\"marker\":{\"pattern\":{\"fillmode\":\"overlay\",\"size\":10,\"solidity\":0.2}},\"type\":\"histogram\"}],\"histogram2d\":[{\"colorbar\":{\"outlinewidth\":0,\"ticks\":\"\"},\"colorscale\":[[0.0,\"#0d0887\"],[0.1111111111111111,\"#46039f\"],[0.2222222222222222,\"#7201a8\"],[0.3333333333333333,\"#9c179e\"],[0.4444444444444444,\"#bd3786\"],[0.5555555555555556,\"#d8576b\"],[0.6666666666666666,\"#ed7953\"],[0.7777777777777778,\"#fb9f3a\"],[0.8888888888888888,\"#fdca26\"],[1.0,\"#f0f921\"]],\"type\":\"histogram2d\"}],\"histogram2dcontour\":[{\"colorbar\":{\"outlinewidth\":0,\"ticks\":\"\"},\"colorscale\":[[0.0,\"#0d0887\"],[0.1111111111111111,\"#46039f\"],[0.2222222222222222,\"#7201a8\"],[0.3333333333333333,\"#9c179e\"],[0.4444444444444444,\"#bd3786\"],[0.5555555555555556,\"#d8576b\"],[0.6666666666666666,\"#ed7953\"],[0.7777777777777778,\"#fb9f3a\"],[0.8888888888888888,\"#fdca26\"],[1.0,\"#f0f921\"]],\"type\":\"histogram2dcontour\"}],\"mesh3d\":[{\"colorbar\":{\"outlinewidth\":0,\"ticks\":\"\"},\"type\":\"mesh3d\"}],\"parcoords\":[{\"line\":{\"colorbar\":{\"outlinewidth\":0,\"ticks\":\"\"}},\"type\":\"parcoords\"}],\"pie\":[{\"automargin\":true,\"type\":\"pie\"}],\"scatter\":[{\"marker\":{\"colorbar\":{\"outlinewidth\":0,\"ticks\":\"\"}},\"type\":\"scatter\"}],\"scatter3d\":[{\"line\":{\"colorbar\":{\"outlinewidth\":0,\"ticks\":\"\"}},\"marker\":{\"colorbar\":{\"outlinewidth\":0,\"ticks\":\"\"}},\"type\":\"scatter3d\"}],\"scattercarpet\":[{\"marker\":{\"colorbar\":{\"outlinewidth\":0,\"ticks\":\"\"}},\"type\":\"scattercarpet\"}],\"scattergeo\":[{\"marker\":{\"colorbar\":{\"outlinewidth\":0,\"ticks\":\"\"}},\"type\":\"scattergeo\"}],\"scattergl\":[{\"marker\":{\"colorbar\":{\"outlinewidth\":0,\"ticks\":\"\"}},\"type\":\"scattergl\"}],\"scattermapbox\":[{\"marker\":{\"colorbar\":{\"outlinewidth\":0,\"ticks\":\"\"}},\"type\":\"scattermapbox\"}],\"scatterpolar\":[{\"marker\":{\"colorbar\":{\"outlinewidth\":0,\"ticks\":\"\"}},\"type\":\"scatterpolar\"}],\"scatterpolargl\":[{\"marker\":{\"colorbar\":{\"outlinewidth\":0,\"ticks\":\"\"}},\"type\":\"scatterpolargl\"}],\"scatterternary\":[{\"marker\":{\"colorbar\":{\"outlinewidth\":0,\"ticks\":\"\"}},\"type\":\"scatterternary\"}],\"surface\":[{\"colorbar\":{\"outlinewidth\":0,\"ticks\":\"\"},\"colorscale\":[[0.0,\"#0d0887\"],[0.1111111111111111,\"#46039f\"],[0.2222222222222222,\"#7201a8\"],[0.3333333333333333,\"#9c179e\"],[0.4444444444444444,\"#bd3786\"],[0.5555555555555556,\"#d8576b\"],[0.6666666666666666,\"#ed7953\"],[0.7777777777777778,\"#fb9f3a\"],[0.8888888888888888,\"#fdca26\"],[1.0,\"#f0f921\"]],\"type\":\"surface\"}],\"table\":[{\"cells\":{\"fill\":{\"color\":\"#EBF0F8\"},\"line\":{\"color\":\"white\"}},\"header\":{\"fill\":{\"color\":\"#C8D4E3\"},\"line\":{\"color\":\"white\"}},\"type\":\"table\"}]},\"layout\":{\"annotationdefaults\":{\"arrowcolor\":\"#2a3f5f\",\"arrowhead\":0,\"arrowwidth\":1},\"autotypenumbers\":\"strict\",\"coloraxis\":{\"colorbar\":{\"outlinewidth\":0,\"ticks\":\"\"}},\"colorscale\":{\"diverging\":[[0,\"#8e0152\"],[0.1,\"#c51b7d\"],[0.2,\"#de77ae\"],[0.3,\"#f1b6da\"],[0.4,\"#fde0ef\"],[0.5,\"#f7f7f7\"],[0.6,\"#e6f5d0\"],[0.7,\"#b8e186\"],[0.8,\"#7fbc41\"],[0.9,\"#4d9221\"],[1,\"#276419\"]],\"sequential\":[[0.0,\"#0d0887\"],[0.1111111111111111,\"#46039f\"],[0.2222222222222222,\"#7201a8\"],[0.3333333333333333,\"#9c179e\"],[0.4444444444444444,\"#bd3786\"],[0.5555555555555556,\"#d8576b\"],[0.6666666666666666,\"#ed7953\"],[0.7777777777777778,\"#fb9f3a\"],[0.8888888888888888,\"#fdca26\"],[1.0,\"#f0f921\"]],\"sequentialminus\":[[0.0,\"#0d0887\"],[0.1111111111111111,\"#46039f\"],[0.2222222222222222,\"#7201a8\"],[0.3333333333333333,\"#9c179e\"],[0.4444444444444444,\"#bd3786\"],[0.5555555555555556,\"#d8576b\"],[0.6666666666666666,\"#ed7953\"],[0.7777777777777778,\"#fb9f3a\"],[0.8888888888888888,\"#fdca26\"],[1.0,\"#f0f921\"]]},\"colorway\":[\"#636efa\",\"#EF553B\",\"#00cc96\",\"#ab63fa\",\"#FFA15A\",\"#19d3f3\",\"#FF6692\",\"#B6E880\",\"#FF97FF\",\"#FECB52\"],\"font\":{\"color\":\"#2a3f5f\"},\"geo\":{\"bgcolor\":\"white\",\"lakecolor\":\"white\",\"landcolor\":\"#E5ECF6\",\"showlakes\":true,\"showland\":true,\"subunitcolor\":\"white\"},\"hoverlabel\":{\"align\":\"left\"},\"hovermode\":\"closest\",\"mapbox\":{\"style\":\"light\"},\"paper_bgcolor\":\"white\",\"plot_bgcolor\":\"#E5ECF6\",\"polar\":{\"angularaxis\":{\"gridcolor\":\"white\",\"linecolor\":\"white\",\"ticks\":\"\"},\"bgcolor\":\"#E5ECF6\",\"radialaxis\":{\"gridcolor\":\"white\",\"linecolor\":\"white\",\"ticks\":\"\"}},\"scene\":{\"xaxis\":{\"backgroundcolor\":\"#E5ECF6\",\"gridcolor\":\"white\",\"gridwidth\":2,\"linecolor\":\"white\",\"showbackground\":true,\"ticks\":\"\",\"zerolinecolor\":\"white\"},\"yaxis\":{\"backgroundcolor\":\"#E5ECF6\",\"gridcolor\":\"white\",\"gridwidth\":2,\"linecolor\":\"white\",\"showbackground\":true,\"ticks\":\"\",\"zerolinecolor\":\"white\"},\"zaxis\":{\"backgroundcolor\":\"#E5ECF6\",\"gridcolor\":\"white\",\"gridwidth\":2,\"linecolor\":\"white\",\"showbackground\":true,\"ticks\":\"\",\"zerolinecolor\":\"white\"}},\"shapedefaults\":{\"line\":{\"color\":\"#2a3f5f\"}},\"ternary\":{\"aaxis\":{\"gridcolor\":\"white\",\"linecolor\":\"white\",\"ticks\":\"\"},\"baxis\":{\"gridcolor\":\"white\",\"linecolor\":\"white\",\"ticks\":\"\"},\"bgcolor\":\"#E5ECF6\",\"caxis\":{\"gridcolor\":\"white\",\"linecolor\":\"white\",\"ticks\":\"\"}},\"title\":{\"x\":0.05},\"xaxis\":{\"automargin\":true,\"gridcolor\":\"white\",\"linecolor\":\"white\",\"ticks\":\"\",\"title\":{\"standoff\":15},\"zerolinecolor\":\"white\",\"zerolinewidth\":2},\"yaxis\":{\"automargin\":true,\"gridcolor\":\"white\",\"linecolor\":\"white\",\"ticks\":\"\",\"title\":{\"standoff\":15},\"zerolinecolor\":\"white\",\"zerolinewidth\":2}}},\"title\":{\"text\":\"Bitcoin(BTC) Candelstick Chart\",\"x\":0.5,\"xanchor\":\"center\",\"y\":0.9,\"yanchor\":\"top\"},\"xaxis\":{\"rangeslider\":{\"visible\":true},\"title\":{\"text\":\"Minutes\"}},\"yaxis\":{\"ticksuffix\":\"$\",\"title\":{\"text\":\"Price in USD\"}}},                        {\"responsive\": true}                    ).then(function(){\n",
       "                            \n",
       "var gd = document.getElementById('8a405d45-2dc4-4972-b3f9-e82a4aafe251');\n",
       "var x = new MutationObserver(function (mutations, observer) {{\n",
       "        var display = window.getComputedStyle(gd).display;\n",
       "        if (!display || display === 'none') {{\n",
       "            console.log([gd, 'removed!']);\n",
       "            Plotly.purge(gd);\n",
       "            observer.disconnect();\n",
       "        }}\n",
       "}});\n",
       "\n",
       "// Listen for the removal of the full notebook cells\n",
       "var notebookContainer = gd.closest('#notebook-container');\n",
       "if (notebookContainer) {{\n",
       "    x.observe(notebookContainer, {childList: true});\n",
       "}}\n",
       "\n",
       "// Listen for the clearing of the current output cell\n",
       "var outputEl = gd.closest('.output');\n",
       "if (outputEl) {{\n",
       "    x.observe(outputEl, {childList: true});\n",
       "}}\n",
       "\n",
       "                        })                };                });            </script>        </div>"
      ]
     },
     "metadata": {},
     "output_type": "display_data"
    }
   ],
   "source": [
    "btc_plot = candelstick_chart(btc[-100:],title = \"Bitcoin(BTC)\")\n",
    "btc_plot.show()"
   ]
  },
  {
   "cell_type": "markdown",
   "id": "20f6bb93",
   "metadata": {
    "papermill": {
     "duration": 0.02589,
     "end_time": "2021-11-02T21:41:33.534062",
     "exception": false,
     "start_time": "2021-11-02T21:41:33.508172",
     "status": "completed"
    },
    "tags": []
   },
   "source": [
    "### Litecoin(LTC) Candelstick Chart for last 250 rows"
   ]
  },
  {
   "cell_type": "code",
   "execution_count": 10,
   "id": "787513f8",
   "metadata": {
    "_kg_hide-input": true,
    "execution": {
     "iopub.execute_input": "2021-11-02T21:41:33.599198Z",
     "iopub.status.busy": "2021-11-02T21:41:33.598251Z",
     "iopub.status.idle": "2021-11-02T21:41:33.609957Z",
     "shell.execute_reply": "2021-11-02T21:41:33.609257Z",
     "shell.execute_reply.started": "2021-11-02T21:34:43.937589Z"
    },
    "papermill": {
     "duration": 0.050511,
     "end_time": "2021-11-02T21:41:33.610170",
     "exception": false,
     "start_time": "2021-11-02T21:41:33.559659",
     "status": "completed"
    },
    "tags": []
   },
   "outputs": [
    {
     "data": {
      "text/html": [
       "<div>                            <div id=\"a4a2e576-288b-46bd-a64c-8bb97c7f390f\" class=\"plotly-graph-div\" style=\"height:525px; width:100%;\"></div>            <script type=\"text/javascript\">                require([\"plotly\"], function(Plotly) {                    window.PLOTLYENV=window.PLOTLYENV || {};                                    if (document.getElementById(\"a4a2e576-288b-46bd-a64c-8bb97c7f390f\")) {                    Plotly.newPlot(                        \"a4a2e576-288b-46bd-a64c-8bb97c7f390f\",                        [{\"close\":[158.89042857142857,159.29557142857144,159.67642857142852,159.71071428571432,159.83071428571432,159.8456666666667,160.02585714285715,160.28957142857143,160.28400000000005,160.60100000000003,160.59442857142858,160.6005714285714,160.48483333333334,160.56028571428573,160.31216666666668,160.35157142857148,160.1026666666667,160.15442857142858,160.1214,159.97457142857144,159.73228571428572,159.8277142857143,159.73933333333332,159.77583333333334,159.83571428571432,159.7005,159.65216666666666,159.5701666666667,159.57500000000005,159.31428571428572,159.26000000000005,159.139,158.99366666666666,158.92028571428568,159.03633333333332,159.06050000000005,158.8787142857143,158.892,158.77685714285712,158.95585714285716,158.8598,158.9376,158.91785714285714,158.94140000000004,159.029,159.131,159.15857142857143,159.21557142857142,158.95357142857142,158.46885714285716,157.97914285714288,157.76614285714285,157.48842857142856,157.69057142857142,157.46842857142855,157.48785714285714,157.29685714285714,157.32985714285715,157.21814285714285,157.28771428571432,156.954,157.13385714285715,157.27342857142858,157.15316666666666,157.16985714285715,157.3164285714286,157.4815714285714,157.69657142857145,157.98399999999995,158.71528571428573,158.6585714285714,158.34542857142856,157.7284285714286,158.22171428571428,158.02066666666667,158.41171428571428,158.49733333333333,158.93171428571432,158.93714285714285,159.31414285714283,159.41914285714287,159.471,159.2634285714286,158.98028571428569,158.98385714285715,158.54014285714285,158.57314285714287,158.77428571428572,159.0538,159.48942857142856,159.22014285714292,159.25142857142853,159.19,159.16633333333334,159.13066666666666,158.9325,159.196,159.37566666666666,159.398,159.4535,159.48420000000004,159.44116666666662,159.4312,159.40319999999997,159.38933333333333,159.37433333333334,159.3772,159.35925,159.40320000000003,159.3576666666667,159.35740000000004,159.4284,159.46200000000005,159.4948,159.72757142857142,159.86616666666666,159.8958,159.64833333333334,159.597,159.76314285714287,159.8888333333333,159.7164285714286,159.6435,159.64333333333337,159.67399999999995,159.5348571428571,159.28133333333332,158.9911666666667,159.05599999999995,159.23483333333334,159.23716666666667,159.1535,159.38085714285714,159.55571428571423,159.26185714285708,159.43414285714286,159.7423333333333,159.86366666666666,159.88733333333334,160.03471428571427,160.21857142857144,160.04728571428572,160.17119999999997,160.39,160.41099999999997,160.49714285714285,160.93371428571433,161.13157142857145,161.1225,161.11185714285713,160.80214285714283,160.88571428571427,161.07483333333332,161.0265,160.9971666666667,160.9285,160.78757142857145,160.66571428571427,160.59116666666668,160.63485714285713,160.59116666666668,160.5285714285714,160.4782,160.5132,160.59028571428573,160.69120000000004,160.6954,160.6108,160.5072,160.55300000000005,160.40728571428568,160.34285714285716,160.20183333333333,159.96585714285715,159.72914285714282,159.56950000000003,159.36883333333333,159.29983333333334,158.97833333333338,158.52457142857142,158.374,158.2312857142857,158.05714285714285,157.509,157.72542857142858,157.7082857142857,158.0477142857143,158.09799999999996,158.19499999999996,158.3205714285714,158.3335,158.8675714285714,159.2482857142857,159.179,158.29271428571428,157.9542857142857,157.9081666666667,157.622,157.20728571428572,156.98685714285713,156.76885714285714,156.56457142857144,156.46771428571432,157.355,156.92171428571427,156.9572857142857,157.03483333333338,156.981,156.70283333333333,156.53471428571427,156.06671428571426,156.30171428571433,155.98114285714286,155.80300000000005,155.61342857142856,155.80785714285713,155.971,155.63357142857143,155.61383333333333,155.27485714285714,155.47885714285715,155.47657142857142,155.91466666666668,155.98757142857144,156.3142857142857,156.5135,156.50414285714285,156.53300000000004,156.03614285714283,156.20785714285714,156.56833333333333,156.5424285714286,156.49880000000005,156.07566666666662,156.09885714285716,156.39742857142858,156.51666666666668,156.38599999999997,156.95071428571427,157.3767142857143,157.35971428571432,157.43066666666667,157.43542857142856,157.43385714285714,157.45971428571426,157.08871428571433,156.47628571428572,156.31400000000005,157.225,156.94385714285713],\"high\":[159.28,159.47,159.99,159.828,160.05,159.97,160.21,160.71,160.49,160.79,160.84,160.75,160.77,160.78,160.63,160.6,160.46,160.45,160.3,160.19,160.1,159.93,159.91,159.92,159.92,159.9,159.76,159.74,159.67,159.6,159.42,159.41,159.2,159.18,159.1,159.205,159.1,158.97,158.94,159.15,158.95,159.07,159.01,159.0,159.1,159.2,159.22,159.35,159.28,159.0,158.51,158.12,157.82,157.821,157.83,157.61,157.60299999999995,157.4,157.4,157.41899999999995,157.4,157.4,157.4,157.4,157.3,157.4,157.61,157.8,158.1,158.9,159.0,158.72,158.5,158.3,158.41,158.59,158.6,159.02,159.04,159.4,159.54,159.66,159.511,159.27,159.06,159.0,158.66,158.89,159.1,159.65,159.67,159.34,159.47,159.3,159.3,159.2,159.3,159.5,159.5,159.5,159.58,159.6,159.55,159.51,159.51,159.49,159.49,159.407,159.49,159.47,159.407,159.47,159.53,159.6,159.82,160.01,160.0,159.99,159.77,159.93,159.97,159.95,159.79,159.8,159.75,159.77,159.6,159.31,159.16,159.32,159.42,159.32,159.48,159.73,159.67,159.51,159.87,159.94,160.02,160.18,160.34,160.3,160.26,160.69,160.67,160.63,161.01,161.23,161.27,161.3,161.31,160.99,161.15,161.15,161.05,161.1,161.03,160.88,160.76,160.7,160.73,160.66,160.64,160.6,160.72,160.71,160.82,160.79,160.7,160.66,160.61,160.61,160.4,160.28,160.02,159.73,159.63,159.6,159.33,159.12,158.76,158.55,158.49,158.04,158.02,158.07,158.3,158.2,158.28,158.41,158.43,159.1,159.4,159.52,159.22,158.56,158.33,157.94,157.85,157.3,157.05,156.9,156.8,157.65,157.7,157.3,157.51,157.25,157.1,156.77,156.6,156.47,156.4,156.1,156.0,156.2,156.12,156.27,155.75,156.006,155.72,155.71,156.06,156.48,156.65,156.72,156.73,156.86,156.76,156.31,156.71,156.73,156.75,156.62,156.29,156.58,156.68,156.61,157.14,157.55,157.52,157.54,157.57,157.64,157.6,157.57,157.14,156.6,157.34,157.25],\"low\":[158.8,158.8,159.3,159.5,159.6,159.56,159.69,159.92,160.0,160.0,160.4,160.4,160.3,160.49,160.2,160.2,160.0,160.0,160.0,159.74,159.6,159.6,159.6,159.6,159.6,159.6,159.5,159.5,159.5,159.2,159.19899999999996,159.088,158.8,158.7,158.7,158.92,158.79,158.8,158.6,158.7,158.8,158.8,158.8,158.88,158.9,159.0,158.99,158.99,158.8,158.3,157.8,157.64,157.4,157.45,157.39,157.17,157.1,157.18,157.0,157.19,156.783,156.84,157.0,157.02,157.06,157.1,157.27,157.43,157.7,157.94,158.48,158.259,157.6,157.68,157.83,157.809,158.1,158.38,158.78,158.9,159.18,159.3,159.17,158.89,158.87,158.4,158.3,158.48,158.84,158.93,159.04,159.01,159.09,159.0,159.07,158.8,158.9,159.07,159.28,159.29,159.4,159.37,159.37,159.3,159.3,159.3,159.3,159.3,159.3,159.29,159.29,159.3,159.3,159.4,159.35,159.63,159.8,159.6,159.5,159.5,159.7,159.585,159.591,159.6,159.59,159.4,159.12,158.9,158.9,159.0,159.1,159.07,159.1,159.3,159.2,159.1,159.4,159.65,159.73,159.89,159.98,159.987,160.02,159.96,160.1,160.388,160.4,160.7,160.9,160.9,160.6,160.7,160.8,160.9,160.9,160.8,160.7,160.5,160.5,160.49,160.49,160.1,160.3,160.4,160.4,160.4,160.583,160.56,160.4,160.3,160.3,160.188,160.1,159.8,159.61,159.4,159.3,159.2,158.856,158.4,158.3,158.1,157.9,157.2,157.4,157.48,157.38,157.681,157.8,157.48,158.09,158.23,158.51,159.0,158.025,157.75,157.66,157.5,157.09,156.872,156.57,156.33,156.29,156.39,156.757,156.4,156.76,156.72,156.6,156.3,155.81,155.9,155.6,155.7,155.4,155.49,155.48,155.47,155.44,155.2,155.26,155.29,155.35,155.8,155.88,156.2,156.35,156.42,155.8,155.84,156.18,156.24,156.33,156.0,155.89,156.08100000000005,156.4,156.29,156.24,156.79,157.2,157.11,157.29,157.3,157.3,156.9,156.3,156.1,156.27,156.7],\"open\":[159.12742857142857,158.89257142857144,159.37842857142857,159.69614285714286,159.72985714285713,159.76966666666667,159.83357142857145,160.11285714285714,160.24714285714285,160.20671428571433,160.59985714285713,160.60442857142857,160.61883333333333,160.588,160.51133333333334,160.32414285714285,160.25983333333332,160.21085714285715,160.15619999999996,160.08700000000002,159.92000000000004,159.74285714285716,159.835,159.71033333333332,159.74800000000005,159.81783333333337,159.65583333333333,159.65916666666666,159.5608333333334,159.54157142857144,159.30683333333332,159.2585,159.09333333333333,159.04542857142857,158.88633333333334,159.07416666666666,158.99842857142858,158.87714285714287,158.88971428571432,158.79785714285714,158.9018,158.874,158.917,158.94140000000004,158.98585714285716,159.05416666666662,159.12085714285715,159.16299999999998,159.21728571428568,158.88585714285713,158.46228571428574,157.99285714285716,157.68485714285708,157.51071428571433,157.68114285714287,157.41071428571428,157.51185714285708,157.2782857142857,157.244,157.29614285714285,157.27628571428568,156.92200000000005,157.116,157.28733333333338,157.20857142857145,157.2224285714286,157.34771428571432,157.58614285714287,157.80014285714284,158.04657142857144,158.79057142857144,158.60385714285712,158.25885714285715,157.78771428571426,158.17683333333338,158.0134285714286,158.39633333333333,158.51671428571433,158.93314285714283,159.03857142857143,159.36885714285714,159.38842857142853,159.47728571428567,159.15285714285713,158.99528571428573,158.92085714285713,158.49014285714287,158.61428571428567,158.93800000000005,159.11985714285714,159.53571428571428,159.10728571428572,159.26066666666668,159.19750000000005,159.2065,159.1038333333333,158.98628571428569,159.24683333333334,159.4004285714286,159.41033333333334,159.4698,159.465,159.45819999999995,159.4192,159.411,159.3826666666667,159.3794,159.34675,159.4054,159.371,159.3532,159.38719999999995,159.40916666666666,159.4446,159.5277142857143,159.77466666666666,159.9078,159.84816666666669,159.653,159.61242857142858,159.8035,159.90414285714286,159.68300000000005,159.67316666666667,159.657,159.63814285714287,159.51766666666668,159.2195,158.9844,159.09616666666668,159.29466666666667,159.2405,159.21585714285715,159.431,159.52700000000002,159.2372857142857,159.5545,159.79,159.88299999999998,159.93914285714283,160.06742857142856,160.18957142857144,160.1098,160.06899999999996,160.3145,160.4737142857143,160.52800000000005,160.93628571428567,161.1685,161.17571428571424,161.13185714285714,160.84171428571432,160.95766666666668,161.07033333333334,160.9815,161.03533333333334,160.91899999999998,160.76642857142858,160.62366666666668,160.58057142857143,160.65533333333332,160.58957142857142,160.5356,160.48180000000005,160.55714285714288,160.59539999999996,160.7048,160.67379999999997,160.59859999999995,160.45328571428573,160.53557142857144,160.41914285714284,160.29366666666667,160.16857142857145,159.91785714285714,159.6266666666667,159.56783333333337,159.37550000000005,159.24116666666666,159.00157142857142,158.55842857142858,158.372,158.23471428571432,157.94799999999998,157.54642857142858,157.80157142857144,157.75314285714288,157.9328,158.06183333333334,158.21428571428572,158.33666666666667,158.3565714285714,158.843,159.32771428571428,159.10600000000005,158.21099999999996,157.99733333333333,157.84966666666662,157.49171428571432,157.16899999999998,156.9048571428572,156.7718571428571,156.60885714285715,156.61283333333338,157.36999999999995,156.78328571428568,157.16166666666666,156.88816666666662,156.99,156.64671428571432,156.43385714285714,156.07842857142856,156.25057142857142,155.93700000000004,155.78400000000005,155.71514285714284,155.79471428571432,155.9784285714286,155.64766666666662,155.70314285714286,155.37257142857146,155.42642857142857,155.54383333333334,155.99328571428572,156.06871428571432,156.33716666666666,156.54157142857142,156.51716666666667,156.55185714285713,156.029,156.25383333333332,156.56314285714285,156.6542,156.50199999999995,156.02785714285713,156.153,156.5198333333333,156.4992857142857,156.41228571428567,156.904,157.346,157.28400000000005,157.46857142857144,157.46671428571432,157.42885714285714,157.42171428571433,156.85442857142857,156.3767142857143,156.38257142857142,157.18157142857146],\"type\":\"candlestick\",\"x\":[1632167460,1632167520,1632167580,1632167640,1632167700,1632167760,1632167820,1632167880,1632167940,1632168000,1632168060,1632168120,1632168180,1632168240,1632168300,1632168360,1632168420,1632168480,1632168540,1632168600,1632168660,1632168720,1632168780,1632168840,1632168900,1632168960,1632169020,1632169080,1632169140,1632169200,1632169260,1632169320,1632169380,1632169440,1632169500,1632169560,1632169620,1632169680,1632169740,1632169800,1632169860,1632169920,1632169980,1632170040,1632170100,1632170160,1632170220,1632170280,1632170340,1632170400,1632170460,1632170520,1632170580,1632170640,1632170700,1632170760,1632170820,1632170880,1632170940,1632171000,1632171060,1632171120,1632171180,1632171240,1632171300,1632171360,1632171420,1632171480,1632171540,1632171600,1632171660,1632171720,1632171780,1632171840,1632171900,1632171960,1632172020,1632172080,1632172140,1632172200,1632172260,1632172320,1632172380,1632172440,1632172500,1632172560,1632172620,1632172680,1632172740,1632172800,1632172860,1632172920,1632172980,1632173040,1632173100,1632173160,1632173220,1632173280,1632173340,1632173400,1632173460,1632173520,1632173580,1632173640,1632173700,1632173760,1632173820,1632173880,1632173940,1632174000,1632174060,1632174120,1632174180,1632174240,1632174300,1632174360,1632174420,1632174480,1632174540,1632174600,1632174660,1632174720,1632174780,1632174840,1632174900,1632174960,1632175020,1632175080,1632175140,1632175200,1632175260,1632175320,1632175380,1632175440,1632175500,1632175560,1632175620,1632175680,1632175740,1632175800,1632175860,1632175920,1632175980,1632176040,1632176100,1632176160,1632176220,1632176280,1632176340,1632176400,1632176460,1632176520,1632176580,1632176640,1632176700,1632176760,1632176820,1632176880,1632176940,1632177000,1632177060,1632177120,1632177180,1632177240,1632177300,1632177360,1632177420,1632177480,1632177540,1632177600,1632177660,1632177720,1632177780,1632177840,1632177900,1632177960,1632178020,1632178080,1632178140,1632178200,1632178260,1632178320,1632178380,1632178440,1632178500,1632178560,1632178620,1632178680,1632178740,1632178800,1632178860,1632178920,1632178980,1632179040,1632179100,1632179160,1632179220,1632179280,1632179340,1632179400,1632179460,1632179520,1632179580,1632179640,1632179700,1632179760,1632179820,1632179880,1632179940,1632180000,1632180060,1632180120,1632180180,1632180240,1632180300,1632180360,1632180420,1632180480,1632180540,1632180600,1632180660,1632180720,1632180780,1632180840,1632180900,1632180960,1632181020,1632181080,1632181140,1632181200,1632181260,1632181320,1632181380,1632181440,1632181500,1632181560,1632181620,1632181680,1632181740,1632181800,1632181860,1632181920,1632181980,1632182040,1632182100,1632182160,1632182220,1632182280,1632182340,1632182400]}],                        {\"template\":{\"data\":{\"bar\":[{\"error_x\":{\"color\":\"#2a3f5f\"},\"error_y\":{\"color\":\"#2a3f5f\"},\"marker\":{\"line\":{\"color\":\"#E5ECF6\",\"width\":0.5},\"pattern\":{\"fillmode\":\"overlay\",\"size\":10,\"solidity\":0.2}},\"type\":\"bar\"}],\"barpolar\":[{\"marker\":{\"line\":{\"color\":\"#E5ECF6\",\"width\":0.5},\"pattern\":{\"fillmode\":\"overlay\",\"size\":10,\"solidity\":0.2}},\"type\":\"barpolar\"}],\"carpet\":[{\"aaxis\":{\"endlinecolor\":\"#2a3f5f\",\"gridcolor\":\"white\",\"linecolor\":\"white\",\"minorgridcolor\":\"white\",\"startlinecolor\":\"#2a3f5f\"},\"baxis\":{\"endlinecolor\":\"#2a3f5f\",\"gridcolor\":\"white\",\"linecolor\":\"white\",\"minorgridcolor\":\"white\",\"startlinecolor\":\"#2a3f5f\"},\"type\":\"carpet\"}],\"choropleth\":[{\"colorbar\":{\"outlinewidth\":0,\"ticks\":\"\"},\"type\":\"choropleth\"}],\"contour\":[{\"colorbar\":{\"outlinewidth\":0,\"ticks\":\"\"},\"colorscale\":[[0.0,\"#0d0887\"],[0.1111111111111111,\"#46039f\"],[0.2222222222222222,\"#7201a8\"],[0.3333333333333333,\"#9c179e\"],[0.4444444444444444,\"#bd3786\"],[0.5555555555555556,\"#d8576b\"],[0.6666666666666666,\"#ed7953\"],[0.7777777777777778,\"#fb9f3a\"],[0.8888888888888888,\"#fdca26\"],[1.0,\"#f0f921\"]],\"type\":\"contour\"}],\"contourcarpet\":[{\"colorbar\":{\"outlinewidth\":0,\"ticks\":\"\"},\"type\":\"contourcarpet\"}],\"heatmap\":[{\"colorbar\":{\"outlinewidth\":0,\"ticks\":\"\"},\"colorscale\":[[0.0,\"#0d0887\"],[0.1111111111111111,\"#46039f\"],[0.2222222222222222,\"#7201a8\"],[0.3333333333333333,\"#9c179e\"],[0.4444444444444444,\"#bd3786\"],[0.5555555555555556,\"#d8576b\"],[0.6666666666666666,\"#ed7953\"],[0.7777777777777778,\"#fb9f3a\"],[0.8888888888888888,\"#fdca26\"],[1.0,\"#f0f921\"]],\"type\":\"heatmap\"}],\"heatmapgl\":[{\"colorbar\":{\"outlinewidth\":0,\"ticks\":\"\"},\"colorscale\":[[0.0,\"#0d0887\"],[0.1111111111111111,\"#46039f\"],[0.2222222222222222,\"#7201a8\"],[0.3333333333333333,\"#9c179e\"],[0.4444444444444444,\"#bd3786\"],[0.5555555555555556,\"#d8576b\"],[0.6666666666666666,\"#ed7953\"],[0.7777777777777778,\"#fb9f3a\"],[0.8888888888888888,\"#fdca26\"],[1.0,\"#f0f921\"]],\"type\":\"heatmapgl\"}],\"histogram\":[{\"marker\":{\"pattern\":{\"fillmode\":\"overlay\",\"size\":10,\"solidity\":0.2}},\"type\":\"histogram\"}],\"histogram2d\":[{\"colorbar\":{\"outlinewidth\":0,\"ticks\":\"\"},\"colorscale\":[[0.0,\"#0d0887\"],[0.1111111111111111,\"#46039f\"],[0.2222222222222222,\"#7201a8\"],[0.3333333333333333,\"#9c179e\"],[0.4444444444444444,\"#bd3786\"],[0.5555555555555556,\"#d8576b\"],[0.6666666666666666,\"#ed7953\"],[0.7777777777777778,\"#fb9f3a\"],[0.8888888888888888,\"#fdca26\"],[1.0,\"#f0f921\"]],\"type\":\"histogram2d\"}],\"histogram2dcontour\":[{\"colorbar\":{\"outlinewidth\":0,\"ticks\":\"\"},\"colorscale\":[[0.0,\"#0d0887\"],[0.1111111111111111,\"#46039f\"],[0.2222222222222222,\"#7201a8\"],[0.3333333333333333,\"#9c179e\"],[0.4444444444444444,\"#bd3786\"],[0.5555555555555556,\"#d8576b\"],[0.6666666666666666,\"#ed7953\"],[0.7777777777777778,\"#fb9f3a\"],[0.8888888888888888,\"#fdca26\"],[1.0,\"#f0f921\"]],\"type\":\"histogram2dcontour\"}],\"mesh3d\":[{\"colorbar\":{\"outlinewidth\":0,\"ticks\":\"\"},\"type\":\"mesh3d\"}],\"parcoords\":[{\"line\":{\"colorbar\":{\"outlinewidth\":0,\"ticks\":\"\"}},\"type\":\"parcoords\"}],\"pie\":[{\"automargin\":true,\"type\":\"pie\"}],\"scatter\":[{\"marker\":{\"colorbar\":{\"outlinewidth\":0,\"ticks\":\"\"}},\"type\":\"scatter\"}],\"scatter3d\":[{\"line\":{\"colorbar\":{\"outlinewidth\":0,\"ticks\":\"\"}},\"marker\":{\"colorbar\":{\"outlinewidth\":0,\"ticks\":\"\"}},\"type\":\"scatter3d\"}],\"scattercarpet\":[{\"marker\":{\"colorbar\":{\"outlinewidth\":0,\"ticks\":\"\"}},\"type\":\"scattercarpet\"}],\"scattergeo\":[{\"marker\":{\"colorbar\":{\"outlinewidth\":0,\"ticks\":\"\"}},\"type\":\"scattergeo\"}],\"scattergl\":[{\"marker\":{\"colorbar\":{\"outlinewidth\":0,\"ticks\":\"\"}},\"type\":\"scattergl\"}],\"scattermapbox\":[{\"marker\":{\"colorbar\":{\"outlinewidth\":0,\"ticks\":\"\"}},\"type\":\"scattermapbox\"}],\"scatterpolar\":[{\"marker\":{\"colorbar\":{\"outlinewidth\":0,\"ticks\":\"\"}},\"type\":\"scatterpolar\"}],\"scatterpolargl\":[{\"marker\":{\"colorbar\":{\"outlinewidth\":0,\"ticks\":\"\"}},\"type\":\"scatterpolargl\"}],\"scatterternary\":[{\"marker\":{\"colorbar\":{\"outlinewidth\":0,\"ticks\":\"\"}},\"type\":\"scatterternary\"}],\"surface\":[{\"colorbar\":{\"outlinewidth\":0,\"ticks\":\"\"},\"colorscale\":[[0.0,\"#0d0887\"],[0.1111111111111111,\"#46039f\"],[0.2222222222222222,\"#7201a8\"],[0.3333333333333333,\"#9c179e\"],[0.4444444444444444,\"#bd3786\"],[0.5555555555555556,\"#d8576b\"],[0.6666666666666666,\"#ed7953\"],[0.7777777777777778,\"#fb9f3a\"],[0.8888888888888888,\"#fdca26\"],[1.0,\"#f0f921\"]],\"type\":\"surface\"}],\"table\":[{\"cells\":{\"fill\":{\"color\":\"#EBF0F8\"},\"line\":{\"color\":\"white\"}},\"header\":{\"fill\":{\"color\":\"#C8D4E3\"},\"line\":{\"color\":\"white\"}},\"type\":\"table\"}]},\"layout\":{\"annotationdefaults\":{\"arrowcolor\":\"#2a3f5f\",\"arrowhead\":0,\"arrowwidth\":1},\"autotypenumbers\":\"strict\",\"coloraxis\":{\"colorbar\":{\"outlinewidth\":0,\"ticks\":\"\"}},\"colorscale\":{\"diverging\":[[0,\"#8e0152\"],[0.1,\"#c51b7d\"],[0.2,\"#de77ae\"],[0.3,\"#f1b6da\"],[0.4,\"#fde0ef\"],[0.5,\"#f7f7f7\"],[0.6,\"#e6f5d0\"],[0.7,\"#b8e186\"],[0.8,\"#7fbc41\"],[0.9,\"#4d9221\"],[1,\"#276419\"]],\"sequential\":[[0.0,\"#0d0887\"],[0.1111111111111111,\"#46039f\"],[0.2222222222222222,\"#7201a8\"],[0.3333333333333333,\"#9c179e\"],[0.4444444444444444,\"#bd3786\"],[0.5555555555555556,\"#d8576b\"],[0.6666666666666666,\"#ed7953\"],[0.7777777777777778,\"#fb9f3a\"],[0.8888888888888888,\"#fdca26\"],[1.0,\"#f0f921\"]],\"sequentialminus\":[[0.0,\"#0d0887\"],[0.1111111111111111,\"#46039f\"],[0.2222222222222222,\"#7201a8\"],[0.3333333333333333,\"#9c179e\"],[0.4444444444444444,\"#bd3786\"],[0.5555555555555556,\"#d8576b\"],[0.6666666666666666,\"#ed7953\"],[0.7777777777777778,\"#fb9f3a\"],[0.8888888888888888,\"#fdca26\"],[1.0,\"#f0f921\"]]},\"colorway\":[\"#636efa\",\"#EF553B\",\"#00cc96\",\"#ab63fa\",\"#FFA15A\",\"#19d3f3\",\"#FF6692\",\"#B6E880\",\"#FF97FF\",\"#FECB52\"],\"font\":{\"color\":\"#2a3f5f\"},\"geo\":{\"bgcolor\":\"white\",\"lakecolor\":\"white\",\"landcolor\":\"#E5ECF6\",\"showlakes\":true,\"showland\":true,\"subunitcolor\":\"white\"},\"hoverlabel\":{\"align\":\"left\"},\"hovermode\":\"closest\",\"mapbox\":{\"style\":\"light\"},\"paper_bgcolor\":\"white\",\"plot_bgcolor\":\"#E5ECF6\",\"polar\":{\"angularaxis\":{\"gridcolor\":\"white\",\"linecolor\":\"white\",\"ticks\":\"\"},\"bgcolor\":\"#E5ECF6\",\"radialaxis\":{\"gridcolor\":\"white\",\"linecolor\":\"white\",\"ticks\":\"\"}},\"scene\":{\"xaxis\":{\"backgroundcolor\":\"#E5ECF6\",\"gridcolor\":\"white\",\"gridwidth\":2,\"linecolor\":\"white\",\"showbackground\":true,\"ticks\":\"\",\"zerolinecolor\":\"white\"},\"yaxis\":{\"backgroundcolor\":\"#E5ECF6\",\"gridcolor\":\"white\",\"gridwidth\":2,\"linecolor\":\"white\",\"showbackground\":true,\"ticks\":\"\",\"zerolinecolor\":\"white\"},\"zaxis\":{\"backgroundcolor\":\"#E5ECF6\",\"gridcolor\":\"white\",\"gridwidth\":2,\"linecolor\":\"white\",\"showbackground\":true,\"ticks\":\"\",\"zerolinecolor\":\"white\"}},\"shapedefaults\":{\"line\":{\"color\":\"#2a3f5f\"}},\"ternary\":{\"aaxis\":{\"gridcolor\":\"white\",\"linecolor\":\"white\",\"ticks\":\"\"},\"baxis\":{\"gridcolor\":\"white\",\"linecolor\":\"white\",\"ticks\":\"\"},\"bgcolor\":\"#E5ECF6\",\"caxis\":{\"gridcolor\":\"white\",\"linecolor\":\"white\",\"ticks\":\"\"}},\"title\":{\"x\":0.05},\"xaxis\":{\"automargin\":true,\"gridcolor\":\"white\",\"linecolor\":\"white\",\"ticks\":\"\",\"title\":{\"standoff\":15},\"zerolinecolor\":\"white\",\"zerolinewidth\":2},\"yaxis\":{\"automargin\":true,\"gridcolor\":\"white\",\"linecolor\":\"white\",\"ticks\":\"\",\"title\":{\"standoff\":15},\"zerolinecolor\":\"white\",\"zerolinewidth\":2}}},\"title\":{\"text\":\"Litecoin(LTC) Candelstick Chart\",\"x\":0.5,\"xanchor\":\"center\",\"y\":0.9,\"yanchor\":\"top\"},\"xaxis\":{\"rangeslider\":{\"visible\":true},\"title\":{\"text\":\"Minutes\"}},\"yaxis\":{\"ticksuffix\":\"$\",\"title\":{\"text\":\"Price in USD\"}}},                        {\"responsive\": true}                    ).then(function(){\n",
       "                            \n",
       "var gd = document.getElementById('a4a2e576-288b-46bd-a64c-8bb97c7f390f');\n",
       "var x = new MutationObserver(function (mutations, observer) {{\n",
       "        var display = window.getComputedStyle(gd).display;\n",
       "        if (!display || display === 'none') {{\n",
       "            console.log([gd, 'removed!']);\n",
       "            Plotly.purge(gd);\n",
       "            observer.disconnect();\n",
       "        }}\n",
       "}});\n",
       "\n",
       "// Listen for the removal of the full notebook cells\n",
       "var notebookContainer = gd.closest('#notebook-container');\n",
       "if (notebookContainer) {{\n",
       "    x.observe(notebookContainer, {childList: true});\n",
       "}}\n",
       "\n",
       "// Listen for the clearing of the current output cell\n",
       "var outputEl = gd.closest('.output');\n",
       "if (outputEl) {{\n",
       "    x.observe(outputEl, {childList: true});\n",
       "}}\n",
       "\n",
       "                        })                };                });            </script>        </div>"
      ]
     },
     "metadata": {},
     "output_type": "display_data"
    }
   ],
   "source": [
    "ltc_plot = candelstick_chart(ltc[-250:],title = \"Litecoin(LTC)\")\n",
    "ltc_plot.show()"
   ]
  },
  {
   "cell_type": "markdown",
   "id": "6b404fcd",
   "metadata": {
    "papermill": {
     "duration": 0.026397,
     "end_time": "2021-11-02T21:41:33.663573",
     "exception": false,
     "start_time": "2021-11-02T21:41:33.637176",
     "status": "completed"
    },
    "tags": []
   },
   "source": [
    "# <center>OHLC CHARTS</center> "
   ]
  },
  {
   "cell_type": "code",
   "execution_count": 11,
   "id": "490befd2",
   "metadata": {
    "_kg_hide-input": true,
    "execution": {
     "iopub.execute_input": "2021-11-02T21:41:33.725321Z",
     "iopub.status.busy": "2021-11-02T21:41:33.724601Z",
     "iopub.status.idle": "2021-11-02T21:41:33.727471Z",
     "shell.execute_reply": "2021-11-02T21:41:33.726945Z",
     "shell.execute_reply.started": "2021-11-02T21:35:04.002731Z"
    },
    "papermill": {
     "duration": 0.037176,
     "end_time": "2021-11-02T21:41:33.727644",
     "exception": false,
     "start_time": "2021-11-02T21:41:33.690468",
     "status": "completed"
    },
    "tags": []
   },
   "outputs": [],
   "source": [
    "def ohlc_chart(data,title):\n",
    "    ohlc = go.Figure(data = [go.Ohlc(x =data.index, \n",
    "                                               open = data[('Open')], \n",
    "                                               high = data[('High')], \n",
    "                                               low = data[('Low')], \n",
    "                                               close = data[('Close')])])\n",
    "    ohlc.update_xaxes(title_text = 'Minutes',\n",
    "                             rangeslider_visible = True)\n",
    "\n",
    "    ohlc.update_layout(\n",
    "    title = {\n",
    "        'text': '{:} OHLC Chart'.format(title),\n",
    "        'y':0.9,\n",
    "        'x':0.5,\n",
    "        'xanchor': 'center',\n",
    "        'yanchor': 'top'})\n",
    "\n",
    "    ohlc.update_yaxes(title_text = 'Price in USD', ticksuffix = '$')\n",
    "    return ohlc"
   ]
  },
  {
   "cell_type": "markdown",
   "id": "12d467b6",
   "metadata": {
    "papermill": {
     "duration": 0.026251,
     "end_time": "2021-11-02T21:41:33.780657",
     "exception": false,
     "start_time": "2021-11-02T21:41:33.754406",
     "status": "completed"
    },
    "tags": []
   },
   "source": [
    "### Bitcoin(BTC) OHLC Chart for first 200 rows"
   ]
  },
  {
   "cell_type": "code",
   "execution_count": 12,
   "id": "fe08599d",
   "metadata": {
    "_kg_hide-input": true,
    "execution": {
     "iopub.execute_input": "2021-11-02T21:41:33.839155Z",
     "iopub.status.busy": "2021-11-02T21:41:33.838397Z",
     "iopub.status.idle": "2021-11-02T21:41:33.867089Z",
     "shell.execute_reply": "2021-11-02T21:41:33.866325Z",
     "shell.execute_reply.started": "2021-11-02T21:35:04.167314Z"
    },
    "papermill": {
     "duration": 0.059943,
     "end_time": "2021-11-02T21:41:33.867291",
     "exception": false,
     "start_time": "2021-11-02T21:41:33.807348",
     "status": "completed"
    },
    "tags": []
   },
   "outputs": [
    {
     "data": {
      "text/html": [
       "<div>                            <div id=\"123938e2-746b-4c0c-84e8-5c27a5ceaa4f\" class=\"plotly-graph-div\" style=\"height:525px; width:100%;\"></div>            <script type=\"text/javascript\">                require([\"plotly\"], function(Plotly) {                    window.PLOTLYENV=window.PLOTLYENV || {};                                    if (document.getElementById(\"123938e2-746b-4c0c-84e8-5c27a5ceaa4f\")) {                    Plotly.newPlot(                        \"123938e2-746b-4c0c-84e8-5c27a5ceaa4f\",                        [{\"close\":[13850.176,13828.102000000004,13801.314000000002,13768.04,13724.914,13717.112,13670.94,13721.348000000002,13720.26,13719.902000000002,13706.596,13690.991999999998,13696.638,13697.658,13678.486,13604.025,13625.614,13593.79,13626.11,13601.4,13606.285999999998,13610.486,13599.602,13603.748,13633.718,13653.296000000002,13659.882,13656.524,13648.28,13626.358000000002,13658.372,13668.798,13674.256,13650.59,13667.746,13667.357999999998,13647.632,13635.780000000002,13636.6,13639.21,13641.068,13629.393999999998,13577.73,13631.535999999998,13639.463999999998,13641.71,13680.728,13680.166,13693.004,13667.692,13690.716,13693.863999999998,13671.734,13665.064000000002,13668.528,13619.146,13579.912,13619.516,13646.514,13634.702,13642.900203083998,13634.678,13642.353999999998,13639.234,13632.91,13588.995,13555.505,13586.844,13550.891999999998,13546.924,13576.784,13581.232,13570.25,13574.328,13570.118,13580.252,13603.7,13619.284,13642.798,13695.332,13654.3,13666.334,13688.306,13625.684,13648.782,13617.38,13659.444,13609.9925,13611.25,13643.486,13641.244,13616.74,13570.643999999998,13581.406,13581.1,13583.102000000004,13573.494,13576.723999999998,13566.432,13550.702,13490.532,13470.612,13486.49,13486.66,13457.991999999998,13437.03,13439.874,13400.5925,13427.670000000002,13458.158,13445.383999999998,13435.646000000002,13420.652000000002,13415.95,13373.679999999997,13346.488,13328.223999999998,13346.033554664,13336.952,13369.868,13399.920000000002,13394.503999999995,13403.702,13458.566,13469.9,13415.13,13389.26,13389.656,13417.432,13437.49,13438.83832136,13451.497999999998,13454.9,13462.172,13444.794,13436.948,13431.484,13383.466,13367.391999999998,13359.73,13365.444,13398.38,13412.426,13410.29,13409.888,13381.5025,13377.92,13393.062,13348.502000000002,13336.078,13366.306,13358.1,13389.752,13388.820000000003,13386.888,13368.325999999995,13347.556,13339.05,13315.198,13315.269159952,13310.906,13324.946000000002,13345.876,13378.616000000002,13396.308,13413.89,13421.732,13422.393999999998,13445.893999999998,13426.247999999998,13438.402000000002,13385.785,13399.346,13405.228000000005,13384.432,13361.568,13362.544,13430.324,13413.472,13427.55,13423.548,13418.603999999998,13416.420000000002,13399.914,13409.545999999998,13398.812,13411.084,13400.366000000002,13417.166,13434.158,13460.75,13465.046000000002,13484.36,13511.241999999998,13518.27,13548.198,13542.723999999998,13529.54,13543.918,13550.444],\"high\":[14013.8,14052.3,14000.4,13999.0,13955.9,14000.7,14001.4,13914.6,13948.9,13948.5,13948.6,13902.8,13900.0,13876.0,13893.9,13702.71,13860.4,13850.0,13838.9,13826.8,13811.1,13771.0,13750.0,13747.0,13739.0,13740.58,13741.23,13767.0,13750.0,13765.0,13764.8,13767.0,13800.0,13799.8,13799.8,13799.7,13799.7,13799.0,13753.5,13755.0,13799.0,13799.0,13670.99,13799.0,13799.9,13799.7,13800.0,13800.0,13800.0,13800.0,13800.0,13800.0,13900.0,13819.0,13999.9,13805.7,13807.3,13802.6,13802.6,13791.4,13794.8,13796.4,13795.9,13804.9,13788.2,13679.7,13679.6,13776.9,13765.9,13699.0,13698.9,13698.8,13730.0,13757.1,13706.2,13722.3,13721.4,13784.0,13784.0,13885.5,13756.0,13763.2,13885.4,13765.7,13775.8,13651.25,13840.0,13651.21,13651.0,13778.6,13789.1,13781.4,13780.5,13757.0,13738.6,13716.2,13652.0,13650.5,13650.4,13615.0,13607.5,13600.0,13587.0,13600.0,13577.0,13565.5,13549.0,13478.2,13549.0,13538.6,13553.8,13600.0,13600.0,13580.2,13580.1,13520.2,13511.0,13515.0,13501.0,13500.4,13572.7,13490.0,13501.44,13599.9,13600.0,13536.88,13514.0,13505.0,13514.0,13537.1,13571.0,13583.6,13562.6,13600.0,13599.5,13568.9,13568.8,13549.6,13519.5,13519.5,13500.5,13510.9,13519.7,13520.3,13520.3,13450.0,13430.71,13525.0,13525.3,13518.6,13508.5,13507.0,13490.0,13490.0,13489.6,13480.0,13479.0,13473.7,13469.1,13461.9,13450.0,13450.0,13450.0,13453.0,13451.5,13480.0,13480.0,13472.0,13599.0,13480.0,13600.0,13470.0,13527.6,13506.0,13503.7,13491.5,13496.0,13645.5,13512.0,13544.9,13545.0,13560.0,13560.4,13576.4,13576.4,13564.7,13564.5,13560.4,13560.3,13561.5,13645.0,13608.5,13623.3,13830.0,13701.6,13828.2,13741.3,13751.4,13824.9,13827.1],\"low\":[13666.11,13680.0,13601.0,13576.28,13554.44,13520.0,13501.01,13504.99,13539.99,13530.0,13400.01,13485.41,13473.47,13500.35,13505.0,13450.39,13402.0,13402.01,13420.81,13414.18,13440.01,13410.44,13410.44,13412.05,13420.05,13440.09,13472.61,13499.77,13475.35,13479.79,13480.01,13501.11,13520.0,13502.11,13502.27,13503.88,13500.0,13500.0,13461.74,13470.33,13470.37,13473.0,13470.37,13450.0,13450.0,13470.0,13470.5,13521.34,13545.3,13521.39,13542.7,13582.48,13531.99,13530.0,13529.98,13499.98,13456.37,13452.56,13471.62,13527.9,13521.99,13481.82,13486.53,13481.82,13481.98,13489.69,13465.0,13453.0,13450.1,13402.28,13404.14,13436.01,13445.63,13426.9,13446.69,13450.01,13445.63,13489.98,13500.19,13540.05,13541.36,13560.91,13562.45,13541.0,13513.91,13541.06,13567.05,13568.34,13534.55,13557.98,13525.02,13529.84,13477.2,13500.0,13477.2,13477.2,13480.05,13491.53,13515.89,13500.0,13428.0,13417.69207062,13430.0,13407.55,13405.0,13364.92788695,13370.0,13375.0,13349.0,13348.0,13369.99,13343.03,13320.01,13300.2,13219.98,13200.81,13186.0,13155.38,13181.09,13202.03,13280.27,13317.19,13317.38,13345.0,13365.99,13350.02,13276.96,13277.01,13291.59,13320.0,13350.69,13350.69,13352.0,13360.02,13350.0,13343.01,13300.0,13269.0,13228.02,13228.03,13251.0,13251.02,13301.14,13291.03,13291.07,13300.0,13290.0,13290.0,13225.0,13200.0,13208.0,13255.04,13202.03,13280.0,13288.02,13267.59,13210.0,13220.92,13211.72,13220.0,13225.2,13225.22,13241.0,13260.17,13309.0,13338.97,13334.89,13354.03,13347.0,13348.0,13347.14,13301.79,13300.0,13260.09,13275.44,13275.0,13261.01,13280.01,13306.02,13330.21,13340.0,13295.94,13300.0,13293.0,13290.0,13295.22,13295.22,13302.25,13320.0,13346.75,13352.01,13370.0,13380.0,13420.02,13419.0,13417.0,13438.078232499998,13441.53,13421.96,13428.03],\"open\":[13835.194,13835.035999999998,13823.9,13802.512,13766.0,13717.714000000002,13720.922,13669.246,13713.412,13713.61,13719.018,13703.404,13690.79,13688.491999999998,13702.502,13620.185,13654.02,13625.404,13615.378000000002,13626.248,13600.49,13606.468,13610.204000000002,13599.362,13601.328,13630.963999999998,13656.364,13653.882,13649.434,13638.62,13640.674,13656.3,13669.62,13673.2,13650.721999999998,13667.614,13662.738,13640.964000000002,13628.570000000003,13649.295999999998,13641.096,13635.714000000002,13584.805,13628.795999999998,13636.329999999998,13634.473999999998,13639.765999999998,13682.21,13675.802,13700.558,13676.2,13698.968,13694.254,13670.75,13661.012,13629.208000000002,13618.094,13601.563999999997,13625.241999999998,13632.89,13653.586,13641.19,13633.996,13643.852,13636.862,13599.5725,13584.7725,13598.924,13580.86,13554.978,13546.647999999996,13567.768,13584.662,13570.809999999998,13575.6,13571.872,13576.185999999998,13604.294,13623.408,13645.87,13668.026000000002,13659.795999999998,13669.863999999998,13662.386,13643.313999999997,13618.4622013275,13649.34,13614.3125,13610.2375,13643.916,13639.63,13640.826,13618.516,13601.266,13580.61,13578.452,13575.429999999997,13570.39,13575.892000000002,13566.29,13549.684,13492.63,13472.194,13491.997999999998,13476.722,13466.518,13441.0,13411.115,13437.558,13430.21,13458.558,13443.597999999998,13434.762,13420.654,13415.456,13361.878,13346.685999999998,13328.026000000002,13346.016,13337.022,13368.676,13383.337438244,13393.674,13403.504,13435.63,13461.854,13413.016,13393.478,13392.928,13409.678,13438.496,13441.278,13457.059999999998,13462.973999999998,13470.498,13450.094,13432.318,13430.604,13385.834,13367.302,13358.11,13365.643999999998,13399.592,13410.46,13408.676,13382.0875,13370.8425,13403.722,13398.544,13344.906,13343.04,13354.632,13362.696000000002,13389.356000000002,13393.0,13380.566,13359.070000000003,13346.014,13338.114,13321.096,13313.986,13318.13,13324.746,13346.328,13381.973999999998,13389.284,13408.258000000002,13414.29,13421.997999999998,13418.87,13444.212,13413.2525,13425.484,13392.734000000002,13395.372,13379.228,13363.25750828,13366.824,13410.318,13410.248,13427.874,13426.546000000002,13417.874,13418.04,13390.863999999998,13410.034,13398.5,13411.915999999996,13409.486,13417.998,13435.335,13436.6,13466.795999999998,13483.512,13510.124,13517.79,13521.1336465,13553.956,13529.454344088,13545.052],\"type\":\"ohlc\",\"x\":[1514764860,1514764920,1514764980,1514765040,1514765100,1514765160,1514765220,1514765280,1514765340,1514765400,1514765460,1514765520,1514765580,1514765640,1514765700,1514765760,1514765820,1514765880,1514765940,1514766000,1514766060,1514766120,1514766180,1514766240,1514766300,1514766360,1514766420,1514766480,1514766540,1514766600,1514766660,1514766720,1514766780,1514766840,1514766900,1514766960,1514767020,1514767080,1514767140,1514767200,1514767260,1514767320,1514767380,1514767440,1514767500,1514767560,1514767620,1514767680,1514767740,1514767800,1514767860,1514767920,1514767980,1514768040,1514768100,1514768160,1514768220,1514768280,1514768340,1514768400,1514768460,1514768520,1514768580,1514768640,1514768700,1514768760,1514768820,1514768880,1514768940,1514769000,1514769060,1514769120,1514769180,1514769240,1514769300,1514769360,1514769420,1514769480,1514769540,1514769600,1514769660,1514769720,1514769780,1514769840,1514769900,1514769960,1514770020,1514770080,1514770140,1514770200,1514770260,1514770320,1514770380,1514770440,1514770500,1514770560,1514770620,1514770680,1514770740,1514770800,1514770860,1514770920,1514770980,1514771040,1514771100,1514771160,1514771220,1514771280,1514771340,1514771400,1514771460,1514771520,1514771580,1514771640,1514771700,1514771760,1514771820,1514771880,1514771940,1514772000,1514772060,1514772120,1514772180,1514772240,1514772300,1514772360,1514772420,1514772480,1514772540,1514772600,1514772660,1514772720,1514772780,1514772840,1514772900,1514772960,1514773020,1514773080,1514773140,1514773200,1514773260,1514773320,1514773380,1514773440,1514773500,1514773560,1514773620,1514773680,1514773740,1514773800,1514773860,1514773920,1514773980,1514774040,1514774100,1514774160,1514774220,1514774280,1514774340,1514774400,1514774460,1514774520,1514774580,1514774640,1514774700,1514774760,1514774820,1514774880,1514774940,1514775000,1514775060,1514775120,1514775180,1514775240,1514775300,1514775360,1514775420,1514775480,1514775540,1514775600,1514775660,1514775720,1514775780,1514775840,1514775900,1514775960,1514776020,1514776080,1514776140,1514776200,1514776260,1514776320,1514776380,1514776440,1514776500,1514776560,1514776620,1514776680,1514776740,1514776800]}],                        {\"template\":{\"data\":{\"bar\":[{\"error_x\":{\"color\":\"#2a3f5f\"},\"error_y\":{\"color\":\"#2a3f5f\"},\"marker\":{\"line\":{\"color\":\"#E5ECF6\",\"width\":0.5},\"pattern\":{\"fillmode\":\"overlay\",\"size\":10,\"solidity\":0.2}},\"type\":\"bar\"}],\"barpolar\":[{\"marker\":{\"line\":{\"color\":\"#E5ECF6\",\"width\":0.5},\"pattern\":{\"fillmode\":\"overlay\",\"size\":10,\"solidity\":0.2}},\"type\":\"barpolar\"}],\"carpet\":[{\"aaxis\":{\"endlinecolor\":\"#2a3f5f\",\"gridcolor\":\"white\",\"linecolor\":\"white\",\"minorgridcolor\":\"white\",\"startlinecolor\":\"#2a3f5f\"},\"baxis\":{\"endlinecolor\":\"#2a3f5f\",\"gridcolor\":\"white\",\"linecolor\":\"white\",\"minorgridcolor\":\"white\",\"startlinecolor\":\"#2a3f5f\"},\"type\":\"carpet\"}],\"choropleth\":[{\"colorbar\":{\"outlinewidth\":0,\"ticks\":\"\"},\"type\":\"choropleth\"}],\"contour\":[{\"colorbar\":{\"outlinewidth\":0,\"ticks\":\"\"},\"colorscale\":[[0.0,\"#0d0887\"],[0.1111111111111111,\"#46039f\"],[0.2222222222222222,\"#7201a8\"],[0.3333333333333333,\"#9c179e\"],[0.4444444444444444,\"#bd3786\"],[0.5555555555555556,\"#d8576b\"],[0.6666666666666666,\"#ed7953\"],[0.7777777777777778,\"#fb9f3a\"],[0.8888888888888888,\"#fdca26\"],[1.0,\"#f0f921\"]],\"type\":\"contour\"}],\"contourcarpet\":[{\"colorbar\":{\"outlinewidth\":0,\"ticks\":\"\"},\"type\":\"contourcarpet\"}],\"heatmap\":[{\"colorbar\":{\"outlinewidth\":0,\"ticks\":\"\"},\"colorscale\":[[0.0,\"#0d0887\"],[0.1111111111111111,\"#46039f\"],[0.2222222222222222,\"#7201a8\"],[0.3333333333333333,\"#9c179e\"],[0.4444444444444444,\"#bd3786\"],[0.5555555555555556,\"#d8576b\"],[0.6666666666666666,\"#ed7953\"],[0.7777777777777778,\"#fb9f3a\"],[0.8888888888888888,\"#fdca26\"],[1.0,\"#f0f921\"]],\"type\":\"heatmap\"}],\"heatmapgl\":[{\"colorbar\":{\"outlinewidth\":0,\"ticks\":\"\"},\"colorscale\":[[0.0,\"#0d0887\"],[0.1111111111111111,\"#46039f\"],[0.2222222222222222,\"#7201a8\"],[0.3333333333333333,\"#9c179e\"],[0.4444444444444444,\"#bd3786\"],[0.5555555555555556,\"#d8576b\"],[0.6666666666666666,\"#ed7953\"],[0.7777777777777778,\"#fb9f3a\"],[0.8888888888888888,\"#fdca26\"],[1.0,\"#f0f921\"]],\"type\":\"heatmapgl\"}],\"histogram\":[{\"marker\":{\"pattern\":{\"fillmode\":\"overlay\",\"size\":10,\"solidity\":0.2}},\"type\":\"histogram\"}],\"histogram2d\":[{\"colorbar\":{\"outlinewidth\":0,\"ticks\":\"\"},\"colorscale\":[[0.0,\"#0d0887\"],[0.1111111111111111,\"#46039f\"],[0.2222222222222222,\"#7201a8\"],[0.3333333333333333,\"#9c179e\"],[0.4444444444444444,\"#bd3786\"],[0.5555555555555556,\"#d8576b\"],[0.6666666666666666,\"#ed7953\"],[0.7777777777777778,\"#fb9f3a\"],[0.8888888888888888,\"#fdca26\"],[1.0,\"#f0f921\"]],\"type\":\"histogram2d\"}],\"histogram2dcontour\":[{\"colorbar\":{\"outlinewidth\":0,\"ticks\":\"\"},\"colorscale\":[[0.0,\"#0d0887\"],[0.1111111111111111,\"#46039f\"],[0.2222222222222222,\"#7201a8\"],[0.3333333333333333,\"#9c179e\"],[0.4444444444444444,\"#bd3786\"],[0.5555555555555556,\"#d8576b\"],[0.6666666666666666,\"#ed7953\"],[0.7777777777777778,\"#fb9f3a\"],[0.8888888888888888,\"#fdca26\"],[1.0,\"#f0f921\"]],\"type\":\"histogram2dcontour\"}],\"mesh3d\":[{\"colorbar\":{\"outlinewidth\":0,\"ticks\":\"\"},\"type\":\"mesh3d\"}],\"parcoords\":[{\"line\":{\"colorbar\":{\"outlinewidth\":0,\"ticks\":\"\"}},\"type\":\"parcoords\"}],\"pie\":[{\"automargin\":true,\"type\":\"pie\"}],\"scatter\":[{\"marker\":{\"colorbar\":{\"outlinewidth\":0,\"ticks\":\"\"}},\"type\":\"scatter\"}],\"scatter3d\":[{\"line\":{\"colorbar\":{\"outlinewidth\":0,\"ticks\":\"\"}},\"marker\":{\"colorbar\":{\"outlinewidth\":0,\"ticks\":\"\"}},\"type\":\"scatter3d\"}],\"scattercarpet\":[{\"marker\":{\"colorbar\":{\"outlinewidth\":0,\"ticks\":\"\"}},\"type\":\"scattercarpet\"}],\"scattergeo\":[{\"marker\":{\"colorbar\":{\"outlinewidth\":0,\"ticks\":\"\"}},\"type\":\"scattergeo\"}],\"scattergl\":[{\"marker\":{\"colorbar\":{\"outlinewidth\":0,\"ticks\":\"\"}},\"type\":\"scattergl\"}],\"scattermapbox\":[{\"marker\":{\"colorbar\":{\"outlinewidth\":0,\"ticks\":\"\"}},\"type\":\"scattermapbox\"}],\"scatterpolar\":[{\"marker\":{\"colorbar\":{\"outlinewidth\":0,\"ticks\":\"\"}},\"type\":\"scatterpolar\"}],\"scatterpolargl\":[{\"marker\":{\"colorbar\":{\"outlinewidth\":0,\"ticks\":\"\"}},\"type\":\"scatterpolargl\"}],\"scatterternary\":[{\"marker\":{\"colorbar\":{\"outlinewidth\":0,\"ticks\":\"\"}},\"type\":\"scatterternary\"}],\"surface\":[{\"colorbar\":{\"outlinewidth\":0,\"ticks\":\"\"},\"colorscale\":[[0.0,\"#0d0887\"],[0.1111111111111111,\"#46039f\"],[0.2222222222222222,\"#7201a8\"],[0.3333333333333333,\"#9c179e\"],[0.4444444444444444,\"#bd3786\"],[0.5555555555555556,\"#d8576b\"],[0.6666666666666666,\"#ed7953\"],[0.7777777777777778,\"#fb9f3a\"],[0.8888888888888888,\"#fdca26\"],[1.0,\"#f0f921\"]],\"type\":\"surface\"}],\"table\":[{\"cells\":{\"fill\":{\"color\":\"#EBF0F8\"},\"line\":{\"color\":\"white\"}},\"header\":{\"fill\":{\"color\":\"#C8D4E3\"},\"line\":{\"color\":\"white\"}},\"type\":\"table\"}]},\"layout\":{\"annotationdefaults\":{\"arrowcolor\":\"#2a3f5f\",\"arrowhead\":0,\"arrowwidth\":1},\"autotypenumbers\":\"strict\",\"coloraxis\":{\"colorbar\":{\"outlinewidth\":0,\"ticks\":\"\"}},\"colorscale\":{\"diverging\":[[0,\"#8e0152\"],[0.1,\"#c51b7d\"],[0.2,\"#de77ae\"],[0.3,\"#f1b6da\"],[0.4,\"#fde0ef\"],[0.5,\"#f7f7f7\"],[0.6,\"#e6f5d0\"],[0.7,\"#b8e186\"],[0.8,\"#7fbc41\"],[0.9,\"#4d9221\"],[1,\"#276419\"]],\"sequential\":[[0.0,\"#0d0887\"],[0.1111111111111111,\"#46039f\"],[0.2222222222222222,\"#7201a8\"],[0.3333333333333333,\"#9c179e\"],[0.4444444444444444,\"#bd3786\"],[0.5555555555555556,\"#d8576b\"],[0.6666666666666666,\"#ed7953\"],[0.7777777777777778,\"#fb9f3a\"],[0.8888888888888888,\"#fdca26\"],[1.0,\"#f0f921\"]],\"sequentialminus\":[[0.0,\"#0d0887\"],[0.1111111111111111,\"#46039f\"],[0.2222222222222222,\"#7201a8\"],[0.3333333333333333,\"#9c179e\"],[0.4444444444444444,\"#bd3786\"],[0.5555555555555556,\"#d8576b\"],[0.6666666666666666,\"#ed7953\"],[0.7777777777777778,\"#fb9f3a\"],[0.8888888888888888,\"#fdca26\"],[1.0,\"#f0f921\"]]},\"colorway\":[\"#636efa\",\"#EF553B\",\"#00cc96\",\"#ab63fa\",\"#FFA15A\",\"#19d3f3\",\"#FF6692\",\"#B6E880\",\"#FF97FF\",\"#FECB52\"],\"font\":{\"color\":\"#2a3f5f\"},\"geo\":{\"bgcolor\":\"white\",\"lakecolor\":\"white\",\"landcolor\":\"#E5ECF6\",\"showlakes\":true,\"showland\":true,\"subunitcolor\":\"white\"},\"hoverlabel\":{\"align\":\"left\"},\"hovermode\":\"closest\",\"mapbox\":{\"style\":\"light\"},\"paper_bgcolor\":\"white\",\"plot_bgcolor\":\"#E5ECF6\",\"polar\":{\"angularaxis\":{\"gridcolor\":\"white\",\"linecolor\":\"white\",\"ticks\":\"\"},\"bgcolor\":\"#E5ECF6\",\"radialaxis\":{\"gridcolor\":\"white\",\"linecolor\":\"white\",\"ticks\":\"\"}},\"scene\":{\"xaxis\":{\"backgroundcolor\":\"#E5ECF6\",\"gridcolor\":\"white\",\"gridwidth\":2,\"linecolor\":\"white\",\"showbackground\":true,\"ticks\":\"\",\"zerolinecolor\":\"white\"},\"yaxis\":{\"backgroundcolor\":\"#E5ECF6\",\"gridcolor\":\"white\",\"gridwidth\":2,\"linecolor\":\"white\",\"showbackground\":true,\"ticks\":\"\",\"zerolinecolor\":\"white\"},\"zaxis\":{\"backgroundcolor\":\"#E5ECF6\",\"gridcolor\":\"white\",\"gridwidth\":2,\"linecolor\":\"white\",\"showbackground\":true,\"ticks\":\"\",\"zerolinecolor\":\"white\"}},\"shapedefaults\":{\"line\":{\"color\":\"#2a3f5f\"}},\"ternary\":{\"aaxis\":{\"gridcolor\":\"white\",\"linecolor\":\"white\",\"ticks\":\"\"},\"baxis\":{\"gridcolor\":\"white\",\"linecolor\":\"white\",\"ticks\":\"\"},\"bgcolor\":\"#E5ECF6\",\"caxis\":{\"gridcolor\":\"white\",\"linecolor\":\"white\",\"ticks\":\"\"}},\"title\":{\"x\":0.05},\"xaxis\":{\"automargin\":true,\"gridcolor\":\"white\",\"linecolor\":\"white\",\"ticks\":\"\",\"title\":{\"standoff\":15},\"zerolinecolor\":\"white\",\"zerolinewidth\":2},\"yaxis\":{\"automargin\":true,\"gridcolor\":\"white\",\"linecolor\":\"white\",\"ticks\":\"\",\"title\":{\"standoff\":15},\"zerolinecolor\":\"white\",\"zerolinewidth\":2}}},\"title\":{\"text\":\"Bitcoin(BTC) OHLC Chart\",\"x\":0.5,\"xanchor\":\"center\",\"y\":0.9,\"yanchor\":\"top\"},\"xaxis\":{\"rangeslider\":{\"visible\":true},\"title\":{\"text\":\"Minutes\"}},\"yaxis\":{\"ticksuffix\":\"$\",\"title\":{\"text\":\"Price in USD\"}}},                        {\"responsive\": true}                    ).then(function(){\n",
       "                            \n",
       "var gd = document.getElementById('123938e2-746b-4c0c-84e8-5c27a5ceaa4f');\n",
       "var x = new MutationObserver(function (mutations, observer) {{\n",
       "        var display = window.getComputedStyle(gd).display;\n",
       "        if (!display || display === 'none') {{\n",
       "            console.log([gd, 'removed!']);\n",
       "            Plotly.purge(gd);\n",
       "            observer.disconnect();\n",
       "        }}\n",
       "}});\n",
       "\n",
       "// Listen for the removal of the full notebook cells\n",
       "var notebookContainer = gd.closest('#notebook-container');\n",
       "if (notebookContainer) {{\n",
       "    x.observe(notebookContainer, {childList: true});\n",
       "}}\n",
       "\n",
       "// Listen for the clearing of the current output cell\n",
       "var outputEl = gd.closest('.output');\n",
       "if (outputEl) {{\n",
       "    x.observe(outputEl, {childList: true});\n",
       "}}\n",
       "\n",
       "                        })                };                });            </script>        </div>"
      ]
     },
     "metadata": {},
     "output_type": "display_data"
    }
   ],
   "source": [
    "ohlc_chart(btc[:200], title = \"Bitcoin(BTC)\")"
   ]
  },
  {
   "cell_type": "markdown",
   "id": "6142c18b",
   "metadata": {
    "papermill": {
     "duration": 0.027088,
     "end_time": "2021-11-02T21:41:33.922091",
     "exception": false,
     "start_time": "2021-11-02T21:41:33.895003",
     "status": "completed"
    },
    "tags": []
   },
   "source": [
    "### Ethereum(ETH) OHLC Chart for last 100 rows"
   ]
  },
  {
   "cell_type": "code",
   "execution_count": 13,
   "id": "a7f9e73b",
   "metadata": {
    "_kg_hide-input": true,
    "execution": {
     "iopub.execute_input": "2021-11-02T21:41:33.996330Z",
     "iopub.status.busy": "2021-11-02T21:41:33.989181Z",
     "iopub.status.idle": "2021-11-02T21:41:34.001349Z",
     "shell.execute_reply": "2021-11-02T21:41:34.000706Z",
     "shell.execute_reply.started": "2021-11-02T21:35:41.034612Z"
    },
    "papermill": {
     "duration": 0.051873,
     "end_time": "2021-11-02T21:41:34.001487",
     "exception": false,
     "start_time": "2021-11-02T21:41:33.949614",
     "status": "completed"
    },
    "tags": []
   },
   "outputs": [
    {
     "data": {
      "text/html": [
       "<div>                            <div id=\"f2d4f522-e01d-4364-b732-420619094f53\" class=\"plotly-graph-div\" style=\"height:525px; width:100%;\"></div>            <script type=\"text/javascript\">                require([\"plotly\"], function(Plotly) {                    window.PLOTLYENV=window.PLOTLYENV || {};                                    if (document.getElementById(\"f2d4f522-e01d-4364-b732-420619094f53\")) {                    Plotly.newPlot(                        \"f2d4f522-e01d-4364-b732-420619094f53\",                        [{\"close\":[3049.025714285715,3051.651428571429,3053.748571428572,3052.3,3053.867142857143,3054.7900000000004,3048.87715224,3045.9371428571435,3045.261428571429,3047.63,3047.28,3045.1714285714284,3046.8514285714286,3048.338571428572,3052.535714285714,3055.5042857142853,3055.9771428571435,3053.638571428572,3049.048571428571,3054.095714285714,3051.001666666667,3048.02,3044.043333333333,3036.238571428571,3031.844285714286,3027.99,3018.332857142857,3017.5614285714287,3008.387142857143,2996.458626465714,2992.7671428571434,2988.478571428572,2981.3514285714286,2967.982857142857,2982.665714285715,2983.8257142857133,2986.055714285714,2986.741428571429,2992.184285714286,2993.820451447143,2992.871428571428,3003.080000000001,3012.9842857142853,3004.64,2982.837142857143,2979.2771428571423,2980.617142857143,2978.592746214286,2968.914285714286,2966.3028571428576,2964.587142857143,2961.6314285714284,2959.2942857142853,2978.451428571429,2971.3214285714284,2978.464285714286,2971.51,2974.278571428571,2969.058587331429,2967.3814285714284,2959.3614285714284,2961.7542857142853,2954.5242857142857,2951.834285714285,2953.892007824285,2959.278571428572,2964.534600452857,2959.5528571428576,2955.925714285714,2952.297142857143,2950.262857142857,2948.182857142857,2956.465714285714,2956.7478496571425,2960.381428571429,2969.7771428571427,2966.0,2965.5242857142853,2955.498571428572,2959.727142857143,2965.9271428571424,2966.315714285714,2961.05,2955.7542857142853,2953.845739191428,2962.108571428572,2963.394285714285,2959.516104105715,2971.905714285714,2978.068663851428,2975.14,2977.1957142857145,2977.387142857143,2978.137142857143,2974.0271428571427,2964.7114285714283,2960.845714285714,2957.398571428572,2977.19,2972.603333333334],\"high\":[3061.5,3054.19,3057.5,3056.17,3055.83,3057.72,3055.64,3050.6,3049.12,3048.94,3049.52,3048.85,3048.6,3050.49,3056.06,3056.8,3060.0,3056.6,3054.72,3055.51,3055.87,3052.48,3049.12,3046.4,3039.84,3032.94,3030.46,3024.37,3017.8,3012.64,3002.45,2995.17,2993.59,2982.21,2986.86,2986.71,2989.27,2993.16,2993.93,2996.12,2996.14,3006.59,3015.81,3016.47,3005.8,2989.08,2988.63,2983.13,2982.2,2970.4,2967.8,2967.90990952,2967.77,2981.97,2986.84,2979.7,2983.1,2978.3,2977.36,2971.08,2970.57105798,2963.94,2962.6,2956.61,2957.97,2964.2,2965.99,2969.9,2961.12,2966.4,2959.09,2952.22,2957.84,2964.99,2967.62,2973.96,2972.23,2973.51,2971.08,2962.39,2968.7,2969.29,2971.11,2964.77,2960.23,2965.91,2966.19,2966.07,2974.1,2982.58,2979.21,2981.68,2980.08,2982.9,2979.0,2976.1,2967.95,2962.6,2978.71,2978.82],\"low\":[3045.87,3048.2,3049.81,3050.01,3049.25,3053.04,3047.8,3043.16,3043.89,3043.31,3045.95,3038.82,3044.45,3046.59,3046.81,3049.84,3054.04,3052.04,3048.21,3046.25,3049.47,3046.67,3042.99,3035.11,3030.93,3025.18,3017.05,3014.55,3007.24,2993.46,2991.15,2983.93,2977.46,2963.21,2967.77,2971.95,2973.82,2979.98,2981.04,2990.25,2987.48,2992.0,2998.95,3003.35,2981.07,2975.54,2975.27,2976.47,2967.0,2964.98,2960.0,2953.83,2957.65,2958.35,2969.49,2962.67,2969.53,2967.93,2967.05,2963.33,2952.0,2952.6,2947.62,2950.0,2947.24,2952.3,2953.82,2956.52,2953.49,2950.0,2948.86,2945.03,2945.0,2953.11,2954.09,2959.38,2963.03,2963.94,2952.65,2952.39,2958.39,2960.6,2959.22,2953.66,2952.0,2952.71,2962.21,2957.91,2958.09,2967.82,2971.34,2971.34,2973.57,2975.88,2967.13,2962.09,2958.05,2954.14,2956.75,2969.35],\"open\":[3057.447142857143,3050.1714285714284,3052.338571428572,3054.1014285714286,3051.762857142857,3054.844285714286,3053.622857142857,3048.8314379542853,3045.482857142857,3045.374285714286,3048.3310505685718,3047.352069631428,3046.611428571429,3047.491428571428,3048.2269611257148,3052.258571428572,3056.0571428571425,3054.811428571428,3052.9700000000007,3048.611428571429,3054.096666666667,3050.4757142857147,3047.9600000000005,3043.568571428572,3036.498571428572,3031.7157142857145,3027.299345192857,3018.4056356199994,3016.2671428571434,3008.641428571429,2997.348571428572,2993.18,2988.95,2980.6,2969.798571428572,2981.528571428572,2984.062857142857,2987.558571428572,2987.804285714286,2992.485714285714,2993.82811931,2993.2657142857147,3001.942857142857,3012.557142857143,3003.7771428571427,2983.167142857142,2979.474809408571,2980.2342857142853,2978.037142857143,2969.0071428571428,2966.178571428572,2963.625714285715,2962.242857142857,2960.618571428571,2977.661428571429,2970.2457142857147,2978.575714285714,2970.605714285715,2975.197142857143,2968.1800000000007,2967.0799999999995,2959.567142857143,2959.967142857143,2954.17,2951.82,2955.1771428571424,2959.782857142857,2964.384285714286,2959.088571428572,2957.0271428571427,2952.171912078572,2950.6542857142854,2948.182857142857,2956.870000000001,2956.57,2961.414285714286,2969.557142857143,2966.7157142857145,2965.647142857142,2955.097142857143,2960.612857142857,2965.741428571428,2967.775714285714,2961.5028571428584,2955.4257142857136,2954.9871428571428,2963.701428571429,2963.3071428571425,2959.8514285714286,2972.4614285714283,2977.4728571428573,2974.152857142857,2977.297142857143,2978.0328571428577,2977.782857142857,2973.728685914285,2965.461446438572,2960.3214285714284,2958.7714285714283,2976.8583333333336],\"type\":\"ohlc\",\"x\":[1632176460,1632176520,1632176580,1632176640,1632176700,1632176760,1632176820,1632176880,1632176940,1632177000,1632177060,1632177120,1632177180,1632177240,1632177300,1632177360,1632177420,1632177480,1632177540,1632177600,1632177660,1632177720,1632177780,1632177840,1632177900,1632177960,1632178020,1632178080,1632178140,1632178200,1632178260,1632178320,1632178380,1632178440,1632178500,1632178560,1632178620,1632178680,1632178740,1632178800,1632178860,1632178920,1632178980,1632179040,1632179100,1632179160,1632179220,1632179280,1632179340,1632179400,1632179460,1632179520,1632179580,1632179640,1632179700,1632179760,1632179820,1632179880,1632179940,1632180000,1632180060,1632180120,1632180180,1632180240,1632180300,1632180360,1632180420,1632180480,1632180540,1632180600,1632180660,1632180720,1632180780,1632180840,1632180900,1632180960,1632181020,1632181080,1632181140,1632181200,1632181260,1632181320,1632181380,1632181440,1632181500,1632181560,1632181620,1632181680,1632181740,1632181800,1632181860,1632181920,1632181980,1632182040,1632182100,1632182160,1632182220,1632182280,1632182340,1632182400]}],                        {\"template\":{\"data\":{\"bar\":[{\"error_x\":{\"color\":\"#2a3f5f\"},\"error_y\":{\"color\":\"#2a3f5f\"},\"marker\":{\"line\":{\"color\":\"#E5ECF6\",\"width\":0.5},\"pattern\":{\"fillmode\":\"overlay\",\"size\":10,\"solidity\":0.2}},\"type\":\"bar\"}],\"barpolar\":[{\"marker\":{\"line\":{\"color\":\"#E5ECF6\",\"width\":0.5},\"pattern\":{\"fillmode\":\"overlay\",\"size\":10,\"solidity\":0.2}},\"type\":\"barpolar\"}],\"carpet\":[{\"aaxis\":{\"endlinecolor\":\"#2a3f5f\",\"gridcolor\":\"white\",\"linecolor\":\"white\",\"minorgridcolor\":\"white\",\"startlinecolor\":\"#2a3f5f\"},\"baxis\":{\"endlinecolor\":\"#2a3f5f\",\"gridcolor\":\"white\",\"linecolor\":\"white\",\"minorgridcolor\":\"white\",\"startlinecolor\":\"#2a3f5f\"},\"type\":\"carpet\"}],\"choropleth\":[{\"colorbar\":{\"outlinewidth\":0,\"ticks\":\"\"},\"type\":\"choropleth\"}],\"contour\":[{\"colorbar\":{\"outlinewidth\":0,\"ticks\":\"\"},\"colorscale\":[[0.0,\"#0d0887\"],[0.1111111111111111,\"#46039f\"],[0.2222222222222222,\"#7201a8\"],[0.3333333333333333,\"#9c179e\"],[0.4444444444444444,\"#bd3786\"],[0.5555555555555556,\"#d8576b\"],[0.6666666666666666,\"#ed7953\"],[0.7777777777777778,\"#fb9f3a\"],[0.8888888888888888,\"#fdca26\"],[1.0,\"#f0f921\"]],\"type\":\"contour\"}],\"contourcarpet\":[{\"colorbar\":{\"outlinewidth\":0,\"ticks\":\"\"},\"type\":\"contourcarpet\"}],\"heatmap\":[{\"colorbar\":{\"outlinewidth\":0,\"ticks\":\"\"},\"colorscale\":[[0.0,\"#0d0887\"],[0.1111111111111111,\"#46039f\"],[0.2222222222222222,\"#7201a8\"],[0.3333333333333333,\"#9c179e\"],[0.4444444444444444,\"#bd3786\"],[0.5555555555555556,\"#d8576b\"],[0.6666666666666666,\"#ed7953\"],[0.7777777777777778,\"#fb9f3a\"],[0.8888888888888888,\"#fdca26\"],[1.0,\"#f0f921\"]],\"type\":\"heatmap\"}],\"heatmapgl\":[{\"colorbar\":{\"outlinewidth\":0,\"ticks\":\"\"},\"colorscale\":[[0.0,\"#0d0887\"],[0.1111111111111111,\"#46039f\"],[0.2222222222222222,\"#7201a8\"],[0.3333333333333333,\"#9c179e\"],[0.4444444444444444,\"#bd3786\"],[0.5555555555555556,\"#d8576b\"],[0.6666666666666666,\"#ed7953\"],[0.7777777777777778,\"#fb9f3a\"],[0.8888888888888888,\"#fdca26\"],[1.0,\"#f0f921\"]],\"type\":\"heatmapgl\"}],\"histogram\":[{\"marker\":{\"pattern\":{\"fillmode\":\"overlay\",\"size\":10,\"solidity\":0.2}},\"type\":\"histogram\"}],\"histogram2d\":[{\"colorbar\":{\"outlinewidth\":0,\"ticks\":\"\"},\"colorscale\":[[0.0,\"#0d0887\"],[0.1111111111111111,\"#46039f\"],[0.2222222222222222,\"#7201a8\"],[0.3333333333333333,\"#9c179e\"],[0.4444444444444444,\"#bd3786\"],[0.5555555555555556,\"#d8576b\"],[0.6666666666666666,\"#ed7953\"],[0.7777777777777778,\"#fb9f3a\"],[0.8888888888888888,\"#fdca26\"],[1.0,\"#f0f921\"]],\"type\":\"histogram2d\"}],\"histogram2dcontour\":[{\"colorbar\":{\"outlinewidth\":0,\"ticks\":\"\"},\"colorscale\":[[0.0,\"#0d0887\"],[0.1111111111111111,\"#46039f\"],[0.2222222222222222,\"#7201a8\"],[0.3333333333333333,\"#9c179e\"],[0.4444444444444444,\"#bd3786\"],[0.5555555555555556,\"#d8576b\"],[0.6666666666666666,\"#ed7953\"],[0.7777777777777778,\"#fb9f3a\"],[0.8888888888888888,\"#fdca26\"],[1.0,\"#f0f921\"]],\"type\":\"histogram2dcontour\"}],\"mesh3d\":[{\"colorbar\":{\"outlinewidth\":0,\"ticks\":\"\"},\"type\":\"mesh3d\"}],\"parcoords\":[{\"line\":{\"colorbar\":{\"outlinewidth\":0,\"ticks\":\"\"}},\"type\":\"parcoords\"}],\"pie\":[{\"automargin\":true,\"type\":\"pie\"}],\"scatter\":[{\"marker\":{\"colorbar\":{\"outlinewidth\":0,\"ticks\":\"\"}},\"type\":\"scatter\"}],\"scatter3d\":[{\"line\":{\"colorbar\":{\"outlinewidth\":0,\"ticks\":\"\"}},\"marker\":{\"colorbar\":{\"outlinewidth\":0,\"ticks\":\"\"}},\"type\":\"scatter3d\"}],\"scattercarpet\":[{\"marker\":{\"colorbar\":{\"outlinewidth\":0,\"ticks\":\"\"}},\"type\":\"scattercarpet\"}],\"scattergeo\":[{\"marker\":{\"colorbar\":{\"outlinewidth\":0,\"ticks\":\"\"}},\"type\":\"scattergeo\"}],\"scattergl\":[{\"marker\":{\"colorbar\":{\"outlinewidth\":0,\"ticks\":\"\"}},\"type\":\"scattergl\"}],\"scattermapbox\":[{\"marker\":{\"colorbar\":{\"outlinewidth\":0,\"ticks\":\"\"}},\"type\":\"scattermapbox\"}],\"scatterpolar\":[{\"marker\":{\"colorbar\":{\"outlinewidth\":0,\"ticks\":\"\"}},\"type\":\"scatterpolar\"}],\"scatterpolargl\":[{\"marker\":{\"colorbar\":{\"outlinewidth\":0,\"ticks\":\"\"}},\"type\":\"scatterpolargl\"}],\"scatterternary\":[{\"marker\":{\"colorbar\":{\"outlinewidth\":0,\"ticks\":\"\"}},\"type\":\"scatterternary\"}],\"surface\":[{\"colorbar\":{\"outlinewidth\":0,\"ticks\":\"\"},\"colorscale\":[[0.0,\"#0d0887\"],[0.1111111111111111,\"#46039f\"],[0.2222222222222222,\"#7201a8\"],[0.3333333333333333,\"#9c179e\"],[0.4444444444444444,\"#bd3786\"],[0.5555555555555556,\"#d8576b\"],[0.6666666666666666,\"#ed7953\"],[0.7777777777777778,\"#fb9f3a\"],[0.8888888888888888,\"#fdca26\"],[1.0,\"#f0f921\"]],\"type\":\"surface\"}],\"table\":[{\"cells\":{\"fill\":{\"color\":\"#EBF0F8\"},\"line\":{\"color\":\"white\"}},\"header\":{\"fill\":{\"color\":\"#C8D4E3\"},\"line\":{\"color\":\"white\"}},\"type\":\"table\"}]},\"layout\":{\"annotationdefaults\":{\"arrowcolor\":\"#2a3f5f\",\"arrowhead\":0,\"arrowwidth\":1},\"autotypenumbers\":\"strict\",\"coloraxis\":{\"colorbar\":{\"outlinewidth\":0,\"ticks\":\"\"}},\"colorscale\":{\"diverging\":[[0,\"#8e0152\"],[0.1,\"#c51b7d\"],[0.2,\"#de77ae\"],[0.3,\"#f1b6da\"],[0.4,\"#fde0ef\"],[0.5,\"#f7f7f7\"],[0.6,\"#e6f5d0\"],[0.7,\"#b8e186\"],[0.8,\"#7fbc41\"],[0.9,\"#4d9221\"],[1,\"#276419\"]],\"sequential\":[[0.0,\"#0d0887\"],[0.1111111111111111,\"#46039f\"],[0.2222222222222222,\"#7201a8\"],[0.3333333333333333,\"#9c179e\"],[0.4444444444444444,\"#bd3786\"],[0.5555555555555556,\"#d8576b\"],[0.6666666666666666,\"#ed7953\"],[0.7777777777777778,\"#fb9f3a\"],[0.8888888888888888,\"#fdca26\"],[1.0,\"#f0f921\"]],\"sequentialminus\":[[0.0,\"#0d0887\"],[0.1111111111111111,\"#46039f\"],[0.2222222222222222,\"#7201a8\"],[0.3333333333333333,\"#9c179e\"],[0.4444444444444444,\"#bd3786\"],[0.5555555555555556,\"#d8576b\"],[0.6666666666666666,\"#ed7953\"],[0.7777777777777778,\"#fb9f3a\"],[0.8888888888888888,\"#fdca26\"],[1.0,\"#f0f921\"]]},\"colorway\":[\"#636efa\",\"#EF553B\",\"#00cc96\",\"#ab63fa\",\"#FFA15A\",\"#19d3f3\",\"#FF6692\",\"#B6E880\",\"#FF97FF\",\"#FECB52\"],\"font\":{\"color\":\"#2a3f5f\"},\"geo\":{\"bgcolor\":\"white\",\"lakecolor\":\"white\",\"landcolor\":\"#E5ECF6\",\"showlakes\":true,\"showland\":true,\"subunitcolor\":\"white\"},\"hoverlabel\":{\"align\":\"left\"},\"hovermode\":\"closest\",\"mapbox\":{\"style\":\"light\"},\"paper_bgcolor\":\"white\",\"plot_bgcolor\":\"#E5ECF6\",\"polar\":{\"angularaxis\":{\"gridcolor\":\"white\",\"linecolor\":\"white\",\"ticks\":\"\"},\"bgcolor\":\"#E5ECF6\",\"radialaxis\":{\"gridcolor\":\"white\",\"linecolor\":\"white\",\"ticks\":\"\"}},\"scene\":{\"xaxis\":{\"backgroundcolor\":\"#E5ECF6\",\"gridcolor\":\"white\",\"gridwidth\":2,\"linecolor\":\"white\",\"showbackground\":true,\"ticks\":\"\",\"zerolinecolor\":\"white\"},\"yaxis\":{\"backgroundcolor\":\"#E5ECF6\",\"gridcolor\":\"white\",\"gridwidth\":2,\"linecolor\":\"white\",\"showbackground\":true,\"ticks\":\"\",\"zerolinecolor\":\"white\"},\"zaxis\":{\"backgroundcolor\":\"#E5ECF6\",\"gridcolor\":\"white\",\"gridwidth\":2,\"linecolor\":\"white\",\"showbackground\":true,\"ticks\":\"\",\"zerolinecolor\":\"white\"}},\"shapedefaults\":{\"line\":{\"color\":\"#2a3f5f\"}},\"ternary\":{\"aaxis\":{\"gridcolor\":\"white\",\"linecolor\":\"white\",\"ticks\":\"\"},\"baxis\":{\"gridcolor\":\"white\",\"linecolor\":\"white\",\"ticks\":\"\"},\"bgcolor\":\"#E5ECF6\",\"caxis\":{\"gridcolor\":\"white\",\"linecolor\":\"white\",\"ticks\":\"\"}},\"title\":{\"x\":0.05},\"xaxis\":{\"automargin\":true,\"gridcolor\":\"white\",\"linecolor\":\"white\",\"ticks\":\"\",\"title\":{\"standoff\":15},\"zerolinecolor\":\"white\",\"zerolinewidth\":2},\"yaxis\":{\"automargin\":true,\"gridcolor\":\"white\",\"linecolor\":\"white\",\"ticks\":\"\",\"title\":{\"standoff\":15},\"zerolinecolor\":\"white\",\"zerolinewidth\":2}}},\"title\":{\"text\":\"Ethereum(ETH) OHLC Chart\",\"x\":0.5,\"xanchor\":\"center\",\"y\":0.9,\"yanchor\":\"top\"},\"xaxis\":{\"rangeslider\":{\"visible\":true},\"title\":{\"text\":\"Minutes\"}},\"yaxis\":{\"ticksuffix\":\"$\",\"title\":{\"text\":\"Price in USD\"}}},                        {\"responsive\": true}                    ).then(function(){\n",
       "                            \n",
       "var gd = document.getElementById('f2d4f522-e01d-4364-b732-420619094f53');\n",
       "var x = new MutationObserver(function (mutations, observer) {{\n",
       "        var display = window.getComputedStyle(gd).display;\n",
       "        if (!display || display === 'none') {{\n",
       "            console.log([gd, 'removed!']);\n",
       "            Plotly.purge(gd);\n",
       "            observer.disconnect();\n",
       "        }}\n",
       "}});\n",
       "\n",
       "// Listen for the removal of the full notebook cells\n",
       "var notebookContainer = gd.closest('#notebook-container');\n",
       "if (notebookContainer) {{\n",
       "    x.observe(notebookContainer, {childList: true});\n",
       "}}\n",
       "\n",
       "// Listen for the clearing of the current output cell\n",
       "var outputEl = gd.closest('.output');\n",
       "if (outputEl) {{\n",
       "    x.observe(outputEl, {childList: true});\n",
       "}}\n",
       "\n",
       "                        })                };                });            </script>        </div>"
      ]
     },
     "metadata": {},
     "output_type": "display_data"
    }
   ],
   "source": [
    "ohlc_chart(eth[-100:], title = \"Ethereum(ETH)\")"
   ]
  },
  {
   "cell_type": "markdown",
   "id": "daed53ec",
   "metadata": {
    "papermill": {
     "duration": 0.028846,
     "end_time": "2021-11-02T21:41:34.059078",
     "exception": false,
     "start_time": "2021-11-02T21:41:34.030232",
     "status": "completed"
    },
    "tags": []
   },
   "source": [
    "# <center>AREA PLOTS</center> "
   ]
  },
  {
   "cell_type": "code",
   "execution_count": 14,
   "id": "f67b47d3",
   "metadata": {
    "_kg_hide-input": true,
    "execution": {
     "iopub.execute_input": "2021-11-02T21:41:34.124597Z",
     "iopub.status.busy": "2021-11-02T21:41:34.123884Z",
     "iopub.status.idle": "2021-11-02T21:41:34.127400Z",
     "shell.execute_reply": "2021-11-02T21:41:34.126711Z",
     "shell.execute_reply.started": "2021-11-02T21:39:31.597920Z"
    },
    "papermill": {
     "duration": 0.039279,
     "end_time": "2021-11-02T21:41:34.127558",
     "exception": false,
     "start_time": "2021-11-02T21:41:34.088279",
     "status": "completed"
    },
    "tags": []
   },
   "outputs": [],
   "source": [
    "def vol_traded(data ,title,color):\n",
    "    area = px.area(data_frame=data,\n",
    "               x = data.index ,\n",
    "               y = \"Volume\",\n",
    "               markers = True)\n",
    "    area.update_traces(line_color=color)\n",
    "    area.update_xaxes(\n",
    "        title_text = 'Minutes',\n",
    "        rangeslider_visible = True)\n",
    "    area.update_yaxes(title_text = 'Volume in USD' , ticksuffix = '$')\n",
    "    area.update_layout(showlegend = True,\n",
    "        title = {\n",
    "            'text': '{:} Volume Traded'.format(title),\n",
    "            'y':0.94,\n",
    "            'x':0.5,\n",
    "            'xanchor': 'center',\n",
    "            'yanchor': 'top'})\n",
    "    return area"
   ]
  },
  {
   "cell_type": "markdown",
   "id": "9ed84ec7",
   "metadata": {
    "papermill": {
     "duration": 0.029151,
     "end_time": "2021-11-02T21:41:34.185174",
     "exception": false,
     "start_time": "2021-11-02T21:41:34.156023",
     "status": "completed"
    },
    "tags": []
   },
   "source": [
    "### Ethereum(ETH) Volume Traded for last 50 rows"
   ]
  },
  {
   "cell_type": "code",
   "execution_count": 15,
   "id": "8096404a",
   "metadata": {
    "_kg_hide-input": true,
    "execution": {
     "iopub.execute_input": "2021-11-02T21:41:34.247622Z",
     "iopub.status.busy": "2021-11-02T21:41:34.246912Z",
     "iopub.status.idle": "2021-11-02T21:41:34.337273Z",
     "shell.execute_reply": "2021-11-02T21:41:34.337809Z",
     "shell.execute_reply.started": "2021-11-02T21:39:32.058708Z"
    },
    "papermill": {
     "duration": 0.124501,
     "end_time": "2021-11-02T21:41:34.337990",
     "exception": false,
     "start_time": "2021-11-02T21:41:34.213489",
     "status": "completed"
    },
    "tags": []
   },
   "outputs": [
    {
     "data": {
      "text/html": [
       "<div>                            <div id=\"d0505b54-0b72-4ec0-8083-ffd4a3864f10\" class=\"plotly-graph-div\" style=\"height:525px; width:100%;\"></div>            <script type=\"text/javascript\">                require([\"plotly\"], function(Plotly) {                    window.PLOTLYENV=window.PLOTLYENV || {};                                    if (document.getElementById(\"d0505b54-0b72-4ec0-8083-ffd4a3864f10\")) {                    Plotly.newPlot(                        \"d0505b54-0b72-4ec0-8083-ffd4a3864f10\",                        [{\"hovertemplate\":\"timestamp=%{x}<br>Volume=%{y}<extra></extra>\",\"legendgroup\":\"\",\"line\":{\"color\":\"Red\"},\"marker\":{\"symbol\":\"circle\"},\"mode\":\"markers+lines\",\"name\":\"\",\"orientation\":\"v\",\"showlegend\":false,\"stackgroup\":\"1\",\"type\":\"scatter\",\"x\":[1632179460,1632179520,1632179580,1632179640,1632179700,1632179760,1632179820,1632179880,1632179940,1632180000,1632180060,1632180120,1632180180,1632180240,1632180300,1632180360,1632180420,1632180480,1632180540,1632180600,1632180660,1632180720,1632180780,1632180840,1632180900,1632180960,1632181020,1632181080,1632181140,1632181200,1632181260,1632181320,1632181380,1632181440,1632181500,1632181560,1632181620,1632181680,1632181740,1632181800,1632181860,1632181920,1632181980,1632182040,1632182100,1632182160,1632182220,1632182280,1632182340,1632182400],\"xaxis\":\"x\",\"y\":[2272.5596013462678,2332.067304385693,1640.8717429189646,2089.034180303053,1502.8608435270994,1298.3827784208695,1447.6415681258004,953.7171458342292,814.0497187953184,742.5661065713181,1750.855043047854,1686.412036820315,3309.7972289180816,1694.160476310738,2400.2065711950995,1883.5628854540728,1641.910235712105,1689.1885418156312,1253.8069793978582,3042.072736878426,1743.072589310844,2633.631954149645,3032.5371312279995,2290.231610009412,1967.1290651830163,1452.6837534896786,870.599076894354,957.0700367990624,1021.91352796225,717.6168631949298,776.638910924822,976.7249949179726,674.08797346884,738.2909066057988,1039.8198020759785,988.4953831303563,543.6374166495217,616.7354694331458,1157.4381957022854,1909.66606562536,1214.4500278385106,897.9108758963063,627.4366279555973,652.4299451623929,847.132620073185,751.2569064168766,729.1136723663451,807.9353619467278,1723.4739793871258,1204.8257101701554],\"yaxis\":\"y\"}],                        {\"legend\":{\"tracegroupgap\":0},\"margin\":{\"t\":60},\"showlegend\":true,\"template\":{\"data\":{\"bar\":[{\"error_x\":{\"color\":\"#2a3f5f\"},\"error_y\":{\"color\":\"#2a3f5f\"},\"marker\":{\"line\":{\"color\":\"#E5ECF6\",\"width\":0.5},\"pattern\":{\"fillmode\":\"overlay\",\"size\":10,\"solidity\":0.2}},\"type\":\"bar\"}],\"barpolar\":[{\"marker\":{\"line\":{\"color\":\"#E5ECF6\",\"width\":0.5},\"pattern\":{\"fillmode\":\"overlay\",\"size\":10,\"solidity\":0.2}},\"type\":\"barpolar\"}],\"carpet\":[{\"aaxis\":{\"endlinecolor\":\"#2a3f5f\",\"gridcolor\":\"white\",\"linecolor\":\"white\",\"minorgridcolor\":\"white\",\"startlinecolor\":\"#2a3f5f\"},\"baxis\":{\"endlinecolor\":\"#2a3f5f\",\"gridcolor\":\"white\",\"linecolor\":\"white\",\"minorgridcolor\":\"white\",\"startlinecolor\":\"#2a3f5f\"},\"type\":\"carpet\"}],\"choropleth\":[{\"colorbar\":{\"outlinewidth\":0,\"ticks\":\"\"},\"type\":\"choropleth\"}],\"contour\":[{\"colorbar\":{\"outlinewidth\":0,\"ticks\":\"\"},\"colorscale\":[[0.0,\"#0d0887\"],[0.1111111111111111,\"#46039f\"],[0.2222222222222222,\"#7201a8\"],[0.3333333333333333,\"#9c179e\"],[0.4444444444444444,\"#bd3786\"],[0.5555555555555556,\"#d8576b\"],[0.6666666666666666,\"#ed7953\"],[0.7777777777777778,\"#fb9f3a\"],[0.8888888888888888,\"#fdca26\"],[1.0,\"#f0f921\"]],\"type\":\"contour\"}],\"contourcarpet\":[{\"colorbar\":{\"outlinewidth\":0,\"ticks\":\"\"},\"type\":\"contourcarpet\"}],\"heatmap\":[{\"colorbar\":{\"outlinewidth\":0,\"ticks\":\"\"},\"colorscale\":[[0.0,\"#0d0887\"],[0.1111111111111111,\"#46039f\"],[0.2222222222222222,\"#7201a8\"],[0.3333333333333333,\"#9c179e\"],[0.4444444444444444,\"#bd3786\"],[0.5555555555555556,\"#d8576b\"],[0.6666666666666666,\"#ed7953\"],[0.7777777777777778,\"#fb9f3a\"],[0.8888888888888888,\"#fdca26\"],[1.0,\"#f0f921\"]],\"type\":\"heatmap\"}],\"heatmapgl\":[{\"colorbar\":{\"outlinewidth\":0,\"ticks\":\"\"},\"colorscale\":[[0.0,\"#0d0887\"],[0.1111111111111111,\"#46039f\"],[0.2222222222222222,\"#7201a8\"],[0.3333333333333333,\"#9c179e\"],[0.4444444444444444,\"#bd3786\"],[0.5555555555555556,\"#d8576b\"],[0.6666666666666666,\"#ed7953\"],[0.7777777777777778,\"#fb9f3a\"],[0.8888888888888888,\"#fdca26\"],[1.0,\"#f0f921\"]],\"type\":\"heatmapgl\"}],\"histogram\":[{\"marker\":{\"pattern\":{\"fillmode\":\"overlay\",\"size\":10,\"solidity\":0.2}},\"type\":\"histogram\"}],\"histogram2d\":[{\"colorbar\":{\"outlinewidth\":0,\"ticks\":\"\"},\"colorscale\":[[0.0,\"#0d0887\"],[0.1111111111111111,\"#46039f\"],[0.2222222222222222,\"#7201a8\"],[0.3333333333333333,\"#9c179e\"],[0.4444444444444444,\"#bd3786\"],[0.5555555555555556,\"#d8576b\"],[0.6666666666666666,\"#ed7953\"],[0.7777777777777778,\"#fb9f3a\"],[0.8888888888888888,\"#fdca26\"],[1.0,\"#f0f921\"]],\"type\":\"histogram2d\"}],\"histogram2dcontour\":[{\"colorbar\":{\"outlinewidth\":0,\"ticks\":\"\"},\"colorscale\":[[0.0,\"#0d0887\"],[0.1111111111111111,\"#46039f\"],[0.2222222222222222,\"#7201a8\"],[0.3333333333333333,\"#9c179e\"],[0.4444444444444444,\"#bd3786\"],[0.5555555555555556,\"#d8576b\"],[0.6666666666666666,\"#ed7953\"],[0.7777777777777778,\"#fb9f3a\"],[0.8888888888888888,\"#fdca26\"],[1.0,\"#f0f921\"]],\"type\":\"histogram2dcontour\"}],\"mesh3d\":[{\"colorbar\":{\"outlinewidth\":0,\"ticks\":\"\"},\"type\":\"mesh3d\"}],\"parcoords\":[{\"line\":{\"colorbar\":{\"outlinewidth\":0,\"ticks\":\"\"}},\"type\":\"parcoords\"}],\"pie\":[{\"automargin\":true,\"type\":\"pie\"}],\"scatter\":[{\"marker\":{\"colorbar\":{\"outlinewidth\":0,\"ticks\":\"\"}},\"type\":\"scatter\"}],\"scatter3d\":[{\"line\":{\"colorbar\":{\"outlinewidth\":0,\"ticks\":\"\"}},\"marker\":{\"colorbar\":{\"outlinewidth\":0,\"ticks\":\"\"}},\"type\":\"scatter3d\"}],\"scattercarpet\":[{\"marker\":{\"colorbar\":{\"outlinewidth\":0,\"ticks\":\"\"}},\"type\":\"scattercarpet\"}],\"scattergeo\":[{\"marker\":{\"colorbar\":{\"outlinewidth\":0,\"ticks\":\"\"}},\"type\":\"scattergeo\"}],\"scattergl\":[{\"marker\":{\"colorbar\":{\"outlinewidth\":0,\"ticks\":\"\"}},\"type\":\"scattergl\"}],\"scattermapbox\":[{\"marker\":{\"colorbar\":{\"outlinewidth\":0,\"ticks\":\"\"}},\"type\":\"scattermapbox\"}],\"scatterpolar\":[{\"marker\":{\"colorbar\":{\"outlinewidth\":0,\"ticks\":\"\"}},\"type\":\"scatterpolar\"}],\"scatterpolargl\":[{\"marker\":{\"colorbar\":{\"outlinewidth\":0,\"ticks\":\"\"}},\"type\":\"scatterpolargl\"}],\"scatterternary\":[{\"marker\":{\"colorbar\":{\"outlinewidth\":0,\"ticks\":\"\"}},\"type\":\"scatterternary\"}],\"surface\":[{\"colorbar\":{\"outlinewidth\":0,\"ticks\":\"\"},\"colorscale\":[[0.0,\"#0d0887\"],[0.1111111111111111,\"#46039f\"],[0.2222222222222222,\"#7201a8\"],[0.3333333333333333,\"#9c179e\"],[0.4444444444444444,\"#bd3786\"],[0.5555555555555556,\"#d8576b\"],[0.6666666666666666,\"#ed7953\"],[0.7777777777777778,\"#fb9f3a\"],[0.8888888888888888,\"#fdca26\"],[1.0,\"#f0f921\"]],\"type\":\"surface\"}],\"table\":[{\"cells\":{\"fill\":{\"color\":\"#EBF0F8\"},\"line\":{\"color\":\"white\"}},\"header\":{\"fill\":{\"color\":\"#C8D4E3\"},\"line\":{\"color\":\"white\"}},\"type\":\"table\"}]},\"layout\":{\"annotationdefaults\":{\"arrowcolor\":\"#2a3f5f\",\"arrowhead\":0,\"arrowwidth\":1},\"autotypenumbers\":\"strict\",\"coloraxis\":{\"colorbar\":{\"outlinewidth\":0,\"ticks\":\"\"}},\"colorscale\":{\"diverging\":[[0,\"#8e0152\"],[0.1,\"#c51b7d\"],[0.2,\"#de77ae\"],[0.3,\"#f1b6da\"],[0.4,\"#fde0ef\"],[0.5,\"#f7f7f7\"],[0.6,\"#e6f5d0\"],[0.7,\"#b8e186\"],[0.8,\"#7fbc41\"],[0.9,\"#4d9221\"],[1,\"#276419\"]],\"sequential\":[[0.0,\"#0d0887\"],[0.1111111111111111,\"#46039f\"],[0.2222222222222222,\"#7201a8\"],[0.3333333333333333,\"#9c179e\"],[0.4444444444444444,\"#bd3786\"],[0.5555555555555556,\"#d8576b\"],[0.6666666666666666,\"#ed7953\"],[0.7777777777777778,\"#fb9f3a\"],[0.8888888888888888,\"#fdca26\"],[1.0,\"#f0f921\"]],\"sequentialminus\":[[0.0,\"#0d0887\"],[0.1111111111111111,\"#46039f\"],[0.2222222222222222,\"#7201a8\"],[0.3333333333333333,\"#9c179e\"],[0.4444444444444444,\"#bd3786\"],[0.5555555555555556,\"#d8576b\"],[0.6666666666666666,\"#ed7953\"],[0.7777777777777778,\"#fb9f3a\"],[0.8888888888888888,\"#fdca26\"],[1.0,\"#f0f921\"]]},\"colorway\":[\"#636efa\",\"#EF553B\",\"#00cc96\",\"#ab63fa\",\"#FFA15A\",\"#19d3f3\",\"#FF6692\",\"#B6E880\",\"#FF97FF\",\"#FECB52\"],\"font\":{\"color\":\"#2a3f5f\"},\"geo\":{\"bgcolor\":\"white\",\"lakecolor\":\"white\",\"landcolor\":\"#E5ECF6\",\"showlakes\":true,\"showland\":true,\"subunitcolor\":\"white\"},\"hoverlabel\":{\"align\":\"left\"},\"hovermode\":\"closest\",\"mapbox\":{\"style\":\"light\"},\"paper_bgcolor\":\"white\",\"plot_bgcolor\":\"#E5ECF6\",\"polar\":{\"angularaxis\":{\"gridcolor\":\"white\",\"linecolor\":\"white\",\"ticks\":\"\"},\"bgcolor\":\"#E5ECF6\",\"radialaxis\":{\"gridcolor\":\"white\",\"linecolor\":\"white\",\"ticks\":\"\"}},\"scene\":{\"xaxis\":{\"backgroundcolor\":\"#E5ECF6\",\"gridcolor\":\"white\",\"gridwidth\":2,\"linecolor\":\"white\",\"showbackground\":true,\"ticks\":\"\",\"zerolinecolor\":\"white\"},\"yaxis\":{\"backgroundcolor\":\"#E5ECF6\",\"gridcolor\":\"white\",\"gridwidth\":2,\"linecolor\":\"white\",\"showbackground\":true,\"ticks\":\"\",\"zerolinecolor\":\"white\"},\"zaxis\":{\"backgroundcolor\":\"#E5ECF6\",\"gridcolor\":\"white\",\"gridwidth\":2,\"linecolor\":\"white\",\"showbackground\":true,\"ticks\":\"\",\"zerolinecolor\":\"white\"}},\"shapedefaults\":{\"line\":{\"color\":\"#2a3f5f\"}},\"ternary\":{\"aaxis\":{\"gridcolor\":\"white\",\"linecolor\":\"white\",\"ticks\":\"\"},\"baxis\":{\"gridcolor\":\"white\",\"linecolor\":\"white\",\"ticks\":\"\"},\"bgcolor\":\"#E5ECF6\",\"caxis\":{\"gridcolor\":\"white\",\"linecolor\":\"white\",\"ticks\":\"\"}},\"title\":{\"x\":0.05},\"xaxis\":{\"automargin\":true,\"gridcolor\":\"white\",\"linecolor\":\"white\",\"ticks\":\"\",\"title\":{\"standoff\":15},\"zerolinecolor\":\"white\",\"zerolinewidth\":2},\"yaxis\":{\"automargin\":true,\"gridcolor\":\"white\",\"linecolor\":\"white\",\"ticks\":\"\",\"title\":{\"standoff\":15},\"zerolinecolor\":\"white\",\"zerolinewidth\":2}}},\"title\":{\"text\":\"Ethereum (ETH) Volume Traded\",\"x\":0.5,\"xanchor\":\"center\",\"y\":0.94,\"yanchor\":\"top\"},\"xaxis\":{\"anchor\":\"y\",\"domain\":[0.0,1.0],\"rangeslider\":{\"visible\":true},\"title\":{\"text\":\"Minutes\"}},\"yaxis\":{\"anchor\":\"x\",\"domain\":[0.0,1.0],\"ticksuffix\":\"$\",\"title\":{\"text\":\"Volume in USD\"}}},                        {\"responsive\": true}                    ).then(function(){\n",
       "                            \n",
       "var gd = document.getElementById('d0505b54-0b72-4ec0-8083-ffd4a3864f10');\n",
       "var x = new MutationObserver(function (mutations, observer) {{\n",
       "        var display = window.getComputedStyle(gd).display;\n",
       "        if (!display || display === 'none') {{\n",
       "            console.log([gd, 'removed!']);\n",
       "            Plotly.purge(gd);\n",
       "            observer.disconnect();\n",
       "        }}\n",
       "}});\n",
       "\n",
       "// Listen for the removal of the full notebook cells\n",
       "var notebookContainer = gd.closest('#notebook-container');\n",
       "if (notebookContainer) {{\n",
       "    x.observe(notebookContainer, {childList: true});\n",
       "}}\n",
       "\n",
       "// Listen for the clearing of the current output cell\n",
       "var outputEl = gd.closest('.output');\n",
       "if (outputEl) {{\n",
       "    x.observe(outputEl, {childList: true});\n",
       "}}\n",
       "\n",
       "                        })                };                });            </script>        </div>"
      ]
     },
     "metadata": {},
     "output_type": "display_data"
    }
   ],
   "source": [
    "vol_traded(eth[-50:], \"Ethereum (ETH)\",color = \"Red\")"
   ]
  },
  {
   "cell_type": "markdown",
   "id": "7759a117",
   "metadata": {
    "papermill": {
     "duration": 0.028642,
     "end_time": "2021-11-02T21:41:34.395999",
     "exception": false,
     "start_time": "2021-11-02T21:41:34.367357",
     "status": "completed"
    },
    "tags": []
   },
   "source": [
    "### Litecoin(LTC) Volume Traded for last 300 rows"
   ]
  },
  {
   "cell_type": "code",
   "execution_count": 16,
   "id": "1321a350",
   "metadata": {
    "_kg_hide-input": true,
    "execution": {
     "iopub.execute_input": "2021-11-02T21:41:34.461247Z",
     "iopub.status.busy": "2021-11-02T21:41:34.460446Z",
     "iopub.status.idle": "2021-11-02T21:41:34.533193Z",
     "shell.execute_reply": "2021-11-02T21:41:34.532537Z",
     "shell.execute_reply.started": "2021-11-02T21:39:37.757820Z"
    },
    "papermill": {
     "duration": 0.10819,
     "end_time": "2021-11-02T21:41:34.533336",
     "exception": false,
     "start_time": "2021-11-02T21:41:34.425146",
     "status": "completed"
    },
    "tags": []
   },
   "outputs": [
    {
     "data": {
      "text/html": [
       "<div>                            <div id=\"33afd5ca-b134-4f2c-8ef4-a9ddb991d6bf\" class=\"plotly-graph-div\" style=\"height:525px; width:100%;\"></div>            <script type=\"text/javascript\">                require([\"plotly\"], function(Plotly) {                    window.PLOTLYENV=window.PLOTLYENV || {};                                    if (document.getElementById(\"33afd5ca-b134-4f2c-8ef4-a9ddb991d6bf\")) {                    Plotly.newPlot(                        \"33afd5ca-b134-4f2c-8ef4-a9ddb991d6bf\",                        [{\"hovertemplate\":\"timestamp=%{x}<br>Volume=%{y}<extra></extra>\",\"legendgroup\":\"\",\"line\":{\"color\":\"Blue\"},\"marker\":{\"symbol\":\"circle\"},\"mode\":\"markers+lines\",\"name\":\"\",\"orientation\":\"v\",\"showlegend\":false,\"stackgroup\":\"1\",\"type\":\"scatter\",\"x\":[1632164460,1632164520,1632164580,1632164640,1632164700,1632164760,1632164820,1632164880,1632164940,1632165000,1632165060,1632165120,1632165180,1632165240,1632165300,1632165360,1632165420,1632165480,1632165540,1632165600,1632165660,1632165720,1632165780,1632165840,1632165900,1632165960,1632166020,1632166080,1632166140,1632166200,1632166260,1632166320,1632166380,1632166440,1632166500,1632166560,1632166620,1632166680,1632166740,1632166800,1632166860,1632166920,1632166980,1632167040,1632167100,1632167160,1632167220,1632167280,1632167340,1632167400,1632167460,1632167520,1632167580,1632167640,1632167700,1632167760,1632167820,1632167880,1632167940,1632168000,1632168060,1632168120,1632168180,1632168240,1632168300,1632168360,1632168420,1632168480,1632168540,1632168600,1632168660,1632168720,1632168780,1632168840,1632168900,1632168960,1632169020,1632169080,1632169140,1632169200,1632169260,1632169320,1632169380,1632169440,1632169500,1632169560,1632169620,1632169680,1632169740,1632169800,1632169860,1632169920,1632169980,1632170040,1632170100,1632170160,1632170220,1632170280,1632170340,1632170400,1632170460,1632170520,1632170580,1632170640,1632170700,1632170760,1632170820,1632170880,1632170940,1632171000,1632171060,1632171120,1632171180,1632171240,1632171300,1632171360,1632171420,1632171480,1632171540,1632171600,1632171660,1632171720,1632171780,1632171840,1632171900,1632171960,1632172020,1632172080,1632172140,1632172200,1632172260,1632172320,1632172380,1632172440,1632172500,1632172560,1632172620,1632172680,1632172740,1632172800,1632172860,1632172920,1632172980,1632173040,1632173100,1632173160,1632173220,1632173280,1632173340,1632173400,1632173460,1632173520,1632173580,1632173640,1632173700,1632173760,1632173820,1632173880,1632173940,1632174000,1632174060,1632174120,1632174180,1632174240,1632174300,1632174360,1632174420,1632174480,1632174540,1632174600,1632174660,1632174720,1632174780,1632174840,1632174900,1632174960,1632175020,1632175080,1632175140,1632175200,1632175260,1632175320,1632175380,1632175440,1632175500,1632175560,1632175620,1632175680,1632175740,1632175800,1632175860,1632175920,1632175980,1632176040,1632176100,1632176160,1632176220,1632176280,1632176340,1632176400,1632176460,1632176520,1632176580,1632176640,1632176700,1632176760,1632176820,1632176880,1632176940,1632177000,1632177060,1632177120,1632177180,1632177240,1632177300,1632177360,1632177420,1632177480,1632177540,1632177600,1632177660,1632177720,1632177780,1632177840,1632177900,1632177960,1632178020,1632178080,1632178140,1632178200,1632178260,1632178320,1632178380,1632178440,1632178500,1632178560,1632178620,1632178680,1632178740,1632178800,1632178860,1632178920,1632178980,1632179040,1632179100,1632179160,1632179220,1632179280,1632179340,1632179400,1632179460,1632179520,1632179580,1632179640,1632179700,1632179760,1632179820,1632179880,1632179940,1632180000,1632180060,1632180120,1632180180,1632180240,1632180300,1632180360,1632180420,1632180480,1632180540,1632180600,1632180660,1632180720,1632180780,1632180840,1632180900,1632180960,1632181020,1632181080,1632181140,1632181200,1632181260,1632181320,1632181380,1632181440,1632181500,1632181560,1632181620,1632181680,1632181740,1632181800,1632181860,1632181920,1632181980,1632182040,1632182100,1632182160,1632182220,1632182280,1632182340,1632182400],\"xaxis\":\"x\",\"y\":[4052.941709326272,4830.848883590002,1654.7296217704934,765.6880391499999,707.3284783,2248.6709540698525,2379.6063597972466,1943.89862498,4310.977485884118,2172.2213746237376,2754.071790195232,1427.63467484,2624.771173,2487.6519949592653,2351.757471490001,2894.734738504478,1586.4247568499998,2604.5965140071858,2990.452621878698,5196.317273564462,979.814357743878,7571.954606100003,1525.4667767553922,2532.192437455612,1461.1926027021536,1414.00997625,1057.78023175,1951.36995185,1258.23273537,1680.260496558195,14401.016323975828,3416.452961200001,2168.30903203,4423.86904315,2420.0962944854173,2205.4754968280554,1359.7854194510926,1552.9734590212522,2332.3786572300005,1262.8558423395482,1161.13507920582,1181.8060083307946,4123.740220895988,1818.70015043,6175.041238044853,1199.07314202,2133.66891336,1066.4586062099995,924.5003238328128,3704.462165610001,611.5889624699997,3544.832527339795,7479.458091192613,506.2703991434565,1983.4048182304127,1004.16740652,873.2119988599999,5655.697613137973,1400.5703534300003,3807.627320020001,1424.5546021173243,850.1074857600001,541.7462050685797,447.73709515,780.4187084399333,878.7502158656413,888.9979659100002,287.17503815,528.5857283240115,1295.1776416200005,808.0992799972545,1068.90636424,832.0205058100001,323.6016428000001,591.2917945199998,796.7887849800003,245.40358556,289.7874369500001,508.96811247,485.0398322894519,274.8682618693823,851.6037542199998,1067.20715811,2261.1071922199485,1373.6295037030254,408.68107531999993,855.4805685700002,419.84675725,2010.5565162718424,1366.06866744,167.55306866,673.4068879654784,252.82838431,203.95319724,418.20635437,413.5094462499998,1237.2638930600006,772.4388874999999,1360.66795282,1602.2321253834864,2214.091713255374,879.0126222638295,1332.5155821799997,1456.32175331,782.0490222168622,1399.8958541521124,1857.4827356404303,433.410166776146,1384.999370647291,289.7245021199999,1496.5884058300005,1058.2445402230226,614.77726028,616.9441382800002,574.1200034500001,904.60961967,1039.0152640345957,1039.949318186218,918.0718791401056,1853.153179455055,2176.929686805161,1100.98314866,6497.98782885,1453.2125611800002,1513.1615705333795,2272.13202111,2765.054062991451,1149.4996292699998,552.6830615800002,1222.97170465187,549.6385083000001,794.1421901000001,547.8403093999998,504.72621484952674,230.33728445,4238.807066349998,914.0832790031282,673.9747983960673,262.2267238399999,951.6175440851962,1930.68299227,908.46979843,439.84557462,796.17154906,280.38171641,536.03135621,466.60745688,424.4453038900001,985.4443209400004,209.285009043409,133.3750635590811,265.48557171,433.9560995795859,210.77728964,141.29836517041403,316.143797999586,91.996588739313,64.02804038,103.05761689000002,152.84430736000004,196.7093865500001,574.0209681504248,536.4403834799998,195.04075156000005,450.6527113500002,311.68213256,222.78553781,546.27705123,296.49126708,447.7039464251468,187.0401473,501.9231193,111.08212225,104.26586808,163.08720496000004,550.8731031100001,1093.40385515,1121.7685162599996,219.3084725399999,478.92025024,414.55182766,446.8493829804858,423.9065519947731,422.3650188217404,823.6564776900002,461.9279550300001,598.47822169,156.53756318000003,278.2480661699999,441.4082478692266,423.80653601,690.55923196,441.31266046,4118.9805214100015,657.26578029,719.4923675199999,1856.117379675436,1373.590069636297,598.2758703154292,850.3625731602053,1213.2829126700003,406.55443399,591.2814850200001,319.87234884,149.68700622,376.79148692,554.3015976912325,790.7802091799998,341.53566041,160.26579293739402,250.76142387,2006.258009270001,497.07382341,214.47624262,470.70347936,508.25647258,388.11867308,235.868487171014,270.28665321000005,1475.9480256569072,391.1912069815331,663.7306508138348,447.4805984400001,845.5167962000002,568.3838926473118,893.6548265800002,643.12225891,330.18096445,2134.7364362399994,1557.0210268190854,1350.3911613368246,1927.76645137,1410.595949803166,4776.829367022388,2769.8360381031853,1164.2074492711213,3240.139663603177,992.2874493317552,1088.1755639,2635.830807030751,1155.50912754,1687.2792206392971,1886.1366122365744,2697.2240951500007,3658.3105661,3019.0104621699998,1358.7247728000002,1115.5584623400002,1726.6315918899998,1306.3382953488044,1748.713397407161,1806.4922538810183,1967.983068345973,1579.1184130949994,1904.1229442600727,1516.76271134,1828.15587416,1915.24701182,1135.4283426554396,1017.70155242,2206.593481782365,1230.33482064461,2935.0492714838847,1103.0833335060918,3648.061216733962,2226.605523667997,2227.8574891347607,2926.2283405807552,1155.3637091279395,3476.465434538553,1753.179461936497,1892.7506883936328,1034.066019307396,1269.1249598405866,1225.5570533457656,1560.3760824502797,1132.1070511085409,607.89373449,1545.76747843,854.4437171404545,493.4682804267379,1040.6853043502808,773.24623767,738.196270955454,803.8120211568801,551.6808019741749,637.9903114084367,758.59133937,1079.926893378596,1708.8467284573533,730.9181497634668,1095.453227904951,498.45191413,1115.500348469816,776.80394894,1361.0417371899996,695.3780652900003,1249.62003537,2053.65752904,4663.725420129998],\"yaxis\":\"y\"}],                        {\"legend\":{\"tracegroupgap\":0},\"margin\":{\"t\":60},\"showlegend\":true,\"template\":{\"data\":{\"bar\":[{\"error_x\":{\"color\":\"#2a3f5f\"},\"error_y\":{\"color\":\"#2a3f5f\"},\"marker\":{\"line\":{\"color\":\"#E5ECF6\",\"width\":0.5},\"pattern\":{\"fillmode\":\"overlay\",\"size\":10,\"solidity\":0.2}},\"type\":\"bar\"}],\"barpolar\":[{\"marker\":{\"line\":{\"color\":\"#E5ECF6\",\"width\":0.5},\"pattern\":{\"fillmode\":\"overlay\",\"size\":10,\"solidity\":0.2}},\"type\":\"barpolar\"}],\"carpet\":[{\"aaxis\":{\"endlinecolor\":\"#2a3f5f\",\"gridcolor\":\"white\",\"linecolor\":\"white\",\"minorgridcolor\":\"white\",\"startlinecolor\":\"#2a3f5f\"},\"baxis\":{\"endlinecolor\":\"#2a3f5f\",\"gridcolor\":\"white\",\"linecolor\":\"white\",\"minorgridcolor\":\"white\",\"startlinecolor\":\"#2a3f5f\"},\"type\":\"carpet\"}],\"choropleth\":[{\"colorbar\":{\"outlinewidth\":0,\"ticks\":\"\"},\"type\":\"choropleth\"}],\"contour\":[{\"colorbar\":{\"outlinewidth\":0,\"ticks\":\"\"},\"colorscale\":[[0.0,\"#0d0887\"],[0.1111111111111111,\"#46039f\"],[0.2222222222222222,\"#7201a8\"],[0.3333333333333333,\"#9c179e\"],[0.4444444444444444,\"#bd3786\"],[0.5555555555555556,\"#d8576b\"],[0.6666666666666666,\"#ed7953\"],[0.7777777777777778,\"#fb9f3a\"],[0.8888888888888888,\"#fdca26\"],[1.0,\"#f0f921\"]],\"type\":\"contour\"}],\"contourcarpet\":[{\"colorbar\":{\"outlinewidth\":0,\"ticks\":\"\"},\"type\":\"contourcarpet\"}],\"heatmap\":[{\"colorbar\":{\"outlinewidth\":0,\"ticks\":\"\"},\"colorscale\":[[0.0,\"#0d0887\"],[0.1111111111111111,\"#46039f\"],[0.2222222222222222,\"#7201a8\"],[0.3333333333333333,\"#9c179e\"],[0.4444444444444444,\"#bd3786\"],[0.5555555555555556,\"#d8576b\"],[0.6666666666666666,\"#ed7953\"],[0.7777777777777778,\"#fb9f3a\"],[0.8888888888888888,\"#fdca26\"],[1.0,\"#f0f921\"]],\"type\":\"heatmap\"}],\"heatmapgl\":[{\"colorbar\":{\"outlinewidth\":0,\"ticks\":\"\"},\"colorscale\":[[0.0,\"#0d0887\"],[0.1111111111111111,\"#46039f\"],[0.2222222222222222,\"#7201a8\"],[0.3333333333333333,\"#9c179e\"],[0.4444444444444444,\"#bd3786\"],[0.5555555555555556,\"#d8576b\"],[0.6666666666666666,\"#ed7953\"],[0.7777777777777778,\"#fb9f3a\"],[0.8888888888888888,\"#fdca26\"],[1.0,\"#f0f921\"]],\"type\":\"heatmapgl\"}],\"histogram\":[{\"marker\":{\"pattern\":{\"fillmode\":\"overlay\",\"size\":10,\"solidity\":0.2}},\"type\":\"histogram\"}],\"histogram2d\":[{\"colorbar\":{\"outlinewidth\":0,\"ticks\":\"\"},\"colorscale\":[[0.0,\"#0d0887\"],[0.1111111111111111,\"#46039f\"],[0.2222222222222222,\"#7201a8\"],[0.3333333333333333,\"#9c179e\"],[0.4444444444444444,\"#bd3786\"],[0.5555555555555556,\"#d8576b\"],[0.6666666666666666,\"#ed7953\"],[0.7777777777777778,\"#fb9f3a\"],[0.8888888888888888,\"#fdca26\"],[1.0,\"#f0f921\"]],\"type\":\"histogram2d\"}],\"histogram2dcontour\":[{\"colorbar\":{\"outlinewidth\":0,\"ticks\":\"\"},\"colorscale\":[[0.0,\"#0d0887\"],[0.1111111111111111,\"#46039f\"],[0.2222222222222222,\"#7201a8\"],[0.3333333333333333,\"#9c179e\"],[0.4444444444444444,\"#bd3786\"],[0.5555555555555556,\"#d8576b\"],[0.6666666666666666,\"#ed7953\"],[0.7777777777777778,\"#fb9f3a\"],[0.8888888888888888,\"#fdca26\"],[1.0,\"#f0f921\"]],\"type\":\"histogram2dcontour\"}],\"mesh3d\":[{\"colorbar\":{\"outlinewidth\":0,\"ticks\":\"\"},\"type\":\"mesh3d\"}],\"parcoords\":[{\"line\":{\"colorbar\":{\"outlinewidth\":0,\"ticks\":\"\"}},\"type\":\"parcoords\"}],\"pie\":[{\"automargin\":true,\"type\":\"pie\"}],\"scatter\":[{\"marker\":{\"colorbar\":{\"outlinewidth\":0,\"ticks\":\"\"}},\"type\":\"scatter\"}],\"scatter3d\":[{\"line\":{\"colorbar\":{\"outlinewidth\":0,\"ticks\":\"\"}},\"marker\":{\"colorbar\":{\"outlinewidth\":0,\"ticks\":\"\"}},\"type\":\"scatter3d\"}],\"scattercarpet\":[{\"marker\":{\"colorbar\":{\"outlinewidth\":0,\"ticks\":\"\"}},\"type\":\"scattercarpet\"}],\"scattergeo\":[{\"marker\":{\"colorbar\":{\"outlinewidth\":0,\"ticks\":\"\"}},\"type\":\"scattergeo\"}],\"scattergl\":[{\"marker\":{\"colorbar\":{\"outlinewidth\":0,\"ticks\":\"\"}},\"type\":\"scattergl\"}],\"scattermapbox\":[{\"marker\":{\"colorbar\":{\"outlinewidth\":0,\"ticks\":\"\"}},\"type\":\"scattermapbox\"}],\"scatterpolar\":[{\"marker\":{\"colorbar\":{\"outlinewidth\":0,\"ticks\":\"\"}},\"type\":\"scatterpolar\"}],\"scatterpolargl\":[{\"marker\":{\"colorbar\":{\"outlinewidth\":0,\"ticks\":\"\"}},\"type\":\"scatterpolargl\"}],\"scatterternary\":[{\"marker\":{\"colorbar\":{\"outlinewidth\":0,\"ticks\":\"\"}},\"type\":\"scatterternary\"}],\"surface\":[{\"colorbar\":{\"outlinewidth\":0,\"ticks\":\"\"},\"colorscale\":[[0.0,\"#0d0887\"],[0.1111111111111111,\"#46039f\"],[0.2222222222222222,\"#7201a8\"],[0.3333333333333333,\"#9c179e\"],[0.4444444444444444,\"#bd3786\"],[0.5555555555555556,\"#d8576b\"],[0.6666666666666666,\"#ed7953\"],[0.7777777777777778,\"#fb9f3a\"],[0.8888888888888888,\"#fdca26\"],[1.0,\"#f0f921\"]],\"type\":\"surface\"}],\"table\":[{\"cells\":{\"fill\":{\"color\":\"#EBF0F8\"},\"line\":{\"color\":\"white\"}},\"header\":{\"fill\":{\"color\":\"#C8D4E3\"},\"line\":{\"color\":\"white\"}},\"type\":\"table\"}]},\"layout\":{\"annotationdefaults\":{\"arrowcolor\":\"#2a3f5f\",\"arrowhead\":0,\"arrowwidth\":1},\"autotypenumbers\":\"strict\",\"coloraxis\":{\"colorbar\":{\"outlinewidth\":0,\"ticks\":\"\"}},\"colorscale\":{\"diverging\":[[0,\"#8e0152\"],[0.1,\"#c51b7d\"],[0.2,\"#de77ae\"],[0.3,\"#f1b6da\"],[0.4,\"#fde0ef\"],[0.5,\"#f7f7f7\"],[0.6,\"#e6f5d0\"],[0.7,\"#b8e186\"],[0.8,\"#7fbc41\"],[0.9,\"#4d9221\"],[1,\"#276419\"]],\"sequential\":[[0.0,\"#0d0887\"],[0.1111111111111111,\"#46039f\"],[0.2222222222222222,\"#7201a8\"],[0.3333333333333333,\"#9c179e\"],[0.4444444444444444,\"#bd3786\"],[0.5555555555555556,\"#d8576b\"],[0.6666666666666666,\"#ed7953\"],[0.7777777777777778,\"#fb9f3a\"],[0.8888888888888888,\"#fdca26\"],[1.0,\"#f0f921\"]],\"sequentialminus\":[[0.0,\"#0d0887\"],[0.1111111111111111,\"#46039f\"],[0.2222222222222222,\"#7201a8\"],[0.3333333333333333,\"#9c179e\"],[0.4444444444444444,\"#bd3786\"],[0.5555555555555556,\"#d8576b\"],[0.6666666666666666,\"#ed7953\"],[0.7777777777777778,\"#fb9f3a\"],[0.8888888888888888,\"#fdca26\"],[1.0,\"#f0f921\"]]},\"colorway\":[\"#636efa\",\"#EF553B\",\"#00cc96\",\"#ab63fa\",\"#FFA15A\",\"#19d3f3\",\"#FF6692\",\"#B6E880\",\"#FF97FF\",\"#FECB52\"],\"font\":{\"color\":\"#2a3f5f\"},\"geo\":{\"bgcolor\":\"white\",\"lakecolor\":\"white\",\"landcolor\":\"#E5ECF6\",\"showlakes\":true,\"showland\":true,\"subunitcolor\":\"white\"},\"hoverlabel\":{\"align\":\"left\"},\"hovermode\":\"closest\",\"mapbox\":{\"style\":\"light\"},\"paper_bgcolor\":\"white\",\"plot_bgcolor\":\"#E5ECF6\",\"polar\":{\"angularaxis\":{\"gridcolor\":\"white\",\"linecolor\":\"white\",\"ticks\":\"\"},\"bgcolor\":\"#E5ECF6\",\"radialaxis\":{\"gridcolor\":\"white\",\"linecolor\":\"white\",\"ticks\":\"\"}},\"scene\":{\"xaxis\":{\"backgroundcolor\":\"#E5ECF6\",\"gridcolor\":\"white\",\"gridwidth\":2,\"linecolor\":\"white\",\"showbackground\":true,\"ticks\":\"\",\"zerolinecolor\":\"white\"},\"yaxis\":{\"backgroundcolor\":\"#E5ECF6\",\"gridcolor\":\"white\",\"gridwidth\":2,\"linecolor\":\"white\",\"showbackground\":true,\"ticks\":\"\",\"zerolinecolor\":\"white\"},\"zaxis\":{\"backgroundcolor\":\"#E5ECF6\",\"gridcolor\":\"white\",\"gridwidth\":2,\"linecolor\":\"white\",\"showbackground\":true,\"ticks\":\"\",\"zerolinecolor\":\"white\"}},\"shapedefaults\":{\"line\":{\"color\":\"#2a3f5f\"}},\"ternary\":{\"aaxis\":{\"gridcolor\":\"white\",\"linecolor\":\"white\",\"ticks\":\"\"},\"baxis\":{\"gridcolor\":\"white\",\"linecolor\":\"white\",\"ticks\":\"\"},\"bgcolor\":\"#E5ECF6\",\"caxis\":{\"gridcolor\":\"white\",\"linecolor\":\"white\",\"ticks\":\"\"}},\"title\":{\"x\":0.05},\"xaxis\":{\"automargin\":true,\"gridcolor\":\"white\",\"linecolor\":\"white\",\"ticks\":\"\",\"title\":{\"standoff\":15},\"zerolinecolor\":\"white\",\"zerolinewidth\":2},\"yaxis\":{\"automargin\":true,\"gridcolor\":\"white\",\"linecolor\":\"white\",\"ticks\":\"\",\"title\":{\"standoff\":15},\"zerolinecolor\":\"white\",\"zerolinewidth\":2}}},\"title\":{\"text\":\"Litecoin(LTC) Volume Traded\",\"x\":0.5,\"xanchor\":\"center\",\"y\":0.94,\"yanchor\":\"top\"},\"xaxis\":{\"anchor\":\"y\",\"domain\":[0.0,1.0],\"rangeslider\":{\"visible\":true},\"title\":{\"text\":\"Minutes\"}},\"yaxis\":{\"anchor\":\"x\",\"domain\":[0.0,1.0],\"ticksuffix\":\"$\",\"title\":{\"text\":\"Volume in USD\"}}},                        {\"responsive\": true}                    ).then(function(){\n",
       "                            \n",
       "var gd = document.getElementById('33afd5ca-b134-4f2c-8ef4-a9ddb991d6bf');\n",
       "var x = new MutationObserver(function (mutations, observer) {{\n",
       "        var display = window.getComputedStyle(gd).display;\n",
       "        if (!display || display === 'none') {{\n",
       "            console.log([gd, 'removed!']);\n",
       "            Plotly.purge(gd);\n",
       "            observer.disconnect();\n",
       "        }}\n",
       "}});\n",
       "\n",
       "// Listen for the removal of the full notebook cells\n",
       "var notebookContainer = gd.closest('#notebook-container');\n",
       "if (notebookContainer) {{\n",
       "    x.observe(notebookContainer, {childList: true});\n",
       "}}\n",
       "\n",
       "// Listen for the clearing of the current output cell\n",
       "var outputEl = gd.closest('.output');\n",
       "if (outputEl) {{\n",
       "    x.observe(outputEl, {childList: true});\n",
       "}}\n",
       "\n",
       "                        })                };                });            </script>        </div>"
      ]
     },
     "metadata": {},
     "output_type": "display_data"
    }
   ],
   "source": [
    "vol_traded(ltc[-300:], \"Litecoin(LTC)\",color = \"Blue\")"
   ]
  },
  {
   "cell_type": "markdown",
   "id": "7c24293f",
   "metadata": {
    "papermill": {
     "duration": 0.029751,
     "end_time": "2021-11-02T21:41:34.594458",
     "exception": false,
     "start_time": "2021-11-02T21:41:34.564707",
     "status": "completed"
    },
    "tags": []
   },
   "source": [
    "# <center>If you find this notebook useful, support with an upvote👍</center>"
   ]
  }
 ],
 "metadata": {
  "kernelspec": {
   "display_name": "Python 3",
   "language": "python",
   "name": "python3"
  },
  "language_info": {
   "codemirror_mode": {
    "name": "ipython",
    "version": 3
   },
   "file_extension": ".py",
   "mimetype": "text/x-python",
   "name": "python",
   "nbconvert_exporter": "python",
   "pygments_lexer": "ipython3",
   "version": "3.7.10"
  },
  "papermill": {
   "default_parameters": {},
   "duration": 80.133372,
   "end_time": "2021-11-02T21:41:35.537646",
   "environment_variables": {},
   "exception": null,
   "input_path": "__notebook__.ipynb",
   "output_path": "__notebook__.ipynb",
   "parameters": {},
   "start_time": "2021-11-02T21:40:15.404274",
   "version": "2.3.3"
  }
 },
 "nbformat": 4,
 "nbformat_minor": 5
}
