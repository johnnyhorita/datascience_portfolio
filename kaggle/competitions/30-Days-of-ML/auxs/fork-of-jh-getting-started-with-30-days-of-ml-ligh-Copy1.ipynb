{
 "cells": [
  {
   "cell_type": "markdown",
   "metadata": {},
   "source": [
    "# Step 1: Import helpful libraries"
   ]
  },
  {
   "cell_type": "code",
   "execution_count": 2,
   "metadata": {
    "ExecuteTime": {
     "end_time": "2021-08-25T20:46:20.831935Z",
     "start_time": "2021-08-25T20:46:13.691360Z"
    },
    "execution": {
     "iopub.execute_input": "2021-08-25T20:05:40.818569Z",
     "iopub.status.busy": "2021-08-25T20:05:40.817800Z",
     "iopub.status.idle": "2021-08-25T20:05:45.598187Z",
     "shell.execute_reply": "2021-08-25T20:05:45.597276Z",
     "shell.execute_reply.started": "2021-08-25T20:05:40.818450Z"
    }
   },
   "outputs": [
    {
     "name": "stdout",
     "output_type": "stream",
     "text": [
      "set up complete\n"
     ]
    }
   ],
   "source": [
    "# Familiar imports\n",
    "\n",
    "#basic tools \n",
    "import time\n",
    "import sys\n",
    "import os\n",
    "import numpy as np\n",
    "import pandas as pd\n",
    "\n",
    "#graph, plots\n",
    "import matplotlib.pyplot as plt\n",
    "import seaborn as sns\n",
    "\n",
    "# For ordinal encoding categorical variables, splitting data\n",
    "import sklearn as sk\n",
    "from sklearn.preprocessing import OrdinalEncoder, LabelEncoder\n",
    "from sklearn.model_selection import KFold, GridSearchCV, train_test_split, StratifiedKFold, cross_val_score\n",
    "from sklearn.metrics import mean_squared_error, roc_auc_score, roc_curve\n",
    "\n",
    "# For training LGBM\n",
    "from lightgbm import LGBMRegressor\n",
    "from tqdm import tqdm\n",
    "import xgboost as xgb\n",
    "\n",
    "#tuning hyperparameters\n",
    "from skopt  import BayesSearchCV \n",
    "\n",
    "import optuna\n",
    "from functools import partial\n",
    "from termcolor import colored\n",
    "\n",
    "import shap\n",
    "import warnings\n",
    "#warnings.filterwarnings('ignore')\n",
    "warnings.simplefilter(action='ignore', category=FutureWarning)\n",
    "\n",
    "print(\"set up complete\")"
   ]
  },
  {
   "cell_type": "code",
   "execution_count": 3,
   "metadata": {
    "ExecuteTime": {
     "end_time": "2021-08-25T20:46:25.216488Z",
     "start_time": "2021-08-25T20:46:25.196490Z"
    },
    "execution": {
     "iopub.execute_input": "2021-08-25T20:05:50.218233Z",
     "iopub.status.busy": "2021-08-25T20:05:50.217678Z",
     "iopub.status.idle": "2021-08-25T20:05:50.227299Z",
     "shell.execute_reply": "2021-08-25T20:05:50.225673Z",
     "shell.execute_reply.started": "2021-08-25T20:05:50.218181Z"
    }
   },
   "outputs": [
    {
     "name": "stdout",
     "output_type": "stream",
     "text": [
      "SciKit Learn: 0.23.2\n",
      "Pandas: 1.3.1\n",
      "Numpy: 1.20.3\n",
      "Seaborn: 0.11.2\n"
     ]
    }
   ],
   "source": [
    "#Python libraries and their versions used for this problem\n",
    "print('SciKit Learn:',sk.__version__)\n",
    "print('Pandas:',pd.__version__)\n",
    "print('Numpy:',np.__version__)\n",
    "print('Seaborn:',sns.__version__)"
   ]
  },
  {
   "cell_type": "markdown",
   "metadata": {},
   "source": [
    "# Step 2: Load the data"
   ]
  },
  {
   "cell_type": "code",
   "execution_count": 4,
   "metadata": {
    "ExecuteTime": {
     "end_time": "2021-08-25T20:46:28.529570Z",
     "start_time": "2021-08-25T20:46:28.509572Z"
    },
    "execution": {
     "iopub.execute_input": "2021-08-25T20:05:59.019167Z",
     "iopub.status.busy": "2021-08-25T20:05:59.018746Z",
     "iopub.status.idle": "2021-08-25T20:05:59.034958Z",
     "shell.execute_reply": "2021-08-25T20:05:59.033789Z",
     "shell.execute_reply.started": "2021-08-25T20:05:59.019129Z"
    }
   },
   "outputs": [],
   "source": [
    "#https://towardsdatascience.com/make-working-with-large-dataframes-easier-at-least-for-your-memory-6f52b5f4b5c4\n",
    "    \n",
    "def reduce_mem_usage(df, verbose=True):\n",
    "    numerics = ['int8','int16', 'int32', 'int64', 'float16', 'float32', 'float64']\n",
    "    start_mem = df.memory_usage().sum() / 1024**2    \n",
    "    for col in df.columns:\n",
    "        col_type = df[col].dtypes\n",
    "        if col_type in numerics:\n",
    "            c_min = df[col].min()\n",
    "            c_max = df[col].max()\n",
    "            if str(col_type)[:3] == 'int':\n",
    "                if c_min > np.iinfo(np.int8).min and c_max < np.iinfo(np.int8).max:\n",
    "                    df[col] = df[col].astype(np.int8)\n",
    "                elif c_min > np.iinfo(np.int16).min and c_max < np.iinfo(np.int16).max:\n",
    "                    df[col] = df[col].astype(np.int16)\n",
    "                elif c_min > np.iinfo(np.int32).min and c_max < np.iinfo(np.int32).max:\n",
    "                    df[col] = df[col].astype(np.int32)\n",
    "                elif c_min > np.iinfo(np.int64).min and c_max < np.iinfo(np.int64).max:\n",
    "                    df[col] = df[col].astype(np.int64)  \n",
    "            else:\n",
    "                if c_min > np.finfo(np.float16).min and c_max < np.finfo(np.float16).max:\n",
    "                    df[col] = df[col].astype(np.float16)\n",
    "                elif c_min > np.finfo(np.float32).min and c_max < np.finfo(np.float32).max:\n",
    "                    df[col] = df[col].astype(np.float32)\n",
    "                else:\n",
    "                    df[col] = df[col].astype(np.float64)    \n",
    "    end_mem = df.memory_usage().sum() / 1024**2\n",
    "    if verbose: print('Mem. usage decreased to {:5.2f} Mb ({:.1f}% reduction)'.format(end_mem, 100 * (start_mem - end_mem) / start_mem))\n",
    "    return df"
   ]
  },
  {
   "cell_type": "code",
   "execution_count": 66,
   "metadata": {
    "ExecuteTime": {
     "end_time": "2021-08-26T11:21:56.509352Z",
     "start_time": "2021-08-26T11:21:54.445900Z"
    },
    "execution": {
     "iopub.execute_input": "2021-08-25T20:06:06.687324Z",
     "iopub.status.busy": "2021-08-25T20:06:06.686725Z",
     "iopub.status.idle": "2021-08-25T20:06:12.040236Z",
     "shell.execute_reply": "2021-08-25T20:06:12.039224Z",
     "shell.execute_reply.started": "2021-08-25T20:06:06.687286Z"
    }
   },
   "outputs": [
    {
     "name": "stdout",
     "output_type": "stream",
     "text": [
      "Mem. usage decreased to 33.76 Mb (43.3% reduction)\n",
      "Mem. usage decreased to 22.13 Mb (42.0% reduction)\n",
      "\n",
      "Shape of train set:  (300000, 25)\n",
      "Shape of test set:  (200000, 24)\n",
      "\n",
      "load complete\n",
      "Wall time: 2.05 s\n"
     ]
    }
   ],
   "source": [
    "%%time\n",
    "#local\n",
    "train = reduce_mem_usage(pd.read_csv(\"./dataset/train.csv\",encoding='utf-8', index_col=0, low_memory=False))\n",
    "test = reduce_mem_usage(pd.read_csv(\"./dataset/test.csv\",encoding='utf-8', index_col=0, low_memory=False))\n",
    "\n",
    "#Internet\n",
    "#train = reduce_mem_usage(pd.read_csv(\"../input/30-days-of-ml/train.csv\",encoding='utf-8', index_col=0, low_memory=False))\n",
    "#test = reduce_mem_usage(pd.read_csv(\"../input/30-days-of-ml/test.csv\",encoding='utf-8', index_col=0, low_memory=False))\n",
    "\n",
    "#Sem redução de espaço\n",
    "#train = pd.read_csv(\"../input/30-days-of-ml/train.csv\",encoding='utf-8', index_col=0, low_memory=False)\n",
    "#test = pd.read_csv(\"../input/30-days-of-ml/test.csv\",encoding='utf-8', index_col=0, low_memory=False)\n",
    "\n",
    "print(\"\\nShape of train set: \",train.shape)\n",
    "print(\"Shape of test set: \",test.shape)\n",
    "\n",
    "print(\"\\nload complete\")"
   ]
  },
  {
   "cell_type": "code",
   "execution_count": 6,
   "metadata": {
    "ExecuteTime": {
     "end_time": "2021-08-25T20:46:37.492361Z",
     "start_time": "2021-08-25T20:46:37.460321Z"
    },
    "execution": {
     "iopub.execute_input": "2021-08-25T20:06:17.058696Z",
     "iopub.status.busy": "2021-08-25T20:06:17.058061Z",
     "iopub.status.idle": "2021-08-25T20:06:17.097560Z",
     "shell.execute_reply": "2021-08-25T20:06:17.096344Z",
     "shell.execute_reply.started": "2021-08-25T20:06:17.058655Z"
    }
   },
   "outputs": [
    {
     "data": {
      "text/html": [
       "<div>\n",
       "<style scoped>\n",
       "    .dataframe tbody tr th:only-of-type {\n",
       "        vertical-align: middle;\n",
       "    }\n",
       "\n",
       "    .dataframe tbody tr th {\n",
       "        vertical-align: top;\n",
       "    }\n",
       "\n",
       "    .dataframe thead th {\n",
       "        text-align: right;\n",
       "    }\n",
       "</style>\n",
       "<table border=\"1\" class=\"dataframe\">\n",
       "  <thead>\n",
       "    <tr style=\"text-align: right;\">\n",
       "      <th></th>\n",
       "      <th>cat0</th>\n",
       "      <th>cat1</th>\n",
       "      <th>cat2</th>\n",
       "      <th>cat3</th>\n",
       "      <th>cat4</th>\n",
       "      <th>cat5</th>\n",
       "      <th>cat6</th>\n",
       "      <th>cat7</th>\n",
       "      <th>cat8</th>\n",
       "      <th>cat9</th>\n",
       "      <th>...</th>\n",
       "      <th>cont5</th>\n",
       "      <th>cont6</th>\n",
       "      <th>cont7</th>\n",
       "      <th>cont8</th>\n",
       "      <th>cont9</th>\n",
       "      <th>cont10</th>\n",
       "      <th>cont11</th>\n",
       "      <th>cont12</th>\n",
       "      <th>cont13</th>\n",
       "      <th>target</th>\n",
       "    </tr>\n",
       "    <tr>\n",
       "      <th>id</th>\n",
       "      <th></th>\n",
       "      <th></th>\n",
       "      <th></th>\n",
       "      <th></th>\n",
       "      <th></th>\n",
       "      <th></th>\n",
       "      <th></th>\n",
       "      <th></th>\n",
       "      <th></th>\n",
       "      <th></th>\n",
       "      <th></th>\n",
       "      <th></th>\n",
       "      <th></th>\n",
       "      <th></th>\n",
       "      <th></th>\n",
       "      <th></th>\n",
       "      <th></th>\n",
       "      <th></th>\n",
       "      <th></th>\n",
       "      <th></th>\n",
       "      <th></th>\n",
       "    </tr>\n",
       "  </thead>\n",
       "  <tbody>\n",
       "    <tr>\n",
       "      <th>1</th>\n",
       "      <td>B</td>\n",
       "      <td>B</td>\n",
       "      <td>B</td>\n",
       "      <td>C</td>\n",
       "      <td>B</td>\n",
       "      <td>B</td>\n",
       "      <td>A</td>\n",
       "      <td>E</td>\n",
       "      <td>C</td>\n",
       "      <td>N</td>\n",
       "      <td>...</td>\n",
       "      <td>0.400391</td>\n",
       "      <td>0.160278</td>\n",
       "      <td>0.311035</td>\n",
       "      <td>0.389404</td>\n",
       "      <td>0.267578</td>\n",
       "      <td>0.237305</td>\n",
       "      <td>0.377930</td>\n",
       "      <td>0.322510</td>\n",
       "      <td>0.869629</td>\n",
       "      <td>8.117188</td>\n",
       "    </tr>\n",
       "    <tr>\n",
       "      <th>2</th>\n",
       "      <td>B</td>\n",
       "      <td>B</td>\n",
       "      <td>A</td>\n",
       "      <td>A</td>\n",
       "      <td>B</td>\n",
       "      <td>D</td>\n",
       "      <td>A</td>\n",
       "      <td>F</td>\n",
       "      <td>A</td>\n",
       "      <td>O</td>\n",
       "      <td>...</td>\n",
       "      <td>0.533203</td>\n",
       "      <td>0.559082</td>\n",
       "      <td>0.516113</td>\n",
       "      <td>0.594727</td>\n",
       "      <td>0.341553</td>\n",
       "      <td>0.906250</td>\n",
       "      <td>0.921875</td>\n",
       "      <td>0.261963</td>\n",
       "      <td>0.465088</td>\n",
       "      <td>8.484375</td>\n",
       "    </tr>\n",
       "    <tr>\n",
       "      <th>3</th>\n",
       "      <td>A</td>\n",
       "      <td>A</td>\n",
       "      <td>A</td>\n",
       "      <td>C</td>\n",
       "      <td>B</td>\n",
       "      <td>D</td>\n",
       "      <td>A</td>\n",
       "      <td>D</td>\n",
       "      <td>A</td>\n",
       "      <td>F</td>\n",
       "      <td>...</td>\n",
       "      <td>0.650391</td>\n",
       "      <td>0.375244</td>\n",
       "      <td>0.902344</td>\n",
       "      <td>0.555176</td>\n",
       "      <td>0.843750</td>\n",
       "      <td>0.749023</td>\n",
       "      <td>0.620117</td>\n",
       "      <td>0.541504</td>\n",
       "      <td>0.763672</td>\n",
       "      <td>8.367188</td>\n",
       "    </tr>\n",
       "  </tbody>\n",
       "</table>\n",
       "<p>3 rows × 25 columns</p>\n",
       "</div>"
      ],
      "text/plain": [
       "   cat0 cat1 cat2 cat3 cat4 cat5 cat6 cat7 cat8 cat9  ...     cont5     cont6  \\\n",
       "id                                                    ...                       \n",
       "1     B    B    B    C    B    B    A    E    C    N  ...  0.400391  0.160278   \n",
       "2     B    B    A    A    B    D    A    F    A    O  ...  0.533203  0.559082   \n",
       "3     A    A    A    C    B    D    A    D    A    F  ...  0.650391  0.375244   \n",
       "\n",
       "       cont7     cont8     cont9    cont10    cont11    cont12    cont13  \\\n",
       "id                                                                         \n",
       "1   0.311035  0.389404  0.267578  0.237305  0.377930  0.322510  0.869629   \n",
       "2   0.516113  0.594727  0.341553  0.906250  0.921875  0.261963  0.465088   \n",
       "3   0.902344  0.555176  0.843750  0.749023  0.620117  0.541504  0.763672   \n",
       "\n",
       "      target  \n",
       "id            \n",
       "1   8.117188  \n",
       "2   8.484375  \n",
       "3   8.367188  \n",
       "\n",
       "[3 rows x 25 columns]"
      ]
     },
     "execution_count": 6,
     "metadata": {},
     "output_type": "execute_result"
    }
   ],
   "source": [
    "# Preview data\n",
    "train.head(3)"
   ]
  },
  {
   "cell_type": "code",
   "execution_count": 7,
   "metadata": {
    "ExecuteTime": {
     "end_time": "2021-08-25T20:46:38.748075Z",
     "start_time": "2021-08-25T20:46:38.379615Z"
    },
    "execution": {
     "iopub.execute_input": "2021-08-25T20:06:19.051191Z",
     "iopub.status.busy": "2021-08-25T20:06:19.050779Z",
     "iopub.status.idle": "2021-08-25T20:06:19.946002Z",
     "shell.execute_reply": "2021-08-25T20:06:19.944843Z",
     "shell.execute_reply.started": "2021-08-25T20:06:19.051154Z"
    }
   },
   "outputs": [
    {
     "name": "stdout",
     "output_type": "stream",
     "text": [
      "<class 'pandas.core.frame.DataFrame'>\n",
      "Int64Index: 300000 entries, 1 to 499999\n",
      "Data columns (total 25 columns):\n",
      " #   Column  Non-Null Count   Dtype  \n",
      "---  ------  --------------   -----  \n",
      " 0   cat0    300000 non-null  object \n",
      " 1   cat1    300000 non-null  object \n",
      " 2   cat2    300000 non-null  object \n",
      " 3   cat3    300000 non-null  object \n",
      " 4   cat4    300000 non-null  object \n",
      " 5   cat5    300000 non-null  object \n",
      " 6   cat6    300000 non-null  object \n",
      " 7   cat7    300000 non-null  object \n",
      " 8   cat8    300000 non-null  object \n",
      " 9   cat9    300000 non-null  object \n",
      " 10  cont0   300000 non-null  float16\n",
      " 11  cont1   300000 non-null  float16\n",
      " 12  cont2   300000 non-null  float16\n",
      " 13  cont3   300000 non-null  float16\n",
      " 14  cont4   300000 non-null  float16\n",
      " 15  cont5   300000 non-null  float16\n",
      " 16  cont6   300000 non-null  float16\n",
      " 17  cont7   300000 non-null  float16\n",
      " 18  cont8   300000 non-null  float16\n",
      " 19  cont9   300000 non-null  float16\n",
      " 20  cont10  300000 non-null  float16\n",
      " 21  cont11  300000 non-null  float16\n",
      " 22  cont12  300000 non-null  float16\n",
      " 23  cont13  300000 non-null  float16\n",
      " 24  target  300000 non-null  float16\n",
      "dtypes: float16(15), object(10)\n",
      "memory usage: 176.8 MB\n"
     ]
    }
   ],
   "source": [
    "train.info(memory_usage=\"deep\")"
   ]
  },
  {
   "cell_type": "code",
   "execution_count": 8,
   "metadata": {
    "ExecuteTime": {
     "end_time": "2021-08-25T20:46:40.786956Z",
     "start_time": "2021-08-25T20:46:40.667960Z"
    },
    "execution": {
     "iopub.execute_input": "2021-08-25T20:06:22.529336Z",
     "iopub.status.busy": "2021-08-25T20:06:22.528771Z",
     "iopub.status.idle": "2021-08-25T20:06:22.857059Z",
     "shell.execute_reply": "2021-08-25T20:06:22.856146Z",
     "shell.execute_reply.started": "2021-08-25T20:06:22.529298Z"
    }
   },
   "outputs": [
    {
     "name": "stdout",
     "output_type": "stream",
     "text": [
      "Info about train data: \n",
      "Number of rows: \u001b[32m300000\u001b[0m\n",
      "Number of columns: \u001b[32m25\u001b[0m\n",
      "Number of missing values: \u001b[32m0\u001b[0m\n"
     ]
    }
   ],
   "source": [
    "print('Info about train data: ')\n",
    "print('Number of rows:',colored(train.shape[0],'green'))\n",
    "print('Number of columns:',colored(train.shape[1],'green'))\n",
    "print('Number of missing values:',colored(sum(train.isna().sum()),'green'))"
   ]
  },
  {
   "cell_type": "code",
   "execution_count": 9,
   "metadata": {
    "ExecuteTime": {
     "end_time": "2021-08-25T20:46:42.074302Z",
     "start_time": "2021-08-25T20:46:42.020340Z"
    },
    "execution": {
     "iopub.execute_input": "2021-08-25T20:06:24.728096Z",
     "iopub.status.busy": "2021-08-25T20:06:24.727484Z",
     "iopub.status.idle": "2021-08-25T20:06:24.773694Z",
     "shell.execute_reply": "2021-08-25T20:06:24.772481Z",
     "shell.execute_reply.started": "2021-08-25T20:06:24.728054Z"
    }
   },
   "outputs": [
    {
     "name": "stdout",
     "output_type": "stream",
     "text": [
      "Number of numerical columns is: \u001b[32m14\u001b[0m \n",
      "Number of categorical columsn is: \u001b[32m10\u001b[0m\n"
     ]
    }
   ],
   "source": [
    "num_col = list(train.select_dtypes(include='float16').columns)\n",
    "cat_cols = list(train.select_dtypes(include='object').columns)\n",
    "num_col.remove('target')\n",
    "print('Number of numerical columns is:',colored(len(num_col),'green'),\n",
    "      '\\nNumber of categorical columsn is:',colored(len(cat_cols),'green'))"
   ]
  },
  {
   "cell_type": "code",
   "execution_count": 10,
   "metadata": {
    "ExecuteTime": {
     "end_time": "2021-08-25T20:46:43.473226Z",
     "start_time": "2021-08-25T20:46:43.427339Z"
    },
    "execution": {
     "iopub.execute_input": "2021-08-25T20:06:26.587005Z",
     "iopub.status.busy": "2021-08-25T20:06:26.586653Z",
     "iopub.status.idle": "2021-08-25T20:06:26.642340Z",
     "shell.execute_reply": "2021-08-25T20:06:26.641265Z",
     "shell.execute_reply.started": "2021-08-25T20:06:26.586973Z"
    }
   },
   "outputs": [
    {
     "name": "stdout",
     "output_type": "stream",
     "text": [
      "target column basic statistics:\n"
     ]
    },
    {
     "data": {
      "text/plain": [
       "count    300000.000000\n",
       "mean               NaN\n",
       "std           0.000000\n",
       "min           0.140381\n",
       "25%           7.742188\n",
       "50%           8.187500\n",
       "75%           8.726562\n",
       "max          10.414062\n",
       "Name: target, dtype: float64"
      ]
     },
     "execution_count": 10,
     "metadata": {},
     "output_type": "execute_result"
    }
   ],
   "source": [
    "print('target column basic statistics:')\n",
    "target=train['target'].copy()\n",
    "target.describe()"
   ]
  },
  {
   "cell_type": "code",
   "execution_count": 67,
   "metadata": {
    "ExecuteTime": {
     "end_time": "2021-08-26T11:22:09.655817Z",
     "start_time": "2021-08-26T11:22:09.583822Z"
    },
    "execution": {
     "iopub.execute_input": "2021-08-25T20:06:34.918879Z",
     "iopub.status.busy": "2021-08-25T20:06:34.918496Z",
     "iopub.status.idle": "2021-08-25T20:06:34.964911Z",
     "shell.execute_reply": "2021-08-25T20:06:34.963949Z",
     "shell.execute_reply.started": "2021-08-25T20:06:34.918845Z"
    }
   },
   "outputs": [],
   "source": [
    "# Separate target from features\n",
    "y_train = train['target'].copy()\n",
    "X_train = train.drop(['target'], axis=1).copy()"
   ]
  },
  {
   "cell_type": "code",
   "execution_count": 68,
   "metadata": {
    "ExecuteTime": {
     "end_time": "2021-08-26T11:22:12.096761Z",
     "start_time": "2021-08-26T11:22:12.079726Z"
    },
    "execution": {
     "iopub.execute_input": "2021-08-25T20:06:37.722988Z",
     "iopub.status.busy": "2021-08-25T20:06:37.722609Z",
     "iopub.status.idle": "2021-08-25T20:06:37.729265Z",
     "shell.execute_reply": "2021-08-25T20:06:37.728007Z",
     "shell.execute_reply.started": "2021-08-25T20:06:37.722948Z"
    }
   },
   "outputs": [
    {
     "name": "stdout",
     "output_type": "stream",
     "text": [
      "\u001b[32mTrue\u001b[0m\n"
     ]
    }
   ],
   "source": [
    "# Assuring that test data and whether or not it has the same columns as the train\n",
    "if list(test.columns) == list(X_train.columns):\n",
    "    print(colored('True', 'green'))  \n",
    "else:\n",
    "    print(colored('False', 'red'))  \n"
   ]
  },
  {
   "cell_type": "markdown",
   "metadata": {},
   "source": [
    "# Step 3: Prepare the data"
   ]
  },
  {
   "cell_type": "code",
   "execution_count": 69,
   "metadata": {
    "ExecuteTime": {
     "end_time": "2021-08-26T11:22:15.883212Z",
     "start_time": "2021-08-26T11:22:15.688220Z"
    },
    "execution": {
     "iopub.execute_input": "2021-08-25T20:06:41.419948Z",
     "iopub.status.busy": "2021-08-25T20:06:41.419495Z",
     "iopub.status.idle": "2021-08-25T20:06:41.947593Z",
     "shell.execute_reply": "2021-08-25T20:06:41.946382Z",
     "shell.execute_reply.started": "2021-08-25T20:06:41.419900Z"
    }
   },
   "outputs": [
    {
     "name": "stdout",
     "output_type": "stream",
     "text": [
      "Train null values: \u001b[32m0\u001b[0m\n",
      "Test null values: \u001b[32m0\u001b[0m\n"
     ]
    }
   ],
   "source": [
    "# Checking if there are missing values in the datasets\n",
    "#Train\n",
    "print(f'Train null values:',colored(X_train.isna().sum().sum(), 'green'))\n",
    "\n",
    "#Test\n",
    "print(f'Test null values:',colored(test.isna().sum().sum(), 'green'))"
   ]
  },
  {
   "cell_type": "code",
   "execution_count": 70,
   "metadata": {
    "ExecuteTime": {
     "end_time": "2021-08-26T11:22:17.783806Z",
     "start_time": "2021-08-26T11:22:17.751597Z"
    },
    "execution": {
     "iopub.execute_input": "2021-08-25T20:06:44.713254Z",
     "iopub.status.busy": "2021-08-25T20:06:44.712833Z",
     "iopub.status.idle": "2021-08-25T20:06:44.751807Z",
     "shell.execute_reply": "2021-08-25T20:06:44.750405Z",
     "shell.execute_reply.started": "2021-08-25T20:06:44.713213Z"
    }
   },
   "outputs": [],
   "source": [
    "categorical_feature = np.where(X_train.dtypes != 'float16')[0].tolist()\n",
    "categorical_feature_columns = X_train.select_dtypes(exclude=['float16']).columns\n",
    "#categorical_feature_columns = [feature for feature in train.columns if 'cat' in feature]"
   ]
  },
  {
   "cell_type": "code",
   "execution_count": 71,
   "metadata": {
    "ExecuteTime": {
     "end_time": "2021-08-26T11:22:25.341890Z",
     "start_time": "2021-08-26T11:22:25.119890Z"
    },
    "execution": {
     "iopub.execute_input": "2021-08-25T20:16:41.618431Z",
     "iopub.status.busy": "2021-08-25T20:16:41.617999Z",
     "iopub.status.idle": "2021-08-25T20:16:41.676033Z",
     "shell.execute_reply": "2021-08-25T20:16:41.674053Z",
     "shell.execute_reply.started": "2021-08-25T20:16:41.618392Z"
    }
   },
   "outputs": [
    {
     "name": "stdout",
     "output_type": "stream",
     "text": [
      "\u001b[32mTrue\u001b[0m\n"
     ]
    }
   ],
   "source": [
    "#Checking if test categorical unique values are all subsets of their train peers\n",
    "\n",
    "lis = []\n",
    "for i in X_train[categorical_feature_columns].columns:\n",
    "    test_vals = set(test[i].unique())\n",
    "    X_vals = set(X_train[i].unique())\n",
    "    lis.append(test_vals.issubset(X_vals))\n",
    "\n",
    "print(colored(all(lis),'green'))"
   ]
  },
  {
   "cell_type": "markdown",
   "metadata": {},
   "source": [
    "### Features Standarization"
   ]
  },
  {
   "cell_type": "code",
   "execution_count": 72,
   "metadata": {
    "ExecuteTime": {
     "end_time": "2021-08-26T11:22:36.512349Z",
     "start_time": "2021-08-26T11:22:35.960944Z"
    }
   },
   "outputs": [
    {
     "name": "stdout",
     "output_type": "stream",
     "text": [
      "Info about train data: \n",
      "Number of rows: \u001b[32m300000\u001b[0m\n",
      "Number of columns: \u001b[32m24\u001b[0m\n",
      "\n",
      "Info about test data: \n",
      "Number of rows: \u001b[32m200000\u001b[0m\n",
      "Number of columns: \u001b[32m24\u001b[0m\n"
     ]
    }
   ],
   "source": [
    "#cat_cols = [feature for feature in train.columns if 'cat' in feature]\n",
    "cat_cols = categorical_feature_columns.tolist()\n",
    "\n",
    "def label_encoder(df):\n",
    "    for feature in cat_cols:\n",
    "        le = LabelEncoder()\n",
    "        le.fit(df[feature])\n",
    "        df[feature] = le.transform(df[feature])\n",
    "    return df\n",
    "\n",
    "X_train = label_encoder(X_train)\n",
    "X_test = label_encoder(X_test)\n",
    "\n",
    "print('Info about train data: ')\n",
    "print('Number of rows:',colored(X_train.shape[0],'green'))\n",
    "print('Number of columns:',colored(X_train.shape[1],'green'))\n",
    "\n",
    "print('\\nInfo about test data: ')\n",
    "print('Number of rows:',colored(test.shape[0],'green'))\n",
    "print('Number of columns:',colored(test.shape[1],'green'))"
   ]
  },
  {
   "cell_type": "code",
   "execution_count": 24,
   "metadata": {
    "ExecuteTime": {
     "end_time": "2021-08-25T20:55:03.337572Z",
     "start_time": "2021-08-25T20:55:03.329571Z"
    },
    "execution": {
     "iopub.execute_input": "2021-08-25T20:17:06.165738Z",
     "iopub.status.busy": "2021-08-25T20:17:06.165381Z",
     "iopub.status.idle": "2021-08-25T20:17:06.178216Z",
     "shell.execute_reply": "2021-08-25T20:17:06.177135Z",
     "shell.execute_reply.started": "2021-08-25T20:17:06.165708Z"
    }
   },
   "outputs": [],
   "source": [
    "# Extreme Fine Tuning LGBM using 7-step training\n",
    "# https://www.kaggle.com/awwalmalhi/extreme-fine-tuning-lgbm-using-7-step-training#Extreme-Fine-Tuning-of-LGBM-using-Incremental-training\n",
    "\n",
    "def objective(trial, X, y, name='xgb'):\n",
    "        \n",
    "    params = {'max_depth':trial.suggest_int('max_depth', 5, 50),\n",
    "              'n_estimators':200000,\n",
    "              #'boosting':trial.suggest_categorical('boosting', ['gbdt', 'dart', 'goss']),\n",
    "              'subsample': trial.suggest_uniform('subsample', 0.2, 1.0),\n",
    "              'colsample_bytree':trial.suggest_uniform('colsample_bytree', 0.2, 1.0),\n",
    "              'learning_rate':trial.suggest_uniform('learning_rate', 0.007, 0.02),\n",
    "              'reg_lambda':trial.suggest_uniform('reg_lambda', 0.01, 50),\n",
    "              'reg_alpha':trial.suggest_uniform('reg_alpha', 0.01, 50),\n",
    "              'min_child_samples':trial.suggest_int('min_child_samples', 5, 100),\n",
    "              'num_leaves':trial.suggest_int('num_leaves', 10, 200),\n",
    "              'n_jobs' : -1,\n",
    "              'metric':'rmse',\n",
    "              'max_bin':trial.suggest_int('max_bin', 300, 1000),\n",
    "              'cat_smooth':trial.suggest_int('cat_smooth', 5, 100),\n",
    "              'cat_l2':trial.suggest_loguniform('cat_l2', 1e-3, 100)}\n",
    "\n",
    "    model = LGBMRegressor(**params)\n",
    "                  \n",
    "    X_train, X_val, y_train, y_val = train_test_split(X, y, test_size=0.2, random_state=0)\n",
    "    \n",
    "\n",
    "    model.fit(X_train, y_train, eval_set=[(X_val, y_val)],\n",
    "              eval_metric=['rmse'],\n",
    "              early_stopping_rounds=250, \n",
    "              categorical_feature==[0, 1, 2, 3, 4, 5, 6, 7, 8, 9],\n",
    "              #callbacks=[optuna.integration.LightGBMPruningCallback(trial, metric='rmse')],\n",
    "              verbose=0)\n",
    "\n",
    "    train_score = np.round(np.sqrt(mean_squared_error(y_train, model.predict(X_train))), 5)\n",
    "    test_score = np.round(np.sqrt(mean_squared_error(y_val, model.predict(X_val))), 5)\n",
    "                  \n",
    "    print(f'TRAIN RMSE : {train_score} || TEST RMSE : {test_score}')\n",
    "                  \n",
    "    return test_score"
   ]
  },
  {
   "cell_type": "code",
   "execution_count": 26,
   "metadata": {
    "ExecuteTime": {
     "end_time": "2021-08-25T23:50:13.407115Z",
     "start_time": "2021-08-25T22:12:27.587716Z"
    },
    "execution": {
     "iopub.execute_input": "2021-08-25T20:17:13.077646Z",
     "iopub.status.busy": "2021-08-25T20:17:13.077216Z"
    },
    "scrolled": false
   },
   "outputs": [
    {
     "name": "stderr",
     "output_type": "stream",
     "text": [
      "\u001b[32m[I 2021-08-25 19:12:27,588]\u001b[0m A new study created in memory with name: no-name-3f603163-b855-4681-bf74-9c40b0075d87\u001b[0m\n",
      "Using categorical_feature in Dataset.\n",
      "categorical_feature in Dataset is overridden.\n",
      "New categorical_feature is [0, 1, 2, 3, 4, 5, 6, 7, 8, 9]\n",
      "Overriding the parameters from Reference Dataset.\n",
      "categorical_column in param dict is overridden.\n",
      "\u001b[32m[I 2021-08-25 19:13:27,693]\u001b[0m Trial 0 finished with value: 0.7235 and parameters: {'max_depth': 24, 'subsample': 0.650377538253578, 'colsample_bytree': 0.9739991188836374, 'learning_rate': 0.017736556613430553, 'reg_lambda': 17.060055750570093, 'reg_alpha': 43.13528717722097, 'min_child_samples': 96, 'num_leaves': 188, 'max_bin': 306, 'cat_smooth': 90, 'cat_l2': 0.0011258262212089634}. Best is trial 0 with value: 0.7235.\u001b[0m\n"
     ]
    },
    {
     "name": "stdout",
     "output_type": "stream",
     "text": [
      "TRAIN RMSE : 0.67568 || TEST RMSE : 0.7235\n"
     ]
    },
    {
     "name": "stderr",
     "output_type": "stream",
     "text": [
      "Using categorical_feature in Dataset.\n",
      "categorical_feature in Dataset is overridden.\n",
      "New categorical_feature is [0, 1, 2, 3, 4, 5, 6, 7, 8, 9]\n",
      "Overriding the parameters from Reference Dataset.\n",
      "categorical_column in param dict is overridden.\n",
      "\u001b[32m[I 2021-08-25 19:15:16,114]\u001b[0m Trial 1 finished with value: 0.72209 and parameters: {'max_depth': 22, 'subsample': 0.5935044134076226, 'colsample_bytree': 0.8972929315673037, 'learning_rate': 0.0078060195541806154, 'reg_lambda': 11.88916361331115, 'reg_alpha': 7.134208679906236, 'min_child_samples': 15, 'num_leaves': 62, 'max_bin': 429, 'cat_smooth': 53, 'cat_l2': 2.8329429595243463}. Best is trial 1 with value: 0.72209.\u001b[0m\n"
     ]
    },
    {
     "name": "stdout",
     "output_type": "stream",
     "text": [
      "TRAIN RMSE : 0.681 || TEST RMSE : 0.72209\n"
     ]
    },
    {
     "name": "stderr",
     "output_type": "stream",
     "text": [
      "Using categorical_feature in Dataset.\n",
      "categorical_feature in Dataset is overridden.\n",
      "New categorical_feature is [0, 1, 2, 3, 4, 5, 6, 7, 8, 9]\n",
      "Overriding the parameters from Reference Dataset.\n",
      "categorical_column in param dict is overridden.\n",
      "\u001b[32m[I 2021-08-25 19:17:11,376]\u001b[0m Trial 2 finished with value: 0.7216 and parameters: {'max_depth': 40, 'subsample': 0.20820416839057299, 'colsample_bytree': 0.8437891087708023, 'learning_rate': 0.012594872487482402, 'reg_lambda': 18.114208708321296, 'reg_alpha': 24.22601312953062, 'min_child_samples': 61, 'num_leaves': 129, 'max_bin': 950, 'cat_smooth': 90, 'cat_l2': 0.06772555618953868}. Best is trial 2 with value: 0.7216.\u001b[0m\n"
     ]
    },
    {
     "name": "stdout",
     "output_type": "stream",
     "text": [
      "TRAIN RMSE : 0.66712 || TEST RMSE : 0.7216\n"
     ]
    },
    {
     "name": "stderr",
     "output_type": "stream",
     "text": [
      "Using categorical_feature in Dataset.\n",
      "categorical_feature in Dataset is overridden.\n",
      "New categorical_feature is [0, 1, 2, 3, 4, 5, 6, 7, 8, 9]\n",
      "Overriding the parameters from Reference Dataset.\n",
      "categorical_column in param dict is overridden.\n",
      "\u001b[32m[I 2021-08-25 19:19:15,677]\u001b[0m Trial 3 finished with value: 0.72021 and parameters: {'max_depth': 45, 'subsample': 0.4833929762981418, 'colsample_bytree': 0.6454825354900151, 'learning_rate': 0.009727983224596688, 'reg_lambda': 0.9093054197885521, 'reg_alpha': 15.685818505564512, 'min_child_samples': 56, 'num_leaves': 16, 'max_bin': 708, 'cat_smooth': 48, 'cat_l2': 0.5262628598083876}. Best is trial 3 with value: 0.72021.\u001b[0m\n"
     ]
    },
    {
     "name": "stdout",
     "output_type": "stream",
     "text": [
      "TRAIN RMSE : 0.69797 || TEST RMSE : 0.72021\n"
     ]
    },
    {
     "name": "stderr",
     "output_type": "stream",
     "text": [
      "Using categorical_feature in Dataset.\n",
      "categorical_feature in Dataset is overridden.\n",
      "New categorical_feature is [0, 1, 2, 3, 4, 5, 6, 7, 8, 9]\n",
      "Overriding the parameters from Reference Dataset.\n",
      "categorical_column in param dict is overridden.\n",
      "\u001b[32m[I 2021-08-25 19:20:30,243]\u001b[0m Trial 4 finished with value: 0.72038 and parameters: {'max_depth': 32, 'subsample': 0.704280034057801, 'colsample_bytree': 0.5755978076361812, 'learning_rate': 0.015350453088061114, 'reg_lambda': 32.70088229476231, 'reg_alpha': 21.26449969455633, 'min_child_samples': 96, 'num_leaves': 20, 'max_bin': 447, 'cat_smooth': 79, 'cat_l2': 0.0010331149593779958}. Best is trial 3 with value: 0.72021.\u001b[0m\n"
     ]
    },
    {
     "name": "stdout",
     "output_type": "stream",
     "text": [
      "TRAIN RMSE : 0.69519 || TEST RMSE : 0.72038\n"
     ]
    },
    {
     "name": "stderr",
     "output_type": "stream",
     "text": [
      "Using categorical_feature in Dataset.\n",
      "categorical_feature in Dataset is overridden.\n",
      "New categorical_feature is [0, 1, 2, 3, 4, 5, 6, 7, 8, 9]\n",
      "Overriding the parameters from Reference Dataset.\n",
      "categorical_column in param dict is overridden.\n",
      "\u001b[32m[I 2021-08-25 19:21:18,555]\u001b[0m Trial 5 finished with value: 0.7218 and parameters: {'max_depth': 15, 'subsample': 0.671523124305001, 'colsample_bytree': 0.9257161293256855, 'learning_rate': 0.01672738468113521, 'reg_lambda': 42.78049172420485, 'reg_alpha': 0.9977592587118951, 'min_child_samples': 85, 'num_leaves': 62, 'max_bin': 639, 'cat_smooth': 27, 'cat_l2': 22.525018532390792}. Best is trial 3 with value: 0.72021.\u001b[0m\n"
     ]
    },
    {
     "name": "stdout",
     "output_type": "stream",
     "text": [
      "TRAIN RMSE : 0.67916 || TEST RMSE : 0.7218\n"
     ]
    },
    {
     "name": "stderr",
     "output_type": "stream",
     "text": [
      "Using categorical_feature in Dataset.\n",
      "categorical_feature in Dataset is overridden.\n",
      "New categorical_feature is [0, 1, 2, 3, 4, 5, 6, 7, 8, 9]\n",
      "Overriding the parameters from Reference Dataset.\n",
      "categorical_column in param dict is overridden.\n",
      "\u001b[32m[I 2021-08-25 19:22:38,566]\u001b[0m Trial 6 finished with value: 0.7232 and parameters: {'max_depth': 32, 'subsample': 0.8525388176145956, 'colsample_bytree': 0.8313762150122634, 'learning_rate': 0.015842981979030463, 'reg_lambda': 44.95130714594471, 'reg_alpha': 45.12460294707443, 'min_child_samples': 92, 'num_leaves': 181, 'max_bin': 327, 'cat_smooth': 52, 'cat_l2': 0.006053053353562807}. Best is trial 3 with value: 0.72021.\u001b[0m\n"
     ]
    },
    {
     "name": "stdout",
     "output_type": "stream",
     "text": [
      "TRAIN RMSE : 0.67605 || TEST RMSE : 0.7232\n"
     ]
    },
    {
     "name": "stderr",
     "output_type": "stream",
     "text": [
      "Using categorical_feature in Dataset.\n",
      "categorical_feature in Dataset is overridden.\n",
      "New categorical_feature is [0, 1, 2, 3, 4, 5, 6, 7, 8, 9]\n",
      "Overriding the parameters from Reference Dataset.\n",
      "categorical_column in param dict is overridden.\n",
      "\u001b[32m[I 2021-08-25 19:24:47,455]\u001b[0m Trial 7 finished with value: 0.72206 and parameters: {'max_depth': 21, 'subsample': 0.4444726305266299, 'colsample_bytree': 0.9862106781951872, 'learning_rate': 0.008887171474770821, 'reg_lambda': 21.059672931098035, 'reg_alpha': 36.88671960798414, 'min_child_samples': 78, 'num_leaves': 96, 'max_bin': 832, 'cat_smooth': 8, 'cat_l2': 0.19672163705281415}. Best is trial 3 with value: 0.72021.\u001b[0m\n"
     ]
    },
    {
     "name": "stdout",
     "output_type": "stream",
     "text": [
      "TRAIN RMSE : 0.68355 || TEST RMSE : 0.72206\n"
     ]
    },
    {
     "name": "stderr",
     "output_type": "stream",
     "text": [
      "Using categorical_feature in Dataset.\n",
      "categorical_feature in Dataset is overridden.\n",
      "New categorical_feature is [0, 1, 2, 3, 4, 5, 6, 7, 8, 9]\n",
      "Overriding the parameters from Reference Dataset.\n",
      "categorical_column in param dict is overridden.\n",
      "\u001b[32m[I 2021-08-25 19:26:01,340]\u001b[0m Trial 8 finished with value: 0.72112 and parameters: {'max_depth': 37, 'subsample': 0.6811220397863296, 'colsample_bytree': 0.8427387336344629, 'learning_rate': 0.012176349310086444, 'reg_lambda': 28.905983288111724, 'reg_alpha': 10.365858597121782, 'min_child_samples': 30, 'num_leaves': 29, 'max_bin': 520, 'cat_smooth': 18, 'cat_l2': 0.009528988642075624}. Best is trial 3 with value: 0.72021.\u001b[0m\n"
     ]
    },
    {
     "name": "stdout",
     "output_type": "stream",
     "text": [
      "TRAIN RMSE : 0.691 || TEST RMSE : 0.72112\n"
     ]
    },
    {
     "name": "stderr",
     "output_type": "stream",
     "text": [
      "Using categorical_feature in Dataset.\n",
      "categorical_feature in Dataset is overridden.\n",
      "New categorical_feature is [0, 1, 2, 3, 4, 5, 6, 7, 8, 9]\n",
      "Overriding the parameters from Reference Dataset.\n",
      "categorical_column in param dict is overridden.\n",
      "\u001b[32m[I 2021-08-25 19:27:24,317]\u001b[0m Trial 9 finished with value: 0.72088 and parameters: {'max_depth': 8, 'subsample': 0.5508896096444098, 'colsample_bytree': 0.6025539731375689, 'learning_rate': 0.0160864882726673, 'reg_lambda': 16.621526843175662, 'reg_alpha': 26.99600790902615, 'min_child_samples': 65, 'num_leaves': 123, 'max_bin': 851, 'cat_smooth': 73, 'cat_l2': 85.8117652398949}. Best is trial 3 with value: 0.72021.\u001b[0m\n"
     ]
    },
    {
     "name": "stdout",
     "output_type": "stream",
     "text": [
      "TRAIN RMSE : 0.67738 || TEST RMSE : 0.72088\n"
     ]
    },
    {
     "name": "stderr",
     "output_type": "stream",
     "text": [
      "Using categorical_feature in Dataset.\n",
      "categorical_feature in Dataset is overridden.\n",
      "New categorical_feature is [0, 1, 2, 3, 4, 5, 6, 7, 8, 9]\n",
      "Overriding the parameters from Reference Dataset.\n",
      "categorical_column in param dict is overridden.\n",
      "\u001b[32m[I 2021-08-25 19:29:33,735]\u001b[0m Trial 10 finished with value: 0.71954 and parameters: {'max_depth': 50, 'subsample': 0.2996673267123508, 'colsample_bytree': 0.30025440279015386, 'learning_rate': 0.010105407525495675, 'reg_lambda': 0.4046737702255515, 'reg_alpha': 15.023586768082899, 'min_child_samples': 39, 'num_leaves': 53, 'max_bin': 702, 'cat_smooth': 42, 'cat_l2': 1.9039426241047863}. Best is trial 10 with value: 0.71954.\u001b[0m\n"
     ]
    },
    {
     "name": "stdout",
     "output_type": "stream",
     "text": [
      "TRAIN RMSE : 0.68452 || TEST RMSE : 0.71954\n"
     ]
    },
    {
     "name": "stderr",
     "output_type": "stream",
     "text": [
      "Using categorical_feature in Dataset.\n",
      "categorical_feature in Dataset is overridden.\n",
      "New categorical_feature is [0, 1, 2, 3, 4, 5, 6, 7, 8, 9]\n",
      "Overriding the parameters from Reference Dataset.\n",
      "categorical_column in param dict is overridden.\n",
      "\u001b[32m[I 2021-08-25 19:32:48,595]\u001b[0m Trial 11 finished with value: 0.7193 and parameters: {'max_depth': 50, 'subsample': 0.3090921013917277, 'colsample_bytree': 0.24300308463932585, 'learning_rate': 0.01029506625664597, 'reg_lambda': 2.0129407608212153, 'reg_alpha': 15.022139679421853, 'min_child_samples': 39, 'num_leaves': 10, 'max_bin': 700, 'cat_smooth': 41, 'cat_l2': 2.321197971374527}. Best is trial 11 with value: 0.7193.\u001b[0m\n"
     ]
    },
    {
     "name": "stdout",
     "output_type": "stream",
     "text": [
      "TRAIN RMSE : 0.70064 || TEST RMSE : 0.7193\n"
     ]
    },
    {
     "name": "stderr",
     "output_type": "stream",
     "text": [
      "Using categorical_feature in Dataset.\n",
      "categorical_feature in Dataset is overridden.\n",
      "New categorical_feature is [0, 1, 2, 3, 4, 5, 6, 7, 8, 9]\n",
      "Overriding the parameters from Reference Dataset.\n",
      "categorical_column in param dict is overridden.\n",
      "\u001b[32m[I 2021-08-25 19:34:19,243]\u001b[0m Trial 12 finished with value: 0.71977 and parameters: {'max_depth': 49, 'subsample': 0.22777306435445055, 'colsample_bytree': 0.20948028871918734, 'learning_rate': 0.010602991408801067, 'reg_lambda': 0.09619103257989392, 'reg_alpha': 0.3960473825008144, 'min_child_samples': 34, 'num_leaves': 56, 'max_bin': 683, 'cat_smooth': 38, 'cat_l2': 4.3015636111598115}. Best is trial 11 with value: 0.7193.\u001b[0m\n"
     ]
    },
    {
     "name": "stdout",
     "output_type": "stream",
     "text": [
      "TRAIN RMSE : 0.67826 || TEST RMSE : 0.71977\n"
     ]
    },
    {
     "name": "stderr",
     "output_type": "stream",
     "text": [
      "Using categorical_feature in Dataset.\n",
      "categorical_feature in Dataset is overridden.\n",
      "New categorical_feature is [0, 1, 2, 3, 4, 5, 6, 7, 8, 9]\n",
      "Overriding the parameters from Reference Dataset.\n",
      "categorical_column in param dict is overridden.\n",
      "\u001b[32m[I 2021-08-25 19:35:47,737]\u001b[0m Trial 13 finished with value: 0.71918 and parameters: {'max_depth': 50, 'subsample': 0.33768583704582744, 'colsample_bytree': 0.20501827858315472, 'learning_rate': 0.011099820588496049, 'reg_lambda': 7.003204391581924, 'reg_alpha': 13.997294228390965, 'min_child_samples': 39, 'num_leaves': 33, 'max_bin': 800, 'cat_smooth': 35, 'cat_l2': 2.9334241378243573}. Best is trial 13 with value: 0.71918.\u001b[0m\n"
     ]
    },
    {
     "name": "stdout",
     "output_type": "stream",
     "text": [
      "TRAIN RMSE : 0.69474 || TEST RMSE : 0.71918\n"
     ]
    },
    {
     "name": "stderr",
     "output_type": "stream",
     "text": [
      "Using categorical_feature in Dataset.\n",
      "categorical_feature in Dataset is overridden.\n",
      "New categorical_feature is [0, 1, 2, 3, 4, 5, 6, 7, 8, 9]\n",
      "Overriding the parameters from Reference Dataset.\n",
      "categorical_column in param dict is overridden.\n",
      "\u001b[32m[I 2021-08-25 19:38:45,431]\u001b[0m Trial 14 finished with value: 0.72018 and parameters: {'max_depth': 44, 'subsample': 0.35276759384330053, 'colsample_bytree': 0.34929997344799546, 'learning_rate': 0.0071751640263610006, 'reg_lambda': 8.563318445208823, 'reg_alpha': 30.94525080832612, 'min_child_samples': 9, 'num_leaves': 88, 'max_bin': 823, 'cat_smooth': 30, 'cat_l2': 14.358722708744802}. Best is trial 13 with value: 0.71918.\u001b[0m\n"
     ]
    },
    {
     "name": "stdout",
     "output_type": "stream",
     "text": [
      "TRAIN RMSE : 0.68228 || TEST RMSE : 0.72018\n"
     ]
    },
    {
     "name": "stderr",
     "output_type": "stream",
     "text": [
      "Using categorical_feature in Dataset.\n",
      "categorical_feature in Dataset is overridden.\n",
      "New categorical_feature is [0, 1, 2, 3, 4, 5, 6, 7, 8, 9]\n",
      "Overriding the parameters from Reference Dataset.\n",
      "categorical_column in param dict is overridden.\n",
      "\u001b[32m[I 2021-08-25 19:41:05,634]\u001b[0m Trial 15 finished with value: 0.719 and parameters: {'max_depth': 50, 'subsample': 0.34216474081254483, 'colsample_bytree': 0.2006118632739161, 'learning_rate': 0.013895107034426622, 'reg_lambda': 6.712527303261229, 'reg_alpha': 7.530782057595565, 'min_child_samples': 44, 'num_leaves': 10, 'max_bin': 974, 'cat_smooth': 66, 'cat_l2': 0.4895693860872336}. Best is trial 15 with value: 0.719.\u001b[0m\n"
     ]
    },
    {
     "name": "stdout",
     "output_type": "stream",
     "text": [
      "TRAIN RMSE : 0.69847 || TEST RMSE : 0.719\n"
     ]
    },
    {
     "name": "stderr",
     "output_type": "stream",
     "text": [
      "Using categorical_feature in Dataset.\n",
      "categorical_feature in Dataset is overridden.\n",
      "New categorical_feature is [0, 1, 2, 3, 4, 5, 6, 7, 8, 9]\n",
      "Overriding the parameters from Reference Dataset.\n",
      "categorical_column in param dict is overridden.\n",
      "\u001b[32m[I 2021-08-25 19:42:02,153]\u001b[0m Trial 16 finished with value: 0.72 and parameters: {'max_depth': 43, 'subsample': 0.4006777497916289, 'colsample_bytree': 0.43023328501888547, 'learning_rate': 0.019682210707673127, 'reg_lambda': 8.359517176734585, 'reg_alpha': 5.801784316440268, 'min_child_samples': 21, 'num_leaves': 38, 'max_bin': 988, 'cat_smooth': 63, 'cat_l2': 0.392691103521174}. Best is trial 15 with value: 0.719.\u001b[0m\n"
     ]
    },
    {
     "name": "stdout",
     "output_type": "stream",
     "text": [
      "TRAIN RMSE : 0.67862 || TEST RMSE : 0.72\n"
     ]
    },
    {
     "name": "stderr",
     "output_type": "stream",
     "text": [
      "Using categorical_feature in Dataset.\n",
      "categorical_feature in Dataset is overridden.\n",
      "New categorical_feature is [0, 1, 2, 3, 4, 5, 6, 7, 8, 9]\n",
      "Overriding the parameters from Reference Dataset.\n",
      "categorical_column in param dict is overridden.\n",
      "\u001b[32m[I 2021-08-25 19:43:21,383]\u001b[0m Trial 17 finished with value: 0.72085 and parameters: {'max_depth': 36, 'subsample': 0.20195505591749174, 'colsample_bytree': 0.4502183376359949, 'learning_rate': 0.013547072540770125, 'reg_lambda': 6.251730065981647, 'reg_alpha': 19.35906213463938, 'min_child_samples': 50, 'num_leaves': 150, 'max_bin': 917, 'cat_smooth': 62, 'cat_l2': 0.11427793256467242}. Best is trial 15 with value: 0.719.\u001b[0m\n"
     ]
    },
    {
     "name": "stdout",
     "output_type": "stream",
     "text": [
      "TRAIN RMSE : 0.66947 || TEST RMSE : 0.72085\n"
     ]
    },
    {
     "name": "stderr",
     "output_type": "stream",
     "text": [
      "Using categorical_feature in Dataset.\n",
      "categorical_feature in Dataset is overridden.\n",
      "New categorical_feature is [0, 1, 2, 3, 4, 5, 6, 7, 8, 9]\n",
      "Overriding the parameters from Reference Dataset.\n",
      "categorical_column in param dict is overridden.\n",
      "\u001b[32m[I 2021-08-25 19:44:40,053]\u001b[0m Trial 18 finished with value: 0.71931 and parameters: {'max_depth': 49, 'subsample': 0.9817926282433634, 'colsample_bytree': 0.2027028609967189, 'learning_rate': 0.013924211094406258, 'reg_lambda': 36.42372761868906, 'reg_alpha': 9.111229067093285, 'min_child_samples': 48, 'num_leaves': 38, 'max_bin': 775, 'cat_smooth': 6, 'cat_l2': 0.01848490903103336}. Best is trial 15 with value: 0.719.\u001b[0m\n"
     ]
    },
    {
     "name": "stdout",
     "output_type": "stream",
     "text": [
      "TRAIN RMSE : 0.68887 || TEST RMSE : 0.71931\n"
     ]
    },
    {
     "name": "stderr",
     "output_type": "stream",
     "text": [
      "Using categorical_feature in Dataset.\n",
      "categorical_feature in Dataset is overridden.\n",
      "New categorical_feature is [0, 1, 2, 3, 4, 5, 6, 7, 8, 9]\n",
      "Overriding the parameters from Reference Dataset.\n",
      "categorical_column in param dict is overridden.\n",
      "\u001b[32m[I 2021-08-25 19:45:59,128]\u001b[0m Trial 19 finished with value: 0.72037 and parameters: {'max_depth': 30, 'subsample': 0.5066359243494016, 'colsample_bytree': 0.34473378304688385, 'learning_rate': 0.011930929393246671, 'reg_lambda': 12.524949885685198, 'reg_alpha': 2.811944166479087, 'min_child_samples': 71, 'num_leaves': 81, 'max_bin': 907, 'cat_smooth': 74, 'cat_l2': 0.7479943324173777}. Best is trial 15 with value: 0.719.\u001b[0m\n"
     ]
    },
    {
     "name": "stdout",
     "output_type": "stream",
     "text": [
      "TRAIN RMSE : 0.66857 || TEST RMSE : 0.72037\n"
     ]
    },
    {
     "name": "stderr",
     "output_type": "stream",
     "text": [
      "Using categorical_feature in Dataset.\n",
      "categorical_feature in Dataset is overridden.\n",
      "New categorical_feature is [0, 1, 2, 3, 4, 5, 6, 7, 8, 9]\n",
      "Overriding the parameters from Reference Dataset.\n",
      "categorical_column in param dict is overridden.\n",
      "\u001b[32m[I 2021-08-25 19:47:52,617]\u001b[0m Trial 20 finished with value: 0.71945 and parameters: {'max_depth': 8, 'subsample': 0.2801363546383644, 'colsample_bytree': 0.45756999285394434, 'learning_rate': 0.014468229061633853, 'reg_lambda': 25.500031863478565, 'reg_alpha': 11.840501374138679, 'min_child_samples': 26, 'num_leaves': 10, 'max_bin': 994, 'cat_smooth': 99, 'cat_l2': 38.83667899287722}. Best is trial 15 with value: 0.719.\u001b[0m\n"
     ]
    },
    {
     "name": "stdout",
     "output_type": "stream",
     "text": [
      "TRAIN RMSE : 0.69814 || TEST RMSE : 0.71945\n"
     ]
    },
    {
     "name": "stderr",
     "output_type": "stream",
     "text": [
      "Using categorical_feature in Dataset.\n",
      "categorical_feature in Dataset is overridden.\n",
      "New categorical_feature is [0, 1, 2, 3, 4, 5, 6, 7, 8, 9]\n",
      "Overriding the parameters from Reference Dataset.\n",
      "categorical_column in param dict is overridden.\n",
      "\u001b[32m[I 2021-08-25 19:50:22,838]\u001b[0m Trial 21 finished with value: 0.71938 and parameters: {'max_depth': 50, 'subsample': 0.357503252248676, 'colsample_bytree': 0.2593198120011084, 'learning_rate': 0.01095735387132344, 'reg_lambda': 4.246209482891695, 'reg_alpha': 14.760738342312107, 'min_child_samples': 44, 'num_leaves': 13, 'max_bin': 595, 'cat_smooth': 32, 'cat_l2': 7.01621716821574}. Best is trial 15 with value: 0.719.\u001b[0m\n"
     ]
    },
    {
     "name": "stdout",
     "output_type": "stream",
     "text": [
      "TRAIN RMSE : 0.69872 || TEST RMSE : 0.71938\n"
     ]
    },
    {
     "name": "stderr",
     "output_type": "stream",
     "text": [
      "Using categorical_feature in Dataset.\n",
      "categorical_feature in Dataset is overridden.\n",
      "New categorical_feature is [0, 1, 2, 3, 4, 5, 6, 7, 8, 9]\n",
      "Overriding the parameters from Reference Dataset.\n",
      "categorical_column in param dict is overridden.\n",
      "\u001b[32m[I 2021-08-25 19:52:46,601]\u001b[0m Trial 22 finished with value: 0.71904 and parameters: {'max_depth': 45, 'subsample': 0.3007128494118977, 'colsample_bytree': 0.21009541357835385, 'learning_rate': 0.00869625339872456, 'reg_lambda': 2.7212520776002838, 'reg_alpha': 16.5554712337564, 'min_child_samples': 36, 'num_leaves': 38, 'max_bin': 760, 'cat_smooth': 22, 'cat_l2': 1.1000408464523228}. Best is trial 15 with value: 0.719.\u001b[0m\n"
     ]
    },
    {
     "name": "stdout",
     "output_type": "stream",
     "text": [
      "TRAIN RMSE : 0.6896 || TEST RMSE : 0.71904\n"
     ]
    },
    {
     "name": "stderr",
     "output_type": "stream",
     "text": [
      "Using categorical_feature in Dataset.\n",
      "categorical_feature in Dataset is overridden.\n",
      "New categorical_feature is [0, 1, 2, 3, 4, 5, 6, 7, 8, 9]\n",
      "Overriding the parameters from Reference Dataset.\n",
      "categorical_column in param dict is overridden.\n",
      "\u001b[32m[I 2021-08-25 19:55:20,085]\u001b[0m Trial 23 finished with value: 0.71929 and parameters: {'max_depth': 45, 'subsample': 0.4131972893655961, 'colsample_bytree': 0.2065876093358091, 'learning_rate': 0.008571134668218355, 'reg_lambda': 11.403640594284743, 'reg_alpha': 20.260632484290994, 'min_child_samples': 20, 'num_leaves': 35, 'max_bin': 778, 'cat_smooth': 20, 'cat_l2': 0.9229500952453041}. Best is trial 15 with value: 0.719.\u001b[0m\n"
     ]
    },
    {
     "name": "stdout",
     "output_type": "stream",
     "text": [
      "TRAIN RMSE : 0.69183 || TEST RMSE : 0.71929\n"
     ]
    },
    {
     "name": "stderr",
     "output_type": "stream",
     "text": [
      "Using categorical_feature in Dataset.\n",
      "categorical_feature in Dataset is overridden.\n",
      "New categorical_feature is [0, 1, 2, 3, 4, 5, 6, 7, 8, 9]\n",
      "Overriding the parameters from Reference Dataset.\n",
      "categorical_column in param dict is overridden.\n",
      "\u001b[32m[I 2021-08-25 19:56:37,570]\u001b[0m Trial 24 finished with value: 0.72028 and parameters: {'max_depth': 40, 'subsample': 0.23855137680973965, 'colsample_bytree': 0.3657686108910122, 'learning_rate': 0.012429132822817, 'reg_lambda': 6.199814043441124, 'reg_alpha': 4.821676893158507, 'min_child_samples': 40, 'num_leaves': 74, 'max_bin': 764, 'cat_smooth': 16, 'cat_l2': 0.046018599885843524}. Best is trial 15 with value: 0.719.\u001b[0m\n"
     ]
    },
    {
     "name": "stdout",
     "output_type": "stream",
     "text": [
      "TRAIN RMSE : 0.67276 || TEST RMSE : 0.72028\n"
     ]
    },
    {
     "name": "stderr",
     "output_type": "stream",
     "text": [
      "Using categorical_feature in Dataset.\n",
      "categorical_feature in Dataset is overridden.\n",
      "New categorical_feature is [0, 1, 2, 3, 4, 5, 6, 7, 8, 9]\n",
      "Overriding the parameters from Reference Dataset.\n",
      "categorical_column in param dict is overridden.\n",
      "\u001b[32m[I 2021-08-25 19:59:10,096]\u001b[0m Trial 25 finished with value: 0.71943 and parameters: {'max_depth': 48, 'subsample': 0.34443423096704395, 'colsample_bytree': 0.2814828244142844, 'learning_rate': 0.008929977579565013, 'reg_lambda': 13.453289601876792, 'reg_alpha': 28.63420530880592, 'min_child_samples': 31, 'num_leaves': 48, 'max_bin': 871, 'cat_smooth': 61, 'cat_l2': 1.1884611413181358}. Best is trial 15 with value: 0.719.\u001b[0m\n"
     ]
    },
    {
     "name": "stdout",
     "output_type": "stream",
     "text": [
      "TRAIN RMSE : 0.6888 || TEST RMSE : 0.71943\n"
     ]
    },
    {
     "name": "stderr",
     "output_type": "stream",
     "text": [
      "Using categorical_feature in Dataset.\n",
      "categorical_feature in Dataset is overridden.\n",
      "New categorical_feature is [0, 1, 2, 3, 4, 5, 6, 7, 8, 9]\n",
      "Overriding the parameters from Reference Dataset.\n",
      "categorical_column in param dict is overridden.\n",
      "\u001b[32m[I 2021-08-25 20:00:36,263]\u001b[0m Trial 26 finished with value: 0.72063 and parameters: {'max_depth': 40, 'subsample': 0.40215523793332864, 'colsample_bytree': 0.713106288724184, 'learning_rate': 0.011360932343432495, 'reg_lambda': 4.194971408763891, 'reg_alpha': 12.453628120183076, 'min_child_samples': 54, 'num_leaves': 26, 'max_bin': 583, 'cat_smooth': 27, 'cat_l2': 10.704608986666877}. Best is trial 15 with value: 0.719.\u001b[0m\n"
     ]
    },
    {
     "name": "stdout",
     "output_type": "stream",
     "text": [
      "TRAIN RMSE : 0.6918 || TEST RMSE : 0.72063\n"
     ]
    },
    {
     "name": "stderr",
     "output_type": "stream",
     "text": [
      "Using categorical_feature in Dataset.\n",
      "categorical_feature in Dataset is overridden.\n",
      "New categorical_feature is [0, 1, 2, 3, 4, 5, 6, 7, 8, 9]\n",
      "Overriding the parameters from Reference Dataset.\n",
      "categorical_column in param dict is overridden.\n",
      "\u001b[32m[I 2021-08-25 20:01:41,077]\u001b[0m Trial 27 finished with value: 0.72054 and parameters: {'max_depth': 45, 'subsample': 0.2666207280715861, 'colsample_bytree': 0.3979229934773975, 'learning_rate': 0.014759462354479117, 'reg_lambda': 21.966943441500547, 'reg_alpha': 23.76458629063557, 'min_child_samples': 8, 'num_leaves': 71, 'max_bin': 776, 'cat_smooth': 10, 'cat_l2': 0.1871790725564414}. Best is trial 15 with value: 0.719.\u001b[0m\n"
     ]
    },
    {
     "name": "stdout",
     "output_type": "stream",
     "text": [
      "TRAIN RMSE : 0.68566 || TEST RMSE : 0.72054\n"
     ]
    },
    {
     "name": "stderr",
     "output_type": "stream",
     "text": [
      "Using categorical_feature in Dataset.\n",
      "categorical_feature in Dataset is overridden.\n",
      "New categorical_feature is [0, 1, 2, 3, 4, 5, 6, 7, 8, 9]\n",
      "Overriding the parameters from Reference Dataset.\n",
      "categorical_column in param dict is overridden.\n",
      "\u001b[32m[I 2021-08-25 20:03:05,420]\u001b[0m Trial 28 finished with value: 0.72074 and parameters: {'max_depth': 36, 'subsample': 0.4836265923416308, 'colsample_bytree': 0.5169651866605316, 'learning_rate': 0.01310822164797896, 'reg_lambda': 7.590093066011252, 'reg_alpha': 17.125255109912896, 'min_child_samples': 44, 'num_leaves': 112, 'max_bin': 956, 'cat_smooth': 35, 'cat_l2': 6.632605951617733}. Best is trial 15 with value: 0.719.\u001b[0m\n"
     ]
    },
    {
     "name": "stdout",
     "output_type": "stream",
     "text": [
      "TRAIN RMSE : 0.67118 || TEST RMSE : 0.72074\n"
     ]
    },
    {
     "name": "stderr",
     "output_type": "stream",
     "text": [
      "Using categorical_feature in Dataset.\n",
      "categorical_feature in Dataset is overridden.\n",
      "New categorical_feature is [0, 1, 2, 3, 4, 5, 6, 7, 8, 9]\n",
      "Overriding the parameters from Reference Dataset.\n",
      "categorical_column in param dict is overridden.\n",
      "\u001b[32m[I 2021-08-25 20:04:06,001]\u001b[0m Trial 29 finished with value: 0.72029 and parameters: {'max_depth': 26, 'subsample': 0.5505074977689524, 'colsample_bytree': 0.30392546870902953, 'learning_rate': 0.018647234334410883, 'reg_lambda': 15.596265542623966, 'reg_alpha': 8.810023763474732, 'min_child_samples': 25, 'num_leaves': 198, 'max_bin': 901, 'cat_smooth': 46, 'cat_l2': 0.3396805641031043}. Best is trial 15 with value: 0.719.\u001b[0m\n"
     ]
    },
    {
     "name": "stdout",
     "output_type": "stream",
     "text": [
      "TRAIN RMSE : 0.66315 || TEST RMSE : 0.72029\n"
     ]
    },
    {
     "name": "stderr",
     "output_type": "stream",
     "text": [
      "Using categorical_feature in Dataset.\n",
      "categorical_feature in Dataset is overridden.\n",
      "New categorical_feature is [0, 1, 2, 3, 4, 5, 6, 7, 8, 9]\n",
      "Overriding the parameters from Reference Dataset.\n",
      "categorical_column in param dict is overridden.\n",
      "\u001b[32m[I 2021-08-25 20:07:06,087]\u001b[0m Trial 30 finished with value: 0.71933 and parameters: {'max_depth': 47, 'subsample': 0.7654414438645958, 'colsample_bytree': 0.2017474057929701, 'learning_rate': 0.007667131655766272, 'reg_lambda': 3.733048946904602, 'reg_alpha': 49.92094982948064, 'min_child_samples': 60, 'num_leaves': 42, 'max_bin': 735, 'cat_smooth': 24, 'cat_l2': 1.3055122149499103}. Best is trial 15 with value: 0.719.\u001b[0m\n"
     ]
    },
    {
     "name": "stdout",
     "output_type": "stream",
     "text": [
      "TRAIN RMSE : 0.69686 || TEST RMSE : 0.71933\n"
     ]
    },
    {
     "name": "stderr",
     "output_type": "stream",
     "text": [
      "Using categorical_feature in Dataset.\n",
      "categorical_feature in Dataset is overridden.\n",
      "New categorical_feature is [0, 1, 2, 3, 4, 5, 6, 7, 8, 9]\n",
      "Overriding the parameters from Reference Dataset.\n",
      "categorical_column in param dict is overridden.\n",
      "\u001b[32m[I 2021-08-25 20:09:40,109]\u001b[0m Trial 31 finished with value: 0.71919 and parameters: {'max_depth': 42, 'subsample': 0.41259778599053265, 'colsample_bytree': 0.20520038075454483, 'learning_rate': 0.008900799244108394, 'reg_lambda': 10.54003833286476, 'reg_alpha': 20.493490829872385, 'min_child_samples': 17, 'num_leaves': 31, 'max_bin': 822, 'cat_smooth': 18, 'cat_l2': 0.8931546419802718}. Best is trial 15 with value: 0.719.\u001b[0m\n"
     ]
    },
    {
     "name": "stdout",
     "output_type": "stream",
     "text": [
      "TRAIN RMSE : 0.69402 || TEST RMSE : 0.71919\n"
     ]
    },
    {
     "name": "stderr",
     "output_type": "stream",
     "text": [
      "Using categorical_feature in Dataset.\n",
      "categorical_feature in Dataset is overridden.\n",
      "New categorical_feature is [0, 1, 2, 3, 4, 5, 6, 7, 8, 9]\n",
      "Overriding the parameters from Reference Dataset.\n",
      "categorical_column in param dict is overridden.\n",
      "\u001b[32m[I 2021-08-25 20:11:51,334]\u001b[0m Trial 32 finished with value: 0.7193 and parameters: {'max_depth': 42, 'subsample': 0.33599732380099856, 'colsample_bytree': 0.2474740732246089, 'learning_rate': 0.0094008045184289, 'reg_lambda': 10.100156071154919, 'reg_alpha': 18.62288271639465, 'min_child_samples': 16, 'num_leaves': 26, 'max_bin': 815, 'cat_smooth': 13, 'cat_l2': 3.9488775195984873}. Best is trial 15 with value: 0.719.\u001b[0m\n"
     ]
    },
    {
     "name": "stdout",
     "output_type": "stream",
     "text": [
      "TRAIN RMSE : 0.6954 || TEST RMSE : 0.7193\n"
     ]
    },
    {
     "name": "stderr",
     "output_type": "stream",
     "text": [
      "Using categorical_feature in Dataset.\n",
      "categorical_feature in Dataset is overridden.\n",
      "New categorical_feature is [0, 1, 2, 3, 4, 5, 6, 7, 8, 9]\n",
      "Overriding the parameters from Reference Dataset.\n",
      "categorical_column in param dict is overridden.\n",
      "\u001b[32m[I 2021-08-25 20:14:12,633]\u001b[0m Trial 33 finished with value: 0.71982 and parameters: {'max_depth': 47, 'subsample': 0.4411890946018858, 'colsample_bytree': 0.31766162253623137, 'learning_rate': 0.008087139012689277, 'reg_lambda': 14.259217766877352, 'reg_alpha': 22.600984447824203, 'min_child_samples': 35, 'num_leaves': 48, 'max_bin': 873, 'cat_smooth': 22, 'cat_l2': 0.643134825255739}. Best is trial 15 with value: 0.719.\u001b[0m\n"
     ]
    },
    {
     "name": "stdout",
     "output_type": "stream",
     "text": [
      "TRAIN RMSE : 0.68931 || TEST RMSE : 0.71982\n"
     ]
    },
    {
     "name": "stderr",
     "output_type": "stream",
     "text": [
      "Using categorical_feature in Dataset.\n",
      "categorical_feature in Dataset is overridden.\n",
      "New categorical_feature is [0, 1, 2, 3, 4, 5, 6, 7, 8, 9]\n",
      "Overriding the parameters from Reference Dataset.\n",
      "categorical_column in param dict is overridden.\n",
      "\u001b[32m[I 2021-08-25 20:16:16,730]\u001b[0m Trial 34 finished with value: 0.71909 and parameters: {'max_depth': 38, 'subsample': 0.37758486291648596, 'colsample_bytree': 0.2001530926045126, 'learning_rate': 0.011477011337424722, 'reg_lambda': 2.9496955350267013, 'reg_alpha': 32.7605850298968, 'min_child_samples': 14, 'num_leaves': 21, 'max_bin': 639, 'cat_smooth': 55, 'cat_l2': 0.20221569042903398}. Best is trial 15 with value: 0.719.\u001b[0m\n"
     ]
    },
    {
     "name": "stdout",
     "output_type": "stream",
     "text": [
      "TRAIN RMSE : 0.69959 || TEST RMSE : 0.71909\n"
     ]
    },
    {
     "name": "stderr",
     "output_type": "stream",
     "text": [
      "Using categorical_feature in Dataset.\n",
      "categorical_feature in Dataset is overridden.\n",
      "New categorical_feature is [0, 1, 2, 3, 4, 5, 6, 7, 8, 9]\n",
      "Overriding the parameters from Reference Dataset.\n",
      "categorical_column in param dict is overridden.\n",
      "\u001b[32m[I 2021-08-25 20:18:55,794]\u001b[0m Trial 35 finished with value: 0.71941 and parameters: {'max_depth': 38, 'subsample': 0.27938724366885326, 'colsample_bytree': 0.2537487510753467, 'learning_rate': 0.011498612787230583, 'reg_lambda': 0.06445896767355741, 'reg_alpha': 33.698286319206765, 'min_child_samples': 46, 'num_leaves': 20, 'max_bin': 622, 'cat_smooth': 54, 'cat_l2': 0.05075132040622935}. Best is trial 15 with value: 0.719.\u001b[0m\n"
     ]
    },
    {
     "name": "stdout",
     "output_type": "stream",
     "text": [
      "TRAIN RMSE : 0.69662 || TEST RMSE : 0.71941\n"
     ]
    },
    {
     "name": "stderr",
     "output_type": "stream",
     "text": [
      "Using categorical_feature in Dataset.\n",
      "categorical_feature in Dataset is overridden.\n",
      "New categorical_feature is [0, 1, 2, 3, 4, 5, 6, 7, 8, 9]\n",
      "Overriding the parameters from Reference Dataset.\n",
      "categorical_column in param dict is overridden.\n",
      "\u001b[32m[I 2021-08-25 20:21:32,844]\u001b[0m Trial 36 finished with value: 0.71982 and parameters: {'max_depth': 46, 'subsample': 0.3674339313245385, 'colsample_bytree': 0.3810799318283806, 'learning_rate': 0.012932561436666028, 'reg_lambda': 3.6273530426689438, 'reg_alpha': 38.872469156248144, 'min_child_samples': 56, 'num_leaves': 11, 'max_bin': 563, 'cat_smooth': 68, 'cat_l2': 0.11321415838759923}. Best is trial 15 with value: 0.719.\u001b[0m\n"
     ]
    },
    {
     "name": "stdout",
     "output_type": "stream",
     "text": [
      "TRAIN RMSE : 0.70181 || TEST RMSE : 0.71982\n"
     ]
    },
    {
     "name": "stderr",
     "output_type": "stream",
     "text": [
      "Using categorical_feature in Dataset.\n",
      "categorical_feature in Dataset is overridden.\n",
      "New categorical_feature is [0, 1, 2, 3, 4, 5, 6, 7, 8, 9]\n",
      "Overriding the parameters from Reference Dataset.\n",
      "categorical_column in param dict is overridden.\n",
      "\u001b[32m[I 2021-08-25 20:23:29,287]\u001b[0m Trial 37 finished with value: 0.71974 and parameters: {'max_depth': 39, 'subsample': 0.6056669514185613, 'colsample_bytree': 0.2347796200571446, 'learning_rate': 0.009711381115959606, 'reg_lambda': 19.41062910446518, 'reg_alpha': 26.163366422178164, 'min_child_samples': 11, 'num_leaves': 68, 'max_bin': 663, 'cat_smooth': 56, 'cat_l2': 0.23586643545054786}. Best is trial 15 with value: 0.719.\u001b[0m\n"
     ]
    },
    {
     "name": "stdout",
     "output_type": "stream",
     "text": [
      "TRAIN RMSE : 0.68771 || TEST RMSE : 0.71974\n"
     ]
    },
    {
     "name": "stderr",
     "output_type": "stream",
     "text": [
      "Using categorical_feature in Dataset.\n",
      "categorical_feature in Dataset is overridden.\n",
      "New categorical_feature is [0, 1, 2, 3, 4, 5, 6, 7, 8, 9]\n",
      "Overriding the parameters from Reference Dataset.\n",
      "categorical_column in param dict is overridden.\n",
      "\u001b[32m[I 2021-08-25 20:25:22,018]\u001b[0m Trial 38 finished with value: 0.72116 and parameters: {'max_depth': 33, 'subsample': 0.24797594511362775, 'colsample_bytree': 0.5057605875065739, 'learning_rate': 0.01118470791014212, 'reg_lambda': 2.082637078279319, 'reg_alpha': 32.926844309490576, 'min_child_samples': 26, 'num_leaves': 151, 'max_bin': 542, 'cat_smooth': 85, 'cat_l2': 1.9200684282966698}. Best is trial 15 with value: 0.719.\u001b[0m\n"
     ]
    },
    {
     "name": "stdout",
     "output_type": "stream",
     "text": [
      "TRAIN RMSE : 0.67448 || TEST RMSE : 0.72116\n"
     ]
    },
    {
     "name": "stderr",
     "output_type": "stream",
     "text": [
      "Using categorical_feature in Dataset.\n",
      "categorical_feature in Dataset is overridden.\n",
      "New categorical_feature is [0, 1, 2, 3, 4, 5, 6, 7, 8, 9]\n",
      "Overriding the parameters from Reference Dataset.\n",
      "categorical_column in param dict is overridden.\n",
      "\u001b[32m[I 2021-08-25 20:26:58,843]\u001b[0m Trial 39 finished with value: 0.72057 and parameters: {'max_depth': 21, 'subsample': 0.4588367666126144, 'colsample_bytree': 0.7084275665915543, 'learning_rate': 0.013831747551054218, 'reg_lambda': 5.923769680022978, 'reg_alpha': 41.051900183458585, 'min_child_samples': 63, 'num_leaves': 21, 'max_bin': 487, 'cat_smooth': 49, 'cat_l2': 0.4702274395686788}. Best is trial 15 with value: 0.719.\u001b[0m\n"
     ]
    },
    {
     "name": "stdout",
     "output_type": "stream",
     "text": [
      "TRAIN RMSE : 0.69764 || TEST RMSE : 0.72057\n"
     ]
    },
    {
     "name": "stderr",
     "output_type": "stream",
     "text": [
      "Using categorical_feature in Dataset.\n",
      "categorical_feature in Dataset is overridden.\n",
      "New categorical_feature is [0, 1, 2, 3, 4, 5, 6, 7, 8, 9]\n",
      "Overriding the parameters from Reference Dataset.\n",
      "categorical_column in param dict is overridden.\n",
      "\u001b[32m[I 2021-08-25 20:27:46,283]\u001b[0m Trial 40 finished with value: 0.71989 and parameters: {'max_depth': 42, 'subsample': 0.20921296434199443, 'colsample_bytree': 0.2658458840993267, 'learning_rate': 0.017413012313986825, 'reg_lambda': 9.650557068362472, 'reg_alpha': 6.906443962776353, 'min_child_samples': 5, 'num_leaves': 58, 'max_bin': 653, 'cat_smooth': 70, 'cat_l2': 0.02676077126268952}. Best is trial 15 with value: 0.719.\u001b[0m\n"
     ]
    },
    {
     "name": "stdout",
     "output_type": "stream",
     "text": [
      "TRAIN RMSE : 0.68801 || TEST RMSE : 0.71989\n"
     ]
    },
    {
     "name": "stderr",
     "output_type": "stream",
     "text": [
      "Using categorical_feature in Dataset.\n",
      "categorical_feature in Dataset is overridden.\n",
      "New categorical_feature is [0, 1, 2, 3, 4, 5, 6, 7, 8, 9]\n",
      "Overriding the parameters from Reference Dataset.\n",
      "categorical_column in param dict is overridden.\n",
      "\u001b[32m[I 2021-08-25 20:30:27,928]\u001b[0m Trial 41 finished with value: 0.7192 and parameters: {'max_depth': 41, 'subsample': 0.31590788379241946, 'colsample_bytree': 0.20000693463243632, 'learning_rate': 0.007142291805146709, 'reg_lambda': 10.43271418773328, 'reg_alpha': 12.451138675783046, 'min_child_samples': 13, 'num_leaves': 32, 'max_bin': 745, 'cat_smooth': 56, 'cat_l2': 0.10406662914431655}. Best is trial 15 with value: 0.719.\u001b[0m\n"
     ]
    },
    {
     "name": "stdout",
     "output_type": "stream",
     "text": [
      "TRAIN RMSE : 0.69232 || TEST RMSE : 0.7192\n"
     ]
    },
    {
     "name": "stderr",
     "output_type": "stream",
     "text": [
      "Using categorical_feature in Dataset.\n",
      "categorical_feature in Dataset is overridden.\n",
      "New categorical_feature is [0, 1, 2, 3, 4, 5, 6, 7, 8, 9]\n",
      "Overriding the parameters from Reference Dataset.\n",
      "categorical_column in param dict is overridden.\n",
      "\u001b[32m[I 2021-08-25 20:32:54,963]\u001b[0m Trial 42 finished with value: 0.71986 and parameters: {'max_depth': 34, 'subsample': 0.36997848146856216, 'colsample_bytree': 0.3229910661352174, 'learning_rate': 0.008204383518694408, 'reg_lambda': 0.0430479076990542, 'reg_alpha': 16.947539037084518, 'min_child_samples': 17, 'num_leaves': 43, 'max_bin': 729, 'cat_smooth': 15, 'cat_l2': 0.9936951740449463}. Best is trial 15 with value: 0.719.\u001b[0m\n"
     ]
    },
    {
     "name": "stdout",
     "output_type": "stream",
     "text": [
      "TRAIN RMSE : 0.68468 || TEST RMSE : 0.71986\n"
     ]
    },
    {
     "name": "stderr",
     "output_type": "stream",
     "text": [
      "Using categorical_feature in Dataset.\n",
      "categorical_feature in Dataset is overridden.\n",
      "New categorical_feature is [0, 1, 2, 3, 4, 5, 6, 7, 8, 9]\n",
      "Overriding the parameters from Reference Dataset.\n",
      "categorical_column in param dict is overridden.\n",
      "\u001b[32m[I 2021-08-25 20:35:55,589]\u001b[0m Trial 43 finished with value: 0.71893 and parameters: {'max_depth': 44, 'subsample': 0.394545907670217, 'colsample_bytree': 0.20198138209747638, 'learning_rate': 0.009310766402801046, 'reg_lambda': 6.237661450596901, 'reg_alpha': 22.879691155166864, 'min_child_samples': 32, 'num_leaves': 17, 'max_bin': 797, 'cat_smooth': 81, 'cat_l2': 3.716241852773303}. Best is trial 43 with value: 0.71893.\u001b[0m\n"
     ]
    },
    {
     "name": "stdout",
     "output_type": "stream",
     "text": [
      "TRAIN RMSE : 0.6977 || TEST RMSE : 0.71893\n"
     ]
    },
    {
     "name": "stderr",
     "output_type": "stream",
     "text": [
      "Using categorical_feature in Dataset.\n",
      "categorical_feature in Dataset is overridden.\n",
      "New categorical_feature is [0, 1, 2, 3, 4, 5, 6, 7, 8, 9]\n",
      "Overriding the parameters from Reference Dataset.\n",
      "categorical_column in param dict is overridden.\n",
      "\u001b[32m[I 2021-08-25 20:38:23,920]\u001b[0m Trial 44 finished with value: 0.71936 and parameters: {'max_depth': 47, 'subsample': 0.3127043579678655, 'colsample_bytree': 0.28539867315846956, 'learning_rate': 0.010367599438060869, 'reg_lambda': 2.473765675278724, 'reg_alpha': 28.218707623961762, 'min_child_samples': 34, 'num_leaves': 19, 'max_bin': 624, 'cat_smooth': 86, 'cat_l2': 3.2075042744034965}. Best is trial 43 with value: 0.71893.\u001b[0m\n"
     ]
    },
    {
     "name": "stdout",
     "output_type": "stream",
     "text": [
      "TRAIN RMSE : 0.69762 || TEST RMSE : 0.71936\n"
     ]
    },
    {
     "name": "stderr",
     "output_type": "stream",
     "text": [
      "Using categorical_feature in Dataset.\n",
      "categorical_feature in Dataset is overridden.\n",
      "New categorical_feature is [0, 1, 2, 3, 4, 5, 6, 7, 8, 9]\n",
      "Overriding the parameters from Reference Dataset.\n",
      "categorical_column in param dict is overridden.\n",
      "\u001b[32m[I 2021-08-25 20:40:55,917]\u001b[0m Trial 45 finished with value: 0.7196 and parameters: {'max_depth': 44, 'subsample': 0.4956386880102689, 'colsample_bytree': 0.22628261825721158, 'learning_rate': 0.009373719349874458, 'reg_lambda': 5.9142702966057135, 'reg_alpha': 25.35754541109696, 'min_child_samples': 40, 'num_leaves': 19, 'max_bin': 337, 'cat_smooth': 99, 'cat_l2': 34.37058227811838}. Best is trial 43 with value: 0.71893.\u001b[0m\n"
     ]
    },
    {
     "name": "stdout",
     "output_type": "stream",
     "text": [
      "TRAIN RMSE : 0.69997 || TEST RMSE : 0.7196\n"
     ]
    },
    {
     "name": "stderr",
     "output_type": "stream",
     "text": [
      "Using categorical_feature in Dataset.\n",
      "categorical_feature in Dataset is overridden.\n",
      "New categorical_feature is [0, 1, 2, 3, 4, 5, 6, 7, 8, 9]\n",
      "Overriding the parameters from Reference Dataset.\n",
      "categorical_column in param dict is overridden.\n",
      "\u001b[32m[I 2021-08-25 20:43:09,244]\u001b[0m Trial 46 finished with value: 0.71921 and parameters: {'max_depth': 50, 'subsample': 0.525070518497827, 'colsample_bytree': 0.2801394820943529, 'learning_rate': 0.012230470130642346, 'reg_lambda': 18.13031134948581, 'reg_alpha': 22.652852361191183, 'min_child_samples': 29, 'num_leaves': 12, 'max_bin': 801, 'cat_smooth': 79, 'cat_l2': 1.6421255047466654}. Best is trial 43 with value: 0.71893.\u001b[0m\n"
     ]
    },
    {
     "name": "stdout",
     "output_type": "stream",
     "text": [
      "TRAIN RMSE : 0.70165 || TEST RMSE : 0.71921\n"
     ]
    },
    {
     "name": "stderr",
     "output_type": "stream",
     "text": [
      "Using categorical_feature in Dataset.\n",
      "categorical_feature in Dataset is overridden.\n",
      "New categorical_feature is [0, 1, 2, 3, 4, 5, 6, 7, 8, 9]\n",
      "Overriding the parameters from Reference Dataset.\n",
      "categorical_column in param dict is overridden.\n",
      "\u001b[32m[I 2021-08-25 20:45:16,098]\u001b[0m Trial 47 finished with value: 0.71917 and parameters: {'max_depth': 28, 'subsample': 0.38403472873789624, 'colsample_bytree': 0.20098486474014152, 'learning_rate': 0.010754100006837323, 'reg_lambda': 49.147284257318084, 'reg_alpha': 31.046818657712663, 'min_child_samples': 52, 'num_leaves': 27, 'max_bin': 679, 'cat_smooth': 43, 'cat_l2': 0.0019710705402769765}. Best is trial 43 with value: 0.71893.\u001b[0m\n"
     ]
    },
    {
     "name": "stdout",
     "output_type": "stream",
     "text": [
      "TRAIN RMSE : 0.69746 || TEST RMSE : 0.71917\n"
     ]
    },
    {
     "name": "stderr",
     "output_type": "stream",
     "text": [
      "Using categorical_feature in Dataset.\n",
      "categorical_feature in Dataset is overridden.\n",
      "New categorical_feature is [0, 1, 2, 3, 4, 5, 6, 7, 8, 9]\n",
      "Overriding the parameters from Reference Dataset.\n",
      "categorical_column in param dict is overridden.\n",
      "\u001b[32m[I 2021-08-25 20:47:21,164]\u001b[0m Trial 48 finished with value: 0.71953 and parameters: {'max_depth': 18, 'subsample': 0.4452153671306576, 'colsample_bytree': 0.23557959160762562, 'learning_rate': 0.010022685952593374, 'reg_lambda': 46.94927257769855, 'reg_alpha': 34.15623516085317, 'min_child_samples': 69, 'num_leaves': 49, 'max_bin': 685, 'cat_smooth': 78, 'cat_l2': 0.0026550046029441324}. Best is trial 43 with value: 0.71893.\u001b[0m\n"
     ]
    },
    {
     "name": "stdout",
     "output_type": "stream",
     "text": [
      "TRAIN RMSE : 0.69275 || TEST RMSE : 0.71953\n"
     ]
    },
    {
     "name": "stderr",
     "output_type": "stream",
     "text": [
      "Using categorical_feature in Dataset.\n",
      "categorical_feature in Dataset is overridden.\n",
      "New categorical_feature is [0, 1, 2, 3, 4, 5, 6, 7, 8, 9]\n",
      "Overriding the parameters from Reference Dataset.\n",
      "categorical_column in param dict is overridden.\n",
      "\u001b[32m[I 2021-08-25 20:50:13,400]\u001b[0m Trial 49 finished with value: 0.71949 and parameters: {'max_depth': 28, 'subsample': 0.5807950384301813, 'colsample_bytree': 0.33002006796193084, 'learning_rate': 0.010641056628858293, 'reg_lambda': 36.06690443440692, 'reg_alpha': 30.009217036543262, 'min_child_samples': 52, 'num_leaves': 10, 'max_bin': 716, 'cat_smooth': 44, 'cat_l2': 0.004829284369929262}. Best is trial 43 with value: 0.71893.\u001b[0m\n"
     ]
    },
    {
     "name": "stdout",
     "output_type": "stream",
     "text": [
      "TRAIN RMSE : 0.70157 || TEST RMSE : 0.71949\n",
      "Wall time: 1h 37min 45s\n"
     ]
    }
   ],
   "source": [
    "%%time\n",
    "\n",
    "optimize = partial(objective, X=X_train, y=y_train)\n",
    "\n",
    "study_lgbm = optuna.create_study(direction='minimize')\n",
    "study_lgbm.optimize(optimize, n_trials=50)\n",
    "\n",
    "# i have commented out the trials so as to cut short the notebook execution time."
   ]
  },
  {
   "cell_type": "code",
   "execution_count": 73,
   "metadata": {
    "ExecuteTime": {
     "end_time": "2021-08-26T11:23:08.153528Z",
     "start_time": "2021-08-26T11:23:08.133550Z"
    }
   },
   "outputs": [
    {
     "data": {
      "text/plain": [
       "{'max_depth': 44,\n",
       " 'subsample': 0.394545907670217,\n",
       " 'colsample_bytree': 0.20198138209747638,\n",
       " 'learning_rate': 0.009310766402801046,\n",
       " 'reg_lambda': 6.237661450596901,\n",
       " 'reg_alpha': 22.879691155166864,\n",
       " 'min_child_samples': 32,\n",
       " 'num_leaves': 17,\n",
       " 'max_bin': 797,\n",
       " 'cat_smooth': 81,\n",
       " 'cat_l2': 3.716241852773303}"
      ]
     },
     "execution_count": 73,
     "metadata": {},
     "output_type": "execute_result"
    }
   ],
   "source": [
    "#From the above optuna trials the best parameters i could find were the following ones!\n",
    "\n",
    "study_lgbm.best_params"
   ]
  },
  {
   "cell_type": "code",
   "execution_count": 74,
   "metadata": {
    "ExecuteTime": {
     "end_time": "2021-08-26T11:23:10.222642Z",
     "start_time": "2021-08-26T11:23:10.215611Z"
    }
   },
   "outputs": [],
   "source": [
    "lgbm_params = {\n",
    " 'max_depth': 44,\n",
    " 'subsample': 0.394545907670217,\n",
    " 'colsample_bytree': 0.20198138209747638,\n",
    " 'learning_rate': 0.009310766402801046,\n",
    " 'reg_lambda': 6.237661450596901,\n",
    " 'reg_alpha': 22.879691155166864,\n",
    " 'min_child_samples': 32,\n",
    " 'num_leaves': 17,\n",
    " 'max_bin': 797,\n",
    " 'cat_smooth': 81,\n",
    " 'cat_l2': 3.716241852773303,\n",
    " 'metric': 'rmse', \n",
    " 'n_jobs': -1, \n",
    " 'n_estimators': 20000\n",
    "}"
   ]
  },
  {
   "cell_type": "code",
   "execution_count": 75,
   "metadata": {
    "ExecuteTime": {
     "end_time": "2021-08-26T11:25:14.130049Z",
     "start_time": "2021-08-26T11:23:21.701760Z"
    }
   },
   "outputs": [
    {
     "name": "stderr",
     "output_type": "stream",
     "text": [
      "Using categorical_feature in Dataset.\n",
      "categorical_feature in Dataset is overridden.\n",
      "New categorical_feature is [0, 1, 2, 3, 4, 5, 6, 7, 8, 9]\n",
      "Overriding the parameters from Reference Dataset.\n",
      "categorical_column in param dict is overridden.\n"
     ]
    },
    {
     "name": "stdout",
     "output_type": "stream",
     "text": [
      "Wall time: 1min 52s\n"
     ]
    }
   ],
   "source": [
    "%%time\n",
    "# creating a pre trained model to use in objective.\n",
    "X_tr, X_val, y_tr, y_val = train_test_split(X_train, y_train, test_size=0.2, random_state=0)\n",
    "lgbm = LGBMRegressor(**lgbm_params).fit(X_tr, y_tr, eval_set=[(X_val, y_val)],\n",
    "                          eval_metric=['rmse'],\n",
    "                          early_stopping_rounds=250, \n",
    "                          categorical_feature=[0, 1, 2, 3, 4, 5, 6, 7, 8, 9],\n",
    "                          #categorical_feature=categorical_feature,\n",
    "                          verbose=0)"
   ]
  },
  {
   "cell_type": "code",
   "execution_count": 89,
   "metadata": {
    "ExecuteTime": {
     "end_time": "2021-08-26T12:15:32.033771Z",
     "start_time": "2021-08-26T12:15:32.013774Z"
    }
   },
   "outputs": [],
   "source": [
    "def objective_extremefine(trial, X, y, model, iterations=5):\n",
    "\n",
    "    X_train, X_val, y_train, y_val = train_test_split(X, y, test_size=0.2, random_state=0)\n",
    "    \n",
    "    f1 = trial.suggest_uniform('f1', 0.1, 1.0)\n",
    "    f2 = trial.suggest_uniform('f2', 0.1, 3)\n",
    "    f3 = trial.suggest_int('f3', 20, 100)\n",
    "    f4 = trial.suggest_int('f4', 20, 50)\n",
    "    f5 = trial.suggest_int('f5', 1, 5)\n",
    "    lr_factor = trial.suggest_uniform('lr_factor', 0.1, 0.7)\n",
    "    \n",
    "    params = lgbm_params.copy()\n",
    "        \n",
    "    #print(f'RMSE for base model is {np.sqrt(mean_squared_error(y_val, model.predict(X_val)))}')\n",
    "\n",
    "    for i in range(1, iterations):\n",
    "        if i > 2:\n",
    "            params['reg_lambda'] *=  f1\n",
    "            params['reg_alpha'] += f2\n",
    "            params['num_leaves'] += f3\n",
    "            params['min_child_samples'] -= f4\n",
    "            params['cat_smooth'] -= f5\n",
    "            params['learning_rate'] *= lr_factor\n",
    "            #params['max_depth'] += f5\n",
    "\n",
    "       \n",
    "        params['learning_rate'] = params['learning_rate'] if params['learning_rate'] > 0.0009 else 0.0009\n",
    "        # need to stop learning rate to reduce to a very insignificant value, hence we use this threshold\n",
    "\n",
    "        model = LGBMRegressor(**params).fit(X_train, y_train, eval_set=[(X_val, y_val)],\n",
    "                          eval_metric=['rmse'],\n",
    "                          early_stopping_rounds=200, \n",
    "                          categorical_feature=[0, 1, 2, 3, 4, 5, 6, 7, 8, 9],\n",
    "                          verbose=1000,\n",
    "                          init_model=model if i > 1 else lgbm)# we will use pre trained model for first iteration\n",
    "     \n",
    "        print(f'RMSE for {i}th model is {np.sqrt(mean_squared_error(y_val, model.predict(X_val)))}')\n",
    "           \n",
    "              \n",
    "    RMSE = mean_squared_error(y_val, model.predict(X_val), squared=False)\n",
    "    return RMSE"
   ]
  },
  {
   "cell_type": "code",
   "execution_count": 90,
   "metadata": {
    "ExecuteTime": {
     "end_time": "2021-08-26T12:19:23.569266Z",
     "start_time": "2021-08-26T12:15:33.950131Z"
    }
   },
   "outputs": [
    {
     "name": "stderr",
     "output_type": "stream",
     "text": [
      "\u001b[32m[I 2021-08-26 09:15:33,951]\u001b[0m A new study created in memory with name: no-name-9b720c0a-feea-4d08-be01-78d2d73b1033\u001b[0m\n",
      "Overriding the parameters from Reference Dataset.\n",
      "categorical_column in param dict is overridden.\n"
     ]
    },
    {
     "name": "stdout",
     "output_type": "stream",
     "text": [
      "Training until validation scores don't improve for 200 rounds\n",
      "Early stopping, best iteration is:\n",
      "[12677]\tvalid_0's rmse: 0.718929\n",
      "RMSE for 1th model is 0.7189292573511086\n"
     ]
    },
    {
     "name": "stderr",
     "output_type": "stream",
     "text": [
      "Using categorical_feature in Dataset.\n",
      "categorical_feature in Dataset is overridden.\n",
      "New categorical_feature is [0, 1, 2, 3, 4, 5, 6, 7, 8, 9]\n",
      "Overriding the parameters from Reference Dataset.\n",
      "categorical_column in param dict is overridden.\n"
     ]
    },
    {
     "name": "stdout",
     "output_type": "stream",
     "text": [
      "Training until validation scores don't improve for 200 rounds\n",
      "Early stopping, best iteration is:\n",
      "[12761]\tvalid_0's rmse: 0.718927\n",
      "RMSE for 2th model is 0.7189274958430608\n"
     ]
    },
    {
     "name": "stderr",
     "output_type": "stream",
     "text": [
      "Using categorical_feature in Dataset.\n",
      "categorical_feature in Dataset is overridden.\n",
      "New categorical_feature is [0, 1, 2, 3, 4, 5, 6, 7, 8, 9]\n",
      "Overriding the parameters from Reference Dataset.\n",
      "categorical_column in param dict is overridden.\n"
     ]
    },
    {
     "name": "stdout",
     "output_type": "stream",
     "text": [
      "Training until validation scores don't improve for 200 rounds\n",
      "Early stopping, best iteration is:\n",
      "[12784]\tvalid_0's rmse: 0.718927\n"
     ]
    },
    {
     "name": "stderr",
     "output_type": "stream",
     "text": [
      "Using categorical_feature in Dataset.\n",
      "categorical_feature in Dataset is overridden.\n",
      "New categorical_feature is [0, 1, 2, 3, 4, 5, 6, 7, 8, 9]\n",
      "\u001b[33m[W 2021-08-26 09:19:23,503]\u001b[0m Trial 0 failed because of the following error: LightGBMError('Check failed: (min_data_in_leaf) >= (0) at D:\\\\a\\\\1\\\\s\\\\python-package\\\\compile\\\\src\\\\io\\\\config_auto.cpp, line 340 .\\n')\n",
      "Traceback (most recent call last):\n",
      "  File \"C:\\Users\\johnny.horita\\AppData\\Roaming\\Python\\Python38\\site-packages\\optuna\\_optimize.py\", line 216, in _run_trial\n",
      "    value_or_values = func(trial)\n",
      "  File \"<ipython-input-89-54b979f31a13>\", line 30, in objective_extremefine\n",
      "    model = LGBMRegressor(**params).fit(X_train, y_train, eval_set=[(X_val, y_val)],\n",
      "  File \"C:\\Users\\johnny.horita\\AppData\\Roaming\\Python\\Python38\\site-packages\\lightgbm\\sklearn.py\", line 818, in fit\n",
      "    super().fit(X, y, sample_weight=sample_weight, init_score=init_score,\n",
      "  File \"C:\\Users\\johnny.horita\\AppData\\Roaming\\Python\\Python38\\site-packages\\lightgbm\\sklearn.py\", line 683, in fit\n",
      "    self._Booster = train(params, train_set,\n",
      "  File \"C:\\Users\\johnny.horita\\AppData\\Roaming\\Python\\Python38\\site-packages\\lightgbm\\engine.py\", line 228, in train\n",
      "    booster = Booster(params=params, train_set=train_set)\n",
      "  File \"C:\\Users\\johnny.horita\\AppData\\Roaming\\Python\\Python38\\site-packages\\lightgbm\\basic.py\", line 2229, in __init__\n",
      "    train_set.construct()\n",
      "  File \"C:\\Users\\johnny.horita\\AppData\\Roaming\\Python\\Python38\\site-packages\\lightgbm\\basic.py\", line 1468, in construct\n",
      "    self._lazy_init(self.data, label=self.label,\n",
      "  File \"C:\\Users\\johnny.horita\\AppData\\Roaming\\Python\\Python38\\site-packages\\lightgbm\\basic.py\", line 1270, in _lazy_init\n",
      "    self.__init_from_np2d(data, params_str, ref_dataset)\n",
      "  File \"C:\\Users\\johnny.horita\\AppData\\Roaming\\Python\\Python38\\site-packages\\lightgbm\\basic.py\", line 1312, in __init_from_np2d\n",
      "    _safe_call(_LIB.LGBM_DatasetCreateFromMat(\n",
      "  File \"C:\\Users\\johnny.horita\\AppData\\Roaming\\Python\\Python38\\site-packages\\lightgbm\\basic.py\", line 110, in _safe_call\n",
      "    raise LightGBMError(_LIB.LGBM_GetLastError().decode('utf-8'))\n",
      "lightgbm.basic.LightGBMError: Check failed: (min_data_in_leaf) >= (0) at D:\\a\\1\\s\\python-package\\compile\\src\\io\\config_auto.cpp, line 340 .\n",
      "\u001b[0m\n"
     ]
    },
    {
     "name": "stdout",
     "output_type": "stream",
     "text": [
      "RMSE for 3th model is 0.7189272709164225\n"
     ]
    },
    {
     "ename": "LightGBMError",
     "evalue": "Check failed: (min_data_in_leaf) >= (0) at D:\\a\\1\\s\\python-package\\compile\\src\\io\\config_auto.cpp, line 340 .\n",
     "output_type": "error",
     "traceback": [
      "\u001b[1;31m---------------------------------------------------------------------------\u001b[0m",
      "\u001b[1;31mLightGBMError\u001b[0m                             Traceback (most recent call last)",
      "\u001b[1;32m<ipython-input-90-ac0ac74b3420>\u001b[0m in \u001b[0;36m<module>\u001b[1;34m\u001b[0m\n\u001b[0;32m      1\u001b[0m \u001b[0mstudy_ef\u001b[0m \u001b[1;33m=\u001b[0m \u001b[0moptuna\u001b[0m\u001b[1;33m.\u001b[0m\u001b[0mcreate_study\u001b[0m\u001b[1;33m(\u001b[0m\u001b[0mdirection\u001b[0m\u001b[1;33m=\u001b[0m\u001b[1;34m'minimize'\u001b[0m\u001b[1;33m)\u001b[0m\u001b[1;33m\u001b[0m\u001b[1;33m\u001b[0m\u001b[0m\n\u001b[0;32m      2\u001b[0m \u001b[0moptimize\u001b[0m \u001b[1;33m=\u001b[0m \u001b[0mpartial\u001b[0m\u001b[1;33m(\u001b[0m\u001b[0mobjective_extremefine\u001b[0m\u001b[1;33m,\u001b[0m \u001b[0mX\u001b[0m\u001b[1;33m=\u001b[0m\u001b[0mX_train\u001b[0m\u001b[1;33m,\u001b[0m \u001b[0my\u001b[0m\u001b[1;33m=\u001b[0m\u001b[0my_train\u001b[0m\u001b[1;33m,\u001b[0m \u001b[0mmodel\u001b[0m\u001b[1;33m=\u001b[0m\u001b[0mLGBMRegressor\u001b[0m\u001b[1;33m)\u001b[0m\u001b[1;33m\u001b[0m\u001b[1;33m\u001b[0m\u001b[0m\n\u001b[1;32m----> 3\u001b[1;33m \u001b[0mstudy_ef\u001b[0m\u001b[1;33m.\u001b[0m\u001b[0moptimize\u001b[0m\u001b[1;33m(\u001b[0m\u001b[0moptimize\u001b[0m\u001b[1;33m,\u001b[0m \u001b[0mn_trials\u001b[0m\u001b[1;33m=\u001b[0m\u001b[1;36m50\u001b[0m\u001b[1;33m)\u001b[0m\u001b[1;33m\u001b[0m\u001b[1;33m\u001b[0m\u001b[0m\n\u001b[0m",
      "\u001b[1;32m~\\AppData\\Roaming\\Python\\Python38\\site-packages\\optuna\\study.py\u001b[0m in \u001b[0;36moptimize\u001b[1;34m(self, func, n_trials, timeout, n_jobs, catch, callbacks, gc_after_trial, show_progress_bar)\u001b[0m\n\u001b[0;32m    399\u001b[0m             )\n\u001b[0;32m    400\u001b[0m \u001b[1;33m\u001b[0m\u001b[0m\n\u001b[1;32m--> 401\u001b[1;33m         _optimize(\n\u001b[0m\u001b[0;32m    402\u001b[0m             \u001b[0mstudy\u001b[0m\u001b[1;33m=\u001b[0m\u001b[0mself\u001b[0m\u001b[1;33m,\u001b[0m\u001b[1;33m\u001b[0m\u001b[1;33m\u001b[0m\u001b[0m\n\u001b[0;32m    403\u001b[0m             \u001b[0mfunc\u001b[0m\u001b[1;33m=\u001b[0m\u001b[0mfunc\u001b[0m\u001b[1;33m,\u001b[0m\u001b[1;33m\u001b[0m\u001b[1;33m\u001b[0m\u001b[0m\n",
      "\u001b[1;32m~\\AppData\\Roaming\\Python\\Python38\\site-packages\\optuna\\_optimize.py\u001b[0m in \u001b[0;36m_optimize\u001b[1;34m(study, func, n_trials, timeout, n_jobs, catch, callbacks, gc_after_trial, show_progress_bar)\u001b[0m\n\u001b[0;32m     63\u001b[0m     \u001b[1;32mtry\u001b[0m\u001b[1;33m:\u001b[0m\u001b[1;33m\u001b[0m\u001b[1;33m\u001b[0m\u001b[0m\n\u001b[0;32m     64\u001b[0m         \u001b[1;32mif\u001b[0m \u001b[0mn_jobs\u001b[0m \u001b[1;33m==\u001b[0m \u001b[1;36m1\u001b[0m\u001b[1;33m:\u001b[0m\u001b[1;33m\u001b[0m\u001b[1;33m\u001b[0m\u001b[0m\n\u001b[1;32m---> 65\u001b[1;33m             _optimize_sequential(\n\u001b[0m\u001b[0;32m     66\u001b[0m                 \u001b[0mstudy\u001b[0m\u001b[1;33m,\u001b[0m\u001b[1;33m\u001b[0m\u001b[1;33m\u001b[0m\u001b[0m\n\u001b[0;32m     67\u001b[0m                 \u001b[0mfunc\u001b[0m\u001b[1;33m,\u001b[0m\u001b[1;33m\u001b[0m\u001b[1;33m\u001b[0m\u001b[0m\n",
      "\u001b[1;32m~\\AppData\\Roaming\\Python\\Python38\\site-packages\\optuna\\_optimize.py\u001b[0m in \u001b[0;36m_optimize_sequential\u001b[1;34m(study, func, n_trials, timeout, catch, callbacks, gc_after_trial, reseed_sampler_rng, time_start, progress_bar)\u001b[0m\n\u001b[0;32m    160\u001b[0m \u001b[1;33m\u001b[0m\u001b[0m\n\u001b[0;32m    161\u001b[0m         \u001b[1;32mtry\u001b[0m\u001b[1;33m:\u001b[0m\u001b[1;33m\u001b[0m\u001b[1;33m\u001b[0m\u001b[0m\n\u001b[1;32m--> 162\u001b[1;33m             \u001b[0mtrial\u001b[0m \u001b[1;33m=\u001b[0m \u001b[0m_run_trial\u001b[0m\u001b[1;33m(\u001b[0m\u001b[0mstudy\u001b[0m\u001b[1;33m,\u001b[0m \u001b[0mfunc\u001b[0m\u001b[1;33m,\u001b[0m \u001b[0mcatch\u001b[0m\u001b[1;33m)\u001b[0m\u001b[1;33m\u001b[0m\u001b[1;33m\u001b[0m\u001b[0m\n\u001b[0m\u001b[0;32m    163\u001b[0m         \u001b[1;32mexcept\u001b[0m \u001b[0mException\u001b[0m\u001b[1;33m:\u001b[0m\u001b[1;33m\u001b[0m\u001b[1;33m\u001b[0m\u001b[0m\n\u001b[0;32m    164\u001b[0m             \u001b[1;32mraise\u001b[0m\u001b[1;33m\u001b[0m\u001b[1;33m\u001b[0m\u001b[0m\n",
      "\u001b[1;32m~\\AppData\\Roaming\\Python\\Python38\\site-packages\\optuna\\_optimize.py\u001b[0m in \u001b[0;36m_run_trial\u001b[1;34m(study, func, catch)\u001b[0m\n\u001b[0;32m    265\u001b[0m \u001b[1;33m\u001b[0m\u001b[0m\n\u001b[0;32m    266\u001b[0m     \u001b[1;32mif\u001b[0m \u001b[0mstate\u001b[0m \u001b[1;33m==\u001b[0m \u001b[0mTrialState\u001b[0m\u001b[1;33m.\u001b[0m\u001b[0mFAIL\u001b[0m \u001b[1;32mand\u001b[0m \u001b[0mfunc_err\u001b[0m \u001b[1;32mis\u001b[0m \u001b[1;32mnot\u001b[0m \u001b[1;32mNone\u001b[0m \u001b[1;32mand\u001b[0m \u001b[1;32mnot\u001b[0m \u001b[0misinstance\u001b[0m\u001b[1;33m(\u001b[0m\u001b[0mfunc_err\u001b[0m\u001b[1;33m,\u001b[0m \u001b[0mcatch\u001b[0m\u001b[1;33m)\u001b[0m\u001b[1;33m:\u001b[0m\u001b[1;33m\u001b[0m\u001b[1;33m\u001b[0m\u001b[0m\n\u001b[1;32m--> 267\u001b[1;33m         \u001b[1;32mraise\u001b[0m \u001b[0mfunc_err\u001b[0m\u001b[1;33m\u001b[0m\u001b[1;33m\u001b[0m\u001b[0m\n\u001b[0m\u001b[0;32m    268\u001b[0m     \u001b[1;32mreturn\u001b[0m \u001b[0mtrial\u001b[0m\u001b[1;33m\u001b[0m\u001b[1;33m\u001b[0m\u001b[0m\n\u001b[0;32m    269\u001b[0m \u001b[1;33m\u001b[0m\u001b[0m\n",
      "\u001b[1;32m~\\AppData\\Roaming\\Python\\Python38\\site-packages\\optuna\\_optimize.py\u001b[0m in \u001b[0;36m_run_trial\u001b[1;34m(study, func, catch)\u001b[0m\n\u001b[0;32m    214\u001b[0m \u001b[1;33m\u001b[0m\u001b[0m\n\u001b[0;32m    215\u001b[0m     \u001b[1;32mtry\u001b[0m\u001b[1;33m:\u001b[0m\u001b[1;33m\u001b[0m\u001b[1;33m\u001b[0m\u001b[0m\n\u001b[1;32m--> 216\u001b[1;33m         \u001b[0mvalue_or_values\u001b[0m \u001b[1;33m=\u001b[0m \u001b[0mfunc\u001b[0m\u001b[1;33m(\u001b[0m\u001b[0mtrial\u001b[0m\u001b[1;33m)\u001b[0m\u001b[1;33m\u001b[0m\u001b[1;33m\u001b[0m\u001b[0m\n\u001b[0m\u001b[0;32m    217\u001b[0m     \u001b[1;32mexcept\u001b[0m \u001b[0mexceptions\u001b[0m\u001b[1;33m.\u001b[0m\u001b[0mTrialPruned\u001b[0m \u001b[1;32mas\u001b[0m \u001b[0me\u001b[0m\u001b[1;33m:\u001b[0m\u001b[1;33m\u001b[0m\u001b[1;33m\u001b[0m\u001b[0m\n\u001b[0;32m    218\u001b[0m         \u001b[1;31m# TODO(mamu): Handle multi-objective cases.\u001b[0m\u001b[1;33m\u001b[0m\u001b[1;33m\u001b[0m\u001b[1;33m\u001b[0m\u001b[0m\n",
      "\u001b[1;32m<ipython-input-89-54b979f31a13>\u001b[0m in \u001b[0;36mobjective_extremefine\u001b[1;34m(trial, X, y, model, iterations)\u001b[0m\n\u001b[0;32m     28\u001b[0m         \u001b[1;31m# need to stop learning rate to reduce to a very insignificant value, hence we use this threshold\u001b[0m\u001b[1;33m\u001b[0m\u001b[1;33m\u001b[0m\u001b[1;33m\u001b[0m\u001b[0m\n\u001b[0;32m     29\u001b[0m \u001b[1;33m\u001b[0m\u001b[0m\n\u001b[1;32m---> 30\u001b[1;33m         model = LGBMRegressor(**params).fit(X_train, y_train, eval_set=[(X_val, y_val)],\n\u001b[0m\u001b[0;32m     31\u001b[0m                           \u001b[0meval_metric\u001b[0m\u001b[1;33m=\u001b[0m\u001b[1;33m[\u001b[0m\u001b[1;34m'rmse'\u001b[0m\u001b[1;33m]\u001b[0m\u001b[1;33m,\u001b[0m\u001b[1;33m\u001b[0m\u001b[1;33m\u001b[0m\u001b[0m\n\u001b[0;32m     32\u001b[0m                           \u001b[0mearly_stopping_rounds\u001b[0m\u001b[1;33m=\u001b[0m\u001b[1;36m200\u001b[0m\u001b[1;33m,\u001b[0m\u001b[1;33m\u001b[0m\u001b[1;33m\u001b[0m\u001b[0m\n",
      "\u001b[1;32m~\\AppData\\Roaming\\Python\\Python38\\site-packages\\lightgbm\\sklearn.py\u001b[0m in \u001b[0;36mfit\u001b[1;34m(self, X, y, sample_weight, init_score, eval_set, eval_names, eval_sample_weight, eval_init_score, eval_metric, early_stopping_rounds, verbose, feature_name, categorical_feature, callbacks, init_model)\u001b[0m\n\u001b[0;32m    816\u001b[0m             callbacks=None, init_model=None):\n\u001b[0;32m    817\u001b[0m         \u001b[1;34m\"\"\"Docstring is inherited from the LGBMModel.\"\"\"\u001b[0m\u001b[1;33m\u001b[0m\u001b[1;33m\u001b[0m\u001b[0m\n\u001b[1;32m--> 818\u001b[1;33m         super().fit(X, y, sample_weight=sample_weight, init_score=init_score,\n\u001b[0m\u001b[0;32m    819\u001b[0m                     \u001b[0meval_set\u001b[0m\u001b[1;33m=\u001b[0m\u001b[0meval_set\u001b[0m\u001b[1;33m,\u001b[0m \u001b[0meval_names\u001b[0m\u001b[1;33m=\u001b[0m\u001b[0meval_names\u001b[0m\u001b[1;33m,\u001b[0m \u001b[0meval_sample_weight\u001b[0m\u001b[1;33m=\u001b[0m\u001b[0meval_sample_weight\u001b[0m\u001b[1;33m,\u001b[0m\u001b[1;33m\u001b[0m\u001b[1;33m\u001b[0m\u001b[0m\n\u001b[0;32m    820\u001b[0m                     \u001b[0meval_init_score\u001b[0m\u001b[1;33m=\u001b[0m\u001b[0meval_init_score\u001b[0m\u001b[1;33m,\u001b[0m \u001b[0meval_metric\u001b[0m\u001b[1;33m=\u001b[0m\u001b[0meval_metric\u001b[0m\u001b[1;33m,\u001b[0m\u001b[1;33m\u001b[0m\u001b[1;33m\u001b[0m\u001b[0m\n",
      "\u001b[1;32m~\\AppData\\Roaming\\Python\\Python38\\site-packages\\lightgbm\\sklearn.py\u001b[0m in \u001b[0;36mfit\u001b[1;34m(self, X, y, sample_weight, init_score, group, eval_set, eval_names, eval_sample_weight, eval_class_weight, eval_init_score, eval_group, eval_metric, early_stopping_rounds, verbose, feature_name, categorical_feature, callbacks, init_model)\u001b[0m\n\u001b[0;32m    681\u001b[0m             \u001b[0minit_model\u001b[0m \u001b[1;33m=\u001b[0m \u001b[0minit_model\u001b[0m\u001b[1;33m.\u001b[0m\u001b[0mbooster_\u001b[0m\u001b[1;33m\u001b[0m\u001b[1;33m\u001b[0m\u001b[0m\n\u001b[0;32m    682\u001b[0m \u001b[1;33m\u001b[0m\u001b[0m\n\u001b[1;32m--> 683\u001b[1;33m         self._Booster = train(params, train_set,\n\u001b[0m\u001b[0;32m    684\u001b[0m                               \u001b[0mself\u001b[0m\u001b[1;33m.\u001b[0m\u001b[0mn_estimators\u001b[0m\u001b[1;33m,\u001b[0m \u001b[0mvalid_sets\u001b[0m\u001b[1;33m=\u001b[0m\u001b[0mvalid_sets\u001b[0m\u001b[1;33m,\u001b[0m \u001b[0mvalid_names\u001b[0m\u001b[1;33m=\u001b[0m\u001b[0meval_names\u001b[0m\u001b[1;33m,\u001b[0m\u001b[1;33m\u001b[0m\u001b[1;33m\u001b[0m\u001b[0m\n\u001b[0;32m    685\u001b[0m                               \u001b[0mearly_stopping_rounds\u001b[0m\u001b[1;33m=\u001b[0m\u001b[0mearly_stopping_rounds\u001b[0m\u001b[1;33m,\u001b[0m\u001b[1;33m\u001b[0m\u001b[1;33m\u001b[0m\u001b[0m\n",
      "\u001b[1;32m~\\AppData\\Roaming\\Python\\Python38\\site-packages\\lightgbm\\engine.py\u001b[0m in \u001b[0;36mtrain\u001b[1;34m(params, train_set, num_boost_round, valid_sets, valid_names, fobj, feval, init_model, feature_name, categorical_feature, early_stopping_rounds, evals_result, verbose_eval, learning_rates, keep_training_booster, callbacks)\u001b[0m\n\u001b[0;32m    226\u001b[0m     \u001b[1;31m# construct booster\u001b[0m\u001b[1;33m\u001b[0m\u001b[1;33m\u001b[0m\u001b[1;33m\u001b[0m\u001b[0m\n\u001b[0;32m    227\u001b[0m     \u001b[1;32mtry\u001b[0m\u001b[1;33m:\u001b[0m\u001b[1;33m\u001b[0m\u001b[1;33m\u001b[0m\u001b[0m\n\u001b[1;32m--> 228\u001b[1;33m         \u001b[0mbooster\u001b[0m \u001b[1;33m=\u001b[0m \u001b[0mBooster\u001b[0m\u001b[1;33m(\u001b[0m\u001b[0mparams\u001b[0m\u001b[1;33m=\u001b[0m\u001b[0mparams\u001b[0m\u001b[1;33m,\u001b[0m \u001b[0mtrain_set\u001b[0m\u001b[1;33m=\u001b[0m\u001b[0mtrain_set\u001b[0m\u001b[1;33m)\u001b[0m\u001b[1;33m\u001b[0m\u001b[1;33m\u001b[0m\u001b[0m\n\u001b[0m\u001b[0;32m    229\u001b[0m         \u001b[1;32mif\u001b[0m \u001b[0mis_valid_contain_train\u001b[0m\u001b[1;33m:\u001b[0m\u001b[1;33m\u001b[0m\u001b[1;33m\u001b[0m\u001b[0m\n\u001b[0;32m    230\u001b[0m             \u001b[0mbooster\u001b[0m\u001b[1;33m.\u001b[0m\u001b[0mset_train_data_name\u001b[0m\u001b[1;33m(\u001b[0m\u001b[0mtrain_data_name\u001b[0m\u001b[1;33m)\u001b[0m\u001b[1;33m\u001b[0m\u001b[1;33m\u001b[0m\u001b[0m\n",
      "\u001b[1;32m~\\AppData\\Roaming\\Python\\Python38\\site-packages\\lightgbm\\basic.py\u001b[0m in \u001b[0;36m__init__\u001b[1;34m(self, params, train_set, model_file, model_str, silent)\u001b[0m\n\u001b[0;32m   2227\u001b[0m                 )\n\u001b[0;32m   2228\u001b[0m             \u001b[1;31m# construct booster object\u001b[0m\u001b[1;33m\u001b[0m\u001b[1;33m\u001b[0m\u001b[1;33m\u001b[0m\u001b[0m\n\u001b[1;32m-> 2229\u001b[1;33m             \u001b[0mtrain_set\u001b[0m\u001b[1;33m.\u001b[0m\u001b[0mconstruct\u001b[0m\u001b[1;33m(\u001b[0m\u001b[1;33m)\u001b[0m\u001b[1;33m\u001b[0m\u001b[1;33m\u001b[0m\u001b[0m\n\u001b[0m\u001b[0;32m   2230\u001b[0m             \u001b[1;31m# copy the parameters from train_set\u001b[0m\u001b[1;33m\u001b[0m\u001b[1;33m\u001b[0m\u001b[1;33m\u001b[0m\u001b[0m\n\u001b[0;32m   2231\u001b[0m             \u001b[0mparams\u001b[0m\u001b[1;33m.\u001b[0m\u001b[0mupdate\u001b[0m\u001b[1;33m(\u001b[0m\u001b[0mtrain_set\u001b[0m\u001b[1;33m.\u001b[0m\u001b[0mget_params\u001b[0m\u001b[1;33m(\u001b[0m\u001b[1;33m)\u001b[0m\u001b[1;33m)\u001b[0m\u001b[1;33m\u001b[0m\u001b[1;33m\u001b[0m\u001b[0m\n",
      "\u001b[1;32m~\\AppData\\Roaming\\Python\\Python38\\site-packages\\lightgbm\\basic.py\u001b[0m in \u001b[0;36mconstruct\u001b[1;34m(self)\u001b[0m\n\u001b[0;32m   1466\u001b[0m             \u001b[1;32melse\u001b[0m\u001b[1;33m:\u001b[0m\u001b[1;33m\u001b[0m\u001b[1;33m\u001b[0m\u001b[0m\n\u001b[0;32m   1467\u001b[0m                 \u001b[1;31m# create train\u001b[0m\u001b[1;33m\u001b[0m\u001b[1;33m\u001b[0m\u001b[1;33m\u001b[0m\u001b[0m\n\u001b[1;32m-> 1468\u001b[1;33m                 self._lazy_init(self.data, label=self.label,\n\u001b[0m\u001b[0;32m   1469\u001b[0m                                 \u001b[0mweight\u001b[0m\u001b[1;33m=\u001b[0m\u001b[0mself\u001b[0m\u001b[1;33m.\u001b[0m\u001b[0mweight\u001b[0m\u001b[1;33m,\u001b[0m \u001b[0mgroup\u001b[0m\u001b[1;33m=\u001b[0m\u001b[0mself\u001b[0m\u001b[1;33m.\u001b[0m\u001b[0mgroup\u001b[0m\u001b[1;33m,\u001b[0m\u001b[1;33m\u001b[0m\u001b[1;33m\u001b[0m\u001b[0m\n\u001b[0;32m   1470\u001b[0m                                 \u001b[0minit_score\u001b[0m\u001b[1;33m=\u001b[0m\u001b[0mself\u001b[0m\u001b[1;33m.\u001b[0m\u001b[0minit_score\u001b[0m\u001b[1;33m,\u001b[0m \u001b[0mpredictor\u001b[0m\u001b[1;33m=\u001b[0m\u001b[0mself\u001b[0m\u001b[1;33m.\u001b[0m\u001b[0m_predictor\u001b[0m\u001b[1;33m,\u001b[0m\u001b[1;33m\u001b[0m\u001b[1;33m\u001b[0m\u001b[0m\n",
      "\u001b[1;32m~\\AppData\\Roaming\\Python\\Python38\\site-packages\\lightgbm\\basic.py\u001b[0m in \u001b[0;36m_lazy_init\u001b[1;34m(self, data, label, reference, weight, group, init_score, predictor, silent, feature_name, categorical_feature, params)\u001b[0m\n\u001b[0;32m   1268\u001b[0m             \u001b[0mself\u001b[0m\u001b[1;33m.\u001b[0m\u001b[0m__init_from_csc\u001b[0m\u001b[1;33m(\u001b[0m\u001b[0mdata\u001b[0m\u001b[1;33m,\u001b[0m \u001b[0mparams_str\u001b[0m\u001b[1;33m,\u001b[0m \u001b[0mref_dataset\u001b[0m\u001b[1;33m)\u001b[0m\u001b[1;33m\u001b[0m\u001b[1;33m\u001b[0m\u001b[0m\n\u001b[0;32m   1269\u001b[0m         \u001b[1;32melif\u001b[0m \u001b[0misinstance\u001b[0m\u001b[1;33m(\u001b[0m\u001b[0mdata\u001b[0m\u001b[1;33m,\u001b[0m \u001b[0mnp\u001b[0m\u001b[1;33m.\u001b[0m\u001b[0mndarray\u001b[0m\u001b[1;33m)\u001b[0m\u001b[1;33m:\u001b[0m\u001b[1;33m\u001b[0m\u001b[1;33m\u001b[0m\u001b[0m\n\u001b[1;32m-> 1270\u001b[1;33m             \u001b[0mself\u001b[0m\u001b[1;33m.\u001b[0m\u001b[0m__init_from_np2d\u001b[0m\u001b[1;33m(\u001b[0m\u001b[0mdata\u001b[0m\u001b[1;33m,\u001b[0m \u001b[0mparams_str\u001b[0m\u001b[1;33m,\u001b[0m \u001b[0mref_dataset\u001b[0m\u001b[1;33m)\u001b[0m\u001b[1;33m\u001b[0m\u001b[1;33m\u001b[0m\u001b[0m\n\u001b[0m\u001b[0;32m   1271\u001b[0m         \u001b[1;32melif\u001b[0m \u001b[0misinstance\u001b[0m\u001b[1;33m(\u001b[0m\u001b[0mdata\u001b[0m\u001b[1;33m,\u001b[0m \u001b[0mlist\u001b[0m\u001b[1;33m)\u001b[0m \u001b[1;32mand\u001b[0m \u001b[0mlen\u001b[0m\u001b[1;33m(\u001b[0m\u001b[0mdata\u001b[0m\u001b[1;33m)\u001b[0m \u001b[1;33m>\u001b[0m \u001b[1;36m0\u001b[0m \u001b[1;32mand\u001b[0m \u001b[0mall\u001b[0m\u001b[1;33m(\u001b[0m\u001b[0misinstance\u001b[0m\u001b[1;33m(\u001b[0m\u001b[0mx\u001b[0m\u001b[1;33m,\u001b[0m \u001b[0mnp\u001b[0m\u001b[1;33m.\u001b[0m\u001b[0mndarray\u001b[0m\u001b[1;33m)\u001b[0m \u001b[1;32mfor\u001b[0m \u001b[0mx\u001b[0m \u001b[1;32min\u001b[0m \u001b[0mdata\u001b[0m\u001b[1;33m)\u001b[0m\u001b[1;33m:\u001b[0m\u001b[1;33m\u001b[0m\u001b[1;33m\u001b[0m\u001b[0m\n\u001b[0;32m   1272\u001b[0m             \u001b[0mself\u001b[0m\u001b[1;33m.\u001b[0m\u001b[0m__init_from_list_np2d\u001b[0m\u001b[1;33m(\u001b[0m\u001b[0mdata\u001b[0m\u001b[1;33m,\u001b[0m \u001b[0mparams_str\u001b[0m\u001b[1;33m,\u001b[0m \u001b[0mref_dataset\u001b[0m\u001b[1;33m)\u001b[0m\u001b[1;33m\u001b[0m\u001b[1;33m\u001b[0m\u001b[0m\n",
      "\u001b[1;32m~\\AppData\\Roaming\\Python\\Python38\\site-packages\\lightgbm\\basic.py\u001b[0m in \u001b[0;36m__init_from_np2d\u001b[1;34m(self, mat, params_str, ref_dataset)\u001b[0m\n\u001b[0;32m   1310\u001b[0m \u001b[1;33m\u001b[0m\u001b[0m\n\u001b[0;32m   1311\u001b[0m         \u001b[0mptr_data\u001b[0m\u001b[1;33m,\u001b[0m \u001b[0mtype_ptr_data\u001b[0m\u001b[1;33m,\u001b[0m \u001b[0m_\u001b[0m \u001b[1;33m=\u001b[0m \u001b[0mc_float_array\u001b[0m\u001b[1;33m(\u001b[0m\u001b[0mdata\u001b[0m\u001b[1;33m)\u001b[0m\u001b[1;33m\u001b[0m\u001b[1;33m\u001b[0m\u001b[0m\n\u001b[1;32m-> 1312\u001b[1;33m         _safe_call(_LIB.LGBM_DatasetCreateFromMat(\n\u001b[0m\u001b[0;32m   1313\u001b[0m             \u001b[0mptr_data\u001b[0m\u001b[1;33m,\u001b[0m\u001b[1;33m\u001b[0m\u001b[1;33m\u001b[0m\u001b[0m\n\u001b[0;32m   1314\u001b[0m             \u001b[0mctypes\u001b[0m\u001b[1;33m.\u001b[0m\u001b[0mc_int\u001b[0m\u001b[1;33m(\u001b[0m\u001b[0mtype_ptr_data\u001b[0m\u001b[1;33m)\u001b[0m\u001b[1;33m,\u001b[0m\u001b[1;33m\u001b[0m\u001b[1;33m\u001b[0m\u001b[0m\n",
      "\u001b[1;32m~\\AppData\\Roaming\\Python\\Python38\\site-packages\\lightgbm\\basic.py\u001b[0m in \u001b[0;36m_safe_call\u001b[1;34m(ret)\u001b[0m\n\u001b[0;32m    108\u001b[0m     \"\"\"\n\u001b[0;32m    109\u001b[0m     \u001b[1;32mif\u001b[0m \u001b[0mret\u001b[0m \u001b[1;33m!=\u001b[0m \u001b[1;36m0\u001b[0m\u001b[1;33m:\u001b[0m\u001b[1;33m\u001b[0m\u001b[1;33m\u001b[0m\u001b[0m\n\u001b[1;32m--> 110\u001b[1;33m         \u001b[1;32mraise\u001b[0m \u001b[0mLightGBMError\u001b[0m\u001b[1;33m(\u001b[0m\u001b[0m_LIB\u001b[0m\u001b[1;33m.\u001b[0m\u001b[0mLGBM_GetLastError\u001b[0m\u001b[1;33m(\u001b[0m\u001b[1;33m)\u001b[0m\u001b[1;33m.\u001b[0m\u001b[0mdecode\u001b[0m\u001b[1;33m(\u001b[0m\u001b[1;34m'utf-8'\u001b[0m\u001b[1;33m)\u001b[0m\u001b[1;33m)\u001b[0m\u001b[1;33m\u001b[0m\u001b[1;33m\u001b[0m\u001b[0m\n\u001b[0m\u001b[0;32m    111\u001b[0m \u001b[1;33m\u001b[0m\u001b[0m\n\u001b[0;32m    112\u001b[0m \u001b[1;33m\u001b[0m\u001b[0m\n",
      "\u001b[1;31mLightGBMError\u001b[0m: Check failed: (min_data_in_leaf) >= (0) at D:\\a\\1\\s\\python-package\\compile\\src\\io\\config_auto.cpp, line 340 .\n"
     ]
    }
   ],
   "source": [
    "study_ef = optuna.create_study(direction='minimize')\n",
    "optimize = partial(objective_extremefine, X=X_train, y=y_train, model=LGBMRegressor)\n",
    "study_ef.optimize(optimize, n_trials=50)"
   ]
  },
  {
   "cell_type": "code",
   "execution_count": null,
   "metadata": {},
   "outputs": [],
   "source": [
    "study_ef.best_params"
   ]
  },
  {
   "cell_type": "markdown",
   "metadata": {},
   "source": [
    "# Step 4: Train a model"
   ]
  },
  {
   "cell_type": "code",
   "execution_count": null,
   "metadata": {},
   "outputs": [],
   "source": [
    "lgbm_params = {'max_depth': 16, \n",
    "                'subsample': 0.8032697250789377, \n",
    "                'colsample_bytree': 0.21067140508531404, \n",
    "                'learning_rate': 0.009867383057779643,\n",
    "                'reg_lambda': 10.987474846877767, \n",
    "                'reg_alpha': 17.335285595031994, \n",
    "                'min_child_samples': 31, \n",
    "                'num_leaves': 66, \n",
    "                'max_bin': 522, \n",
    "                'cat_smooth': 81, \n",
    "                'cat_l2': 0.029690334194270022, \n",
    "                'metric': 'rmse', \n",
    "                'n_jobs': -1, \n",
    "                'n_estimators': 20000}"
   ]
  },
  {
   "cell_type": "code",
   "execution_count": 53,
   "metadata": {
    "ExecuteTime": {
     "end_time": "2021-08-26T05:15:14.944092Z",
     "start_time": "2021-08-26T02:17:10.451272Z"
    },
    "scrolled": false
   },
   "outputs": [
    {
     "name": "stderr",
     "output_type": "stream",
     "text": [
      "Using categorical_feature in Dataset.\n",
      "categorical_feature in Dataset is overridden.\n",
      "New categorical_feature is [0, 1, 2, 3, 4, 5, 6, 7, 8, 9]\n",
      "Overriding the parameters from Reference Dataset.\n",
      "categorical_column in param dict is overridden.\n"
     ]
    },
    {
     "name": "stdout",
     "output_type": "stream",
     "text": [
      "RMSE for Base model is 0.7107550230541116\n"
     ]
    },
    {
     "name": "stderr",
     "output_type": "stream",
     "text": [
      "Using categorical_feature in Dataset.\n",
      "categorical_feature in Dataset is overridden.\n",
      "New categorical_feature is [0, 1, 2, 3, 4, 5, 6, 7, 8, 9]\n",
      "Overriding the parameters from Reference Dataset.\n",
      "categorical_column in param dict is overridden.\n"
     ]
    },
    {
     "name": "stdout",
     "output_type": "stream",
     "text": [
      "RMSE for Incremental trial 1 model is 0.7107522072192628\n"
     ]
    },
    {
     "name": "stderr",
     "output_type": "stream",
     "text": [
      "Using categorical_feature in Dataset.\n",
      "categorical_feature in Dataset is overridden.\n",
      "New categorical_feature is [0, 1, 2, 3, 4, 5, 6, 7, 8, 9]\n",
      "Overriding the parameters from Reference Dataset.\n",
      "categorical_column in param dict is overridden.\n"
     ]
    },
    {
     "name": "stdout",
     "output_type": "stream",
     "text": [
      "RMSE for Incremental trial 2 model is 0.7107514377729396\n"
     ]
    },
    {
     "name": "stderr",
     "output_type": "stream",
     "text": [
      "Using categorical_feature in Dataset.\n",
      "categorical_feature in Dataset is overridden.\n",
      "New categorical_feature is [0, 1, 2, 3, 4, 5, 6, 7, 8, 9]\n",
      "Overriding the parameters from Reference Dataset.\n",
      "categorical_column in param dict is overridden.\n"
     ]
    },
    {
     "name": "stdout",
     "output_type": "stream",
     "text": [
      "RMSE for Incremental trial 3 model is 0.7107199011671975\n"
     ]
    },
    {
     "name": "stderr",
     "output_type": "stream",
     "text": [
      "Using categorical_feature in Dataset.\n",
      "categorical_feature in Dataset is overridden.\n",
      "New categorical_feature is [0, 1, 2, 3, 4, 5, 6, 7, 8, 9]\n",
      "Overriding the parameters from Reference Dataset.\n",
      "categorical_column in param dict is overridden.\n"
     ]
    },
    {
     "name": "stdout",
     "output_type": "stream",
     "text": [
      "RMSE for Incremental trial 4 model is 0.7107171056410114\n"
     ]
    },
    {
     "name": "stderr",
     "output_type": "stream",
     "text": [
      "Using categorical_feature in Dataset.\n",
      "categorical_feature in Dataset is overridden.\n",
      "New categorical_feature is [0, 1, 2, 3, 4, 5, 6, 7, 8, 9]\n",
      "Overriding the parameters from Reference Dataset.\n",
      "categorical_column in param dict is overridden.\n"
     ]
    },
    {
     "name": "stdout",
     "output_type": "stream",
     "text": [
      "RMSE for Incremental trial 5 model is 0.7107137446433405\n"
     ]
    },
    {
     "name": "stderr",
     "output_type": "stream",
     "text": [
      "Using categorical_feature in Dataset.\n",
      "categorical_feature in Dataset is overridden.\n",
      "New categorical_feature is [0, 1, 2, 3, 4, 5, 6, 7, 8, 9]\n",
      "Overriding the parameters from Reference Dataset.\n",
      "categorical_column in param dict is overridden.\n"
     ]
    },
    {
     "name": "stdout",
     "output_type": "stream",
     "text": [
      "RMSE for Incremental trial 6 model is 0.7107133524542298\n"
     ]
    },
    {
     "name": "stderr",
     "output_type": "stream",
     "text": [
      "Using categorical_feature in Dataset.\n",
      "categorical_feature in Dataset is overridden.\n",
      "New categorical_feature is [0, 1, 2, 3, 4, 5, 6, 7, 8, 9]\n",
      "Overriding the parameters from Reference Dataset.\n",
      "categorical_column in param dict is overridden.\n"
     ]
    },
    {
     "name": "stdout",
     "output_type": "stream",
     "text": [
      "RMSE for Incremental trial 7 model is 0.7107127516435672\n",
      "\n",
      "\n",
      "Improvement of : 4.227141054446992e-05\n",
      "----------------------------------------------------------------------------------------------------\n"
     ]
    },
    {
     "name": "stderr",
     "output_type": "stream",
     "text": [
      "Using categorical_feature in Dataset.\n",
      "categorical_feature in Dataset is overridden.\n",
      "New categorical_feature is [0, 1, 2, 3, 4, 5, 6, 7, 8, 9]\n",
      "Overriding the parameters from Reference Dataset.\n",
      "categorical_column in param dict is overridden.\n"
     ]
    },
    {
     "name": "stdout",
     "output_type": "stream",
     "text": [
      "RMSE for Base model is 0.7178790959367608\n"
     ]
    },
    {
     "name": "stderr",
     "output_type": "stream",
     "text": [
      "Using categorical_feature in Dataset.\n",
      "categorical_feature in Dataset is overridden.\n",
      "New categorical_feature is [0, 1, 2, 3, 4, 5, 6, 7, 8, 9]\n",
      "Overriding the parameters from Reference Dataset.\n",
      "categorical_column in param dict is overridden.\n"
     ]
    },
    {
     "name": "stdout",
     "output_type": "stream",
     "text": [
      "RMSE for Incremental trial 1 model is 0.7178746656789096\n"
     ]
    },
    {
     "name": "stderr",
     "output_type": "stream",
     "text": [
      "Using categorical_feature in Dataset.\n",
      "categorical_feature in Dataset is overridden.\n",
      "New categorical_feature is [0, 1, 2, 3, 4, 5, 6, 7, 8, 9]\n",
      "Overriding the parameters from Reference Dataset.\n",
      "categorical_column in param dict is overridden.\n"
     ]
    },
    {
     "name": "stdout",
     "output_type": "stream",
     "text": [
      "RMSE for Incremental trial 2 model is 0.7178657681348584\n"
     ]
    },
    {
     "name": "stderr",
     "output_type": "stream",
     "text": [
      "Using categorical_feature in Dataset.\n",
      "categorical_feature in Dataset is overridden.\n",
      "New categorical_feature is [0, 1, 2, 3, 4, 5, 6, 7, 8, 9]\n",
      "Overriding the parameters from Reference Dataset.\n",
      "categorical_column in param dict is overridden.\n"
     ]
    },
    {
     "name": "stdout",
     "output_type": "stream",
     "text": [
      "RMSE for Incremental trial 3 model is 0.7178620958746957\n"
     ]
    },
    {
     "name": "stderr",
     "output_type": "stream",
     "text": [
      "Using categorical_feature in Dataset.\n",
      "categorical_feature in Dataset is overridden.\n",
      "New categorical_feature is [0, 1, 2, 3, 4, 5, 6, 7, 8, 9]\n",
      "Overriding the parameters from Reference Dataset.\n",
      "categorical_column in param dict is overridden.\n"
     ]
    },
    {
     "name": "stdout",
     "output_type": "stream",
     "text": [
      "RMSE for Incremental trial 4 model is 0.7178530106830172\n"
     ]
    },
    {
     "name": "stderr",
     "output_type": "stream",
     "text": [
      "Using categorical_feature in Dataset.\n",
      "categorical_feature in Dataset is overridden.\n",
      "New categorical_feature is [0, 1, 2, 3, 4, 5, 6, 7, 8, 9]\n",
      "Overriding the parameters from Reference Dataset.\n",
      "categorical_column in param dict is overridden.\n"
     ]
    },
    {
     "name": "stdout",
     "output_type": "stream",
     "text": [
      "RMSE for Incremental trial 5 model is 0.7178431908705689\n"
     ]
    },
    {
     "name": "stderr",
     "output_type": "stream",
     "text": [
      "Using categorical_feature in Dataset.\n",
      "categorical_feature in Dataset is overridden.\n",
      "New categorical_feature is [0, 1, 2, 3, 4, 5, 6, 7, 8, 9]\n",
      "Overriding the parameters from Reference Dataset.\n",
      "categorical_column in param dict is overridden.\n"
     ]
    },
    {
     "name": "stdout",
     "output_type": "stream",
     "text": [
      "RMSE for Incremental trial 6 model is 0.7178364527548072\n"
     ]
    },
    {
     "name": "stderr",
     "output_type": "stream",
     "text": [
      "Using categorical_feature in Dataset.\n",
      "categorical_feature in Dataset is overridden.\n",
      "New categorical_feature is [0, 1, 2, 3, 4, 5, 6, 7, 8, 9]\n",
      "Overriding the parameters from Reference Dataset.\n",
      "categorical_column in param dict is overridden.\n"
     ]
    },
    {
     "name": "stdout",
     "output_type": "stream",
     "text": [
      "RMSE for Incremental trial 7 model is 0.7178358906203893\n",
      "\n",
      "\n",
      "Improvement of : 4.320531637147518e-05\n",
      "----------------------------------------------------------------------------------------------------\n"
     ]
    },
    {
     "name": "stderr",
     "output_type": "stream",
     "text": [
      "Using categorical_feature in Dataset.\n",
      "categorical_feature in Dataset is overridden.\n",
      "New categorical_feature is [0, 1, 2, 3, 4, 5, 6, 7, 8, 9]\n",
      "Overriding the parameters from Reference Dataset.\n",
      "categorical_column in param dict is overridden.\n"
     ]
    },
    {
     "name": "stdout",
     "output_type": "stream",
     "text": [
      "RMSE for Base model is 0.713169592205707\n"
     ]
    },
    {
     "name": "stderr",
     "output_type": "stream",
     "text": [
      "Using categorical_feature in Dataset.\n",
      "categorical_feature in Dataset is overridden.\n",
      "New categorical_feature is [0, 1, 2, 3, 4, 5, 6, 7, 8, 9]\n",
      "Overriding the parameters from Reference Dataset.\n",
      "categorical_column in param dict is overridden.\n"
     ]
    },
    {
     "name": "stdout",
     "output_type": "stream",
     "text": [
      "RMSE for Incremental trial 1 model is 0.7131635739168113\n"
     ]
    },
    {
     "name": "stderr",
     "output_type": "stream",
     "text": [
      "Using categorical_feature in Dataset.\n",
      "categorical_feature in Dataset is overridden.\n",
      "New categorical_feature is [0, 1, 2, 3, 4, 5, 6, 7, 8, 9]\n",
      "Overriding the parameters from Reference Dataset.\n",
      "categorical_column in param dict is overridden.\n"
     ]
    },
    {
     "name": "stdout",
     "output_type": "stream",
     "text": [
      "RMSE for Incremental trial 2 model is 0.713162593578703\n"
     ]
    },
    {
     "name": "stderr",
     "output_type": "stream",
     "text": [
      "Using categorical_feature in Dataset.\n",
      "categorical_feature in Dataset is overridden.\n",
      "New categorical_feature is [0, 1, 2, 3, 4, 5, 6, 7, 8, 9]\n",
      "Overriding the parameters from Reference Dataset.\n",
      "categorical_column in param dict is overridden.\n"
     ]
    },
    {
     "name": "stdout",
     "output_type": "stream",
     "text": [
      "RMSE for Incremental trial 3 model is 0.713149644795821\n"
     ]
    },
    {
     "name": "stderr",
     "output_type": "stream",
     "text": [
      "Using categorical_feature in Dataset.\n",
      "categorical_feature in Dataset is overridden.\n",
      "New categorical_feature is [0, 1, 2, 3, 4, 5, 6, 7, 8, 9]\n",
      "Overriding the parameters from Reference Dataset.\n",
      "categorical_column in param dict is overridden.\n"
     ]
    },
    {
     "name": "stdout",
     "output_type": "stream",
     "text": [
      "RMSE for Incremental trial 4 model is 0.7131295115977128\n"
     ]
    },
    {
     "name": "stderr",
     "output_type": "stream",
     "text": [
      "Using categorical_feature in Dataset.\n",
      "categorical_feature in Dataset is overridden.\n",
      "New categorical_feature is [0, 1, 2, 3, 4, 5, 6, 7, 8, 9]\n",
      "Overriding the parameters from Reference Dataset.\n",
      "categorical_column in param dict is overridden.\n"
     ]
    },
    {
     "name": "stdout",
     "output_type": "stream",
     "text": [
      "RMSE for Incremental trial 5 model is 0.7131227115807596\n"
     ]
    },
    {
     "name": "stderr",
     "output_type": "stream",
     "text": [
      "Using categorical_feature in Dataset.\n",
      "categorical_feature in Dataset is overridden.\n",
      "New categorical_feature is [0, 1, 2, 3, 4, 5, 6, 7, 8, 9]\n",
      "Overriding the parameters from Reference Dataset.\n",
      "categorical_column in param dict is overridden.\n"
     ]
    },
    {
     "name": "stdout",
     "output_type": "stream",
     "text": [
      "RMSE for Incremental trial 6 model is 0.7131224547579654\n"
     ]
    },
    {
     "name": "stderr",
     "output_type": "stream",
     "text": [
      "Using categorical_feature in Dataset.\n",
      "categorical_feature in Dataset is overridden.\n",
      "New categorical_feature is [0, 1, 2, 3, 4, 5, 6, 7, 8, 9]\n",
      "Overriding the parameters from Reference Dataset.\n",
      "categorical_column in param dict is overridden.\n"
     ]
    },
    {
     "name": "stdout",
     "output_type": "stream",
     "text": [
      "RMSE for Incremental trial 7 model is 0.7131223563571909\n",
      "\n",
      "\n",
      "Improvement of : 4.7235848516069545e-05\n",
      "----------------------------------------------------------------------------------------------------\n"
     ]
    },
    {
     "name": "stderr",
     "output_type": "stream",
     "text": [
      "Using categorical_feature in Dataset.\n",
      "categorical_feature in Dataset is overridden.\n",
      "New categorical_feature is [0, 1, 2, 3, 4, 5, 6, 7, 8, 9]\n",
      "Overriding the parameters from Reference Dataset.\n",
      "categorical_column in param dict is overridden.\n"
     ]
    },
    {
     "name": "stdout",
     "output_type": "stream",
     "text": [
      "RMSE for Base model is 0.7165225980108092\n"
     ]
    },
    {
     "name": "stderr",
     "output_type": "stream",
     "text": [
      "Using categorical_feature in Dataset.\n",
      "categorical_feature in Dataset is overridden.\n",
      "New categorical_feature is [0, 1, 2, 3, 4, 5, 6, 7, 8, 9]\n",
      "Overriding the parameters from Reference Dataset.\n",
      "categorical_column in param dict is overridden.\n"
     ]
    },
    {
     "name": "stdout",
     "output_type": "stream",
     "text": [
      "RMSE for Incremental trial 1 model is 0.7165173393729258\n"
     ]
    },
    {
     "name": "stderr",
     "output_type": "stream",
     "text": [
      "Using categorical_feature in Dataset.\n",
      "categorical_feature in Dataset is overridden.\n",
      "New categorical_feature is [0, 1, 2, 3, 4, 5, 6, 7, 8, 9]\n",
      "Overriding the parameters from Reference Dataset.\n",
      "categorical_column in param dict is overridden.\n"
     ]
    },
    {
     "name": "stdout",
     "output_type": "stream",
     "text": [
      "RMSE for Incremental trial 2 model is 0.7164585737270974\n"
     ]
    },
    {
     "name": "stderr",
     "output_type": "stream",
     "text": [
      "Using categorical_feature in Dataset.\n",
      "categorical_feature in Dataset is overridden.\n",
      "New categorical_feature is [0, 1, 2, 3, 4, 5, 6, 7, 8, 9]\n",
      "Overriding the parameters from Reference Dataset.\n",
      "categorical_column in param dict is overridden.\n"
     ]
    },
    {
     "name": "stdout",
     "output_type": "stream",
     "text": [
      "RMSE for Incremental trial 3 model is 0.7163135818065217\n"
     ]
    },
    {
     "name": "stderr",
     "output_type": "stream",
     "text": [
      "Using categorical_feature in Dataset.\n",
      "categorical_feature in Dataset is overridden.\n",
      "New categorical_feature is [0, 1, 2, 3, 4, 5, 6, 7, 8, 9]\n",
      "Overriding the parameters from Reference Dataset.\n",
      "categorical_column in param dict is overridden.\n"
     ]
    },
    {
     "name": "stdout",
     "output_type": "stream",
     "text": [
      "RMSE for Incremental trial 4 model is 0.7163124805502543\n"
     ]
    },
    {
     "name": "stderr",
     "output_type": "stream",
     "text": [
      "Using categorical_feature in Dataset.\n",
      "categorical_feature in Dataset is overridden.\n",
      "New categorical_feature is [0, 1, 2, 3, 4, 5, 6, 7, 8, 9]\n",
      "Overriding the parameters from Reference Dataset.\n",
      "categorical_column in param dict is overridden.\n"
     ]
    },
    {
     "name": "stdout",
     "output_type": "stream",
     "text": [
      "RMSE for Incremental trial 5 model is 0.7163116978926112\n"
     ]
    },
    {
     "name": "stderr",
     "output_type": "stream",
     "text": [
      "Using categorical_feature in Dataset.\n",
      "categorical_feature in Dataset is overridden.\n",
      "New categorical_feature is [0, 1, 2, 3, 4, 5, 6, 7, 8, 9]\n",
      "Overriding the parameters from Reference Dataset.\n",
      "categorical_column in param dict is overridden.\n"
     ]
    },
    {
     "name": "stdout",
     "output_type": "stream",
     "text": [
      "RMSE for Incremental trial 6 model is 0.7163040225307279\n"
     ]
    },
    {
     "name": "stderr",
     "output_type": "stream",
     "text": [
      "Using categorical_feature in Dataset.\n",
      "categorical_feature in Dataset is overridden.\n",
      "New categorical_feature is [0, 1, 2, 3, 4, 5, 6, 7, 8, 9]\n",
      "Overriding the parameters from Reference Dataset.\n",
      "categorical_column in param dict is overridden.\n"
     ]
    },
    {
     "name": "stdout",
     "output_type": "stream",
     "text": [
      "RMSE for Incremental trial 7 model is 0.7162966450509988\n",
      "\n",
      "\n",
      "Improvement of : 0.00022595295981042707\n",
      "----------------------------------------------------------------------------------------------------\n"
     ]
    },
    {
     "name": "stderr",
     "output_type": "stream",
     "text": [
      "Using categorical_feature in Dataset.\n",
      "categorical_feature in Dataset is overridden.\n",
      "New categorical_feature is [0, 1, 2, 3, 4, 5, 6, 7, 8, 9]\n",
      "Overriding the parameters from Reference Dataset.\n",
      "categorical_column in param dict is overridden.\n"
     ]
    },
    {
     "name": "stdout",
     "output_type": "stream",
     "text": [
      "RMSE for Base model is 0.7185812951809598\n"
     ]
    },
    {
     "name": "stderr",
     "output_type": "stream",
     "text": [
      "Using categorical_feature in Dataset.\n",
      "categorical_feature in Dataset is overridden.\n",
      "New categorical_feature is [0, 1, 2, 3, 4, 5, 6, 7, 8, 9]\n",
      "Overriding the parameters from Reference Dataset.\n",
      "categorical_column in param dict is overridden.\n"
     ]
    },
    {
     "name": "stdout",
     "output_type": "stream",
     "text": [
      "RMSE for Incremental trial 1 model is 0.7185410960991686\n"
     ]
    },
    {
     "name": "stderr",
     "output_type": "stream",
     "text": [
      "Using categorical_feature in Dataset.\n",
      "categorical_feature in Dataset is overridden.\n",
      "New categorical_feature is [0, 1, 2, 3, 4, 5, 6, 7, 8, 9]\n",
      "Overriding the parameters from Reference Dataset.\n",
      "categorical_column in param dict is overridden.\n"
     ]
    },
    {
     "name": "stdout",
     "output_type": "stream",
     "text": [
      "RMSE for Incremental trial 2 model is 0.7185273938526354\n"
     ]
    },
    {
     "name": "stderr",
     "output_type": "stream",
     "text": [
      "Using categorical_feature in Dataset.\n",
      "categorical_feature in Dataset is overridden.\n",
      "New categorical_feature is [0, 1, 2, 3, 4, 5, 6, 7, 8, 9]\n",
      "Overriding the parameters from Reference Dataset.\n",
      "categorical_column in param dict is overridden.\n"
     ]
    },
    {
     "name": "stdout",
     "output_type": "stream",
     "text": [
      "RMSE for Incremental trial 3 model is 0.718476482793457\n"
     ]
    },
    {
     "name": "stderr",
     "output_type": "stream",
     "text": [
      "Using categorical_feature in Dataset.\n",
      "categorical_feature in Dataset is overridden.\n",
      "New categorical_feature is [0, 1, 2, 3, 4, 5, 6, 7, 8, 9]\n",
      "Overriding the parameters from Reference Dataset.\n",
      "categorical_column in param dict is overridden.\n"
     ]
    },
    {
     "name": "stdout",
     "output_type": "stream",
     "text": [
      "RMSE for Incremental trial 4 model is 0.7184499432885094\n"
     ]
    },
    {
     "name": "stderr",
     "output_type": "stream",
     "text": [
      "Using categorical_feature in Dataset.\n",
      "categorical_feature in Dataset is overridden.\n",
      "New categorical_feature is [0, 1, 2, 3, 4, 5, 6, 7, 8, 9]\n",
      "Overriding the parameters from Reference Dataset.\n",
      "categorical_column in param dict is overridden.\n"
     ]
    },
    {
     "name": "stdout",
     "output_type": "stream",
     "text": [
      "RMSE for Incremental trial 5 model is 0.7184006024802664\n"
     ]
    },
    {
     "name": "stderr",
     "output_type": "stream",
     "text": [
      "Using categorical_feature in Dataset.\n",
      "categorical_feature in Dataset is overridden.\n",
      "New categorical_feature is [0, 1, 2, 3, 4, 5, 6, 7, 8, 9]\n",
      "Overriding the parameters from Reference Dataset.\n",
      "categorical_column in param dict is overridden.\n"
     ]
    },
    {
     "name": "stdout",
     "output_type": "stream",
     "text": [
      "RMSE for Incremental trial 6 model is 0.7183970650736516\n"
     ]
    },
    {
     "name": "stderr",
     "output_type": "stream",
     "text": [
      "Using categorical_feature in Dataset.\n",
      "categorical_feature in Dataset is overridden.\n",
      "New categorical_feature is [0, 1, 2, 3, 4, 5, 6, 7, 8, 9]\n",
      "Overriding the parameters from Reference Dataset.\n",
      "categorical_column in param dict is overridden.\n"
     ]
    },
    {
     "name": "stdout",
     "output_type": "stream",
     "text": [
      "RMSE for Incremental trial 7 model is 0.7183790412934661\n",
      "\n",
      "\n",
      "Improvement of : 0.00020225388749373074\n",
      "----------------------------------------------------------------------------------------------------\n"
     ]
    },
    {
     "name": "stderr",
     "output_type": "stream",
     "text": [
      "Using categorical_feature in Dataset.\n",
      "categorical_feature in Dataset is overridden.\n",
      "New categorical_feature is [0, 1, 2, 3, 4, 5, 6, 7, 8, 9]\n",
      "Overriding the parameters from Reference Dataset.\n",
      "categorical_column in param dict is overridden.\n"
     ]
    },
    {
     "name": "stdout",
     "output_type": "stream",
     "text": [
      "RMSE for Base model is 0.7217255664091201\n"
     ]
    },
    {
     "name": "stderr",
     "output_type": "stream",
     "text": [
      "Using categorical_feature in Dataset.\n",
      "categorical_feature in Dataset is overridden.\n",
      "New categorical_feature is [0, 1, 2, 3, 4, 5, 6, 7, 8, 9]\n",
      "Overriding the parameters from Reference Dataset.\n",
      "categorical_column in param dict is overridden.\n"
     ]
    },
    {
     "name": "stdout",
     "output_type": "stream",
     "text": [
      "RMSE for Incremental trial 1 model is 0.7217220610019895\n"
     ]
    },
    {
     "name": "stderr",
     "output_type": "stream",
     "text": [
      "Using categorical_feature in Dataset.\n",
      "categorical_feature in Dataset is overridden.\n",
      "New categorical_feature is [0, 1, 2, 3, 4, 5, 6, 7, 8, 9]\n",
      "Overriding the parameters from Reference Dataset.\n",
      "categorical_column in param dict is overridden.\n"
     ]
    },
    {
     "name": "stdout",
     "output_type": "stream",
     "text": [
      "RMSE for Incremental trial 2 model is 0.7216926205174095\n"
     ]
    },
    {
     "name": "stderr",
     "output_type": "stream",
     "text": [
      "Using categorical_feature in Dataset.\n",
      "categorical_feature in Dataset is overridden.\n",
      "New categorical_feature is [0, 1, 2, 3, 4, 5, 6, 7, 8, 9]\n",
      "Overriding the parameters from Reference Dataset.\n",
      "categorical_column in param dict is overridden.\n"
     ]
    },
    {
     "name": "stdout",
     "output_type": "stream",
     "text": [
      "RMSE for Incremental trial 3 model is 0.7216901185817074\n"
     ]
    },
    {
     "name": "stderr",
     "output_type": "stream",
     "text": [
      "Using categorical_feature in Dataset.\n",
      "categorical_feature in Dataset is overridden.\n",
      "New categorical_feature is [0, 1, 2, 3, 4, 5, 6, 7, 8, 9]\n",
      "Overriding the parameters from Reference Dataset.\n",
      "categorical_column in param dict is overridden.\n"
     ]
    },
    {
     "name": "stdout",
     "output_type": "stream",
     "text": [
      "RMSE for Incremental trial 4 model is 0.721645845780683\n"
     ]
    },
    {
     "name": "stderr",
     "output_type": "stream",
     "text": [
      "Using categorical_feature in Dataset.\n",
      "categorical_feature in Dataset is overridden.\n",
      "New categorical_feature is [0, 1, 2, 3, 4, 5, 6, 7, 8, 9]\n",
      "Overriding the parameters from Reference Dataset.\n",
      "categorical_column in param dict is overridden.\n"
     ]
    },
    {
     "name": "stdout",
     "output_type": "stream",
     "text": [
      "RMSE for Incremental trial 5 model is 0.7216222522182223\n"
     ]
    },
    {
     "name": "stderr",
     "output_type": "stream",
     "text": [
      "Using categorical_feature in Dataset.\n",
      "categorical_feature in Dataset is overridden.\n",
      "New categorical_feature is [0, 1, 2, 3, 4, 5, 6, 7, 8, 9]\n",
      "Overriding the parameters from Reference Dataset.\n",
      "categorical_column in param dict is overridden.\n"
     ]
    },
    {
     "name": "stdout",
     "output_type": "stream",
     "text": [
      "RMSE for Incremental trial 6 model is 0.721598187943286\n"
     ]
    },
    {
     "name": "stderr",
     "output_type": "stream",
     "text": [
      "Using categorical_feature in Dataset.\n",
      "categorical_feature in Dataset is overridden.\n",
      "New categorical_feature is [0, 1, 2, 3, 4, 5, 6, 7, 8, 9]\n",
      "Overriding the parameters from Reference Dataset.\n",
      "categorical_column in param dict is overridden.\n"
     ]
    },
    {
     "name": "stdout",
     "output_type": "stream",
     "text": [
      "RMSE for Incremental trial 7 model is 0.7215981966412467\n",
      "\n",
      "\n",
      "Improvement of : 0.0001273697678734198\n",
      "----------------------------------------------------------------------------------------------------\n"
     ]
    },
    {
     "name": "stderr",
     "output_type": "stream",
     "text": [
      "Using categorical_feature in Dataset.\n",
      "categorical_feature in Dataset is overridden.\n",
      "New categorical_feature is [0, 1, 2, 3, 4, 5, 6, 7, 8, 9]\n",
      "Overriding the parameters from Reference Dataset.\n",
      "categorical_column in param dict is overridden.\n"
     ]
    },
    {
     "name": "stdout",
     "output_type": "stream",
     "text": [
      "RMSE for Base model is 0.720839533253733\n"
     ]
    },
    {
     "name": "stderr",
     "output_type": "stream",
     "text": [
      "Using categorical_feature in Dataset.\n",
      "categorical_feature in Dataset is overridden.\n",
      "New categorical_feature is [0, 1, 2, 3, 4, 5, 6, 7, 8, 9]\n",
      "Overriding the parameters from Reference Dataset.\n",
      "categorical_column in param dict is overridden.\n"
     ]
    },
    {
     "name": "stdout",
     "output_type": "stream",
     "text": [
      "RMSE for Incremental trial 1 model is 0.7208392972771374\n"
     ]
    },
    {
     "name": "stderr",
     "output_type": "stream",
     "text": [
      "Using categorical_feature in Dataset.\n",
      "categorical_feature in Dataset is overridden.\n",
      "New categorical_feature is [0, 1, 2, 3, 4, 5, 6, 7, 8, 9]\n",
      "Overriding the parameters from Reference Dataset.\n",
      "categorical_column in param dict is overridden.\n"
     ]
    },
    {
     "name": "stdout",
     "output_type": "stream",
     "text": [
      "RMSE for Incremental trial 2 model is 0.7208392696507492\n"
     ]
    },
    {
     "name": "stderr",
     "output_type": "stream",
     "text": [
      "Using categorical_feature in Dataset.\n",
      "categorical_feature in Dataset is overridden.\n",
      "New categorical_feature is [0, 1, 2, 3, 4, 5, 6, 7, 8, 9]\n",
      "Overriding the parameters from Reference Dataset.\n",
      "categorical_column in param dict is overridden.\n"
     ]
    },
    {
     "name": "stdout",
     "output_type": "stream",
     "text": [
      "RMSE for Incremental trial 3 model is 0.7208033475415004\n"
     ]
    },
    {
     "name": "stderr",
     "output_type": "stream",
     "text": [
      "Using categorical_feature in Dataset.\n",
      "categorical_feature in Dataset is overridden.\n",
      "New categorical_feature is [0, 1, 2, 3, 4, 5, 6, 7, 8, 9]\n",
      "Overriding the parameters from Reference Dataset.\n",
      "categorical_column in param dict is overridden.\n"
     ]
    },
    {
     "name": "stdout",
     "output_type": "stream",
     "text": [
      "RMSE for Incremental trial 4 model is 0.7207845527714749\n"
     ]
    },
    {
     "name": "stderr",
     "output_type": "stream",
     "text": [
      "Using categorical_feature in Dataset.\n",
      "categorical_feature in Dataset is overridden.\n",
      "New categorical_feature is [0, 1, 2, 3, 4, 5, 6, 7, 8, 9]\n",
      "Overriding the parameters from Reference Dataset.\n",
      "categorical_column in param dict is overridden.\n"
     ]
    },
    {
     "name": "stdout",
     "output_type": "stream",
     "text": [
      "RMSE for Incremental trial 5 model is 0.7207568817358531\n"
     ]
    },
    {
     "name": "stderr",
     "output_type": "stream",
     "text": [
      "Using categorical_feature in Dataset.\n",
      "categorical_feature in Dataset is overridden.\n",
      "New categorical_feature is [0, 1, 2, 3, 4, 5, 6, 7, 8, 9]\n",
      "Overriding the parameters from Reference Dataset.\n",
      "categorical_column in param dict is overridden.\n"
     ]
    },
    {
     "name": "stdout",
     "output_type": "stream",
     "text": [
      "RMSE for Incremental trial 6 model is 0.7207449832811916\n"
     ]
    },
    {
     "name": "stderr",
     "output_type": "stream",
     "text": [
      "Using categorical_feature in Dataset.\n",
      "categorical_feature in Dataset is overridden.\n",
      "New categorical_feature is [0, 1, 2, 3, 4, 5, 6, 7, 8, 9]\n",
      "Overriding the parameters from Reference Dataset.\n",
      "categorical_column in param dict is overridden.\n"
     ]
    },
    {
     "name": "stdout",
     "output_type": "stream",
     "text": [
      "RMSE for Incremental trial 7 model is 0.720731238380962\n",
      "\n",
      "\n",
      "Improvement of : 0.00010829487277097538\n",
      "----------------------------------------------------------------------------------------------------\n"
     ]
    },
    {
     "name": "stderr",
     "output_type": "stream",
     "text": [
      "Using categorical_feature in Dataset.\n",
      "categorical_feature in Dataset is overridden.\n",
      "New categorical_feature is [0, 1, 2, 3, 4, 5, 6, 7, 8, 9]\n",
      "Overriding the parameters from Reference Dataset.\n",
      "categorical_column in param dict is overridden.\n"
     ]
    },
    {
     "name": "stdout",
     "output_type": "stream",
     "text": [
      "RMSE for Base model is 0.7177175842475385\n"
     ]
    },
    {
     "name": "stderr",
     "output_type": "stream",
     "text": [
      "Using categorical_feature in Dataset.\n",
      "categorical_feature in Dataset is overridden.\n",
      "New categorical_feature is [0, 1, 2, 3, 4, 5, 6, 7, 8, 9]\n",
      "Overriding the parameters from Reference Dataset.\n",
      "categorical_column in param dict is overridden.\n"
     ]
    },
    {
     "name": "stdout",
     "output_type": "stream",
     "text": [
      "RMSE for Incremental trial 1 model is 0.7177159317340958\n"
     ]
    },
    {
     "name": "stderr",
     "output_type": "stream",
     "text": [
      "Using categorical_feature in Dataset.\n",
      "categorical_feature in Dataset is overridden.\n",
      "New categorical_feature is [0, 1, 2, 3, 4, 5, 6, 7, 8, 9]\n",
      "Overriding the parameters from Reference Dataset.\n",
      "categorical_column in param dict is overridden.\n"
     ]
    },
    {
     "name": "stdout",
     "output_type": "stream",
     "text": [
      "RMSE for Incremental trial 2 model is 0.717714879509399\n"
     ]
    },
    {
     "name": "stderr",
     "output_type": "stream",
     "text": [
      "Using categorical_feature in Dataset.\n",
      "categorical_feature in Dataset is overridden.\n",
      "New categorical_feature is [0, 1, 2, 3, 4, 5, 6, 7, 8, 9]\n",
      "Overriding the parameters from Reference Dataset.\n",
      "categorical_column in param dict is overridden.\n"
     ]
    },
    {
     "name": "stdout",
     "output_type": "stream",
     "text": [
      "RMSE for Incremental trial 3 model is 0.7176963856767526\n"
     ]
    },
    {
     "name": "stderr",
     "output_type": "stream",
     "text": [
      "Using categorical_feature in Dataset.\n",
      "categorical_feature in Dataset is overridden.\n",
      "New categorical_feature is [0, 1, 2, 3, 4, 5, 6, 7, 8, 9]\n",
      "Overriding the parameters from Reference Dataset.\n",
      "categorical_column in param dict is overridden.\n"
     ]
    },
    {
     "name": "stdout",
     "output_type": "stream",
     "text": [
      "RMSE for Incremental trial 4 model is 0.7176754065137368\n"
     ]
    },
    {
     "name": "stderr",
     "output_type": "stream",
     "text": [
      "Using categorical_feature in Dataset.\n",
      "categorical_feature in Dataset is overridden.\n",
      "New categorical_feature is [0, 1, 2, 3, 4, 5, 6, 7, 8, 9]\n",
      "Overriding the parameters from Reference Dataset.\n",
      "categorical_column in param dict is overridden.\n"
     ]
    },
    {
     "name": "stdout",
     "output_type": "stream",
     "text": [
      "RMSE for Incremental trial 5 model is 0.7176716738435617\n"
     ]
    },
    {
     "name": "stderr",
     "output_type": "stream",
     "text": [
      "Using categorical_feature in Dataset.\n",
      "categorical_feature in Dataset is overridden.\n",
      "New categorical_feature is [0, 1, 2, 3, 4, 5, 6, 7, 8, 9]\n",
      "Overriding the parameters from Reference Dataset.\n",
      "categorical_column in param dict is overridden.\n"
     ]
    },
    {
     "name": "stdout",
     "output_type": "stream",
     "text": [
      "RMSE for Incremental trial 6 model is 0.7176665282555491\n"
     ]
    },
    {
     "name": "stderr",
     "output_type": "stream",
     "text": [
      "Using categorical_feature in Dataset.\n",
      "categorical_feature in Dataset is overridden.\n",
      "New categorical_feature is [0, 1, 2, 3, 4, 5, 6, 7, 8, 9]\n",
      "Overriding the parameters from Reference Dataset.\n",
      "categorical_column in param dict is overridden.\n"
     ]
    },
    {
     "name": "stdout",
     "output_type": "stream",
     "text": [
      "RMSE for Incremental trial 7 model is 0.7176626993858923\n",
      "\n",
      "\n",
      "Improvement of : 5.488486164617612e-05\n",
      "----------------------------------------------------------------------------------------------------\n"
     ]
    },
    {
     "name": "stderr",
     "output_type": "stream",
     "text": [
      "Using categorical_feature in Dataset.\n",
      "categorical_feature in Dataset is overridden.\n",
      "New categorical_feature is [0, 1, 2, 3, 4, 5, 6, 7, 8, 9]\n",
      "Overriding the parameters from Reference Dataset.\n",
      "categorical_column in param dict is overridden.\n"
     ]
    },
    {
     "name": "stdout",
     "output_type": "stream",
     "text": [
      "RMSE for Base model is 0.7148641442621122\n"
     ]
    },
    {
     "name": "stderr",
     "output_type": "stream",
     "text": [
      "Using categorical_feature in Dataset.\n",
      "categorical_feature in Dataset is overridden.\n",
      "New categorical_feature is [0, 1, 2, 3, 4, 5, 6, 7, 8, 9]\n",
      "Overriding the parameters from Reference Dataset.\n",
      "categorical_column in param dict is overridden.\n"
     ]
    },
    {
     "name": "stdout",
     "output_type": "stream",
     "text": [
      "RMSE for Incremental trial 1 model is 0.7148368177139752\n"
     ]
    },
    {
     "name": "stderr",
     "output_type": "stream",
     "text": [
      "Using categorical_feature in Dataset.\n",
      "categorical_feature in Dataset is overridden.\n",
      "New categorical_feature is [0, 1, 2, 3, 4, 5, 6, 7, 8, 9]\n",
      "Overriding the parameters from Reference Dataset.\n",
      "categorical_column in param dict is overridden.\n"
     ]
    },
    {
     "name": "stdout",
     "output_type": "stream",
     "text": [
      "RMSE for Incremental trial 2 model is 0.7148307618715389\n"
     ]
    },
    {
     "name": "stderr",
     "output_type": "stream",
     "text": [
      "Using categorical_feature in Dataset.\n",
      "categorical_feature in Dataset is overridden.\n",
      "New categorical_feature is [0, 1, 2, 3, 4, 5, 6, 7, 8, 9]\n",
      "Overriding the parameters from Reference Dataset.\n",
      "categorical_column in param dict is overridden.\n"
     ]
    },
    {
     "name": "stdout",
     "output_type": "stream",
     "text": [
      "RMSE for Incremental trial 3 model is 0.7148309109865238\n"
     ]
    },
    {
     "name": "stderr",
     "output_type": "stream",
     "text": [
      "Using categorical_feature in Dataset.\n",
      "categorical_feature in Dataset is overridden.\n",
      "New categorical_feature is [0, 1, 2, 3, 4, 5, 6, 7, 8, 9]\n",
      "Overriding the parameters from Reference Dataset.\n",
      "categorical_column in param dict is overridden.\n"
     ]
    },
    {
     "name": "stdout",
     "output_type": "stream",
     "text": [
      "RMSE for Incremental trial 4 model is 0.7148284618683469\n"
     ]
    },
    {
     "name": "stderr",
     "output_type": "stream",
     "text": [
      "Using categorical_feature in Dataset.\n",
      "categorical_feature in Dataset is overridden.\n",
      "New categorical_feature is [0, 1, 2, 3, 4, 5, 6, 7, 8, 9]\n",
      "Overriding the parameters from Reference Dataset.\n",
      "categorical_column in param dict is overridden.\n"
     ]
    },
    {
     "name": "stdout",
     "output_type": "stream",
     "text": [
      "RMSE for Incremental trial 5 model is 0.7148270237862858\n"
     ]
    },
    {
     "name": "stderr",
     "output_type": "stream",
     "text": [
      "Using categorical_feature in Dataset.\n",
      "categorical_feature in Dataset is overridden.\n",
      "New categorical_feature is [0, 1, 2, 3, 4, 5, 6, 7, 8, 9]\n",
      "Overriding the parameters from Reference Dataset.\n",
      "categorical_column in param dict is overridden.\n"
     ]
    },
    {
     "name": "stdout",
     "output_type": "stream",
     "text": [
      "RMSE for Incremental trial 6 model is 0.7148234872125555\n"
     ]
    },
    {
     "name": "stderr",
     "output_type": "stream",
     "text": [
      "Using categorical_feature in Dataset.\n",
      "categorical_feature in Dataset is overridden.\n",
      "New categorical_feature is [0, 1, 2, 3, 4, 5, 6, 7, 8, 9]\n",
      "Overriding the parameters from Reference Dataset.\n",
      "categorical_column in param dict is overridden.\n"
     ]
    },
    {
     "name": "stdout",
     "output_type": "stream",
     "text": [
      "RMSE for Incremental trial 7 model is 0.7148053967944848\n",
      "\n",
      "\n",
      "Improvement of : 5.874746762735139e-05\n",
      "----------------------------------------------------------------------------------------------------\n"
     ]
    },
    {
     "name": "stderr",
     "output_type": "stream",
     "text": [
      "Using categorical_feature in Dataset.\n",
      "categorical_feature in Dataset is overridden.\n",
      "New categorical_feature is [0, 1, 2, 3, 4, 5, 6, 7, 8, 9]\n",
      "Overriding the parameters from Reference Dataset.\n",
      "categorical_column in param dict is overridden.\n"
     ]
    },
    {
     "name": "stdout",
     "output_type": "stream",
     "text": [
      "RMSE for Base model is 0.7183935491204166\n"
     ]
    },
    {
     "name": "stderr",
     "output_type": "stream",
     "text": [
      "Using categorical_feature in Dataset.\n",
      "categorical_feature in Dataset is overridden.\n",
      "New categorical_feature is [0, 1, 2, 3, 4, 5, 6, 7, 8, 9]\n",
      "Overriding the parameters from Reference Dataset.\n",
      "categorical_column in param dict is overridden.\n"
     ]
    },
    {
     "name": "stdout",
     "output_type": "stream",
     "text": [
      "RMSE for Incremental trial 1 model is 0.7183858674146388\n"
     ]
    },
    {
     "name": "stderr",
     "output_type": "stream",
     "text": [
      "Using categorical_feature in Dataset.\n",
      "categorical_feature in Dataset is overridden.\n",
      "New categorical_feature is [0, 1, 2, 3, 4, 5, 6, 7, 8, 9]\n",
      "Overriding the parameters from Reference Dataset.\n",
      "categorical_column in param dict is overridden.\n"
     ]
    },
    {
     "name": "stdout",
     "output_type": "stream",
     "text": [
      "RMSE for Incremental trial 2 model is 0.7183080455031281\n"
     ]
    },
    {
     "name": "stderr",
     "output_type": "stream",
     "text": [
      "Using categorical_feature in Dataset.\n",
      "categorical_feature in Dataset is overridden.\n",
      "New categorical_feature is [0, 1, 2, 3, 4, 5, 6, 7, 8, 9]\n",
      "Overriding the parameters from Reference Dataset.\n",
      "categorical_column in param dict is overridden.\n"
     ]
    },
    {
     "name": "stdout",
     "output_type": "stream",
     "text": [
      "RMSE for Incremental trial 3 model is 0.7183080525792207\n"
     ]
    },
    {
     "name": "stderr",
     "output_type": "stream",
     "text": [
      "Using categorical_feature in Dataset.\n",
      "categorical_feature in Dataset is overridden.\n",
      "New categorical_feature is [0, 1, 2, 3, 4, 5, 6, 7, 8, 9]\n",
      "Overriding the parameters from Reference Dataset.\n",
      "categorical_column in param dict is overridden.\n"
     ]
    },
    {
     "name": "stdout",
     "output_type": "stream",
     "text": [
      "RMSE for Incremental trial 4 model is 0.7183029175465351\n"
     ]
    },
    {
     "name": "stderr",
     "output_type": "stream",
     "text": [
      "Using categorical_feature in Dataset.\n",
      "categorical_feature in Dataset is overridden.\n",
      "New categorical_feature is [0, 1, 2, 3, 4, 5, 6, 7, 8, 9]\n",
      "Overriding the parameters from Reference Dataset.\n",
      "categorical_column in param dict is overridden.\n"
     ]
    },
    {
     "name": "stdout",
     "output_type": "stream",
     "text": [
      "RMSE for Incremental trial 5 model is 0.7182904643089428\n"
     ]
    },
    {
     "name": "stderr",
     "output_type": "stream",
     "text": [
      "Using categorical_feature in Dataset.\n",
      "categorical_feature in Dataset is overridden.\n",
      "New categorical_feature is [0, 1, 2, 3, 4, 5, 6, 7, 8, 9]\n",
      "Overriding the parameters from Reference Dataset.\n",
      "categorical_column in param dict is overridden.\n"
     ]
    },
    {
     "name": "stdout",
     "output_type": "stream",
     "text": [
      "RMSE for Incremental trial 6 model is 0.718283670130113\n"
     ]
    },
    {
     "name": "stderr",
     "output_type": "stream",
     "text": [
      "Using categorical_feature in Dataset.\n",
      "categorical_feature in Dataset is overridden.\n",
      "New categorical_feature is [0, 1, 2, 3, 4, 5, 6, 7, 8, 9]\n",
      "Overriding the parameters from Reference Dataset.\n",
      "categorical_column in param dict is overridden.\n"
     ]
    },
    {
     "name": "stdout",
     "output_type": "stream",
     "text": [
      "RMSE for Incremental trial 7 model is 0.718276637520159\n",
      "\n",
      "\n",
      "Improvement of : 0.00011691160025761871\n",
      "----------------------------------------------------------------------------------------------------\n",
      "Wall time: 2h 58min 4s\n"
     ]
    }
   ],
   "source": [
    "%%time\n",
    "split = KFold(n_splits=10, shuffle=True)\n",
    "#split = KFold(n_splits=5, random_state=2, shuffle=True)\n",
    "\n",
    "preds_list_base = []\n",
    "preds_list_final_iteration = []\n",
    "preds_list_all = []\n",
    "\n",
    "for train_idx, val_idx in split.split(X_train):\n",
    "            X_tr = X_train.iloc[train_idx]\n",
    "            X_val = X_train.iloc[val_idx]\n",
    "            y_tr = y_train.iloc[train_idx]\n",
    "            y_val = y_train.iloc[val_idx]\n",
    "            \n",
    "            Model = LGBMRegressor(**lgbm_params).fit(X_tr, y_tr, eval_set=[(X_val, y_val)],\n",
    "                          eval_metric=['rmse'],\n",
    "                          early_stopping_rounds=250, \n",
    "                          categorical_feature=[0, 1, 2, 3, 4, 5, 6, 7, 8, 9],\n",
    "                          #callbacks=[optuna.integration.LightGBMPruningCallback(trial, metric='rmse')],\n",
    "                          verbose=0)\n",
    "            \n",
    "            preds_list_base.append(Model.predict(X_test))\n",
    "            preds_list_all.append(Model.predict(X_test))\n",
    "            print(f'RMSE for Base model is {np.sqrt(mean_squared_error(y_val, Model.predict(X_val)))}')\n",
    "            first_rmse = np.sqrt(mean_squared_error(y_val, Model.predict(X_val)))\n",
    "            params = lgbm_params.copy()\n",
    "            \n",
    "            for i in range(1, 8):\n",
    "                if i >2:    \n",
    "                    \n",
    "                    # reducing regularizing params if \n",
    "                    \n",
    "                    params['reg_lambda'] *= 0.9\n",
    "                    params['reg_alpha'] *= 0.9\n",
    "                    params['num_leaves'] += 40\n",
    "                    \n",
    "                params['learning_rate'] = 0.003\n",
    "                Model = LGBMRegressor(**params).fit(X_tr, y_tr, eval_set=[(X_val, y_val)],\n",
    "                          eval_metric=['rmse'],\n",
    "                          early_stopping_rounds=200, \n",
    "                          categorical_feature=[0, 1, 2, 3, 4, 5, 6, 7, 8, 9],\n",
    "                          #callbacks=[optuna.integration.LightGBMPruningCallback(trial, metric='rmse')],\n",
    "                          verbose=0,\n",
    "                          init_model=Model)\n",
    "                \n",
    "                preds_list_all.append(Model.predict(X_test))\n",
    "                print(f'RMSE for Incremental trial {i} model is {np.sqrt(mean_squared_error(y_val, Model.predict(X_val)))}')\n",
    "            last_rmse = np.sqrt(mean_squared_error(y_val, Model.predict(X_val)))\n",
    "            print('',end='\\n\\n')\n",
    "            print(f'Improvement of : {first_rmse - last_rmse}')\n",
    "            print('-' * 100)\n",
    "            preds_list_final_iteration.append(Model.predict(X_test))"
   ]
  },
  {
   "cell_type": "markdown",
   "metadata": {},
   "source": [
    "# Step 5: Submit to the competition"
   ]
  },
  {
   "cell_type": "code",
   "execution_count": 54,
   "metadata": {
    "ExecuteTime": {
     "end_time": "2021-08-26T05:15:14.960087Z",
     "start_time": "2021-08-26T05:15:14.946088Z"
    }
   },
   "outputs": [
    {
     "data": {
      "text/plain": [
       "array([8.05990673, 8.37679118, 8.38446779, ..., 8.48578847, 8.14250875,\n",
       "       7.95256521])"
      ]
     },
     "execution_count": 54,
     "metadata": {},
     "output_type": "execute_result"
    }
   ],
   "source": [
    "y_preds_base = np.array(preds_list_base).mean(axis=0)\n",
    "y_preds_base"
   ]
  },
  {
   "cell_type": "code",
   "execution_count": 55,
   "metadata": {
    "ExecuteTime": {
     "end_time": "2021-08-26T05:15:15.023573Z",
     "start_time": "2021-08-26T05:15:14.962088Z"
    }
   },
   "outputs": [
    {
     "data": {
      "text/plain": [
       "array([8.06085681, 8.37750632, 8.38505738, ..., 8.48934653, 8.14526674,\n",
       "       7.94932529])"
      ]
     },
     "execution_count": 55,
     "metadata": {},
     "output_type": "execute_result"
    }
   ],
   "source": [
    "y_preds_all = np.array(preds_list_all).mean(axis=0)\n",
    "y_preds_all"
   ]
  },
  {
   "cell_type": "code",
   "execution_count": 56,
   "metadata": {
    "ExecuteTime": {
     "end_time": "2021-08-26T05:15:15.055089Z",
     "start_time": "2021-08-26T05:15:15.027281Z"
    }
   },
   "outputs": [
    {
     "data": {
      "text/plain": [
       "array([8.06052724, 8.37609817, 8.38610211, ..., 8.49178426, 8.15044823,\n",
       "       7.94514232])"
      ]
     },
     "execution_count": 56,
     "metadata": {},
     "output_type": "execute_result"
    }
   ],
   "source": [
    "y_preds_final_iteration = np.array(preds_list_final_iteration).mean(axis=0)\n",
    "y_preds_final_iteration"
   ]
  },
  {
   "cell_type": "code",
   "execution_count": 57,
   "metadata": {
    "ExecuteTime": {
     "end_time": "2021-08-26T05:15:15.497720Z",
     "start_time": "2021-08-26T05:15:15.056088Z"
    }
   },
   "outputs": [],
   "source": [
    "# Use the model to generate predictions\n",
    "#predictions = model.predict(test)\n",
    "\n",
    "# Save the predictions to a CSV file\n",
    "output = pd.DataFrame({'Id': test.index,\n",
    "                       'target': y_preds_final_iteration})\n",
    "output.to_csv('submission.csv', index=False)"
   ]
  },
  {
   "cell_type": "code",
   "execution_count": null,
   "metadata": {},
   "outputs": [],
   "source": []
  }
 ],
 "metadata": {
  "kernelspec": {
   "display_name": "Python 3",
   "language": "python",
   "name": "python3"
  },
  "language_info": {
   "codemirror_mode": {
    "name": "ipython",
    "version": 3
   },
   "file_extension": ".py",
   "mimetype": "text/x-python",
   "name": "python",
   "nbconvert_exporter": "python",
   "pygments_lexer": "ipython3",
   "version": "3.8.11"
  }
 },
 "nbformat": 4,
 "nbformat_minor": 4
}
